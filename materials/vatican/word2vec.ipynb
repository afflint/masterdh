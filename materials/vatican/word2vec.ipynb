{
 "cells": [
  {
   "cell_type": "markdown",
   "id": "727cd566",
   "metadata": {},
   "source": [
    "# Showcase of W2V"
   ]
  },
  {
   "cell_type": "code",
   "execution_count": 1,
   "id": "01cfc41a",
   "metadata": {},
   "outputs": [],
   "source": [
    "from vatican.vatican.database import VaticanMongoDb"
   ]
  },
  {
   "cell_type": "code",
   "execution_count": 2,
   "id": "7341917c",
   "metadata": {},
   "outputs": [],
   "source": [
    "from collections import defaultdict"
   ]
  },
  {
   "cell_type": "code",
   "execution_count": 3,
   "id": "52f4b48e",
   "metadata": {},
   "outputs": [],
   "source": [
    "db = VaticanMongoDb('vatican', 'tokens')"
   ]
  },
  {
   "cell_type": "code",
   "execution_count": 4,
   "id": "43a425ac",
   "metadata": {},
   "outputs": [],
   "source": [
    "corpus_data = defaultdict(lambda: defaultdict(lambda: defaultdict(list)))\n",
    "for record in db.db.find():\n",
    "    if record['pos'] not in {'PUNCT'}:\n",
    "        corpus_data[record['pope']][record['document']][record['sentence']].append(record['lemma'])"
   ]
  },
  {
   "cell_type": "code",
   "execution_count": 6,
   "id": "ca5f9b8f",
   "metadata": {},
   "outputs": [],
   "source": [
    "sentences = []\n",
    "for pope, pope_data in corpus_data.items():\n",
    "    for doc, doc_data in pope_data.items():\n",
    "        for s_id, sentence in doc_data.items():\n",
    "            sentences.append(sentence)"
   ]
  },
  {
   "cell_type": "code",
   "execution_count": 9,
   "id": "caec0753",
   "metadata": {},
   "outputs": [
    {
     "data": {
      "text/plain": [
       "(69232, ['e', 'voi', 'Venerabili', 'Fratelli'])"
      ]
     },
     "execution_count": 9,
     "metadata": {},
     "output_type": "execute_result"
    }
   ],
   "source": [
    "len(sentences), sentences[200][:4]"
   ]
  },
  {
   "cell_type": "markdown",
   "id": "76dee2a4",
   "metadata": {},
   "source": [
    "## Model training"
   ]
  },
  {
   "cell_type": "code",
   "execution_count": 10,
   "id": "7af751ad",
   "metadata": {},
   "outputs": [],
   "source": [
    "from gensim.models import Word2Vec"
   ]
  },
  {
   "cell_type": "code",
   "execution_count": 11,
   "id": "6b50db0a",
   "metadata": {},
   "outputs": [],
   "source": [
    "model = Word2Vec(\n",
    "    sentences=sentences, \n",
    "    vector_size=100, window=5, \n",
    "    min_count=5, workers=8, epochs=25)"
   ]
  },
  {
   "cell_type": "code",
   "execution_count": 16,
   "id": "0840ee87",
   "metadata": {},
   "outputs": [
    {
     "data": {
      "text/plain": [
       "[('chiesa', 0.8418312072753906),\n",
       " ('Curia', 0.40765196084976196),\n",
       " ('concilio', 0.39439985156059265),\n",
       " ('cristianesimo', 0.37595921754837036),\n",
       " ('credento', 0.35758906602859497),\n",
       " ('discepolo', 0.34513598680496216),\n",
       " ('cattolico', 0.3430662751197815),\n",
       " ('suo', 0.3382432460784912),\n",
       " ('Sposa', 0.3365347683429718),\n",
       " ('apostolato', 0.33519700169563293)]"
      ]
     },
     "execution_count": 16,
     "metadata": {},
     "output_type": "execute_result"
    }
   ],
   "source": [
    "model.wv.most_similar('Chiesa')"
   ]
  },
  {
   "cell_type": "code",
   "execution_count": null,
   "id": "f06b7469",
   "metadata": {},
   "outputs": [],
   "source": []
  }
 ],
 "metadata": {
  "kernelspec": {
   "display_name": "crike",
   "language": "python",
   "name": "crike"
  },
  "language_info": {
   "codemirror_mode": {
    "name": "ipython",
    "version": 3
   },
   "file_extension": ".py",
   "mimetype": "text/x-python",
   "name": "python",
   "nbconvert_exporter": "python",
   "pygments_lexer": "ipython3",
   "version": "3.8.8"
  },
  "toc": {
   "base_numbering": 1,
   "nav_menu": {},
   "number_sections": true,
   "sideBar": true,
   "skip_h1_title": false,
   "title_cell": "Table of Contents",
   "title_sidebar": "Contents",
   "toc_cell": false,
   "toc_position": {},
   "toc_section_display": true,
   "toc_window_display": false
  }
 },
 "nbformat": 4,
 "nbformat_minor": 5
}
