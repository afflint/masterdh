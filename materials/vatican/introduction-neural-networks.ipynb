{
 "cells": [
  {
   "cell_type": "markdown",
   "id": "da3fe86b",
   "metadata": {},
   "source": [
    "# Quick introduction to neural networks as functions approximators"
   ]
  },
  {
   "cell_type": "code",
   "execution_count": 1,
   "id": "d2174c67",
   "metadata": {},
   "outputs": [],
   "source": [
    "import pandas as pd\n",
    "import numpy as np\n",
    "from tqdm.notebook import tqdm"
   ]
  },
  {
   "cell_type": "code",
   "execution_count": 2,
   "id": "b6fecc77",
   "metadata": {},
   "outputs": [],
   "source": [
    "import torch.nn as nn\n",
    "import torch"
   ]
  },
  {
   "cell_type": "markdown",
   "id": "6746c928",
   "metadata": {},
   "source": [
    "## Define a function that we want to approximate"
   ]
  },
  {
   "cell_type": "code",
   "execution_count": 3,
   "id": "a7011461",
   "metadata": {},
   "outputs": [],
   "source": [
    "import matplotlib.pyplot as plt"
   ]
  },
  {
   "cell_type": "code",
   "execution_count": 4,
   "id": "fcbd9e5c",
   "metadata": {},
   "outputs": [],
   "source": [
    "f_x = lambda x: np.sin(x) - (x**2 / 40)"
   ]
  },
  {
   "cell_type": "code",
   "execution_count": 5,
   "id": "0f10bdc6",
   "metadata": {},
   "outputs": [],
   "source": [
    "X = np.arange(-5, 5, .1)"
   ]
  },
  {
   "cell_type": "code",
   "execution_count": 6,
   "id": "f54dd335",
   "metadata": {},
   "outputs": [
    {
     "data": {
      "image/png": "[encoded data removed]",
      "text/plain": [
       "<Figure size 720x288 with 1 Axes>"
      ]
     },
     "metadata": {
      "needs_background": "light"
     },
     "output_type": "display_data"
    }
   ],
   "source": [
    "fig, ax = plt.subplots(figsize=(10, 4))\n",
    "ax.plot(f_x(X))\n",
    "plt.tight_layout()\n",
    "plt.show()"
   ]
  },
  {
   "cell_type": "markdown",
   "id": "4153266e",
   "metadata": {},
   "source": [
    "## Use a NN to learn the function"
   ]
  },
  {
   "cell_type": "code",
   "execution_count": 7,
   "id": "001c642f",
   "metadata": {},
   "outputs": [],
   "source": [
    "class SigmoidNeuralNet(nn.Module):\n",
    "    \"\"\"Double-layer neural network with sigmoid activation.\"\"\"\n",
    "    \n",
    "    def __init__(self, num_features, nodes=4):\n",
    "        super().__init__()\n",
    "        self.layer1  = nn.Linear(in_features=num_features, out_features=nodes)\n",
    "        self.layer2  = nn.Linear(in_features=nodes, out_features=num_features)\n",
    "        self.sigmoid = nn.Sigmoid()\n",
    "        \n",
    "    def forward(self, inputs):\n",
    "        logits1 = self.layer1(inputs)\n",
    "        activations = self.sigmoid(logits1)\n",
    "        output = self.layer2(activations)\n",
    "        return output"
   ]
  },
  {
   "cell_type": "code",
   "execution_count": 8,
   "id": "10856ff5",
   "metadata": {},
   "outputs": [],
   "source": [
    "class ReluNeuralNet(nn.Module):\n",
    "    \"\"\"Double-layer neural network with Relu activation.\"\"\"\n",
    "    \n",
    "    def __init__(self, num_features, nodes=4):\n",
    "        super().__init__()\n",
    "        self.layer1  = nn.Linear(in_features=num_features, out_features=nodes)\n",
    "        self.layer2  = nn.Linear(in_features=nodes, out_features=num_features)\n",
    "        self.relu = nn.ReLU()\n",
    "        \n",
    "    def forward(self, inputs):\n",
    "        logits1 = self.layer1(inputs)\n",
    "        activations = self.relu(logits1)\n",
    "        output = self.layer2(activations)\n",
    "        return output"
   ]
  },
  {
   "cell_type": "code",
   "execution_count": 9,
   "id": "c1a9850e",
   "metadata": {},
   "outputs": [],
   "source": [
    "inputs = torch.randint(-10, 10, (2000, 1)).float()\n",
    "num_features = inputs.size(-1)\n",
    "model = SigmoidNeuralNet(num_features, nodes=4)\n",
    "#model = ReluNeuralNet(num_features)"
   ]
  },
  {
   "cell_type": "code",
   "execution_count": 10,
   "id": "88b3b458",
   "metadata": {},
   "outputs": [
    {
     "data": {
      "text/plain": [
       "tensor([[ -1.],\n",
       "        [-10.],\n",
       "        [ -6.],\n",
       "        ...,\n",
       "        [  1.],\n",
       "        [-10.],\n",
       "        [ -1.]])"
      ]
     },
     "execution_count": 10,
     "metadata": {},
     "output_type": "execute_result"
    }
   ],
   "source": [
    "inputs"
   ]
  },
  {
   "cell_type": "code",
   "execution_count": 11,
   "id": "c2038845",
   "metadata": {},
   "outputs": [],
   "source": [
    "prediction = model(inputs)"
   ]
  },
  {
   "cell_type": "code",
   "execution_count": 12,
   "id": "fbedbbd8",
   "metadata": {},
   "outputs": [
    {
     "data": {
      "text/plain": [
       "tensor([[0.2773],\n",
       "        [0.3071],\n",
       "        [0.2673],\n",
       "        ...,\n",
       "        [0.3748],\n",
       "        [0.3071],\n",
       "        [0.2773]], grad_fn=<AddmmBackward0>)"
      ]
     },
     "execution_count": 12,
     "metadata": {},
     "output_type": "execute_result"
    }
   ],
   "source": [
    "prediction"
   ]
  },
  {
   "cell_type": "markdown",
   "id": "11b2ae90",
   "metadata": {},
   "source": [
    "### Training"
   ]
  },
  {
   "cell_type": "code",
   "execution_count": 13,
   "id": "60e2e9bc",
   "metadata": {},
   "outputs": [],
   "source": [
    "targets = f_x(inputs)"
   ]
  },
  {
   "cell_type": "code",
   "execution_count": 14,
   "id": "6243fc77",
   "metadata": {},
   "outputs": [
    {
     "data": {
      "text/plain": [
       "tensor([[-0.8665],\n",
       "        [-1.9560],\n",
       "        [-0.6206],\n",
       "        ...,\n",
       "        [ 0.8165],\n",
       "        [-1.9560],\n",
       "        [-0.8665]])"
      ]
     },
     "execution_count": 14,
     "metadata": {},
     "output_type": "execute_result"
    }
   ],
   "source": [
    "targets"
   ]
  },
  {
   "cell_type": "markdown",
   "id": "d78a5e24",
   "metadata": {},
   "source": [
    "#### Loss function"
   ]
  },
  {
   "cell_type": "code",
   "execution_count": 15,
   "id": "60c42a19",
   "metadata": {},
   "outputs": [],
   "source": [
    "from torch.nn import MSELoss"
   ]
  },
  {
   "cell_type": "code",
   "execution_count": 16,
   "id": "815625a5",
   "metadata": {},
   "outputs": [
    {
     "data": {
      "text/plain": [
       "tensor(2.2537, grad_fn=<MseLossBackward0>)"
      ]
     },
     "execution_count": 16,
     "metadata": {},
     "output_type": "execute_result"
    }
   ],
   "source": [
    "loss = MSELoss()\n",
    "error = loss(prediction, targets)\n",
    "error"
   ]
  },
  {
   "cell_type": "markdown",
   "id": "0312930d",
   "metadata": {},
   "source": [
    "#### Optimizer for gradient descent"
   ]
  },
  {
   "cell_type": "code",
   "execution_count": 17,
   "id": "98e961dd",
   "metadata": {},
   "outputs": [],
   "source": [
    "optimizer = torch.optim.SGD(model.parameters(), lr=1e-2)"
   ]
  },
  {
   "cell_type": "markdown",
   "id": "80a8ecf0",
   "metadata": {},
   "source": [
    "#### Data management"
   ]
  },
  {
   "cell_type": "code",
   "execution_count": 18,
   "id": "8ce309e9",
   "metadata": {},
   "outputs": [],
   "source": [
    "from torch.utils.data import Dataset, DataLoader"
   ]
  },
  {
   "cell_type": "code",
   "execution_count": 19,
   "id": "901e889e",
   "metadata": {},
   "outputs": [],
   "source": [
    "class CustomDataset(Dataset):\n",
    "    def __init__(self, inputs, targets):\n",
    "        self.x = inputs\n",
    "        self.y = targets\n",
    "        \n",
    "    def __len__(self):\n",
    "        return self.x.size(0)\n",
    "    \n",
    "    def __getitem__(self, idx):\n",
    "        x = self.x[idx]\n",
    "        y = self.y[idx]\n",
    "        return x, y"
   ]
  },
  {
   "cell_type": "code",
   "execution_count": 20,
   "id": "e9233e1e",
   "metadata": {},
   "outputs": [
    {
     "data": {
      "text/plain": [
       "(tensor([-10.]), tensor([-1.9560]))"
      ]
     },
     "execution_count": 20,
     "metadata": {},
     "output_type": "execute_result"
    }
   ],
   "source": [
    "dataset = CustomDataset(inputs, targets)\n",
    "dataset[1]"
   ]
  },
  {
   "cell_type": "markdown",
   "id": "6594aa05",
   "metadata": {},
   "source": [
    "**Dataloader**: Using a dataloader we can define how the network will read the data and how often parameters will be updated (batch approach)"
   ]
  },
  {
   "cell_type": "code",
   "execution_count": 21,
   "id": "aa7f23cd",
   "metadata": {},
   "outputs": [],
   "source": [
    "dataloader = DataLoader(dataset, batch_size=1, drop_last=False, shuffle=False)"
   ]
  },
  {
   "cell_type": "code",
   "execution_count": 22,
   "id": "5387a2aa",
   "metadata": {},
   "outputs": [
    {
     "name": "stdout",
     "output_type": "stream",
     "text": [
      "batch 0: x: tensor([[-1.]]), y: tensor([[-0.8665]])\n",
      "batch 1: x: tensor([[-10.]]), y: tensor([[-1.9560]])\n",
      "batch 2: x: tensor([[-6.]]), y: tensor([[-0.6206]])\n",
      "batch 3: x: tensor([[5.]]), y: tensor([[-1.5839]])\n",
      "batch 4: x: tensor([[-9.]]), y: tensor([[-2.4371]])\n",
      "batch 5: x: tensor([[1.]]), y: tensor([[0.8165]])\n",
      "batch 6: x: tensor([[8.]]), y: tensor([[-0.6106]])\n"
     ]
    }
   ],
   "source": [
    "for i, batch in enumerate(dataloader):\n",
    "    print(f\"batch {i}: x: {batch[0]}, y: {batch[1]}\")\n",
    "    if i > 5:\n",
    "        break"
   ]
  },
  {
   "cell_type": "code",
   "execution_count": 23,
   "id": "a412ab93",
   "metadata": {},
   "outputs": [],
   "source": [
    "dataloader = DataLoader(dataset, batch_size=10, drop_last=False, shuffle=False)"
   ]
  },
  {
   "cell_type": "markdown",
   "id": "32945028",
   "metadata": {},
   "source": [
    "### Training routine"
   ]
  },
  {
   "cell_type": "code",
   "execution_count": 24,
   "id": "f04aa975",
   "metadata": {},
   "outputs": [
    {
     "data": {
      "application/vnd.jupyter.widget-view+json": {
       "model_id": "f0ed8269754c4fc9ab3588f88de9e7a7",
       "version_major": 2,
       "version_minor": 0
      },
      "text/plain": [
       "  0%|          | 0/500 [00:00<?, ?it/s]"
      ]
     },
     "metadata": {},
     "output_type": "display_data"
    }
   ],
   "source": [
    "epochs = 500\n",
    "\n",
    "mean_error = []\n",
    "predictions = []\n",
    "\n",
    "run = list(range(epochs))\n",
    "\n",
    "for epoch in tqdm(run):\n",
    "    errors = []\n",
    "    for batch in dataloader:\n",
    "        # step 0: get the data and the correct target\n",
    "        features, target = batch\n",
    "        # step 1: use the model for prediction (forward pass)\n",
    "        y_pred = model(features)\n",
    "        # step 2: measure the error by comparing the predictions to the expected outputs\n",
    "        error = loss(y_pred, target)\n",
    "        # step 3: backprop the loss signal through the graph, notifying each parameter of its gradient\n",
    "        error.backward()\n",
    "        # step 4: update model parameters using the gradient\n",
    "        optimizer.step() \n",
    "        # step 5: clear the previously computed gradients stored inside the model\n",
    "        model.zero_grad()\n",
    "        # step 6: reporting\n",
    "        errors.append(error.item())\n",
    "    mean_error.append(np.array(errors).mean())\n",
    "    prediction_on_target = model(torch.tensor(X.reshape(-1, 1)).float()).detach().numpy().ravel()\n",
    "    predictions.append(prediction_on_target)"
   ]
  },
  {
   "cell_type": "markdown",
   "id": "932c3c93",
   "metadata": {},
   "source": [
    "### Learning process"
   ]
  },
  {
   "cell_type": "code",
   "execution_count": 25,
   "id": "9ce02a30",
   "metadata": {},
   "outputs": [
    {
     "data": {
      "image/png": "[encoded data removed]",
      "text/plain": [
       "<Figure size 720x288 with 1 Axes>"
      ]
     },
     "metadata": {
      "needs_background": "light"
     },
     "output_type": "display_data"
    }
   ],
   "source": [
    "fig, ax = plt.subplots(figsize=(10, 4))\n",
    "ax.plot(mean_error)\n",
    "plt.tight_layout()\n",
    "plt.show()"
   ]
  },
  {
   "cell_type": "markdown",
   "id": "5a492384",
   "metadata": {},
   "source": [
    "### Fit procedure"
   ]
  },
  {
   "cell_type": "code",
   "execution_count": 26,
   "id": "83a4d1f1",
   "metadata": {},
   "outputs": [],
   "source": [
    "from IPython.display import clear_output"
   ]
  },
  {
   "cell_type": "code",
   "execution_count": 27,
   "id": "a8f6d431",
   "metadata": {},
   "outputs": [
    {
     "data": {
      "image/png": "[encoded data removed]",
      "text/plain": [
       "<Figure size 720x288 with 1 Axes>"
      ]
     },
     "metadata": {
      "needs_background": "light"
     },
     "output_type": "display_data"
    }
   ],
   "source": [
    "for i, y_pred in enumerate(predictions[:400]):\n",
    "    clear_output(wait=True)\n",
    "    fig, ax = plt.subplots(figsize=(10, 4))\n",
    "    ax.plot(f_x(X))\n",
    "    ax.plot(y_pred)\n",
    "    ax.set_xlabel('Epoch {}'.format(i))\n",
    "    plt.tight_layout()\n",
    "    plt.show()"
   ]
  },
  {
   "cell_type": "code",
   "execution_count": null,
   "id": "cdb9206b",
   "metadata": {},
   "outputs": [],
   "source": []
  },
  {
   "cell_type": "code",
   "execution_count": null,
   "id": "7d56c8db",
   "metadata": {},
   "outputs": [],
   "source": []
  },
  {
   "cell_type": "code",
   "execution_count": null,
   "id": "da844d8e",
   "metadata": {},
   "outputs": [],
   "source": []
  }
 ],
 "metadata": {
  "kernelspec": {
   "display_name": "crike",
   "language": "python",
   "name": "crike"
  },
  "language_info": {
   "codemirror_mode": {
    "name": "ipython",
    "version": 3
   },
   "file_extension": ".py",
   "mimetype": "text/x-python",
   "name": "python",
   "nbconvert_exporter": "python",
   "pygments_lexer": "ipython3",
   "version": "3.8.8"
  },
  "toc": {
   "base_numbering": 1,
   "nav_menu": {},
   "number_sections": true,
   "sideBar": true,
   "skip_h1_title": false,
   "title_cell": "Table of Contents",
   "title_sidebar": "Contents",
   "toc_cell": false,
   "toc_position": {},
   "toc_section_display": true,
   "toc_window_display": false
  }
 },
 "nbformat": 4,
 "nbformat_minor": 5
}
