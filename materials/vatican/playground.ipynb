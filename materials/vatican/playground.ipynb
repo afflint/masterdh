{
 "cells": [
  {
   "cell_type": "code",
   "execution_count": 9,
   "id": "223dfc69",
   "metadata": {},
   "outputs": [],
   "source": [
    "import pandas as pd\n",
    "import numpy as np\n",
    "from tqdm.notebook import tqdm\n",
    "import os\n",
    "from collections import defaultdict"
   ]
  },
  {
   "cell_type": "markdown",
   "id": "61ba35fd",
   "metadata": {},
   "source": [
    "## Spazio Vettoriale"
   ]
  },
  {
   "cell_type": "code",
   "execution_count": 1,
   "id": "49443f65",
   "metadata": {},
   "outputs": [],
   "source": [
    "corpus = [\n",
    "    [\"pasta\", 'pomodoro', 'olio', 'parmigiano'],\n",
    "    [\"parmigiano\", 'melanzana', 'pomodoro'],\n",
    "    [\"parmigiano\", 'burro', 'pecorino', 'uovo', 'pasta'],\n",
    "    [\"basilico\", 'zucchine', 'limone'],\n",
    "]"
   ]
  },
  {
   "cell_type": "code",
   "execution_count": 5,
   "id": "e1236d62",
   "metadata": {},
   "outputs": [],
   "source": [
    "dictionary = set()\n",
    "for document in corpus:\n",
    "    for word in document:\n",
    "        dictionary.add(word)"
   ]
  },
  {
   "cell_type": "code",
   "execution_count": 15,
   "id": "2b36ff46",
   "metadata": {},
   "outputs": [],
   "source": [
    "m = np.zeros((len(corpus), len(dictionary)))\n",
    "d = list(dictionary)\n",
    "\n",
    "for i, document in enumerate(corpus):\n",
    "    for word in document:\n",
    "        w = d.index(word)\n",
    "        m[i, w] += 1"
   ]
  },
  {
   "cell_type": "code",
   "execution_count": 21,
   "id": "912c7e7d",
   "metadata": {},
   "outputs": [
    {
     "data": {
      "text/html": [
       "<div>\n",
       "<style scoped>\n",
       "    .dataframe tbody tr th:only-of-type {\n",
       "        vertical-align: middle;\n",
       "    }\n",
       "\n",
       "    .dataframe tbody tr th {\n",
       "        vertical-align: top;\n",
       "    }\n",
       "\n",
       "    .dataframe thead th {\n",
       "        text-align: right;\n",
       "    }\n",
       "</style>\n",
       "<table border=\"1\" class=\"dataframe\">\n",
       "  <thead>\n",
       "    <tr style=\"text-align: right;\">\n",
       "      <th></th>\n",
       "      <th>parmigiano</th>\n",
       "      <th>pecorino</th>\n",
       "      <th>basilico</th>\n",
       "      <th>pasta</th>\n",
       "      <th>pomodoro</th>\n",
       "      <th>melanzana</th>\n",
       "      <th>limone</th>\n",
       "      <th>olio</th>\n",
       "      <th>burro</th>\n",
       "      <th>uovo</th>\n",
       "      <th>zucchine</th>\n",
       "    </tr>\n",
       "  </thead>\n",
       "  <tbody>\n",
       "    <tr>\n",
       "      <th>0</th>\n",
       "      <td>1.0</td>\n",
       "      <td>0.0</td>\n",
       "      <td>0.0</td>\n",
       "      <td>1.0</td>\n",
       "      <td>1.0</td>\n",
       "      <td>0.0</td>\n",
       "      <td>0.0</td>\n",
       "      <td>1.0</td>\n",
       "      <td>0.0</td>\n",
       "      <td>0.0</td>\n",
       "      <td>0.0</td>\n",
       "    </tr>\n",
       "    <tr>\n",
       "      <th>1</th>\n",
       "      <td>1.0</td>\n",
       "      <td>0.0</td>\n",
       "      <td>0.0</td>\n",
       "      <td>0.0</td>\n",
       "      <td>1.0</td>\n",
       "      <td>1.0</td>\n",
       "      <td>0.0</td>\n",
       "      <td>0.0</td>\n",
       "      <td>0.0</td>\n",
       "      <td>0.0</td>\n",
       "      <td>0.0</td>\n",
       "    </tr>\n",
       "    <tr>\n",
       "      <th>2</th>\n",
       "      <td>1.0</td>\n",
       "      <td>1.0</td>\n",
       "      <td>0.0</td>\n",
       "      <td>1.0</td>\n",
       "      <td>0.0</td>\n",
       "      <td>0.0</td>\n",
       "      <td>0.0</td>\n",
       "      <td>0.0</td>\n",
       "      <td>1.0</td>\n",
       "      <td>1.0</td>\n",
       "      <td>0.0</td>\n",
       "    </tr>\n",
       "    <tr>\n",
       "      <th>3</th>\n",
       "      <td>0.0</td>\n",
       "      <td>0.0</td>\n",
       "      <td>1.0</td>\n",
       "      <td>0.0</td>\n",
       "      <td>0.0</td>\n",
       "      <td>0.0</td>\n",
       "      <td>1.0</td>\n",
       "      <td>0.0</td>\n",
       "      <td>0.0</td>\n",
       "      <td>0.0</td>\n",
       "      <td>1.0</td>\n",
       "    </tr>\n",
       "  </tbody>\n",
       "</table>\n",
       "</div>"
      ],
      "text/plain": [
       "   parmigiano  pecorino  basilico  pasta  pomodoro  melanzana  limone  olio  \\\n",
       "0         1.0       0.0       0.0    1.0       1.0        0.0     0.0   1.0   \n",
       "1         1.0       0.0       0.0    0.0       1.0        1.0     0.0   0.0   \n",
       "2         1.0       1.0       0.0    1.0       0.0        0.0     0.0   0.0   \n",
       "3         0.0       0.0       1.0    0.0       0.0        0.0     1.0   0.0   \n",
       "\n",
       "   burro  uovo  zucchine  \n",
       "0    0.0   0.0       0.0  \n",
       "1    0.0   0.0       0.0  \n",
       "2    1.0   1.0       0.0  \n",
       "3    0.0   0.0       1.0  "
      ]
     },
     "execution_count": 21,
     "metadata": {},
     "output_type": "execute_result"
    }
   ],
   "source": [
    "pd.DataFrame(m, columns=d)"
   ]
  },
  {
   "cell_type": "code",
   "execution_count": 29,
   "id": "29f5e54a",
   "metadata": {},
   "outputs": [],
   "source": [
    "q = ['melanzana', 'pomodoro', 'parmigiano']\n",
    "vq = np.zeros(len(d))\n",
    "for word in q:\n",
    "    w = d.index(word)\n",
    "    vq[w] += 1"
   ]
  },
  {
   "cell_type": "code",
   "execution_count": 30,
   "id": "536af192",
   "metadata": {},
   "outputs": [
    {
     "data": {
      "text/plain": [
       "array([1., 0., 0., 0., 1., 1., 0., 0., 0., 0., 0.])"
      ]
     },
     "execution_count": 30,
     "metadata": {},
     "output_type": "execute_result"
    }
   ],
   "source": [
    "vq "
   ]
  },
  {
   "cell_type": "code",
   "execution_count": 31,
   "id": "06193438",
   "metadata": {},
   "outputs": [
    {
     "name": "stdout",
     "output_type": "stream",
     "text": [
      "['pasta', 'pomodoro', 'olio', 'parmigiano'] 1.7320508075688772\n",
      "['parmigiano', 'melanzana', 'pomodoro'] 0.0\n",
      "['parmigiano', 'burro', 'pecorino', 'uovo', 'pasta'] 2.449489742783178\n",
      "['basilico', 'zucchine', 'limone'] 2.449489742783178\n"
     ]
    }
   ],
   "source": [
    "for i, doc in enumerate(corpus):\n",
    "    r = m[i]\n",
    "    print(doc, np.linalg.norm(vq - r))\n"
   ]
  },
  {
   "cell_type": "markdown",
   "id": "5c0dcce1",
   "metadata": {},
   "source": [
    "## Load data"
   ]
  },
  {
   "cell_type": "code",
   "execution_count": 2,
   "id": "a3d428af",
   "metadata": {},
   "outputs": [],
   "source": [
    "folder = '/Users/flint/Data/vatican/data'\n",
    "data_collection = {}\n",
    "for subdir in os.listdir(folder):\n",
    "    pope = subdir\n",
    "    data_collection[pope] = {}\n",
    "    path = os.path.join(folder, pope, 'encyclicals')\n",
    "    for doc in os.listdir(path):\n",
    "        subpath = os.path.join(path, doc, 'it', '{}.txt'.format(doc))\n",
    "        with open(subpath, 'r') as infile:\n",
    "            content = infile.read()\n",
    "        data_collection[pope][doc] = content"
   ]
  },
  {
   "cell_type": "code",
   "execution_count": null,
   "id": "1a78cfba",
   "metadata": {},
   "outputs": [],
   "source": []
  }
 ],
 "metadata": {
  "kernelspec": {
   "display_name": "nlp",
   "language": "python",
   "name": "python3"
  },
  "language_info": {
   "codemirror_mode": {
    "name": "ipython",
    "version": 3
   },
   "file_extension": ".py",
   "mimetype": "text/x-python",
   "name": "python",
   "nbconvert_exporter": "python",
   "pygments_lexer": "ipython3",
   "version": "3.9.17"
  },
  "toc": {
   "base_numbering": 1,
   "nav_menu": {},
   "number_sections": true,
   "sideBar": true,
   "skip_h1_title": false,
   "title_cell": "Table of Contents",
   "title_sidebar": "Contents",
   "toc_cell": false,
   "toc_position": {},
   "toc_section_display": true,
   "toc_window_display": false
  }
 },
 "nbformat": 4,
 "nbformat_minor": 5
}
