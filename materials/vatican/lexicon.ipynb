{
 "cells": [
  {
   "cell_type": "markdown",
   "id": "2ae9533c",
   "metadata": {},
   "source": [
    "# Explore lexicon in Vatican publications"
   ]
  },
  {
   "cell_type": "code",
   "execution_count": 1,
   "id": "35c81a64",
   "metadata": {},
   "outputs": [],
   "source": [
    "import pandas as pd\n",
    "import numpy as np\n",
    "from tqdm.notebook import tqdm"
   ]
  },
  {
   "cell_type": "code",
   "execution_count": 2,
   "id": "4377cb22",
   "metadata": {},
   "outputs": [],
   "source": [
    "from vatican.vatican.database import VaticanMongoDb"
   ]
  },
  {
   "cell_type": "code",
   "execution_count": 3,
   "id": "09115946",
   "metadata": {},
   "outputs": [],
   "source": [
    "db = VaticanMongoDb(db_name='vatican', collection='tokens')"
   ]
  },
  {
   "cell_type": "code",
   "execution_count": 4,
   "id": "7feb508e",
   "metadata": {},
   "outputs": [],
   "source": [
    "docs = db.documents"
   ]
  },
  {
   "cell_type": "code",
   "execution_count": 5,
   "id": "8e18da04",
   "metadata": {},
   "outputs": [
    {
     "data": {
      "text/plain": [
       "196"
      ]
     },
     "execution_count": 5,
     "metadata": {},
     "output_type": "execute_result"
    }
   ],
   "source": [
    "len(docs)"
   ]
  },
  {
   "cell_type": "code",
   "execution_count": 6,
   "id": "e5b5eeb8",
   "metadata": {},
   "outputs": [
    {
     "data": {
      "text/plain": [
       "[('Paul VI', 'Mense Maio'),\n",
       " ('Paul VI', 'Humanae Vitae'),\n",
       " ('Paul VI', 'Populorum'),\n",
       " ('Paul VI', 'Ecclesiam'),\n",
       " ('Paul VI', 'Sacerdotalis'),\n",
       " ('Paul VI', 'Mysterium'),\n",
       " ('Paul VI', 'Christi Matri')]"
      ]
     },
     "execution_count": 6,
     "metadata": {},
     "output_type": "execute_result"
    }
   ],
   "source": [
    "[(x, y) for x, y in docs if x == 'Paul VI']"
   ]
  },
  {
   "cell_type": "markdown",
   "id": "6506e44b",
   "metadata": {},
   "source": [
    "## Term Frequency (TF)\n",
    "\n",
    "$$\n",
    "tf(d, t) = \\frac{count(d, t)}{\\max\\limits_{i}^{n} count(d, t_i)}\n",
    "$$"
   ]
  },
  {
   "cell_type": "code",
   "execution_count": 7,
   "id": "3d8d67c1",
   "metadata": {},
   "outputs": [],
   "source": [
    "pope, document = 'Paul VI', 'Humanae Vitae'\n",
    "tf_count = db.document_term_count(pope, document)\n",
    "tf = tf_count / tf_count.max()"
   ]
  },
  {
   "cell_type": "code",
   "execution_count": 8,
   "id": "3f830f5e",
   "metadata": {},
   "outputs": [
    {
     "data": {
      "text/plain": [
       ",         444\n",
       "il        406\n",
       "di il     290\n",
       "e         220\n",
       "di        199\n",
       ".         193\n",
       "a il      135\n",
       "essere    127\n",
       "che       116\n",
       "uno        80\n",
       "dtype: int64"
      ]
     },
     "execution_count": 8,
     "metadata": {},
     "output_type": "execute_result"
    }
   ],
   "source": [
    "tf_count.sort_values(ascending=False).head(10)"
   ]
  },
  {
   "cell_type": "code",
   "execution_count": 9,
   "id": "b589481b",
   "metadata": {},
   "outputs": [
    {
     "data": {
      "text/plain": [
       ",         1.000000\n",
       "il        0.914414\n",
       "di il     0.653153\n",
       "e         0.495495\n",
       "di        0.448198\n",
       ".         0.434685\n",
       "a il      0.304054\n",
       "essere    0.286036\n",
       "che       0.261261\n",
       "uno       0.180180\n",
       "dtype: float64"
      ]
     },
     "execution_count": 9,
     "metadata": {},
     "output_type": "execute_result"
    }
   ],
   "source": [
    "tf.sort_values(ascending=False).head(10)"
   ]
  },
  {
   "cell_type": "markdown",
   "id": "525216ef",
   "metadata": {},
   "source": [
    "## Document Frequency and Inverse Document Frequency (IDF)\n",
    "\n",
    "$$\n",
    "df(t) = \\mid\\{ d_i : t \\in d_i \\}\\mid\n",
    "$$\n",
    "\n",
    "$$\n",
    "idf(t) = \\log \\frac{N}{df(t)}\n",
    "$$"
   ]
  },
  {
   "cell_type": "code",
   "execution_count": 10,
   "id": "9ab58ec0",
   "metadata": {},
   "outputs": [],
   "source": [
    "df = db.sentence_df()\n",
    "s_count = db.sentence_count"
   ]
  },
  {
   "cell_type": "code",
   "execution_count": 11,
   "id": "303fdfc8",
   "metadata": {},
   "outputs": [
    {
     "data": {
      "text/plain": [
       "69512"
      ]
     },
     "execution_count": 11,
     "metadata": {},
     "output_type": "execute_result"
    }
   ],
   "source": [
    "s_count"
   ]
  },
  {
   "cell_type": "code",
   "execution_count": 12,
   "id": "a6d68f6c",
   "metadata": {},
   "outputs": [
    {
     "data": {
      "text/plain": [
       ".         50205\n",
       ",         45529\n",
       "il        41112\n",
       "e         31473\n",
       "di il     29058\n",
       "di        27873\n",
       "essere    23354\n",
       "che       22799\n",
       "a il      16575\n",
       "a         15565\n",
       "dtype: int64"
      ]
     },
     "execution_count": 12,
     "metadata": {},
     "output_type": "execute_result"
    }
   ],
   "source": [
    "df.sort_values(ascending=False).head(10)"
   ]
  },
  {
   "cell_type": "code",
   "execution_count": 13,
   "id": "31d6aba4",
   "metadata": {},
   "outputs": [],
   "source": [
    "idf = np.log(s_count / df)"
   ]
  },
  {
   "cell_type": "code",
   "execution_count": 14,
   "id": "ef49fe7b",
   "metadata": {},
   "outputs": [
    {
     "data": {
      "text/plain": [
       "deducant        11.149255\n",
       "umanità».[79    11.149255\n",
       "X(24            11.149255\n",
       "usare le        11.149255\n",
       "vastamente      11.149255\n",
       "Mandatene       11.149255\n",
       "sorvolare       11.149255\n",
       "soggiacque      11.149255\n",
       "HUMANAE         11.149255\n",
       "dialogo.[33     11.149255\n",
       "dtype: float64"
      ]
     },
     "execution_count": 14,
     "metadata": {},
     "output_type": "execute_result"
    }
   ],
   "source": [
    "idf.sort_values(ascending=False).head(10)"
   ]
  },
  {
   "cell_type": "markdown",
   "id": "23221dab",
   "metadata": {},
   "source": [
    "## TfIdf\n",
    "\n",
    "$$\n",
    "tfidf(d, t) = tf(d, t) \\cdot idf(t)\n",
    "$$"
   ]
  },
  {
   "cell_type": "code",
   "execution_count": 15,
   "id": "83220912",
   "metadata": {},
   "outputs": [],
   "source": [
    "def tfidf(tf, idf, min_idf=0):\n",
    "    tfidf_data = {}\n",
    "    for t, tf_x in tf.items():\n",
    "        idf_w = idf[t]\n",
    "        if idf_w >= min_idf:\n",
    "            tfidf_data[t] = tf_x * idf_w \n",
    "    return pd.Series(tfidf_data)"
   ]
  },
  {
   "cell_type": "code",
   "execution_count": 16,
   "id": "131252eb",
   "metadata": {},
   "outputs": [],
   "source": [
    "tfidf_hv = tfidf(tf, idf, min_idf=4)"
   ]
  },
  {
   "cell_type": "code",
   "execution_count": 17,
   "id": "cf5cf877",
   "metadata": {},
   "outputs": [
    {
     "data": {
      "text/plain": [
       "coniugale      0.473365\n",
       "sposo          0.361592\n",
       "coniuge        0.242326\n",
       "matrimonio     0.229734\n",
       "atto           0.219487\n",
       "regolazione    0.207530\n",
       "morale         0.198530\n",
       "naturale       0.173230\n",
       "natalità       0.168568\n",
       "paternità      0.165374\n",
       "dtype: float64"
      ]
     },
     "execution_count": 17,
     "metadata": {},
     "output_type": "execute_result"
    }
   ],
   "source": [
    "tfidf_hv.sort_values(ascending=False).head(10)"
   ]
  },
  {
   "cell_type": "code",
   "execution_count": 18,
   "id": "17dc5d1f",
   "metadata": {},
   "outputs": [
    {
     "data": {
      "text/plain": [
       "(0.22973358579235933, 0.019501073485787893)"
      ]
     },
     "execution_count": 18,
     "metadata": {},
     "output_type": "execute_result"
    }
   ],
   "source": [
    "tfidf_hv['matrimonio'], tfidf_hv['lavoro']"
   ]
  },
  {
   "cell_type": "code",
   "execution_count": 19,
   "id": "ee3109ea",
   "metadata": {},
   "outputs": [],
   "source": [
    "import matplotlib.pyplot as plt"
   ]
  },
  {
   "cell_type": "code",
   "execution_count": 20,
   "id": "53a91826",
   "metadata": {},
   "outputs": [
    {
     "data": {
      "image/png": "[encoded data removed]",
      "text/plain": [
       "<Figure size 432x288 with 1 Axes>"
      ]
     },
     "metadata": {
      "needs_background": "light"
     },
     "output_type": "display_data"
    }
   ],
   "source": [
    "fig, ax = plt.subplots()\n",
    "ax.scatter([tfidf_hv['matrimonio']], [tfidf_hv['lavoro']])\n",
    "plt.tight_layout()\n",
    "plt.show()"
   ]
  },
  {
   "cell_type": "code",
   "execution_count": 24,
   "id": "7dbf2406",
   "metadata": {},
   "outputs": [],
   "source": [
    "def doc_tfidf(pope, document):\n",
    "    tf_count = db.document_term_count(pope, document)\n",
    "    tf = tf_count / tf_count.max()\n",
    "    tfidf_x = tfidf(tf, idf, min_idf=4)\n",
    "    return tfidf_x"
   ]
  },
  {
   "cell_type": "code",
   "execution_count": 25,
   "id": "97b7b284",
   "metadata": {},
   "outputs": [],
   "source": [
    "from collections import defaultdict"
   ]
  },
  {
   "cell_type": "code",
   "execution_count": 26,
   "id": "789ba3cf",
   "metadata": {},
   "outputs": [],
   "source": [
    "d1 = ('Paul VI', 'Humanae Vitae')\n",
    "d2 = ('Leo XIII', 'Rerum Novarum')\n",
    "d3 = ('Leo XIII', 'Caritatis')\n",
    "cases = [d1, d2, d3]\n",
    "index_docs = defaultdict(lambda: defaultdict(lambda: 0))\n",
    "for pope, doc in cases:\n",
    "    data_case = doc_tfidf(pope, doc)\n",
    "    for word, tfidf_w in data_case.items():\n",
    "        index_docs[\"{} {}\".format(pope, doc)][word] = tfidf_w"
   ]
  },
  {
   "cell_type": "code",
   "execution_count": 27,
   "id": "91b2b4f5",
   "metadata": {},
   "outputs": [],
   "source": [
    "dfr = pd.DataFrame(index_docs).fillna(0)"
   ]
  },
  {
   "cell_type": "code",
   "execution_count": 28,
   "id": "e6fb8e5a",
   "metadata": {},
   "outputs": [
    {
     "data": {
      "text/html": [
       "<div>\n",
       "<style scoped>\n",
       "    .dataframe tbody tr th:only-of-type {\n",
       "        vertical-align: middle;\n",
       "    }\n",
       "\n",
       "    .dataframe tbody tr th {\n",
       "        vertical-align: top;\n",
       "    }\n",
       "\n",
       "    .dataframe thead th {\n",
       "        text-align: right;\n",
       "    }\n",
       "</style>\n",
       "<table border=\"1\" class=\"dataframe\">\n",
       "  <thead>\n",
       "    <tr style=\"text-align: right;\">\n",
       "      <th></th>\n",
       "      <th>Paul VI Humanae Vitae</th>\n",
       "      <th>Leo XIII Rerum Novarum</th>\n",
       "      <th>Leo XIII Caritatis</th>\n",
       "    </tr>\n",
       "  </thead>\n",
       "  <tbody>\n",
       "    <tr>\n",
       "      <th>operaio</th>\n",
       "      <td>0.000000</td>\n",
       "      <td>0.344368</td>\n",
       "      <td>0.027143</td>\n",
       "    </tr>\n",
       "    <tr>\n",
       "      <th>stato</th>\n",
       "      <td>0.019365</td>\n",
       "      <td>0.236363</td>\n",
       "      <td>0.139373</td>\n",
       "    </tr>\n",
       "    <tr>\n",
       "      <th>lavoro</th>\n",
       "      <td>0.019501</td>\n",
       "      <td>0.184127</td>\n",
       "      <td>0.043184</td>\n",
       "    </tr>\n",
       "    <tr>\n",
       "      <th>società</th>\n",
       "      <td>0.036108</td>\n",
       "      <td>0.166307</td>\n",
       "      <td>0.059970</td>\n",
       "    </tr>\n",
       "    <tr>\n",
       "      <th>proprietà</th>\n",
       "      <td>0.000000</td>\n",
       "      <td>0.156526</td>\n",
       "      <td>0.000000</td>\n",
       "    </tr>\n",
       "    <tr>\n",
       "      <th>...</th>\n",
       "      <td>...</td>\n",
       "      <td>...</td>\n",
       "      <td>...</td>\n",
       "    </tr>\n",
       "    <tr>\n",
       "      <th>assistere</th>\n",
       "      <td>0.032253</td>\n",
       "      <td>0.000000</td>\n",
       "      <td>0.000000</td>\n",
       "    </tr>\n",
       "    <tr>\n",
       "      <th>aborto</th>\n",
       "      <td>0.015328</td>\n",
       "      <td>0.000000</td>\n",
       "      <td>0.000000</td>\n",
       "    </tr>\n",
       "    <tr>\n",
       "      <th>pertinente</th>\n",
       "      <td>0.021989</td>\n",
       "      <td>0.000000</td>\n",
       "      <td>0.000000</td>\n",
       "    </tr>\n",
       "    <tr>\n",
       "      <th>consapevole</th>\n",
       "      <td>0.014014</td>\n",
       "      <td>0.000000</td>\n",
       "      <td>0.000000</td>\n",
       "    </tr>\n",
       "    <tr>\n",
       "      <th>contrada</th>\n",
       "      <td>0.000000</td>\n",
       "      <td>0.000000</td>\n",
       "      <td>0.019878</td>\n",
       "    </tr>\n",
       "  </tbody>\n",
       "</table>\n",
       "<p>3403 rows × 3 columns</p>\n",
       "</div>"
      ],
      "text/plain": [
       "             Paul VI Humanae Vitae  Leo XIII Rerum Novarum  Leo XIII Caritatis\n",
       "operaio                   0.000000                0.344368            0.027143\n",
       "stato                     0.019365                0.236363            0.139373\n",
       "lavoro                    0.019501                0.184127            0.043184\n",
       "società                   0.036108                0.166307            0.059970\n",
       "proprietà                 0.000000                0.156526            0.000000\n",
       "...                            ...                     ...                 ...\n",
       "assistere                 0.032253                0.000000            0.000000\n",
       "aborto                    0.015328                0.000000            0.000000\n",
       "pertinente                0.021989                0.000000            0.000000\n",
       "consapevole               0.014014                0.000000            0.000000\n",
       "contrada                  0.000000                0.000000            0.019878\n",
       "\n",
       "[3403 rows x 3 columns]"
      ]
     },
     "execution_count": 28,
     "metadata": {},
     "output_type": "execute_result"
    }
   ],
   "source": [
    "dfr.sort_values('Leo XIII Rerum Novarum', ascending=False)"
   ]
  },
  {
   "cell_type": "code",
   "execution_count": 29,
   "id": "47800169",
   "metadata": {},
   "outputs": [
    {
     "data": {
      "text/html": [
       "<div>\n",
       "<style scoped>\n",
       "    .dataframe tbody tr th:only-of-type {\n",
       "        vertical-align: middle;\n",
       "    }\n",
       "\n",
       "    .dataframe tbody tr th {\n",
       "        vertical-align: top;\n",
       "    }\n",
       "\n",
       "    .dataframe thead th {\n",
       "        text-align: right;\n",
       "    }\n",
       "</style>\n",
       "<table border=\"1\" class=\"dataframe\">\n",
       "  <thead>\n",
       "    <tr style=\"text-align: right;\">\n",
       "      <th></th>\n",
       "      <th>onesto</th>\n",
       "      <th>obiettare</th>\n",
       "      <th>genitore</th>\n",
       "      <th>eroico</th>\n",
       "      <th>avvenire</th>\n",
       "      <th>contrario</th>\n",
       "      <th>LETTERA</th>\n",
       "      <th>Inscindibili</th>\n",
       "      <th>ministro</th>\n",
       "      <th>trasmissione</th>\n",
       "      <th>...</th>\n",
       "      <th>dedicare</th>\n",
       "      <th>dedicare si</th>\n",
       "      <th>sentire si</th>\n",
       "      <th>edificare</th>\n",
       "      <th>assemblee</th>\n",
       "      <th>proprî</th>\n",
       "      <th>2,1</th>\n",
       "      <th>riversare</th>\n",
       "      <th>orsono</th>\n",
       "      <th>contrada</th>\n",
       "    </tr>\n",
       "  </thead>\n",
       "  <tbody>\n",
       "    <tr>\n",
       "      <th>Paul VI Humanae Vitae</th>\n",
       "      <td>0.096571</td>\n",
       "      <td>0.022637</td>\n",
       "      <td>0.040631</td>\n",
       "      <td>0.016488</td>\n",
       "      <td>0.011244</td>\n",
       "      <td>0.035232</td>\n",
       "      <td>0.013415</td>\n",
       "      <td>0.025111</td>\n",
       "      <td>0.012953</td>\n",
       "      <td>0.048766</td>\n",
       "      <td>...</td>\n",
       "      <td>0.000000</td>\n",
       "      <td>0.000000</td>\n",
       "      <td>0.000000</td>\n",
       "      <td>0.000000</td>\n",
       "      <td>0.000000</td>\n",
       "      <td>0.000000</td>\n",
       "      <td>0.00000</td>\n",
       "      <td>0.00000</td>\n",
       "      <td>0.000000</td>\n",
       "      <td>0.000000</td>\n",
       "    </tr>\n",
       "    <tr>\n",
       "      <th>Leo XIII Rerum Novarum</th>\n",
       "      <td>0.019062</td>\n",
       "      <td>0.000000</td>\n",
       "      <td>0.012476</td>\n",
       "      <td>0.000000</td>\n",
       "      <td>0.041430</td>\n",
       "      <td>0.032455</td>\n",
       "      <td>0.006179</td>\n",
       "      <td>0.000000</td>\n",
       "      <td>0.017898</td>\n",
       "      <td>0.000000</td>\n",
       "      <td>...</td>\n",
       "      <td>0.000000</td>\n",
       "      <td>0.000000</td>\n",
       "      <td>0.000000</td>\n",
       "      <td>0.000000</td>\n",
       "      <td>0.000000</td>\n",
       "      <td>0.000000</td>\n",
       "      <td>0.00000</td>\n",
       "      <td>0.00000</td>\n",
       "      <td>0.000000</td>\n",
       "      <td>0.000000</td>\n",
       "    </tr>\n",
       "    <tr>\n",
       "      <th>Leo XIII Caritatis</th>\n",
       "      <td>0.000000</td>\n",
       "      <td>0.000000</td>\n",
       "      <td>0.014996</td>\n",
       "      <td>0.000000</td>\n",
       "      <td>0.037349</td>\n",
       "      <td>0.000000</td>\n",
       "      <td>0.014854</td>\n",
       "      <td>0.000000</td>\n",
       "      <td>0.000000</td>\n",
       "      <td>0.000000</td>\n",
       "      <td>...</td>\n",
       "      <td>0.014812</td>\n",
       "      <td>0.019161</td>\n",
       "      <td>0.018668</td>\n",
       "      <td>0.017104</td>\n",
       "      <td>0.024347</td>\n",
       "      <td>0.022951</td>\n",
       "      <td>0.02105</td>\n",
       "      <td>0.03848</td>\n",
       "      <td>0.027804</td>\n",
       "      <td>0.019878</td>\n",
       "    </tr>\n",
       "  </tbody>\n",
       "</table>\n",
       "<p>3 rows × 3403 columns</p>\n",
       "</div>"
      ],
      "text/plain": [
       "                          onesto  obiettare  genitore    eroico  avvenire  \\\n",
       "Paul VI Humanae Vitae   0.096571   0.022637  0.040631  0.016488  0.011244   \n",
       "Leo XIII Rerum Novarum  0.019062   0.000000  0.012476  0.000000  0.041430   \n",
       "Leo XIII Caritatis      0.000000   0.000000  0.014996  0.000000  0.037349   \n",
       "\n",
       "                        contrario   LETTERA  Inscindibili  ministro  \\\n",
       "Paul VI Humanae Vitae    0.035232  0.013415      0.025111  0.012953   \n",
       "Leo XIII Rerum Novarum   0.032455  0.006179      0.000000  0.017898   \n",
       "Leo XIII Caritatis       0.000000  0.014854      0.000000  0.000000   \n",
       "\n",
       "                        trasmissione  ...  dedicare  dedicare si  sentire si  \\\n",
       "Paul VI Humanae Vitae       0.048766  ...  0.000000     0.000000    0.000000   \n",
       "Leo XIII Rerum Novarum      0.000000  ...  0.000000     0.000000    0.000000   \n",
       "Leo XIII Caritatis          0.000000  ...  0.014812     0.019161    0.018668   \n",
       "\n",
       "                        edificare  assemblee    proprî      2,1  riversare  \\\n",
       "Paul VI Humanae Vitae    0.000000   0.000000  0.000000  0.00000    0.00000   \n",
       "Leo XIII Rerum Novarum   0.000000   0.000000  0.000000  0.00000    0.00000   \n",
       "Leo XIII Caritatis       0.017104   0.024347  0.022951  0.02105    0.03848   \n",
       "\n",
       "                          orsono  contrada  \n",
       "Paul VI Humanae Vitae   0.000000  0.000000  \n",
       "Leo XIII Rerum Novarum  0.000000  0.000000  \n",
       "Leo XIII Caritatis      0.027804  0.019878  \n",
       "\n",
       "[3 rows x 3403 columns]"
      ]
     },
     "execution_count": 29,
     "metadata": {},
     "output_type": "execute_result"
    }
   ],
   "source": [
    "dfr.T"
   ]
  },
  {
   "cell_type": "code",
   "execution_count": 30,
   "id": "7566fe0e",
   "metadata": {},
   "outputs": [
    {
     "data": {
      "text/html": [
       "<div>\n",
       "<style scoped>\n",
       "    .dataframe tbody tr th:only-of-type {\n",
       "        vertical-align: middle;\n",
       "    }\n",
       "\n",
       "    .dataframe tbody tr th {\n",
       "        vertical-align: top;\n",
       "    }\n",
       "\n",
       "    .dataframe thead th {\n",
       "        text-align: right;\n",
       "    }\n",
       "</style>\n",
       "<table border=\"1\" class=\"dataframe\">\n",
       "  <thead>\n",
       "    <tr style=\"text-align: right;\">\n",
       "      <th></th>\n",
       "      <th>matrimonio</th>\n",
       "      <th>lavoro</th>\n",
       "    </tr>\n",
       "  </thead>\n",
       "  <tbody>\n",
       "    <tr>\n",
       "      <th>Paul VI Humanae Vitae</th>\n",
       "      <td>0.229734</td>\n",
       "      <td>0.019501</td>\n",
       "    </tr>\n",
       "    <tr>\n",
       "      <th>Leo XIII Rerum Novarum</th>\n",
       "      <td>0.005569</td>\n",
       "      <td>0.184127</td>\n",
       "    </tr>\n",
       "    <tr>\n",
       "      <th>Leo XIII Caritatis</th>\n",
       "      <td>0.013388</td>\n",
       "      <td>0.043184</td>\n",
       "    </tr>\n",
       "  </tbody>\n",
       "</table>\n",
       "</div>"
      ],
      "text/plain": [
       "                        matrimonio    lavoro\n",
       "Paul VI Humanae Vitae     0.229734  0.019501\n",
       "Leo XIII Rerum Novarum    0.005569  0.184127\n",
       "Leo XIII Caritatis        0.013388  0.043184"
      ]
     },
     "execution_count": 30,
     "metadata": {},
     "output_type": "execute_result"
    }
   ],
   "source": [
    "dfr.loc[['matrimonio', 'lavoro']].T"
   ]
  },
  {
   "cell_type": "code",
   "execution_count": 31,
   "id": "8dbea452",
   "metadata": {},
   "outputs": [
    {
     "data": {
      "image/png": "[encoded data removed]",
      "text/plain": [
       "<Figure size 432x288 with 1 Axes>"
      ]
     },
     "metadata": {
      "needs_background": "light"
     },
     "output_type": "display_data"
    }
   ],
   "source": [
    "fig, ax = plt.subplots()\n",
    "ax.scatter(dfr.T['matrimonio'], dfr.T['lavoro'])\n",
    "ax.set_ylim(-.1, .4)\n",
    "ax.set_xlim(-.1, .4)\n",
    "plt.tight_layout()\n",
    "plt.show()"
   ]
  },
  {
   "cell_type": "markdown",
   "id": "5a1a09f0",
   "metadata": {},
   "source": [
    "## Vectors of words"
   ]
  },
  {
   "cell_type": "code",
   "execution_count": 32,
   "id": "2f9f03cd",
   "metadata": {},
   "outputs": [],
   "source": [
    "words = dfr[['Leo XIII Rerum Novarum', 'Leo XIII Caritatis']]"
   ]
  },
  {
   "cell_type": "code",
   "execution_count": 33,
   "id": "47c33c50",
   "metadata": {},
   "outputs": [
    {
     "data": {
      "text/html": [
       "<div>\n",
       "<style scoped>\n",
       "    .dataframe tbody tr th:only-of-type {\n",
       "        vertical-align: middle;\n",
       "    }\n",
       "\n",
       "    .dataframe tbody tr th {\n",
       "        vertical-align: top;\n",
       "    }\n",
       "\n",
       "    .dataframe thead th {\n",
       "        text-align: right;\n",
       "    }\n",
       "</style>\n",
       "<table border=\"1\" class=\"dataframe\">\n",
       "  <thead>\n",
       "    <tr style=\"text-align: right;\">\n",
       "      <th></th>\n",
       "      <th>Leo XIII Rerum Novarum</th>\n",
       "      <th>Leo XIII Caritatis</th>\n",
       "    </tr>\n",
       "  </thead>\n",
       "  <tbody>\n",
       "    <tr>\n",
       "      <th>onesto</th>\n",
       "      <td>0.019062</td>\n",
       "      <td>0.000000</td>\n",
       "    </tr>\n",
       "    <tr>\n",
       "      <th>obiettare</th>\n",
       "      <td>0.000000</td>\n",
       "      <td>0.000000</td>\n",
       "    </tr>\n",
       "    <tr>\n",
       "      <th>genitore</th>\n",
       "      <td>0.012476</td>\n",
       "      <td>0.014996</td>\n",
       "    </tr>\n",
       "    <tr>\n",
       "      <th>eroico</th>\n",
       "      <td>0.000000</td>\n",
       "      <td>0.000000</td>\n",
       "    </tr>\n",
       "    <tr>\n",
       "      <th>avvenire</th>\n",
       "      <td>0.041430</td>\n",
       "      <td>0.037349</td>\n",
       "    </tr>\n",
       "    <tr>\n",
       "      <th>...</th>\n",
       "      <td>...</td>\n",
       "      <td>...</td>\n",
       "    </tr>\n",
       "    <tr>\n",
       "      <th>proprî</th>\n",
       "      <td>0.000000</td>\n",
       "      <td>0.022951</td>\n",
       "    </tr>\n",
       "    <tr>\n",
       "      <th>2,1</th>\n",
       "      <td>0.000000</td>\n",
       "      <td>0.021050</td>\n",
       "    </tr>\n",
       "    <tr>\n",
       "      <th>riversare</th>\n",
       "      <td>0.000000</td>\n",
       "      <td>0.038480</td>\n",
       "    </tr>\n",
       "    <tr>\n",
       "      <th>orsono</th>\n",
       "      <td>0.000000</td>\n",
       "      <td>0.027804</td>\n",
       "    </tr>\n",
       "    <tr>\n",
       "      <th>contrada</th>\n",
       "      <td>0.000000</td>\n",
       "      <td>0.019878</td>\n",
       "    </tr>\n",
       "  </tbody>\n",
       "</table>\n",
       "<p>3403 rows × 2 columns</p>\n",
       "</div>"
      ],
      "text/plain": [
       "           Leo XIII Rerum Novarum  Leo XIII Caritatis\n",
       "onesto                   0.019062            0.000000\n",
       "obiettare                0.000000            0.000000\n",
       "genitore                 0.012476            0.014996\n",
       "eroico                   0.000000            0.000000\n",
       "avvenire                 0.041430            0.037349\n",
       "...                           ...                 ...\n",
       "proprî                   0.000000            0.022951\n",
       "2,1                      0.000000            0.021050\n",
       "riversare                0.000000            0.038480\n",
       "orsono                   0.000000            0.027804\n",
       "contrada                 0.000000            0.019878\n",
       "\n",
       "[3403 rows x 2 columns]"
      ]
     },
     "execution_count": 33,
     "metadata": {},
     "output_type": "execute_result"
    }
   ],
   "source": [
    "words"
   ]
  },
  {
   "cell_type": "code",
   "execution_count": 34,
   "id": "2d6230d2",
   "metadata": {},
   "outputs": [
    {
     "data": {
      "image/png": "[encoded data removed]",
      "text/plain": [
       "<Figure size 432x432 with 1 Axes>"
      ]
     },
     "metadata": {
      "needs_background": "light"
     },
     "output_type": "display_data"
    }
   ],
   "source": [
    "fig, ax = plt.subplots(figsize=(6, 6))\n",
    "ax.scatter(words.T.loc['Leo XIII Rerum Novarum'], \n",
    "           words.T.loc['Leo XIII Caritatis'], alpha=.3, s=15)\n",
    "ax.plot([0, .4], [0, .4], c='#cc0000', linewidth=.5)\n",
    "ax.set_ylim(-.01, .4)\n",
    "ax.set_xlim(-.01, .4)\n",
    "ax.set_xlabel('Leo XIII Rerum Novarum')\n",
    "ax.set_ylabel('Leo XIII Caritatis')\n",
    "plt.tight_layout()\n",
    "plt.show()"
   ]
  },
  {
   "cell_type": "markdown",
   "id": "0b24e960",
   "metadata": {},
   "source": [
    "$$\n",
    "y = a x + b\n",
    "$$"
   ]
  },
  {
   "cell_type": "markdown",
   "id": "9f1d2b7f",
   "metadata": {},
   "source": [
    "## Euclidean similarity"
   ]
  },
  {
   "cell_type": "code",
   "execution_count": 35,
   "id": "cd49f710",
   "metadata": {},
   "outputs": [],
   "source": [
    "v1 = dfr['Paul VI Humanae Vitae'].values\n",
    "v2 = dfr['Leo XIII Rerum Novarum'].values\n",
    "v3 = dfr['Leo XIII Caritatis'].values"
   ]
  },
  {
   "cell_type": "code",
   "execution_count": 36,
   "id": "13facfd2",
   "metadata": {},
   "outputs": [
    {
     "data": {
      "text/plain": [
       "1.3030388519631344"
      ]
     },
     "execution_count": 36,
     "metadata": {},
     "output_type": "execute_result"
    }
   ],
   "source": [
    "np.linalg.norm(v2 - v3)"
   ]
  },
  {
   "cell_type": "code",
   "execution_count": null,
   "id": "c5388c1e",
   "metadata": {},
   "outputs": [],
   "source": []
  },
  {
   "cell_type": "markdown",
   "id": "e80f2972",
   "metadata": {},
   "source": [
    "## Kullback–Leibler divergence\n",
    "\n",
    "$$\n",
    "KL(x) = P(x) \\log\\left(\\frac{P(x)}{Q(x)}\\right)\n",
    "$$"
   ]
  },
  {
   "cell_type": "code",
   "execution_count": 37,
   "id": "3add759e",
   "metadata": {},
   "outputs": [],
   "source": [
    "freq_star = db.term_count()\n",
    "freq_star_n = freq_star / freq_star.sum()"
   ]
  },
  {
   "cell_type": "code",
   "execution_count": 38,
   "id": "009ee65a",
   "metadata": {
    "scrolled": true
   },
   "outputs": [
    {
     "data": {
      "text/plain": [
       ",             7.092050e-02\n",
       "il            5.931947e-02\n",
       "e             3.351192e-02\n",
       "di il         3.310505e-02\n",
       ".             3.016209e-02\n",
       "                  ...     \n",
       "talium        5.930998e-07\n",
       "landa         5.930998e-07\n",
       "infonder      5.930998e-07\n",
       "incorporee    5.930998e-07\n",
       "Incapaci      5.930998e-07\n",
       "Length: 43723, dtype: float64"
      ]
     },
     "execution_count": 38,
     "metadata": {},
     "output_type": "execute_result"
    }
   ],
   "source": [
    "freq_star_n.sort_values(ascending=False)"
   ]
  },
  {
   "cell_type": "code",
   "execution_count": 39,
   "id": "49efa7ca",
   "metadata": {},
   "outputs": [
    {
     "data": {
      "image/png": "[encoded data removed]",
      "text/plain": [
       "<Figure size 432x216 with 1 Axes>"
      ]
     },
     "metadata": {
      "needs_background": "light"
     },
     "output_type": "display_data"
    }
   ],
   "source": [
    "fig, ax = plt.subplots(figsize=(6, 3))\n",
    "ax.plot(freq_star.sort_values(ascending=False).values, c='#cc0000', linewidth=.5, marker='.')\n",
    "plt.tight_layout()\n",
    "plt.show()"
   ]
  },
  {
   "cell_type": "code",
   "execution_count": 40,
   "id": "eaa833e7",
   "metadata": {},
   "outputs": [
    {
     "data": {
      "image/png": "[encoded data removed]",
      "text/plain": [
       "<Figure size 432x216 with 1 Axes>"
      ]
     },
     "metadata": {
      "needs_background": "light"
     },
     "output_type": "display_data"
    }
   ],
   "source": [
    "fig, ax = plt.subplots(figsize=(6, 3))\n",
    "ax.plot(np.arange(0.01, 4, .1), np.log(np.arange(0.01, 4, .1)), c='#cc0000', linewidth=.5, marker='.')\n",
    "plt.tight_layout()\n",
    "plt.show()"
   ]
  },
  {
   "cell_type": "code",
   "execution_count": 41,
   "id": "0f426735",
   "metadata": {},
   "outputs": [],
   "source": [
    "freq_hv = db.term_count(m=VaticanMongoDb.generate_filter('Paul VI', 'Humanae Vitae'))\n",
    "freq_hv_n = freq_hv / freq_hv.sum()"
   ]
  },
  {
   "cell_type": "code",
   "execution_count": 42,
   "id": "65035e9b",
   "metadata": {},
   "outputs": [
    {
     "data": {
      "text/plain": [
       ",               0.067611\n",
       "il              0.061824\n",
       "di il           0.044160\n",
       "e               0.033501\n",
       "di              0.030303\n",
       "                  ...   \n",
       "vivissimo       0.000152\n",
       "perfezionare    0.000152\n",
       "concordanza     0.000152\n",
       "ordinamento     0.000152\n",
       "risorsa         0.000152\n",
       "Length: 1381, dtype: float64"
      ]
     },
     "execution_count": 42,
     "metadata": {},
     "output_type": "execute_result"
    }
   ],
   "source": [
    "freq_hv_n.sort_values(ascending=False)"
   ]
  },
  {
   "cell_type": "code",
   "execution_count": 43,
   "id": "0d957dfe",
   "metadata": {},
   "outputs": [
    {
     "name": "stdout",
     "output_type": "stream",
     "text": [
      "0.00015227653418608191 0.00011802685199847929 1.2901855095486567\n",
      "0.2547860138861823\n"
     ]
    }
   ],
   "source": [
    "word = 'laico'\n",
    "print(freq_hv_n[word], freq_star_n[word], freq_hv_n[word] / freq_star_n[word])\n",
    "print(np.log(freq_hv_n[word] / freq_star_n[word]))"
   ]
  },
  {
   "cell_type": "code",
   "execution_count": 44,
   "id": "9323fb44",
   "metadata": {},
   "outputs": [],
   "source": [
    "vocabulary = freq_hv_n.index.values\n",
    "kl_hv = freq_hv_n * np.log(freq_hv_n / freq_star_n[vocabulary])"
   ]
  },
  {
   "cell_type": "code",
   "execution_count": 45,
   "id": "d89ee7a0",
   "metadata": {},
   "outputs": [
    {
     "data": {
      "text/plain": [
       "coniugale      0.021541\n",
       "sposo          0.015181\n",
       "di il          0.012724\n",
       "coniuge        0.009076\n",
       "regolazione    0.008666\n",
       "a il           0.007861\n",
       "matrimonio     0.007541\n",
       "atto           0.006759\n",
       "natalità       0.006732\n",
       "legge          0.006436\n",
       "dtype: float64"
      ]
     },
     "execution_count": 45,
     "metadata": {},
     "output_type": "execute_result"
    }
   ],
   "source": [
    "kl_hv.sort_values(ascending=False).head(10)"
   ]
  },
  {
   "cell_type": "markdown",
   "id": "fecbd423",
   "metadata": {},
   "source": [
    "## Co-occurrences"
   ]
  },
  {
   "cell_type": "code",
   "execution_count": 46,
   "id": "9a507f40",
   "metadata": {},
   "outputs": [],
   "source": [
    "import nltk"
   ]
  },
  {
   "cell_type": "code",
   "execution_count": 47,
   "id": "ec239ded",
   "metadata": {},
   "outputs": [],
   "source": [
    "sentences = db.get_sentences('Paul VI', 'Humanae Vitae', field='lemma')"
   ]
  },
  {
   "cell_type": "markdown",
   "id": "938afb2a",
   "metadata": {},
   "source": [
    "### n-gram"
   ]
  },
  {
   "cell_type": "code",
   "execution_count": 48,
   "id": "b14ec06e",
   "metadata": {},
   "outputs": [],
   "source": [
    "from collections import defaultdict"
   ]
  },
  {
   "cell_type": "code",
   "execution_count": 50,
   "id": "c00d93ae",
   "metadata": {},
   "outputs": [],
   "source": [
    "s1 = VaticanMongoDb.to_words(sentence=sentences[12][:11])\n",
    "example = \" \".join(s1).lower()"
   ]
  },
  {
   "cell_type": "code",
   "execution_count": 51,
   "id": "b1c6ab97",
   "metadata": {},
   "outputs": [
    {
     "name": "stdout",
     "output_type": "stream",
     "text": [
      "e come essere potere accadere che divenure noi padre di tutto\n",
      "('e', 'come')\n",
      "('come', 'essere')\n",
      "('essere', 'potere')\n",
      "('potere', 'accadere')\n",
      "('accadere', 'che')\n",
      "('che', 'divenure')\n",
      "('divenure', 'noi')\n",
      "('noi', 'padre')\n",
      "('padre', 'di')\n",
      "('di', 'tutto')\n"
     ]
    }
   ],
   "source": [
    "print(example)\n",
    "for bigram in nltk.ngrams(example.split(), n=2):\n",
    "    print(bigram)"
   ]
  },
  {
   "cell_type": "code",
   "execution_count": 52,
   "id": "a4f40b98",
   "metadata": {},
   "outputs": [],
   "source": [
    "bigram_freq = defaultdict(lambda: 0)\n",
    "for sentence in sentences:\n",
    "    for bigram in nltk.ngrams([w['token'] for w in sentence], n=2):\n",
    "        bigram_freq[bigram] += 1"
   ]
  },
  {
   "cell_type": "code",
   "execution_count": 53,
   "id": "3f04acf7",
   "metadata": {},
   "outputs": [],
   "source": [
    "unigram_freq = defaultdict(lambda: 0)\n",
    "for sentence in sentences:\n",
    "    for unigram in [w['token'] for w in sentence]:\n",
    "        unigram_freq[unigram] += 1"
   ]
  },
  {
   "cell_type": "code",
   "execution_count": 54,
   "id": "7a79f8fd",
   "metadata": {},
   "outputs": [],
   "source": [
    "bigrams = pd.Series(bigram_freq).sort_values(ascending=False)\n",
    "bgrams_n = bigrams / bigrams.sum()\n",
    "unigrams = pd.Series(unigram_freq).sort_values(ascending=False)\n",
    "unigrams_n = unigrams / unigrams.sum()"
   ]
  },
  {
   "cell_type": "markdown",
   "id": "0492cb76",
   "metadata": {},
   "source": [
    "$$\n",
    "P(w_i, w_j), \\ P(w)\n",
    "$$\n",
    "\n",
    "## Pointwise mutual information\n",
    "\n",
    "$$\n",
    "PMI(w_i, w_j) = P(w_i, w_j) \\log\\left(\\frac{P(w_i, w_j)}{P(w_i)P(w_j)}\\right)\n",
    "$$"
   ]
  },
  {
   "cell_type": "code",
   "execution_count": 55,
   "id": "362527df",
   "metadata": {},
   "outputs": [
    {
     "data": {
      "text/plain": [
       "6.598689506112792e-05"
      ]
     },
     "execution_count": 55,
     "metadata": {},
     "output_type": "execute_result"
    }
   ],
   "source": [
    "w1, w2 = 'il', 'matrimonio'\n",
    "num = bgrams_n[(w1, w2)]\n",
    "den = unigrams_n[w1]*unigrams_n[w2]\n",
    "num * np.log(num / den)"
   ]
  },
  {
   "cell_type": "code",
   "execution_count": 56,
   "id": "2b61ca3c",
   "metadata": {},
   "outputs": [
    {
     "data": {
      "text/plain": [
       "3.858440571267503"
      ]
     },
     "execution_count": 56,
     "metadata": {},
     "output_type": "execute_result"
    }
   ],
   "source": [
    "num / den"
   ]
  },
  {
   "cell_type": "markdown",
   "id": "0fa45f4b",
   "metadata": {},
   "source": [
    "### Most relevant pairs"
   ]
  },
  {
   "cell_type": "code",
   "execution_count": 66,
   "id": "a3fdf100",
   "metadata": {},
   "outputs": [],
   "source": [
    "pmi_index = []\n",
    "for (a, b), p_a_b in bgrams_n.items():\n",
    "    p_a = unigrams_n[a]\n",
    "    p_b = unigrams_n[b]\n",
    "    pmi = p_a_b * np.log(p_a_b / (p_a * p_b))\n",
    "    pmi_index.append({\n",
    "        'word_a': a, 'word_b': b, 'pmi': pmi, 'count': bigrams[(a, b)],\n",
    "        'count_a': unigrams[a], 'count_b': unigrams[b]\n",
    "    })\n",
    "pmi_index = pd.DataFrame(pmi_index)"
   ]
  },
  {
   "cell_type": "code",
   "execution_count": 69,
   "id": "562902bb",
   "metadata": {},
   "outputs": [
    {
     "data": {
      "text/html": [
       "<div>\n",
       "<style scoped>\n",
       "    .dataframe tbody tr th:only-of-type {\n",
       "        vertical-align: middle;\n",
       "    }\n",
       "\n",
       "    .dataframe tbody tr th {\n",
       "        vertical-align: top;\n",
       "    }\n",
       "\n",
       "    .dataframe thead th {\n",
       "        text-align: right;\n",
       "    }\n",
       "</style>\n",
       "<table border=\"1\" class=\"dataframe\">\n",
       "  <thead>\n",
       "    <tr style=\"text-align: right;\">\n",
       "      <th></th>\n",
       "      <th>word_a</th>\n",
       "      <th>word_b</th>\n",
       "      <th>pmi</th>\n",
       "      <th>count</th>\n",
       "      <th>count_a</th>\n",
       "      <th>count_b</th>\n",
       "    </tr>\n",
       "  </thead>\n",
       "  <tbody>\n",
       "    <tr>\n",
       "      <th>5</th>\n",
       "      <td>tutto</td>\n",
       "      <td>il</td>\n",
       "      <td>0.006881</td>\n",
       "      <td>4967</td>\n",
       "      <td>9303</td>\n",
       "      <td>100016</td>\n",
       "    </tr>\n",
       "    <tr>\n",
       "      <th>6</th>\n",
       "      <td>con</td>\n",
       "      <td>il</td>\n",
       "      <td>0.005757</td>\n",
       "      <td>4800</td>\n",
       "      <td>12141</td>\n",
       "      <td>100016</td>\n",
       "    </tr>\n",
       "    <tr>\n",
       "      <th>4</th>\n",
       "      <td>per</td>\n",
       "      <td>il</td>\n",
       "      <td>0.005528</td>\n",
       "      <td>5081</td>\n",
       "      <td>15389</td>\n",
       "      <td>100016</td>\n",
       "    </tr>\n",
       "    <tr>\n",
       "      <th>8</th>\n",
       "      <td>il</td>\n",
       "      <td>suo</td>\n",
       "      <td>0.004908</td>\n",
       "      <td>4069</td>\n",
       "      <td>100016</td>\n",
       "      <td>10182</td>\n",
       "    </tr>\n",
       "    <tr>\n",
       "      <th>10</th>\n",
       "      <td>,</td>\n",
       "      <td>ma</td>\n",
       "      <td>0.004719</td>\n",
       "      <td>3424</td>\n",
       "      <td>119576</td>\n",
       "      <td>5426</td>\n",
       "    </tr>\n",
       "    <tr>\n",
       "      <th>90</th>\n",
       "      <td>Venerabili</td>\n",
       "      <td>Fratelli</td>\n",
       "      <td>0.004132</td>\n",
       "      <td>898</td>\n",
       "      <td>918</td>\n",
       "      <td>1012</td>\n",
       "    </tr>\n",
       "    <tr>\n",
       "      <th>3</th>\n",
       "      <td>,</td>\n",
       "      <td>che</td>\n",
       "      <td>0.003989</td>\n",
       "      <td>6188</td>\n",
       "      <td>119576</td>\n",
       "      <td>32102</td>\n",
       "    </tr>\n",
       "    <tr>\n",
       "      <th>45</th>\n",
       "      <td>»</td>\n",
       "      <td>(</td>\n",
       "      <td>0.003768</td>\n",
       "      <td>1503</td>\n",
       "      <td>6599</td>\n",
       "      <td>6963</td>\n",
       "    </tr>\n",
       "    <tr>\n",
       "      <th>1</th>\n",
       "      <td>e</td>\n",
       "      <td>il</td>\n",
       "      <td>0.003625</td>\n",
       "      <td>7229</td>\n",
       "      <td>56503</td>\n",
       "      <td>100016</td>\n",
       "    </tr>\n",
       "    <tr>\n",
       "      <th>20</th>\n",
       "      <td>di il</td>\n",
       "      <td>chiesa</td>\n",
       "      <td>0.003459</td>\n",
       "      <td>2297</td>\n",
       "      <td>55817</td>\n",
       "      <td>6344</td>\n",
       "    </tr>\n",
       "    <tr>\n",
       "      <th>76</th>\n",
       "      <td>Gesù</td>\n",
       "      <td>Cristo</td>\n",
       "      <td>0.003342</td>\n",
       "      <td>1030</td>\n",
       "      <td>2068</td>\n",
       "      <td>4617</td>\n",
       "    </tr>\n",
       "    <tr>\n",
       "      <th>22</th>\n",
       "      <td>)</td>\n",
       "      <td>.</td>\n",
       "      <td>0.003255</td>\n",
       "      <td>2278</td>\n",
       "      <td>7821</td>\n",
       "      <td>50855</td>\n",
       "    </tr>\n",
       "    <tr>\n",
       "      <th>33</th>\n",
       "      <td>di</td>\n",
       "      <td>dio</td>\n",
       "      <td>0.003196</td>\n",
       "      <td>1836</td>\n",
       "      <td>49872</td>\n",
       "      <td>3881</td>\n",
       "    </tr>\n",
       "    <tr>\n",
       "      <th>15</th>\n",
       "      <td>,</td>\n",
       "      <td>come</td>\n",
       "      <td>0.003071</td>\n",
       "      <td>2826</td>\n",
       "      <td>119576</td>\n",
       "      <td>7175</td>\n",
       "    </tr>\n",
       "    <tr>\n",
       "      <th>124</th>\n",
       "      <td>Spirito</td>\n",
       "      <td>Santo</td>\n",
       "      <td>0.003014</td>\n",
       "      <td>691</td>\n",
       "      <td>1268</td>\n",
       "      <td>830</td>\n",
       "    </tr>\n",
       "    <tr>\n",
       "      <th>24</th>\n",
       "      <td>non</td>\n",
       "      <td>essere</td>\n",
       "      <td>0.002914</td>\n",
       "      <td>2261</td>\n",
       "      <td>15132</td>\n",
       "      <td>32719</td>\n",
       "    </tr>\n",
       "    <tr>\n",
       "      <th>37</th>\n",
       "      <td>di</td>\n",
       "      <td>Cristo</td>\n",
       "      <td>0.002782</td>\n",
       "      <td>1739</td>\n",
       "      <td>49872</td>\n",
       "      <td>4617</td>\n",
       "    </tr>\n",
       "    <tr>\n",
       "      <th>23</th>\n",
       "      <td>di il</td>\n",
       "      <td>suo</td>\n",
       "      <td>0.002737</td>\n",
       "      <td>2270</td>\n",
       "      <td>55817</td>\n",
       "      <td>10182</td>\n",
       "    </tr>\n",
       "    <tr>\n",
       "      <th>52</th>\n",
       "      <td>ciò</td>\n",
       "      <td>che</td>\n",
       "      <td>0.002650</td>\n",
       "      <td>1293</td>\n",
       "      <td>2579</td>\n",
       "      <td>32102</td>\n",
       "    </tr>\n",
       "    <tr>\n",
       "      <th>7</th>\n",
       "      <td>che</td>\n",
       "      <td>il</td>\n",
       "      <td>0.002643</td>\n",
       "      <td>4611</td>\n",
       "      <td>32102</td>\n",
       "      <td>100016</td>\n",
       "    </tr>\n",
       "  </tbody>\n",
       "</table>\n",
       "</div>"
      ],
      "text/plain": [
       "         word_a    word_b       pmi  count  count_a  count_b\n",
       "5         tutto        il  0.006881   4967     9303   100016\n",
       "6           con        il  0.005757   4800    12141   100016\n",
       "4           per        il  0.005528   5081    15389   100016\n",
       "8            il       suo  0.004908   4069   100016    10182\n",
       "10            ,        ma  0.004719   3424   119576     5426\n",
       "90   Venerabili  Fratelli  0.004132    898      918     1012\n",
       "3             ,       che  0.003989   6188   119576    32102\n",
       "45            »         (  0.003768   1503     6599     6963\n",
       "1             e        il  0.003625   7229    56503   100016\n",
       "20        di il    chiesa  0.003459   2297    55817     6344\n",
       "76         Gesù    Cristo  0.003342   1030     2068     4617\n",
       "22            )         .  0.003255   2278     7821    50855\n",
       "33           di       dio  0.003196   1836    49872     3881\n",
       "15            ,      come  0.003071   2826   119576     7175\n",
       "124     Spirito     Santo  0.003014    691     1268      830\n",
       "24          non    essere  0.002914   2261    15132    32719\n",
       "37           di    Cristo  0.002782   1739    49872     4617\n",
       "23        di il       suo  0.002737   2270    55817    10182\n",
       "52          ciò       che  0.002650   1293     2579    32102\n",
       "7           che        il  0.002643   4611    32102   100016"
      ]
     },
     "execution_count": 69,
     "metadata": {},
     "output_type": "execute_result"
    }
   ],
   "source": [
    "pmi_index.sort_values('pmi', ascending=False).head(20)"
   ]
  },
  {
   "cell_type": "code",
   "execution_count": 71,
   "id": "e543ca5e",
   "metadata": {},
   "outputs": [
    {
     "data": {
      "text/html": [
       "<div>\n",
       "<style scoped>\n",
       "    .dataframe tbody tr th:only-of-type {\n",
       "        vertical-align: middle;\n",
       "    }\n",
       "\n",
       "    .dataframe tbody tr th {\n",
       "        vertical-align: top;\n",
       "    }\n",
       "\n",
       "    .dataframe thead th {\n",
       "        text-align: right;\n",
       "    }\n",
       "</style>\n",
       "<table border=\"1\" class=\"dataframe\">\n",
       "  <thead>\n",
       "    <tr style=\"text-align: right;\">\n",
       "      <th></th>\n",
       "      <th>word_a</th>\n",
       "      <th>word_b</th>\n",
       "      <th>pmi</th>\n",
       "      <th>count</th>\n",
       "      <th>count_a</th>\n",
       "      <th>count_b</th>\n",
       "    </tr>\n",
       "  </thead>\n",
       "  <tbody>\n",
       "    <tr>\n",
       "      <th>90</th>\n",
       "      <td>Venerabili</td>\n",
       "      <td>Fratelli</td>\n",
       "      <td>0.004132</td>\n",
       "      <td>898</td>\n",
       "      <td>918</td>\n",
       "      <td>1012</td>\n",
       "    </tr>\n",
       "    <tr>\n",
       "      <th>76</th>\n",
       "      <td>Gesù</td>\n",
       "      <td>Cristo</td>\n",
       "      <td>0.003342</td>\n",
       "      <td>1030</td>\n",
       "      <td>2068</td>\n",
       "      <td>4617</td>\n",
       "    </tr>\n",
       "    <tr>\n",
       "      <th>124</th>\n",
       "      <td>Spirito</td>\n",
       "      <td>Santo</td>\n",
       "      <td>0.003014</td>\n",
       "      <td>691</td>\n",
       "      <td>1268</td>\n",
       "      <td>830</td>\n",
       "    </tr>\n",
       "    <tr>\n",
       "      <th>433</th>\n",
       "      <td>Leone</td>\n",
       "      <td>XIII</td>\n",
       "      <td>0.001258</td>\n",
       "      <td>263</td>\n",
       "      <td>373</td>\n",
       "      <td>545</td>\n",
       "    </tr>\n",
       "    <tr>\n",
       "      <th>459</th>\n",
       "      <td>Sede</td>\n",
       "      <td>Apostolica</td>\n",
       "      <td>0.001175</td>\n",
       "      <td>253</td>\n",
       "      <td>427</td>\n",
       "      <td>573</td>\n",
       "    </tr>\n",
       "    <tr>\n",
       "      <th>487</th>\n",
       "      <td>venerabile</td>\n",
       "      <td>fratello</td>\n",
       "      <td>0.001130</td>\n",
       "      <td>241</td>\n",
       "      <td>280</td>\n",
       "      <td>774</td>\n",
       "    </tr>\n",
       "    <tr>\n",
       "      <th>339</th>\n",
       "      <td>bene</td>\n",
       "      <td>comune</td>\n",
       "      <td>0.001005</td>\n",
       "      <td>310</td>\n",
       "      <td>2917</td>\n",
       "      <td>989</td>\n",
       "    </tr>\n",
       "    <tr>\n",
       "      <th>617</th>\n",
       "      <td>concilio</td>\n",
       "      <td>Vaticano</td>\n",
       "      <td>0.000986</td>\n",
       "      <td>212</td>\n",
       "      <td>731</td>\n",
       "      <td>277</td>\n",
       "    </tr>\n",
       "    <tr>\n",
       "      <th>448</th>\n",
       "      <td>genere</td>\n",
       "      <td>umano</td>\n",
       "      <td>0.000875</td>\n",
       "      <td>255</td>\n",
       "      <td>558</td>\n",
       "      <td>3139</td>\n",
       "    </tr>\n",
       "    <tr>\n",
       "      <th>588</th>\n",
       "      <td>San</td>\n",
       "      <td>Pietro</td>\n",
       "      <td>0.000871</td>\n",
       "      <td>217</td>\n",
       "      <td>920</td>\n",
       "      <td>630</td>\n",
       "    </tr>\n",
       "    <tr>\n",
       "      <th>675</th>\n",
       "      <td>Vaticano</td>\n",
       "      <td>II</td>\n",
       "      <td>0.000871</td>\n",
       "      <td>198</td>\n",
       "      <td>277</td>\n",
       "      <td>1029</td>\n",
       "    </tr>\n",
       "    <tr>\n",
       "      <th>680</th>\n",
       "      <td>Paolo</td>\n",
       "      <td>VI</td>\n",
       "      <td>0.000865</td>\n",
       "      <td>197</td>\n",
       "      <td>738</td>\n",
       "      <td>388</td>\n",
       "    </tr>\n",
       "    <tr>\n",
       "      <th>840</th>\n",
       "      <td>Apostolica</td>\n",
       "      <td>Benedizione</td>\n",
       "      <td>0.000812</td>\n",
       "      <td>167</td>\n",
       "      <td>573</td>\n",
       "      <td>197</td>\n",
       "    </tr>\n",
       "    <tr>\n",
       "      <th>1049</th>\n",
       "      <td>LETTERA</td>\n",
       "      <td>ENCICLICA</td>\n",
       "      <td>0.000789</td>\n",
       "      <td>140</td>\n",
       "      <td>180</td>\n",
       "      <td>151</td>\n",
       "    </tr>\n",
       "    <tr>\n",
       "      <th>738</th>\n",
       "      <td>senza</td>\n",
       "      <td>dubbio</td>\n",
       "      <td>0.000714</td>\n",
       "      <td>185</td>\n",
       "      <td>1729</td>\n",
       "      <td>368</td>\n",
       "    </tr>\n",
       "    <tr>\n",
       "      <th>806</th>\n",
       "      <td>mondo</td>\n",
       "      <td>contemporaneo</td>\n",
       "      <td>0.000660</td>\n",
       "      <td>174</td>\n",
       "      <td>2207</td>\n",
       "      <td>300</td>\n",
       "    </tr>\n",
       "    <tr>\n",
       "      <th>834</th>\n",
       "      <td>presso</td>\n",
       "      <td>San</td>\n",
       "      <td>0.000655</td>\n",
       "      <td>168</td>\n",
       "      <td>586</td>\n",
       "      <td>920</td>\n",
       "    </tr>\n",
       "    <tr>\n",
       "      <th>887</th>\n",
       "      <td>1</td>\n",
       "      <td>Cor</td>\n",
       "      <td>0.000654</td>\n",
       "      <td>163</td>\n",
       "      <td>1326</td>\n",
       "      <td>330</td>\n",
       "    </tr>\n",
       "    <tr>\n",
       "      <th>673</th>\n",
       "      <td>]</td>\n",
       "      <td>Cfr</td>\n",
       "      <td>0.000653</td>\n",
       "      <td>198</td>\n",
       "      <td>4578</td>\n",
       "      <td>369</td>\n",
       "    </tr>\n",
       "    <tr>\n",
       "      <th>568</th>\n",
       "      <td>ogni</td>\n",
       "      <td>giorno</td>\n",
       "      <td>0.000641</td>\n",
       "      <td>221</td>\n",
       "      <td>3573</td>\n",
       "      <td>1003</td>\n",
       "    </tr>\n",
       "  </tbody>\n",
       "</table>\n",
       "</div>"
      ],
      "text/plain": [
       "          word_a         word_b       pmi  count  count_a  count_b\n",
       "90    Venerabili       Fratelli  0.004132    898      918     1012\n",
       "76          Gesù         Cristo  0.003342   1030     2068     4617\n",
       "124      Spirito          Santo  0.003014    691     1268      830\n",
       "433        Leone           XIII  0.001258    263      373      545\n",
       "459         Sede     Apostolica  0.001175    253      427      573\n",
       "487   venerabile       fratello  0.001130    241      280      774\n",
       "339         bene         comune  0.001005    310     2917      989\n",
       "617     concilio       Vaticano  0.000986    212      731      277\n",
       "448       genere          umano  0.000875    255      558     3139\n",
       "588          San         Pietro  0.000871    217      920      630\n",
       "675     Vaticano             II  0.000871    198      277     1029\n",
       "680        Paolo             VI  0.000865    197      738      388\n",
       "840   Apostolica    Benedizione  0.000812    167      573      197\n",
       "1049     LETTERA      ENCICLICA  0.000789    140      180      151\n",
       "738        senza         dubbio  0.000714    185     1729      368\n",
       "806        mondo  contemporaneo  0.000660    174     2207      300\n",
       "834       presso            San  0.000655    168      586      920\n",
       "887            1            Cor  0.000654    163     1326      330\n",
       "673            ]            Cfr  0.000653    198     4578      369\n",
       "568         ogni         giorno  0.000641    221     3573     1003"
      ]
     },
     "execution_count": 71,
     "metadata": {},
     "output_type": "execute_result"
    }
   ],
   "source": [
    "pmi_index[(pmi_index.count_a < 5000) & (pmi_index.count_b < 5000)].sort_values(\n",
    "    'pmi', ascending=False).head(20)"
   ]
  },
  {
   "cell_type": "code",
   "execution_count": null,
   "id": "dd5b0b9e",
   "metadata": {},
   "outputs": [],
   "source": []
  }
 ],
 "metadata": {
  "kernelspec": {
   "display_name": "crike",
   "language": "python",
   "name": "crike"
  },
  "language_info": {
   "codemirror_mode": {
    "name": "ipython",
    "version": 3
   },
   "file_extension": ".py",
   "mimetype": "text/x-python",
   "name": "python",
   "nbconvert_exporter": "python",
   "pygments_lexer": "ipython3",
   "version": "3.8.8"
  },
  "toc": {
   "base_numbering": 1,
   "nav_menu": {},
   "number_sections": true,
   "sideBar": true,
   "skip_h1_title": false,
   "title_cell": "Table of Contents",
   "title_sidebar": "Contents",
   "toc_cell": false,
   "toc_position": {},
   "toc_section_display": true,
   "toc_window_display": false
  }
 },
 "nbformat": 4,
 "nbformat_minor": 5
}
