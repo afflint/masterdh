{
 "cells": [
  {
   "cell_type": "markdown",
   "id": "5674591d",
   "metadata": {},
   "source": [
    "### Prof. Alfio Ferrara\n",
    "# Tokenizzazione del testo\n",
    "### Master in Digital Humanities"
   ]
  },
  {
   "cell_type": "markdown",
   "id": "5034687a",
   "metadata": {},
   "source": []
  },
  {
   "cell_type": "markdown",
   "id": "60b10e2c",
   "metadata": {},
   "source": [
    "Ci sono diversi metodi per la tokenizzazione di cui vediamo tre principali categorie:\n",
    "1. Tokenizzatori basati su espressioni regolari\n",
    "2. Tokenizzatori basati su informazione linguistica\n",
    "3. Tokenizzatori basati su apprendimento\n",
    "\n",
    "Esempio tratto da [kaggle](https://www.kaggle.com/datasets/edoardoscarpaci/italian-food-recipes)"
   ]
  },
  {
   "cell_type": "code",
   "execution_count": 1,
   "id": "03e60288",
   "metadata": {},
   "outputs": [],
   "source": [
    "import pandas as pd"
   ]
  },
  {
   "cell_type": "code",
   "execution_count": 2,
   "id": "63b79aef",
   "metadata": {},
   "outputs": [],
   "source": [
    "dataset_file = \"/Users/Flint/Data/recipes/gz_recipe.csv\"\n",
    "dataset = pd.read_csv(dataset_file, index_col=0)\n",
    "recipes = dataset.Nome.values\n",
    "docs = dataset.Steps.values"
   ]
  },
  {
   "cell_type": "code",
   "execution_count": 3,
   "id": "b4f1b782",
   "metadata": {},
   "outputs": [
    {
     "data": {
      "text/html": [
       "<div>\n",
       "<style scoped>\n",
       "    .dataframe tbody tr th:only-of-type {\n",
       "        vertical-align: middle;\n",
       "    }\n",
       "\n",
       "    .dataframe tbody tr th {\n",
       "        vertical-align: top;\n",
       "    }\n",
       "\n",
       "    .dataframe thead th {\n",
       "        text-align: right;\n",
       "    }\n",
       "</style>\n",
       "<table border=\"1\" class=\"dataframe\">\n",
       "  <thead>\n",
       "    <tr style=\"text-align: right;\">\n",
       "      <th></th>\n",
       "      <th>Nome</th>\n",
       "      <th>Categoria</th>\n",
       "      <th>Link</th>\n",
       "      <th>Persone/Pezzi</th>\n",
       "      <th>Ingredienti</th>\n",
       "      <th>Steps</th>\n",
       "    </tr>\n",
       "  </thead>\n",
       "  <tbody>\n",
       "    <tr>\n",
       "      <th>0</th>\n",
       "      <td>Tiramisù</td>\n",
       "      <td>Dolci</td>\n",
       "      <td>https://ricette.giallozafferano.it/Tiramisu.html</td>\n",
       "      <td>8</td>\n",
       "      <td>[['Mascarpone', '750g'], ['Uova', '260g'], ['S...</td>\n",
       "      <td>Per preparare il tiramisù preparate il caffé c...</td>\n",
       "    </tr>\n",
       "    <tr>\n",
       "      <th>1</th>\n",
       "      <td>Cookies</td>\n",
       "      <td>Dolci</td>\n",
       "      <td>https://ricette.giallozafferano.it/Cookies.html</td>\n",
       "      <td>12</td>\n",
       "      <td>[['Farina 00', '195g'], ['Burro', '100g'], ['B...</td>\n",
       "      <td>Per preparare i cookies, assicuratevi che il b...</td>\n",
       "    </tr>\n",
       "    <tr>\n",
       "      <th>2</th>\n",
       "      <td>Pancake allo sciroppo d'acero</td>\n",
       "      <td>Dolci</td>\n",
       "      <td>https://ricette.giallozafferano.it/Pancakes-al...</td>\n",
       "      <td>4</td>\n",
       "      <td>[['Burro', '25g'], ['Farina 00', '125g'], ['Uo...</td>\n",
       "      <td>Iniziamo la preparazione dei pancake fondendo ...</td>\n",
       "    </tr>\n",
       "    <tr>\n",
       "      <th>3</th>\n",
       "      <td>Crema al mascarpone</td>\n",
       "      <td>Dolci</td>\n",
       "      <td>https://ricette.giallozafferano.it/Crema-al-ma...</td>\n",
       "      <td>4</td>\n",
       "      <td>[['Mascarpone', '500g'], ['Zucchero', '125g'],...</td>\n",
       "      <td>Per preparare la crema al mascarpone versate i...</td>\n",
       "    </tr>\n",
       "    <tr>\n",
       "      <th>4</th>\n",
       "      <td>Crepe dolci e salate (ricetta base)</td>\n",
       "      <td>Dolci</td>\n",
       "      <td>https://ricette.giallozafferano.it/Crepes-dolc...</td>\n",
       "      <td>15</td>\n",
       "      <td>[['Uova', '3'], ['Farina 00', '250g'], ['Latte...</td>\n",
       "      <td>Per preparare le crepe dolci e salate iniziate...</td>\n",
       "    </tr>\n",
       "    <tr>\n",
       "      <th>...</th>\n",
       "      <td>...</td>\n",
       "      <td>...</td>\n",
       "      <td>...</td>\n",
       "      <td>...</td>\n",
       "      <td>...</td>\n",
       "      <td>...</td>\n",
       "    </tr>\n",
       "    <tr>\n",
       "      <th>5934</th>\n",
       "      <td>Bowl di anguria e tofu</td>\n",
       "      <td>Dolci</td>\n",
       "      <td>https://ricette.giallozafferano.it/Bowl-di-ang...</td>\n",
       "      <td>4</td>\n",
       "      <td>[['Cocomero (anguria)', '450g'], ['Fragole', '...</td>\n",
       "      <td>Per realizzare la bowl di anguria e tofu per p...</td>\n",
       "    </tr>\n",
       "    <tr>\n",
       "      <th>5935</th>\n",
       "      <td>Granita bicolore con finto gelato</td>\n",
       "      <td>Dolci</td>\n",
       "      <td>https://ricette.giallozafferano.it/Granita-bic...</td>\n",
       "      <td>4</td>\n",
       "      <td>[['Cocomero (anguria)', '400g'], ['Melone cant...</td>\n",
       "      <td>Per preparare la granita bicolore con finto ge...</td>\n",
       "    </tr>\n",
       "    <tr>\n",
       "      <th>5936</th>\n",
       "      <td>Bicchieri di albicocche e robiola</td>\n",
       "      <td>Dolci</td>\n",
       "      <td>https://ricette.giallozafferano.it/Bicchieri-d...</td>\n",
       "      <td>4</td>\n",
       "      <td>[['Albicocche', '500g'], ['Zucchero', '50g'], ...</td>\n",
       "      <td>Per preparare i bicchieri di albicocche e robi...</td>\n",
       "    </tr>\n",
       "    <tr>\n",
       "      <th>5937</th>\n",
       "      <td>Fiori di Eglefino zucca e pesto</td>\n",
       "      <td>Secondi piatti</td>\n",
       "      <td>https://ricette.giallozafferano.it/Fiori-di-Eg...</td>\n",
       "      <td>2</td>\n",
       "      <td>[['Eglefino', '2'], ['Zucca mantovana', '1kg']...</td>\n",
       "      <td>Per realizzare i Fiori di Eglefino zucca e pes...</td>\n",
       "    </tr>\n",
       "    <tr>\n",
       "      <th>5938</th>\n",
       "      <td>Insalata di pasta con asparagi, melone e caprino</td>\n",
       "      <td>Primi piatti</td>\n",
       "      <td>https://ricette.giallozafferano.it/Insalata-di...</td>\n",
       "      <td>4</td>\n",
       "      <td>[['Fusilli Integrali', '320g'], ['Asparagi', '...</td>\n",
       "      <td>Per realizzare l’insalata di pasta integrale c...</td>\n",
       "    </tr>\n",
       "  </tbody>\n",
       "</table>\n",
       "<p>5939 rows × 6 columns</p>\n",
       "</div>"
      ],
      "text/plain": [
       "                                                  Nome       Categoria  \\\n",
       "0                                             Tiramisù           Dolci   \n",
       "1                                              Cookies           Dolci   \n",
       "2                        Pancake allo sciroppo d'acero           Dolci   \n",
       "3                                  Crema al mascarpone           Dolci   \n",
       "4                  Crepe dolci e salate (ricetta base)           Dolci   \n",
       "...                                                ...             ...   \n",
       "5934                            Bowl di anguria e tofu           Dolci   \n",
       "5935                 Granita bicolore con finto gelato           Dolci   \n",
       "5936                 Bicchieri di albicocche e robiola           Dolci   \n",
       "5937                   Fiori di Eglefino zucca e pesto  Secondi piatti   \n",
       "5938  Insalata di pasta con asparagi, melone e caprino    Primi piatti   \n",
       "\n",
       "                                                   Link  Persone/Pezzi  \\\n",
       "0      https://ricette.giallozafferano.it/Tiramisu.html              8   \n",
       "1       https://ricette.giallozafferano.it/Cookies.html             12   \n",
       "2     https://ricette.giallozafferano.it/Pancakes-al...              4   \n",
       "3     https://ricette.giallozafferano.it/Crema-al-ma...              4   \n",
       "4     https://ricette.giallozafferano.it/Crepes-dolc...             15   \n",
       "...                                                 ...            ...   \n",
       "5934  https://ricette.giallozafferano.it/Bowl-di-ang...              4   \n",
       "5935  https://ricette.giallozafferano.it/Granita-bic...              4   \n",
       "5936  https://ricette.giallozafferano.it/Bicchieri-d...              4   \n",
       "5937  https://ricette.giallozafferano.it/Fiori-di-Eg...              2   \n",
       "5938  https://ricette.giallozafferano.it/Insalata-di...              4   \n",
       "\n",
       "                                            Ingredienti  \\\n",
       "0     [['Mascarpone', '750g'], ['Uova', '260g'], ['S...   \n",
       "1     [['Farina 00', '195g'], ['Burro', '100g'], ['B...   \n",
       "2     [['Burro', '25g'], ['Farina 00', '125g'], ['Uo...   \n",
       "3     [['Mascarpone', '500g'], ['Zucchero', '125g'],...   \n",
       "4     [['Uova', '3'], ['Farina 00', '250g'], ['Latte...   \n",
       "...                                                 ...   \n",
       "5934  [['Cocomero (anguria)', '450g'], ['Fragole', '...   \n",
       "5935  [['Cocomero (anguria)', '400g'], ['Melone cant...   \n",
       "5936  [['Albicocche', '500g'], ['Zucchero', '50g'], ...   \n",
       "5937  [['Eglefino', '2'], ['Zucca mantovana', '1kg']...   \n",
       "5938  [['Fusilli Integrali', '320g'], ['Asparagi', '...   \n",
       "\n",
       "                                                  Steps  \n",
       "0     Per preparare il tiramisù preparate il caffé c...  \n",
       "1     Per preparare i cookies, assicuratevi che il b...  \n",
       "2     Iniziamo la preparazione dei pancake fondendo ...  \n",
       "3     Per preparare la crema al mascarpone versate i...  \n",
       "4     Per preparare le crepe dolci e salate iniziate...  \n",
       "...                                                 ...  \n",
       "5934  Per realizzare la bowl di anguria e tofu per p...  \n",
       "5935  Per preparare la granita bicolore con finto ge...  \n",
       "5936  Per preparare i bicchieri di albicocche e robi...  \n",
       "5937  Per realizzare i Fiori di Eglefino zucca e pes...  \n",
       "5938  Per realizzare l’insalata di pasta integrale c...  \n",
       "\n",
       "[5939 rows x 6 columns]"
      ]
     },
     "execution_count": 3,
     "metadata": {},
     "output_type": "execute_result"
    }
   ],
   "source": [
    "dataset "
   ]
  },
  {
   "cell_type": "code",
   "execution_count": 4,
   "id": "f831c17b",
   "metadata": {},
   "outputs": [
    {
     "name": "stdout",
     "output_type": "stream",
     "text": [
      "Tiramisù\n",
      "Per preparare il tiramisù preparate il caffé con la moka per ottenerne 300 g, poi zuccherate a piacere (noi abbiamo messo un cucchiaino) e lasciatelo raffreddare in una ciotolina bassa e ampia. Separate le uova dividendo gli albumi dai tuorli ricordando che per montare bene gli albumi non dovranno presentare alcuna traccia di tuorlo. Montate i tuorli con le fruste elettriche, versando solo metà dose di zucchero Non appena il composto sarà diventato chiaro e spumoso, e con le fruste ancora in funzione, potrete aggiungere il mascarpone, poco alla volta Incorporato tutto il formaggio avrete ottenuto una crema densa e compatta Quando saranno schiumosi versate il restante zucchero un po’ alla volta Dovrete montarli a neve ben ferma così stempererete il composto. Dopodiché procedete ad aggiungere la restante parte di albumi, poco alla volta mescolando molto delicatamente dal basso verso l'alto La crema al mascarpone è ora pronta Distribuitene una generosa cucchiaiata sul fondo di una pirofila di vetro, grande 30x19,5cm e distribuite per bene su tutta la base. Inzuppate per pochi istanti i savoiardi nel caffè freddo prima da un lato e poi dall’altro Man mano distribuite i savoiardi imbevuti nella pirofila, cercando di sistemarli tutti in un verso, così da ottenere un primo strato di biscotti Aggiungete altra crema al mascarpone e livellatela in modo da coprirli completamente E continuate a distribuire i savoiardi imbevuti nel caffè poi realizzate un altro strato di crema Trasferite la crema rimasta in un sac-à-poche con beccuccio liscio di diametro 12 mm e realizzare dei ciuffetti per tutta la dimensione della teglia Spolverizzatela con del cacao amaro in polvere Il vostro tiramisù è pronto per essere gustato!\n"
     ]
    }
   ],
   "source": [
    "print(recipes[0])\n",
    "print(docs[0])"
   ]
  },
  {
   "cell_type": "markdown",
   "id": "c2dacdc4",
   "metadata": {},
   "source": [
    "## Espressioni regolari"
   ]
  },
  {
   "cell_type": "code",
   "execution_count": 9,
   "id": "f5661cc6",
   "metadata": {},
   "outputs": [],
   "source": [
    "from nltk.tokenize import word_tokenize\n",
    "from string import punctuation"
   ]
  },
  {
   "cell_type": "code",
   "execution_count": 22,
   "id": "4c033035",
   "metadata": {},
   "outputs": [
    {
     "name": "stdout",
     "output_type": "stream",
     "text": [
      "per\n",
      "preparare\n",
      "il\n",
      "tiramisù\n",
      "preparate\n",
      "il\n",
      "caffé\n",
      "con\n",
      "la\n",
      "moka\n",
      "per\n",
      "ottenerne\n",
      "300\n",
      "g\n",
      "poi\n",
      "zuccherate\n",
      "a\n",
      "piacere\n",
      "noi\n",
      "abbiamo\n",
      "messo\n",
      "un\n"
     ]
    }
   ],
   "source": [
    "def w_tokenizer(text):\n",
    "    tokens = word_tokenize(text=text, language='italian') \n",
    "    tokens = [x.lower() for x in tokens if x not in punctuation]\n",
    "    return tokens\n",
    "\n",
    "w_tokens = w_tokenizer(docs[0])\n",
    "\n",
    "for i, token in enumerate(w_tokens):\n",
    "    print(token)\n",
    "    if i > 20:\n",
    "        break\n"
   ]
  },
  {
   "cell_type": "code",
   "execution_count": null,
   "id": "c4b33be8",
   "metadata": {},
   "outputs": [],
   "source": []
  },
  {
   "cell_type": "markdown",
   "id": "fcfb2b2e",
   "metadata": {},
   "source": [
    "## Tokenizzazione linguistica"
   ]
  },
  {
   "cell_type": "code",
   "execution_count": 13,
   "id": "dcf7daa6",
   "metadata": {},
   "outputs": [],
   "source": [
    "import spacy\n",
    "from spacy.displacy import render"
   ]
  },
  {
   "cell_type": "code",
   "execution_count": 12,
   "id": "1dc3236c",
   "metadata": {},
   "outputs": [
    {
     "name": "stdout",
     "output_type": "stream",
     "text": [
      "Per ADP per mark\n",
      "preparare VERB preparare advcl\n",
      "il DET il det\n",
      "tiramisù NOUN tiramisù obj\n",
      "preparate VERB preparare acl\n",
      "il DET il det\n",
      "caffé NOUN caffé obj\n",
      "con ADP con case\n",
      "la DET il det\n",
      "moka NOUN moka obl\n"
     ]
    }
   ],
   "source": [
    "nlp = spacy.load(\"it_core_news_lg\")\n",
    "for i, token in enumerate(nlp(docs[0])):\n",
    "    print(token.text, token.pos_, token.lemma_, token.dep_)\n",
    "    if i > 8:\n",
    "        break "
   ]
  },
  {
   "cell_type": "code",
   "execution_count": 15,
   "id": "11b531ea",
   "metadata": {},
   "outputs": [
    {
     "data": {
      "text/html": [
       "<span class=\"tex2jax_ignore\"><svg xmlns=\"http://www.w3.org/2000/svg\" xmlns:xlink=\"http://www.w3.org/1999/xlink\" xml:lang=\"it\" id=\"719ea17eb7e84a02a18961a493416166-0\" class=\"displacy\" width=\"1100\" height=\"399.5\" direction=\"ltr\" style=\"max-width: none; height: 399.5px; color: #000000; background: #ffffff; font-family: Arial; direction: ltr\">\n",
       "<text class=\"displacy-token\" fill=\"currentColor\" text-anchor=\"middle\" y=\"309.5\">\n",
       "    <tspan class=\"displacy-word\" fill=\"currentColor\" x=\"50\">mario</tspan>\n",
       "    <tspan class=\"displacy-tag\" dy=\"2em\" fill=\"currentColor\" x=\"50\">NOUN</tspan>\n",
       "</text>\n",
       "\n",
       "<text class=\"displacy-token\" fill=\"currentColor\" text-anchor=\"middle\" y=\"309.5\">\n",
       "    <tspan class=\"displacy-word\" fill=\"currentColor\" x=\"225\">ieri</tspan>\n",
       "    <tspan class=\"displacy-tag\" dy=\"2em\" fill=\"currentColor\" x=\"225\">ADV</tspan>\n",
       "</text>\n",
       "\n",
       "<text class=\"displacy-token\" fill=\"currentColor\" text-anchor=\"middle\" y=\"309.5\">\n",
       "    <tspan class=\"displacy-word\" fill=\"currentColor\" x=\"400\">è</tspan>\n",
       "    <tspan class=\"displacy-tag\" dy=\"2em\" fill=\"currentColor\" x=\"400\">AUX</tspan>\n",
       "</text>\n",
       "\n",
       "<text class=\"displacy-token\" fill=\"currentColor\" text-anchor=\"middle\" y=\"309.5\">\n",
       "    <tspan class=\"displacy-word\" fill=\"currentColor\" x=\"575\">andato</tspan>\n",
       "    <tspan class=\"displacy-tag\" dy=\"2em\" fill=\"currentColor\" x=\"575\">VERB</tspan>\n",
       "</text>\n",
       "\n",
       "<text class=\"displacy-token\" fill=\"currentColor\" text-anchor=\"middle\" y=\"309.5\">\n",
       "    <tspan class=\"displacy-word\" fill=\"currentColor\" x=\"750\">al</tspan>\n",
       "    <tspan class=\"displacy-tag\" dy=\"2em\" fill=\"currentColor\" x=\"750\">ADP</tspan>\n",
       "</text>\n",
       "\n",
       "<text class=\"displacy-token\" fill=\"currentColor\" text-anchor=\"middle\" y=\"309.5\">\n",
       "    <tspan class=\"displacy-word\" fill=\"currentColor\" x=\"925\">mercato</tspan>\n",
       "    <tspan class=\"displacy-tag\" dy=\"2em\" fill=\"currentColor\" x=\"925\">NOUN</tspan>\n",
       "</text>\n",
       "\n",
       "<g class=\"displacy-arrow\">\n",
       "    <path class=\"displacy-arc\" id=\"arrow-719ea17eb7e84a02a18961a493416166-0-0\" stroke-width=\"2px\" d=\"M70,264.5 C70,2.0 575.0,2.0 575.0,264.5\" fill=\"none\" stroke=\"currentColor\"/>\n",
       "    <text dy=\"1.25em\" style=\"font-size: 0.8em; letter-spacing: 1px\">\n",
       "        <textPath xlink:href=\"#arrow-719ea17eb7e84a02a18961a493416166-0-0\" class=\"displacy-label\" startOffset=\"50%\" side=\"left\" fill=\"currentColor\" text-anchor=\"middle\">nsubj</textPath>\n",
       "    </text>\n",
       "    <path class=\"displacy-arrowhead\" d=\"M70,266.5 L62,254.5 78,254.5\" fill=\"currentColor\"/>\n",
       "</g>\n",
       "\n",
       "<g class=\"displacy-arrow\">\n",
       "    <path class=\"displacy-arc\" id=\"arrow-719ea17eb7e84a02a18961a493416166-0-1\" stroke-width=\"2px\" d=\"M245,264.5 C245,89.5 570.0,89.5 570.0,264.5\" fill=\"none\" stroke=\"currentColor\"/>\n",
       "    <text dy=\"1.25em\" style=\"font-size: 0.8em; letter-spacing: 1px\">\n",
       "        <textPath xlink:href=\"#arrow-719ea17eb7e84a02a18961a493416166-0-1\" class=\"displacy-label\" startOffset=\"50%\" side=\"left\" fill=\"currentColor\" text-anchor=\"middle\">advmod</textPath>\n",
       "    </text>\n",
       "    <path class=\"displacy-arrowhead\" d=\"M245,266.5 L237,254.5 253,254.5\" fill=\"currentColor\"/>\n",
       "</g>\n",
       "\n",
       "<g class=\"displacy-arrow\">\n",
       "    <path class=\"displacy-arc\" id=\"arrow-719ea17eb7e84a02a18961a493416166-0-2\" stroke-width=\"2px\" d=\"M420,264.5 C420,177.0 565.0,177.0 565.0,264.5\" fill=\"none\" stroke=\"currentColor\"/>\n",
       "    <text dy=\"1.25em\" style=\"font-size: 0.8em; letter-spacing: 1px\">\n",
       "        <textPath xlink:href=\"#arrow-719ea17eb7e84a02a18961a493416166-0-2\" class=\"displacy-label\" startOffset=\"50%\" side=\"left\" fill=\"currentColor\" text-anchor=\"middle\">aux</textPath>\n",
       "    </text>\n",
       "    <path class=\"displacy-arrowhead\" d=\"M420,266.5 L412,254.5 428,254.5\" fill=\"currentColor\"/>\n",
       "</g>\n",
       "\n",
       "<g class=\"displacy-arrow\">\n",
       "    <path class=\"displacy-arc\" id=\"arrow-719ea17eb7e84a02a18961a493416166-0-3\" stroke-width=\"2px\" d=\"M770,264.5 C770,177.0 915.0,177.0 915.0,264.5\" fill=\"none\" stroke=\"currentColor\"/>\n",
       "    <text dy=\"1.25em\" style=\"font-size: 0.8em; letter-spacing: 1px\">\n",
       "        <textPath xlink:href=\"#arrow-719ea17eb7e84a02a18961a493416166-0-3\" class=\"displacy-label\" startOffset=\"50%\" side=\"left\" fill=\"currentColor\" text-anchor=\"middle\">case</textPath>\n",
       "    </text>\n",
       "    <path class=\"displacy-arrowhead\" d=\"M770,266.5 L762,254.5 778,254.5\" fill=\"currentColor\"/>\n",
       "</g>\n",
       "\n",
       "<g class=\"displacy-arrow\">\n",
       "    <path class=\"displacy-arc\" id=\"arrow-719ea17eb7e84a02a18961a493416166-0-4\" stroke-width=\"2px\" d=\"M595,264.5 C595,89.5 920.0,89.5 920.0,264.5\" fill=\"none\" stroke=\"currentColor\"/>\n",
       "    <text dy=\"1.25em\" style=\"font-size: 0.8em; letter-spacing: 1px\">\n",
       "        <textPath xlink:href=\"#arrow-719ea17eb7e84a02a18961a493416166-0-4\" class=\"displacy-label\" startOffset=\"50%\" side=\"left\" fill=\"currentColor\" text-anchor=\"middle\">obl</textPath>\n",
       "    </text>\n",
       "    <path class=\"displacy-arrowhead\" d=\"M920.0,266.5 L928.0,254.5 912.0,254.5\" fill=\"currentColor\"/>\n",
       "</g>\n",
       "</svg></span>"
      ],
      "text/plain": [
       "<IPython.core.display.HTML object>"
      ]
     },
     "metadata": {},
     "output_type": "display_data"
    }
   ],
   "source": [
    "render(nlp('mario ieri è andato al mercato'))"
   ]
  },
  {
   "cell_type": "code",
   "execution_count": 24,
   "id": "3b5cd09c",
   "metadata": {},
   "outputs": [],
   "source": [
    "def l_tokenizer(text):\n",
    "    tokens = [t.lemma_ for t in nlp(text) if t.pos_ not in ['PUNCT']]\n",
    "    return tokens "
   ]
  },
  {
   "cell_type": "code",
   "execution_count": 25,
   "id": "02fdb04a",
   "metadata": {},
   "outputs": [
    {
     "name": "stdout",
     "output_type": "stream",
     "text": [
      "['per', 'preparare', 'le', 'crepe', 'dolci', 'e', 'salate', 'iniziate', 'rompendo', 'le']\n",
      "['per', 'preparare', 'il', 'crepa', 'dolce', 'e', 'salato', 'iniziare', 'rompere', 'il']\n"
     ]
    }
   ],
   "source": [
    "w_sample = w_tokenizer(docs[4])\n",
    "l_sample = l_tokenizer(docs[4])\n",
    "\n",
    "print(w_sample[:10])\n",
    "print(l_sample[:10])"
   ]
  },
  {
   "cell_type": "code",
   "execution_count": 26,
   "id": "b941e9d0",
   "metadata": {},
   "outputs": [],
   "source": [
    "from tqdm.notebook import tqdm "
   ]
  },
  {
   "cell_type": "code",
   "execution_count": 29,
   "id": "0b1fb19c",
   "metadata": {},
   "outputs": [
    {
     "data": {
      "application/vnd.jupyter.widget-view+json": {
       "model_id": "12e59773f5a74d749ad2fec98e5234c4",
       "version_major": 2,
       "version_minor": 0
      },
      "text/plain": [
       "  0%|          | 0/2000 [00:00<?, ?it/s]"
      ]
     },
     "metadata": {},
     "output_type": "display_data"
    }
   ],
   "source": [
    "Cw, Cl = [], []\n",
    "for doc in tqdm(docs[:2000], maxinterval=2000):\n",
    "    if not pd.isnull(doc) and len(doc) >= 0:\n",
    "        Cw.append(w_tokenizer(doc))\n",
    "        Cl.append(l_tokenizer(doc))"
   ]
  },
  {
   "cell_type": "code",
   "execution_count": 55,
   "id": "3f996242",
   "metadata": {},
   "outputs": [],
   "source": [
    "from collections import defaultdict\n",
    "import numpy as np "
   ]
  },
  {
   "cell_type": "code",
   "execution_count": 31,
   "id": "01cea2da",
   "metadata": {},
   "outputs": [],
   "source": [
    "def indexing(corpus):\n",
    "    c = defaultdict(lambda: defaultdict(lambda: 0))\n",
    "    for i, doc in enumerate(corpus):\n",
    "        for token in doc:\n",
    "            c[i][token] += 1\n",
    "    return pd.DataFrame(c).fillna(0)"
   ]
  },
  {
   "cell_type": "code",
   "execution_count": 50,
   "id": "51b340ab",
   "metadata": {},
   "outputs": [],
   "source": [
    "W = indexing(Cw)\n",
    "L = indexing(Cl)\n",
    "W = (W / W.sum(axis=0))\n",
    "L = (L / L.sum(axis=0))"
   ]
  },
  {
   "cell_type": "code",
   "execution_count": 54,
   "id": "db7b5bb9",
   "metadata": {},
   "outputs": [
    {
     "data": {
      "text/html": [
       "<div>\n",
       "<style scoped>\n",
       "    .dataframe tbody tr th:only-of-type {\n",
       "        vertical-align: middle;\n",
       "    }\n",
       "\n",
       "    .dataframe tbody tr th {\n",
       "        vertical-align: top;\n",
       "    }\n",
       "\n",
       "    .dataframe thead th {\n",
       "        text-align: right;\n",
       "    }\n",
       "</style>\n",
       "<table border=\"1\" class=\"dataframe\">\n",
       "  <thead>\n",
       "    <tr style=\"text-align: right;\">\n",
       "      <th></th>\n",
       "      <th>0</th>\n",
       "      <th>1</th>\n",
       "      <th>2</th>\n",
       "      <th>3</th>\n",
       "      <th>4</th>\n",
       "      <th>5</th>\n",
       "      <th>6</th>\n",
       "      <th>7</th>\n",
       "      <th>8</th>\n",
       "      <th>9</th>\n",
       "      <th>...</th>\n",
       "      <th>1989</th>\n",
       "      <th>1990</th>\n",
       "      <th>1991</th>\n",
       "      <th>1992</th>\n",
       "      <th>1993</th>\n",
       "      <th>1994</th>\n",
       "      <th>1995</th>\n",
       "      <th>1996</th>\n",
       "      <th>1997</th>\n",
       "      <th>1998</th>\n",
       "    </tr>\n",
       "  </thead>\n",
       "  <tbody>\n",
       "    <tr>\n",
       "      <th>per</th>\n",
       "      <td>0.025180</td>\n",
       "      <td>0.016667</td>\n",
       "      <td>0.008475</td>\n",
       "      <td>0.007874</td>\n",
       "      <td>0.032864</td>\n",
       "      <td>0.010695</td>\n",
       "      <td>0.038462</td>\n",
       "      <td>0.024648</td>\n",
       "      <td>0.019011</td>\n",
       "      <td>0.035971</td>\n",
       "      <td>...</td>\n",
       "      <td>0.021459</td>\n",
       "      <td>0.015823</td>\n",
       "      <td>0.024194</td>\n",
       "      <td>0.013158</td>\n",
       "      <td>0.024390</td>\n",
       "      <td>0.018587</td>\n",
       "      <td>0.020595</td>\n",
       "      <td>0.016043</td>\n",
       "      <td>0.018443</td>\n",
       "      <td>0.014706</td>\n",
       "    </tr>\n",
       "    <tr>\n",
       "      <th>preparare</th>\n",
       "      <td>0.003597</td>\n",
       "      <td>0.008333</td>\n",
       "      <td>0.000000</td>\n",
       "      <td>0.007874</td>\n",
       "      <td>0.004695</td>\n",
       "      <td>0.001783</td>\n",
       "      <td>0.012821</td>\n",
       "      <td>0.003521</td>\n",
       "      <td>0.000000</td>\n",
       "      <td>0.007194</td>\n",
       "      <td>...</td>\n",
       "      <td>0.004292</td>\n",
       "      <td>0.003165</td>\n",
       "      <td>0.004032</td>\n",
       "      <td>0.006579</td>\n",
       "      <td>0.004878</td>\n",
       "      <td>0.003717</td>\n",
       "      <td>0.002288</td>\n",
       "      <td>0.005348</td>\n",
       "      <td>0.002049</td>\n",
       "      <td>0.014706</td>\n",
       "    </tr>\n",
       "    <tr>\n",
       "      <th>il</th>\n",
       "      <td>0.028777</td>\n",
       "      <td>0.008333</td>\n",
       "      <td>0.029661</td>\n",
       "      <td>0.023622</td>\n",
       "      <td>0.004695</td>\n",
       "      <td>0.028520</td>\n",
       "      <td>0.064103</td>\n",
       "      <td>0.028169</td>\n",
       "      <td>0.022814</td>\n",
       "      <td>0.043165</td>\n",
       "      <td>...</td>\n",
       "      <td>0.034335</td>\n",
       "      <td>0.018987</td>\n",
       "      <td>0.056452</td>\n",
       "      <td>0.059211</td>\n",
       "      <td>0.019512</td>\n",
       "      <td>0.018587</td>\n",
       "      <td>0.025172</td>\n",
       "      <td>0.026738</td>\n",
       "      <td>0.012295</td>\n",
       "      <td>0.029412</td>\n",
       "    </tr>\n",
       "    <tr>\n",
       "      <th>tiramisù</th>\n",
       "      <td>0.007194</td>\n",
       "      <td>0.000000</td>\n",
       "      <td>0.000000</td>\n",
       "      <td>0.000000</td>\n",
       "      <td>0.000000</td>\n",
       "      <td>0.000000</td>\n",
       "      <td>0.000000</td>\n",
       "      <td>0.000000</td>\n",
       "      <td>0.000000</td>\n",
       "      <td>0.000000</td>\n",
       "      <td>...</td>\n",
       "      <td>0.000000</td>\n",
       "      <td>0.000000</td>\n",
       "      <td>0.000000</td>\n",
       "      <td>0.000000</td>\n",
       "      <td>0.000000</td>\n",
       "      <td>0.000000</td>\n",
       "      <td>0.000000</td>\n",
       "      <td>0.000000</td>\n",
       "      <td>0.000000</td>\n",
       "      <td>0.000000</td>\n",
       "    </tr>\n",
       "    <tr>\n",
       "      <th>preparate</th>\n",
       "      <td>0.003597</td>\n",
       "      <td>0.000000</td>\n",
       "      <td>0.000000</td>\n",
       "      <td>0.000000</td>\n",
       "      <td>0.000000</td>\n",
       "      <td>0.003565</td>\n",
       "      <td>0.000000</td>\n",
       "      <td>0.000000</td>\n",
       "      <td>0.003802</td>\n",
       "      <td>0.000000</td>\n",
       "      <td>...</td>\n",
       "      <td>0.000000</td>\n",
       "      <td>0.000000</td>\n",
       "      <td>0.000000</td>\n",
       "      <td>0.000000</td>\n",
       "      <td>0.000000</td>\n",
       "      <td>0.000000</td>\n",
       "      <td>0.000000</td>\n",
       "      <td>0.000000</td>\n",
       "      <td>0.000000</td>\n",
       "      <td>0.000000</td>\n",
       "    </tr>\n",
       "  </tbody>\n",
       "</table>\n",
       "<p>5 rows × 1999 columns</p>\n",
       "</div>"
      ],
      "text/plain": [
       "               0         1         2         3         4         5     \\\n",
       "per        0.025180  0.016667  0.008475  0.007874  0.032864  0.010695   \n",
       "preparare  0.003597  0.008333  0.000000  0.007874  0.004695  0.001783   \n",
       "il         0.028777  0.008333  0.029661  0.023622  0.004695  0.028520   \n",
       "tiramisù   0.007194  0.000000  0.000000  0.000000  0.000000  0.000000   \n",
       "preparate  0.003597  0.000000  0.000000  0.000000  0.000000  0.003565   \n",
       "\n",
       "               6         7         8         9     ...      1989      1990  \\\n",
       "per        0.038462  0.024648  0.019011  0.035971  ...  0.021459  0.015823   \n",
       "preparare  0.012821  0.003521  0.000000  0.007194  ...  0.004292  0.003165   \n",
       "il         0.064103  0.028169  0.022814  0.043165  ...  0.034335  0.018987   \n",
       "tiramisù   0.000000  0.000000  0.000000  0.000000  ...  0.000000  0.000000   \n",
       "preparate  0.000000  0.000000  0.003802  0.000000  ...  0.000000  0.000000   \n",
       "\n",
       "               1991      1992      1993      1994      1995      1996  \\\n",
       "per        0.024194  0.013158  0.024390  0.018587  0.020595  0.016043   \n",
       "preparare  0.004032  0.006579  0.004878  0.003717  0.002288  0.005348   \n",
       "il         0.056452  0.059211  0.019512  0.018587  0.025172  0.026738   \n",
       "tiramisù   0.000000  0.000000  0.000000  0.000000  0.000000  0.000000   \n",
       "preparate  0.000000  0.000000  0.000000  0.000000  0.000000  0.000000   \n",
       "\n",
       "               1997      1998  \n",
       "per        0.018443  0.014706  \n",
       "preparare  0.002049  0.014706  \n",
       "il         0.012295  0.029412  \n",
       "tiramisù   0.000000  0.000000  \n",
       "preparate  0.000000  0.000000  \n",
       "\n",
       "[5 rows x 1999 columns]"
      ]
     },
     "execution_count": 54,
     "metadata": {},
     "output_type": "execute_result"
    }
   ],
   "source": [
    "W.head(5)"
   ]
  },
  {
   "cell_type": "code",
   "execution_count": 45,
   "id": "bf874c79",
   "metadata": {},
   "outputs": [
    {
     "name": "stdout",
     "output_type": "stream",
     "text": [
      "(12216, 1999)\n",
      "(10148, 1999)\n"
     ]
    }
   ],
   "source": [
    "print(W.shape)\n",
    "print(L.shape)"
   ]
  },
  {
   "cell_type": "code",
   "execution_count": 52,
   "id": "7afdfbd1",
   "metadata": {},
   "outputs": [
    {
     "data": {
      "text/plain": [
       "e        0.035971\n",
       "di       0.032374\n",
       "il       0.028777\n",
       "per      0.025180\n",
       "un       0.025180\n",
       "la       0.021583\n",
       "in       0.021583\n",
       "con      0.017986\n",
       "crema    0.017986\n",
       "i        0.014388\n",
       "Name: 0, dtype: float64"
      ]
     },
     "execution_count": 52,
     "metadata": {},
     "output_type": "execute_result"
    }
   ],
   "source": [
    "W[0].sort_values(ascending=False)[:10]"
   ]
  },
  {
   "cell_type": "code",
   "execution_count": 53,
   "id": "f55778ba",
   "metadata": {},
   "outputs": [
    {
     "data": {
      "text/plain": [
       "il        0.085714\n",
       "uno       0.039286\n",
       "e         0.035714\n",
       "di        0.032143\n",
       "per       0.025000\n",
       "in        0.021429\n",
       "con       0.017857\n",
       "crema     0.017857\n",
       "a il      0.017857\n",
       "essere    0.017857\n",
       "Name: 0, dtype: float64"
      ]
     },
     "execution_count": 53,
     "metadata": {},
     "output_type": "execute_result"
    }
   ],
   "source": [
    "L[0].sort_values(ascending=False)[:10]"
   ]
  },
  {
   "cell_type": "code",
   "execution_count": 56,
   "id": "307e9873",
   "metadata": {},
   "outputs": [],
   "source": [
    "def idf(table):\n",
    "    idf = {}\n",
    "    for i, row in table.iterrows():\n",
    "        idf[i] = np.log(table.shape[1] / len([x for x in row if x > 0]))\n",
    "    return pd.Series(idf)    "
   ]
  },
  {
   "cell_type": "code",
   "execution_count": 58,
   "id": "1d4ed168",
   "metadata": {},
   "outputs": [],
   "source": [
    "IDF_w = idf(W)\n",
    "IDF_l = idf(L)"
   ]
  },
  {
   "cell_type": "code",
   "execution_count": 60,
   "id": "16b6b3cb",
   "metadata": {},
   "outputs": [
    {
     "data": {
      "text/plain": [
       "imbevuti        0.054679\n",
       "savoiardi       0.048662\n",
       "mascarpone      0.040940\n",
       "tiramisù        0.033496\n",
       "albumi          0.032763\n",
       "crema           0.029347\n",
       "caffè           0.028898\n",
       "caffé           0.027340\n",
       "alcuna          0.027340\n",
       "stempererete    0.027340\n",
       "dtype: float64"
      ]
     },
     "execution_count": 60,
     "metadata": {},
     "output_type": "execute_result"
    }
   ],
   "source": [
    "(W[0] * IDF_w).sort_values(ascending=False)[:10]"
   ]
  },
  {
   "cell_type": "code",
   "execution_count": 61,
   "id": "983a32b5",
   "metadata": {},
   "outputs": [
    {
     "data": {
      "text/plain": [
       "savoiardo       0.047838\n",
       "imbevere        0.046441\n",
       "mascarpone      0.040647\n",
       "tiramisù        0.033257\n",
       "albumo          0.032529\n",
       "distribuire     0.031267\n",
       "crema           0.028956\n",
       "caffè           0.028692\n",
       "stemperereto    0.027144\n",
       "caffé           0.027144\n",
       "dtype: float64"
      ]
     },
     "execution_count": 61,
     "metadata": {},
     "output_type": "execute_result"
    }
   ],
   "source": [
    "(L[0] * IDF_l).sort_values(ascending=False)[:10]"
   ]
  },
  {
   "cell_type": "markdown",
   "id": "f75ecfdb",
   "metadata": {},
   "source": [
    "## WordPiece tokenizer"
   ]
  },
  {
   "cell_type": "code",
   "execution_count": 16,
   "id": "c529ae82",
   "metadata": {},
   "outputs": [],
   "source": [
    "from transformers import AutoTokenizer"
   ]
  },
  {
   "cell_type": "code",
   "execution_count": 22,
   "id": "0b8c74a4",
   "metadata": {},
   "outputs": [
    {
     "name": "stdout",
     "output_type": "stream",
     "text": [
      "Tokens: ['Per', 'preparare', 'il', 'tira', '##mis', '##ù', 'preparate', 'il', 'caff', '##é', 'con', 'la', 'mo', '##ka', 'per', 'otten', '##erne', '300', 'g', ',', 'poi', 'zucch', '##erate', 'a', 'piacere', '(', 'noi', 'abbiamo', 'messo', 'un', 'cucchia', '##ino', ')', 'e', 'lasciate', '##lo', 'raffred', '##dare', 'in', 'una', 'cio', '##to', '##lina', 'bassa', 'e', 'ampia', '.', 'Se', '##para', '##te', 'le', 'uova', 'divide', '##ndo', 'gli', 'album', '##i', 'dai', 'tuo', '##rli', 'ricordando', 'che', 'per', 'montare', 'bene', 'gli', 'album', '##i', 'non', 'dovranno', 'presentare', 'alcuna', 'traccia', 'di', 'tuo', '##rlo', '.', 'Monta', '##te', 'i', 'tuo', '##rli', 'con', 'le', 'frus', '##te', 'elettriche', ',', 'versa', '##ndo', 'solo', 'metà', 'dose', 'di', 'zucchero', 'Non', 'appena', 'il', 'composto', 'sarà', 'diventato', 'chiaro', 'e', 'spu', '##mos', '##o', ',', 'e', 'con', 'le', 'frus', '##te', 'ancora', 'in', 'funzione', ',', 'potrete', 'aggiungere', 'il', 'masc', '##ar', '##pone', ',', 'poco', 'alla', 'volta', 'Inc', '##or', '##pora', '##to', 'tutto', 'il', 'formaggio', 'avrete', 'ottenuto', 'una', 'crema', 'den', '##sa', 'e', 'compatta', 'Quando', 'saranno', 'schi', '##umo', '##si', 'versa', '##te', 'il', 'restante', 'zucchero', 'un', 'po', '’', 'alla', 'volta', 'Dovre', '##te', 'monta', '##rli', 'a', 'neve', 'ben', 'ferma', 'così', 'ste', '##mpere', '##rete', 'il', 'composto', '.', 'Dopo', '##diché', 'procede', '##te', 'ad', 'aggiungere', 'la', 'restante', 'parte', 'di', 'album', '##i', ',', 'poco', 'alla', 'volta', 'mesco', '##lando', 'molto', 'delicata', '##mente', 'dal', 'basso', 'verso', 'l', \"'\", 'alto', 'La', 'crema', 'al', 'masc', '##ar', '##pone', 'è', 'ora', 'pronta', 'Distrib', '##uite', '##ne', 'una', 'generosa', 'cucchia', '##iata', 'sul', 'fondo', 'di', 'una', 'piro', '##fila', 'di', 'vetro', ',', 'grande', '30', '##x', '##19', ',', '5', '##cm', 'e', 'distribuite', 'per', 'bene', 'su', 'tutta', 'la', 'base', '.', 'In', '##zu', '##ppa', '##te', 'per', 'pochi', 'istan', '##ti', 'i', 'sa', '##vo', '##ia', '##rdi', 'nel', 'caffè', 'freddo', 'prima', 'da', 'un', 'lato', 'e', 'poi', 'dall', '’', 'altro', 'Man', 'mano', 'distribuite', 'i', 'sa', '##vo', '##ia', '##rdi', 'imbe', '##vu', '##ti', 'nella', 'piro', '##fila', ',', 'cercando', 'di', 'sistema', '##rli', 'tutti', 'in', 'un', 'verso', ',', 'così', 'da', 'ottenere', 'un', 'primo', 'strato', 'di', 'biscotti', 'Aggiun', '##get', '##e', 'altra', 'crema', 'al', 'masc', '##ar', '##pone', 'e', 'live', '##lla', '##tela', 'in', 'modo', 'da', 'copri', '##rli', 'completamente', 'E', 'continuate', 'a', 'distribuire', 'i', 'sa', '##vo', '##ia', '##rdi', 'imbe', '##vu', '##ti', 'nel', 'caffè', 'poi', 'realizzate', 'un', 'altro', 'strato', 'di', 'crema', 'Tras', '##feri', '##te', 'la', 'crema', 'rimasta', 'in', 'un', 'sa', '##c', '-', 'à', '-', 'poche', 'con', 'be', '##ccu', '##ccio', 'liscio', 'di', 'diametro', '12', 'mm', 'e', 'realizzare', 'dei', 'ci', '##uff', '##etti', 'per', 'tutta', 'la', 'dimensione', 'della', 'te', '##glia', 'Spo', '##l', '##veri', '##zzate', '##la', 'con', 'del', 'cacao', 'ama', '##ro', 'in', 'polvere', 'Il', 'vostro', 'tira', '##mis', '##ù', 'è', 'pronto', 'per', 'essere', 'gus', '##tato', '!']\n",
      "Input IDs: tensor([[  102,   400,  8239,   162,  7933,  5312, 30941, 24880,   162,  4021]])\n",
      "Testo decodificato: [CLS] Per preparare il tiramisù preparate il caffé con la moka per ottenerne 300 g, poi zuccherate a piacere ( noi abbiamo messo un cucchiaino ) e lasciatelo raffreddare in una ciotolina bassa e ampia. Separate le uova dividendo gli albumi dai tuorli ricordando che per montare bene gli albumi non dovranno presentare alcuna traccia di tuorlo. Montate i tuorli con le fruste elettriche, versando solo metà dose di zucchero Non appena il composto sarà diventato chiaro e spumoso, e con le fruste ancora in funzione, potrete aggiungere il mascarpone, poco alla volta Incorporato tutto il formaggio avrete ottenuto una crema densa e compatta Quando saranno schiumosi versate il restante zucchero un po ’ alla volta Dovrete montarli a neve ben ferma così stempererete il composto. Dopodiché procedete ad aggiungere la restante parte di albumi, poco alla volta mescolando molto delicatamente dal basso verso l'alto La crema al mascarpone è ora pronta Distribuitene una generosa cucchiaiata sul fondo di una pirofila di vetro, grande 30x19, 5cm e distribuite per bene su tutta la base. Inzuppate per pochi istanti i savoiardi nel caffè freddo prima da un lato e poi dall ’ altro Man mano distribuite i savoiardi imbevuti nella pirofila, cercando di sistemarli tutti in un verso, così da ottenere un primo strato di biscotti Aggiungete altra crema al mascarpone e livellatela in modo da coprirli completamente E continuate a distribuire i savoiardi imbevuti nel caffè poi realizzate un altro strato di crema Trasferite la crema rimasta in un sac - à - poche con beccuccio liscio di diametro 12 mm e realizzare dei ciuffetti per tutta la dimensione della teglia Spolverizzatela con del cacao amaro in polvere Il vostro tiramisù è pronto per essere gustato! [SEP]\n"
     ]
    }
   ],
   "source": [
    "tokenizer = AutoTokenizer.from_pretrained('dbmdz/bert-base-italian-cased')\n",
    "\n",
    "tokens = tokenizer.tokenize(docs[0])\n",
    "print(\"Tokens:\", tokens)\n",
    "\n",
    "# Converti in ID numerici\n",
    "input_ids = tokenizer.encode(docs[0], return_tensors='pt')\n",
    "print(\"Input IDs:\", input_ids[:,:10])\n",
    "\n",
    "# Decodifica per tornare al testo\n",
    "testo_decodificato = tokenizer.decode(input_ids[0])\n",
    "print(\"Testo decodificato:\", testo_decodificato)"
   ]
  },
  {
   "cell_type": "code",
   "execution_count": null,
   "id": "bb527638",
   "metadata": {},
   "outputs": [],
   "source": []
  }
 ],
 "metadata": {
  "kernelspec": {
   "display_name": "nlp",
   "language": "python",
   "name": "python3"
  },
  "language_info": {
   "codemirror_mode": {
    "name": "ipython",
    "version": 3
   },
   "file_extension": ".py",
   "mimetype": "text/x-python",
   "name": "python",
   "nbconvert_exporter": "python",
   "pygments_lexer": "ipython3",
   "version": "3.10.4"
  }
 },
 "nbformat": 4,
 "nbformat_minor": 5
}
