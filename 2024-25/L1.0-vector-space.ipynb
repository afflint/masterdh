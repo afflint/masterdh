{
 "cells": [
  {
   "cell_type": "markdown",
   "id": "05f649d7",
   "metadata": {},
   "source": [
    "### Prof. Alfio Ferrara\n",
    "# Rappresentazione vettoriale del testo\n",
    "### Master in Digital Humanities"
   ]
  },
  {
   "cell_type": "markdown",
   "id": "00786870",
   "metadata": {},
   "source": [
    "I calcolatori elettronici necessitano di convertire il linguaggio naturale in rappresentazioni numeriche o simboliche che possano essere processate algoritmicamente.\n",
    "\n",
    "Un modo per trasformare il testo in una sua rappresentazione numerica consiste nell'associare un'entità matematica (per esempio un numero) alle componenti costitutive del testo. Chiamiamo queste componenti unitarie **token** e il processo di scomposizione del testo in token *tokenizzazione*.\n",
    "\n",
    "La tokenizzazione è il processo fondamentale di suddivisione del testo in unità più piccole e gestibili chiamate **token**. Un token può essere una parola, una sottoparola, un carattere, o anche una frase, a seconda del metodo utilizzato e dell'applicazione specifica."
   ]
  },
  {
   "cell_type": "markdown",
   "id": "35fbb559",
   "metadata": {},
   "source": [
    "## Tokenizzazione e spazio vettoriale"
   ]
  },
  {
   "cell_type": "markdown",
   "id": "07751176",
   "metadata": {},
   "source": [
    "Prendiamo ad esempio un corpus di pseudo-testi che contengono la condizione metereologica osservata giorno dopo giorno in periodi temporali di diversa durata"
   ]
  },
  {
   "cell_type": "code",
   "execution_count": 2,
   "id": "152389e8",
   "metadata": {},
   "outputs": [],
   "source": [
    "corpus = [\n",
    "    \"sole pioggia sole\",                          # Testo 1 (3 giorni)\n",
    "    \"sole sole sole pioggia pioggia\",             # Testo 2 (5 giorni)\n",
    "    \"pioggia pioggia pioggia sole\",               # Testo 3 (4 giorni)\n",
    "    \"sole sole sole sole pioggia pioggia\",        # Testo 4 (6 giorni)\n",
    "    \"pioggia pioggia\",                            # Testo 5 (2 giorni)\n",
    "    \"sole sole sole sole sole pioggia pioggia\",   # Testo 6 (7 giorni)\n",
    "    \"sole pioggia pioggia pioggia\",               # Testo 7 (4 giorni)\n",
    "    \"sole sole pioggia\",                          # Testo 8 (3 giorni)\n",
    "    \"pioggia sole sole sole pioggia\",             # Testo 9 (5 giorni)\n",
    "    \"sole sole sole pioggia pioggia pioggia\"      # Testo 10 (6 giorni)\n",
    "]"
   ]
  },
  {
   "cell_type": "markdown",
   "id": "9e315e59",
   "metadata": {},
   "source": [
    "Nell'esempio, il vocabolario dell'intero corpus è costituito esclusivamente di 2 parole `{sole, pioggia}`.\n",
    "\n",
    "Come possiamo trasformare un testo del corpus in un'entità matematica?\n",
    "\n",
    "Un modo semplice è contare il numero di occorrenze dei due termini del vocabolario all'interno di ciascun testo.\n",
    "\n",
    "Si noti che in un esempio così semplice, in cui il testo non presenta varianti morfologiche per le parole, punteggiatura né altri fenomeni analoghi, la tokenizzazione può essere limitata a separare le parole tramite spazi."
   ]
  },
  {
   "cell_type": "code",
   "execution_count": 3,
   "id": "b2482f5d",
   "metadata": {},
   "outputs": [],
   "source": [
    "import numpy as np\n",
    "import pandas as pd\n",
    "from collections import Counter"
   ]
  },
  {
   "cell_type": "code",
   "execution_count": 11,
   "id": "ba30d1e4",
   "metadata": {},
   "outputs": [
    {
     "name": "stdout",
     "output_type": "stream",
     "text": [
      "[{'sole': 2, 'pioggia': 1}, {'sole': 3, 'pioggia': 2}, {'pioggia': 3, 'sole': 1}]\n"
     ]
    }
   ],
   "source": [
    "data = []\n",
    "for doc in corpus:\n",
    "    tokens = doc.split()\n",
    "    data.append(dict(Counter(tokens).most_common()))\n",
    "print(data[:3])\n",
    "C = pd.DataFrame(data).fillna(0).astype(float)\n",
    "c = C.to_numpy()"
   ]
  },
  {
   "cell_type": "code",
   "execution_count": 13,
   "id": "f0e632e2",
   "metadata": {},
   "outputs": [
    {
     "data": {
      "text/html": [
       "<div>\n",
       "<style scoped>\n",
       "    .dataframe tbody tr th:only-of-type {\n",
       "        vertical-align: middle;\n",
       "    }\n",
       "\n",
       "    .dataframe tbody tr th {\n",
       "        vertical-align: top;\n",
       "    }\n",
       "\n",
       "    .dataframe thead th {\n",
       "        text-align: right;\n",
       "    }\n",
       "</style>\n",
       "<table border=\"1\" class=\"dataframe\">\n",
       "  <thead>\n",
       "    <tr style=\"text-align: right;\">\n",
       "      <th></th>\n",
       "      <th>sole</th>\n",
       "      <th>pioggia</th>\n",
       "    </tr>\n",
       "  </thead>\n",
       "  <tbody>\n",
       "    <tr>\n",
       "      <th>0</th>\n",
       "      <td>2.0</td>\n",
       "      <td>1.0</td>\n",
       "    </tr>\n",
       "    <tr>\n",
       "      <th>1</th>\n",
       "      <td>3.0</td>\n",
       "      <td>2.0</td>\n",
       "    </tr>\n",
       "    <tr>\n",
       "      <th>2</th>\n",
       "      <td>1.0</td>\n",
       "      <td>3.0</td>\n",
       "    </tr>\n",
       "    <tr>\n",
       "      <th>3</th>\n",
       "      <td>4.0</td>\n",
       "      <td>2.0</td>\n",
       "    </tr>\n",
       "    <tr>\n",
       "      <th>4</th>\n",
       "      <td>0.0</td>\n",
       "      <td>2.0</td>\n",
       "    </tr>\n",
       "  </tbody>\n",
       "</table>\n",
       "</div>"
      ],
      "text/plain": [
       "   sole  pioggia\n",
       "0   2.0      1.0\n",
       "1   3.0      2.0\n",
       "2   1.0      3.0\n",
       "3   4.0      2.0\n",
       "4   0.0      2.0"
      ]
     },
     "execution_count": 13,
     "metadata": {},
     "output_type": "execute_result"
    }
   ],
   "source": [
    "C.head()"
   ]
  },
  {
   "cell_type": "markdown",
   "id": "f314da93",
   "metadata": {},
   "source": [
    "**Nota**: il corpus per la macchina appare come semplicemente come una matrice numerica"
   ]
  },
  {
   "cell_type": "code",
   "execution_count": 15,
   "id": "9450be6c",
   "metadata": {},
   "outputs": [
    {
     "data": {
      "text/plain": [
       "array([[2., 3., 1., 4., 0., 5., 1., 2., 3., 3.],\n",
       "       [1., 2., 3., 2., 2., 2., 3., 1., 2., 3.]])"
      ]
     },
     "execution_count": 15,
     "metadata": {},
     "output_type": "execute_result"
    }
   ],
   "source": [
    "c.T"
   ]
  },
  {
   "cell_type": "markdown",
   "id": "b8dcc51b",
   "metadata": {},
   "source": [
    "## In che modo questa rappresentazione del testo può esserci utile?\n",
    "\n",
    "Vediamo prima un'intuizione geometrica dell'informazione contenuta nella matrice."
   ]
  },
  {
   "cell_type": "code",
   "execution_count": 17,
   "id": "bb073c31",
   "metadata": {},
   "outputs": [],
   "source": [
    "import matplotlib.pyplot as plt\n",
    "import seaborn as sns\n",
    "\n",
    "sns.set_style(\"whitegrid\")\n",
    "sns.set_palette(\"husl\")"
   ]
  },
  {
   "cell_type": "code",
   "execution_count": 24,
   "id": "0082897d",
   "metadata": {},
   "outputs": [],
   "source": [
    "## Generate some jitter\n",
    "np.random.seed(42)  \n",
    "jitter_amount = 0.1  \n",
    "\n",
    "Cj = C.copy()\n",
    "Cj['sole'] = C['sole'] + np.random.uniform(-jitter_amount, jitter_amount, len(C))\n",
    "Cj['pioggia'] = C['pioggia'] + np.random.uniform(-jitter_amount, jitter_amount, len(C))\n"
   ]
  },
  {
   "cell_type": "code",
   "execution_count": 25,
   "id": "d3e6d948",
   "metadata": {},
   "outputs": [
    {
     "data": {
      "image/png": "[encoded data removed]",
      "text/plain": [
       "<Figure size 600x600 with 1 Axes>"
      ]
     },
     "metadata": {},
     "output_type": "display_data"
    }
   ],
   "source": [
    "labels = [\"D{}\".format(i + 1) for i, _ in enumerate(corpus)]\n",
    "fig, ax = plt.subplots(figsize=(6, 6))\n",
    "ax = sns.scatterplot(\n",
    "    data=Cj, \n",
    "    x='sole', \n",
    "    y='pioggia',\n",
    "    s=150,\n",
    "    alpha=0.8,\n",
    "    edgecolor='black',\n",
    "    linewidth=1.5\n",
    ")\n",
    "for idx, row in Cj.iterrows():\n",
    "    ax.annotate(\n",
    "        labels[idx],\n",
    "        (row['sole'], row['pioggia']),\n",
    "        xytext=(5, 5),\n",
    "        textcoords='offset points',\n",
    "        fontsize=11,\n",
    "        fontweight='bold',\n",
    "        bbox=dict(boxstyle='round,pad=0.3', facecolor='white', alpha=0.8)\n",
    "    )\n",
    "plt.xlabel('Frequenza Assoluta SOLE', fontsize=14, fontweight='bold')\n",
    "plt.ylabel('Frequenza Assoluta PIOGGIA', fontsize=14, fontweight='bold')\n",
    "plt.title('Spazio Vettoriale 2D', \n",
    "          fontsize=16, fontweight='bold', pad=20)\n",
    "plt.xlim(-0.2, max(Cj['sole']) + 0.5)\n",
    "plt.ylim(-0.2, max(Cj['pioggia']) + 0.5)\n",
    "plt.grid(True, alpha=0.3)\n",
    "plt.tight_layout()\n",
    "plt.show()"
   ]
  },
  {
   "cell_type": "markdown",
   "id": "f70f7d65",
   "metadata": {},
   "source": [
    "### Una prima utilità pratica: misurare distanze\n",
    "I punti rappresentano i documenti nel senso delle loro proprietà lessicali. Ciò significa che se calcoliamo la distanza fra questi punti possiamo avere una misura della distanza lessicale fra due documenti.\n",
    "\n",
    "Dal momento che abbiamo punti in uno spazio possiamo usare due metodi principali per calcolarne la distanza:\n",
    "\n",
    "#### Distanza euclidea\n",
    "$$d = \\sqrt{ \\sum\\limits_{i=0}^{n}\\left (x_i - y_i)^2 \\right ) }$$\n",
    "\n",
    "#### Distanza del coseno\n",
    "$$ d = \\frac{\\mathbf{a} \\cdot \\mathbf{b}}{|\\mathbf{a}| * |\\mathbf{b}|} $$\n",
    "\n",
    "in cui:\n",
    "- $\\mathbf{a} \\cdot \\mathbf{b}$ è il prodotto scalare fra due vettori\n",
    "- $\\sqrt{\\sum_{i=1}^{n} a_i^2}$ + la magnitudine di un vettore"
   ]
  },
  {
   "cell_type": "markdown",
   "id": "c5064299",
   "metadata": {},
   "source": [
    "### Nota sul prodotto scalare\n",
    "Il segno del prodotto scalare $\\mathbf{a} \\cdot \\mathbf{b}$ ha un importante significato geometrico:\n",
    "\n",
    "- Positivo ($\\mathbf{a} \\cdot \\mathbf{b} > 0$): I vettori formano un angolo acuto ($\\theta < 90°$), indicando che puntano in direzioni simili\n",
    "- Zero ($\\mathbf{a} \\cdot \\mathbf{b} = 0$): I vettori sono ortogonali (perpendicolari), formando un angolo retto ($\\theta = 90°$)\n",
    "- Negativo ($\\mathbf{a} \\cdot \\mathbf{b} < 0$): I vettori formano un angolo ottuso ($\\theta > 90°$), indicando che puntano in direzioni opposte\n",
    "\n",
    "Nel nostro contesto meteorologico, un prodotto scalare positivo tra due vettori documento suggerisce pattern climatici simili, mentre un prodotto scalare negativo indica pattern contrastanti (uno prevalentemente soleggiato, l'altro piovoso)."
   ]
  },
  {
   "cell_type": "markdown",
   "id": "df93a3ee",
   "metadata": {},
   "source": [
    "### Usare la distanza per cercare documenti"
   ]
  },
  {
   "cell_type": "code",
   "execution_count": 43,
   "id": "efcdd772",
   "metadata": {},
   "outputs": [],
   "source": [
    "from mdh.utils import cosine_distance, euclidean_distance"
   ]
  },
  {
   "cell_type": "code",
   "execution_count": 44,
   "id": "9817fdfe",
   "metadata": {},
   "outputs": [],
   "source": [
    "query = np.array([0.0, 1.0])\n",
    "results = {}\n",
    "for i, d in enumerate(c):\n",
    "    results[labels[i]] = cosine_distance(query, d)\n",
    "R = pd.Series(results)"
   ]
  },
  {
   "cell_type": "code",
   "execution_count": 46,
   "id": "5219cbe4",
   "metadata": {},
   "outputs": [
    {
     "data": {
      "text/plain": [
       "D5     0.000000\n",
       "D3     0.051317\n",
       "D7     0.051317\n",
       "D10    0.292893\n",
       "D2     0.445300\n",
       "D9     0.445300\n",
       "D1     0.552786\n",
       "D4     0.552786\n",
       "D8     0.552786\n",
       "D6     0.628609\n",
       "dtype: float64"
      ]
     },
     "execution_count": 46,
     "metadata": {},
     "output_type": "execute_result"
    }
   ],
   "source": [
    "R.sort_values(ascending=True)"
   ]
  },
  {
   "cell_type": "code",
   "execution_count": 52,
   "id": "13d73ca7",
   "metadata": {},
   "outputs": [
    {
     "name": "stdout",
     "output_type": "stream",
     "text": [
      "0.0        => [0. 2.] => pioggia pioggia\n",
      "0.051      => [1. 3.] => pioggia pioggia pioggia sole\n",
      "0.051      => [1. 3.] => sole pioggia pioggia pioggia\n",
      "0.293      => [3. 3.] => sole sole sole pioggia pioggia pioggia\n",
      "0.445      => [3. 2.] => sole sole sole pioggia pioggia\n",
      "0.445      => [3. 2.] => pioggia sole sole sole pioggia\n",
      "0.553      => [2. 1.] => sole pioggia sole\n",
      "0.553      => [4. 2.] => sole sole sole sole pioggia pioggia\n",
      "0.553      => [2. 1.] => sole sole pioggia\n",
      "0.629      => [5. 2.] => sole sole sole sole sole pioggia pioggia\n"
     ]
    }
   ],
   "source": [
    "for k, v in R.sort_values(ascending=True).items():\n",
    "    i = labels.index(k)\n",
    "    print(f\"{np.round(v, 3):<10} => {c[i]} => {corpus[i]}\")"
   ]
  },
  {
   "cell_type": "markdown",
   "id": "84561922",
   "metadata": {},
   "source": [
    "## Domanda: quali sono i limiti di questo metodo così come emergono dall'esempio?"
   ]
  },
  {
   "cell_type": "code",
   "execution_count": null,
   "id": "c09ef4f6",
   "metadata": {},
   "outputs": [],
   "source": []
  }
 ],
 "metadata": {
  "kernelspec": {
   "display_name": "nlp",
   "language": "python",
   "name": "python3"
  },
  "language_info": {
   "codemirror_mode": {
    "name": "ipython",
    "version": 3
   },
   "file_extension": ".py",
   "mimetype": "text/x-python",
   "name": "python",
   "nbconvert_exporter": "python",
   "pygments_lexer": "ipython3",
   "version": "3.10.4"
  }
 },
 "nbformat": 4,
 "nbformat_minor": 5
}
