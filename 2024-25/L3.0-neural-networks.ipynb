{
 "cells": [
  {
   "cell_type": "markdown",
   "id": "35521d34",
   "metadata": {},
   "source": [
    "### Prof. Alfio Ferrara\n",
    "# Reti Neurali\n",
    "### Master in Digital Humanities"
   ]
  },
  {
   "cell_type": "markdown",
   "id": "26b44c07",
   "metadata": {},
   "source": [
    "Supponiamo di voler insegnare alla macchina la classificazione dei seguenti pseudo-testi rispetto alla regione climatica che essi rappresentano."
   ]
  },
  {
   "cell_type": "code",
   "execution_count": 4,
   "id": "6e978bb5",
   "metadata": {},
   "outputs": [],
   "source": [
    "texts = [\n",
    "    \"sabbia sabbia sabbia sole sole vento vento\",                     # T1 - arido\n",
    "    \"sabbia sabbia sole vento vento collina\",                         # T2 - arido\n",
    "    \"sabbia sabbia sabbia sabbia sole sole vento\",                   # T3 - arido\n",
    "    \"sabbia sabbia sole sole vento pioggia\",                         # T4 - arido\n",
    "    \"pioggia pioggia pioggia foresta foresta fiume fiume albero\",    # T5 - umido\n",
    "    \"pioggia pioggia pioggia pioggia foresta fiume fiume albero\",    # T6 - umido\n",
    "    \"pioggia pioggia foresta foresta foresta fiume\",                 # T7 - umido\n",
    "    \"pioggia pioggia pioggia foresta foresta fiume fiume fiume\",     # T8 - umido\n",
    "    \"sabbia sole vento pioggia collina collina albero albero nuvola\",# T9 - temperato\n",
    "    \"sole vento pioggia foresta collina collina albero nuvola\",      # T10 - temperato\n",
    "    \"sabbia sole vento foresta collina collina albero albero nuvola\",# T11 - temperato\n",
    "    \"sole vento pioggia fiume collina collina albero nuvola\"         # T12 - temperato\n",
    "]"
   ]
  },
  {
   "cell_type": "code",
   "execution_count": 5,
   "id": "05452ac8",
   "metadata": {},
   "outputs": [],
   "source": [
    "labels = [\n",
    "    \"arido\",     # T1\n",
    "    \"arido\",     # T2\n",
    "    \"arido\",     # T3\n",
    "    \"arido\",     # T4\n",
    "    \"umido\",     # T5\n",
    "    \"umido\",     # T6\n",
    "    \"umido\",     # T7\n",
    "    \"umido\",     # T8\n",
    "    \"temperato\", # T9\n",
    "    \"temperato\", # T10\n",
    "    \"temperato\", # T11\n",
    "    \"temperato\"  # T12\n",
    "]"
   ]
  },
  {
   "cell_type": "markdown",
   "id": "e0a14226",
   "metadata": {},
   "source": [
    "## Trasformiamo sia i documenti sia le etichette in vettori"
   ]
  },
  {
   "cell_type": "code",
   "execution_count": 6,
   "id": "9e7e96b4",
   "metadata": {},
   "outputs": [],
   "source": [
    "from collections import defaultdict\n",
    "import numpy as np\n",
    "import pandas as pd"
   ]
  },
  {
   "cell_type": "code",
   "execution_count": 7,
   "id": "635c5362",
   "metadata": {},
   "outputs": [],
   "source": [
    "def indexing(corpus):\n",
    "    i = defaultdict(lambda: defaultdict(lambda: 0))\n",
    "    for j, doc in enumerate(corpus):\n",
    "        for token in doc.split():\n",
    "            i[j][token] += 1\n",
    "    return pd.DataFrame(i).fillna(0)"
   ]
  },
  {
   "cell_type": "code",
   "execution_count": 8,
   "id": "58b0a4cc",
   "metadata": {},
   "outputs": [],
   "source": [
    "C = indexing(texts)\n",
    "target = indexing(labels)"
   ]
  },
  {
   "cell_type": "code",
   "execution_count": 9,
   "id": "400f3704",
   "metadata": {},
   "outputs": [
    {
     "data": {
      "text/html": [
       "<div>\n",
       "<style scoped>\n",
       "    .dataframe tbody tr th:only-of-type {\n",
       "        vertical-align: middle;\n",
       "    }\n",
       "\n",
       "    .dataframe tbody tr th {\n",
       "        vertical-align: top;\n",
       "    }\n",
       "\n",
       "    .dataframe thead th {\n",
       "        text-align: right;\n",
       "    }\n",
       "</style>\n",
       "<table border=\"1\" class=\"dataframe\">\n",
       "  <thead>\n",
       "    <tr style=\"text-align: right;\">\n",
       "      <th></th>\n",
       "      <th>0</th>\n",
       "      <th>1</th>\n",
       "      <th>2</th>\n",
       "      <th>3</th>\n",
       "      <th>4</th>\n",
       "      <th>5</th>\n",
       "      <th>6</th>\n",
       "      <th>7</th>\n",
       "      <th>8</th>\n",
       "      <th>9</th>\n",
       "      <th>10</th>\n",
       "      <th>11</th>\n",
       "    </tr>\n",
       "  </thead>\n",
       "  <tbody>\n",
       "    <tr>\n",
       "      <th>sabbia</th>\n",
       "      <td>3.0</td>\n",
       "      <td>2.0</td>\n",
       "      <td>4.0</td>\n",
       "      <td>2.0</td>\n",
       "      <td>0.0</td>\n",
       "      <td>0.0</td>\n",
       "      <td>0.0</td>\n",
       "      <td>0.0</td>\n",
       "      <td>1.0</td>\n",
       "      <td>0.0</td>\n",
       "      <td>1.0</td>\n",
       "      <td>0.0</td>\n",
       "    </tr>\n",
       "    <tr>\n",
       "      <th>sole</th>\n",
       "      <td>2.0</td>\n",
       "      <td>1.0</td>\n",
       "      <td>2.0</td>\n",
       "      <td>2.0</td>\n",
       "      <td>0.0</td>\n",
       "      <td>0.0</td>\n",
       "      <td>0.0</td>\n",
       "      <td>0.0</td>\n",
       "      <td>1.0</td>\n",
       "      <td>1.0</td>\n",
       "      <td>1.0</td>\n",
       "      <td>1.0</td>\n",
       "    </tr>\n",
       "    <tr>\n",
       "      <th>vento</th>\n",
       "      <td>2.0</td>\n",
       "      <td>2.0</td>\n",
       "      <td>1.0</td>\n",
       "      <td>1.0</td>\n",
       "      <td>0.0</td>\n",
       "      <td>0.0</td>\n",
       "      <td>0.0</td>\n",
       "      <td>0.0</td>\n",
       "      <td>1.0</td>\n",
       "      <td>1.0</td>\n",
       "      <td>1.0</td>\n",
       "      <td>1.0</td>\n",
       "    </tr>\n",
       "    <tr>\n",
       "      <th>collina</th>\n",
       "      <td>0.0</td>\n",
       "      <td>1.0</td>\n",
       "      <td>0.0</td>\n",
       "      <td>0.0</td>\n",
       "      <td>0.0</td>\n",
       "      <td>0.0</td>\n",
       "      <td>0.0</td>\n",
       "      <td>0.0</td>\n",
       "      <td>2.0</td>\n",
       "      <td>2.0</td>\n",
       "      <td>2.0</td>\n",
       "      <td>2.0</td>\n",
       "    </tr>\n",
       "    <tr>\n",
       "      <th>pioggia</th>\n",
       "      <td>0.0</td>\n",
       "      <td>0.0</td>\n",
       "      <td>0.0</td>\n",
       "      <td>1.0</td>\n",
       "      <td>3.0</td>\n",
       "      <td>4.0</td>\n",
       "      <td>2.0</td>\n",
       "      <td>3.0</td>\n",
       "      <td>1.0</td>\n",
       "      <td>1.0</td>\n",
       "      <td>0.0</td>\n",
       "      <td>1.0</td>\n",
       "    </tr>\n",
       "    <tr>\n",
       "      <th>foresta</th>\n",
       "      <td>0.0</td>\n",
       "      <td>0.0</td>\n",
       "      <td>0.0</td>\n",
       "      <td>0.0</td>\n",
       "      <td>2.0</td>\n",
       "      <td>1.0</td>\n",
       "      <td>3.0</td>\n",
       "      <td>2.0</td>\n",
       "      <td>0.0</td>\n",
       "      <td>1.0</td>\n",
       "      <td>1.0</td>\n",
       "      <td>0.0</td>\n",
       "    </tr>\n",
       "    <tr>\n",
       "      <th>fiume</th>\n",
       "      <td>0.0</td>\n",
       "      <td>0.0</td>\n",
       "      <td>0.0</td>\n",
       "      <td>0.0</td>\n",
       "      <td>2.0</td>\n",
       "      <td>2.0</td>\n",
       "      <td>1.0</td>\n",
       "      <td>3.0</td>\n",
       "      <td>0.0</td>\n",
       "      <td>0.0</td>\n",
       "      <td>0.0</td>\n",
       "      <td>1.0</td>\n",
       "    </tr>\n",
       "    <tr>\n",
       "      <th>albero</th>\n",
       "      <td>0.0</td>\n",
       "      <td>0.0</td>\n",
       "      <td>0.0</td>\n",
       "      <td>0.0</td>\n",
       "      <td>1.0</td>\n",
       "      <td>1.0</td>\n",
       "      <td>0.0</td>\n",
       "      <td>0.0</td>\n",
       "      <td>2.0</td>\n",
       "      <td>1.0</td>\n",
       "      <td>2.0</td>\n",
       "      <td>1.0</td>\n",
       "    </tr>\n",
       "    <tr>\n",
       "      <th>nuvola</th>\n",
       "      <td>0.0</td>\n",
       "      <td>0.0</td>\n",
       "      <td>0.0</td>\n",
       "      <td>0.0</td>\n",
       "      <td>0.0</td>\n",
       "      <td>0.0</td>\n",
       "      <td>0.0</td>\n",
       "      <td>0.0</td>\n",
       "      <td>1.0</td>\n",
       "      <td>1.0</td>\n",
       "      <td>1.0</td>\n",
       "      <td>1.0</td>\n",
       "    </tr>\n",
       "  </tbody>\n",
       "</table>\n",
       "</div>"
      ],
      "text/plain": [
       "          0    1    2    3    4    5    6    7    8    9    10   11\n",
       "sabbia   3.0  2.0  4.0  2.0  0.0  0.0  0.0  0.0  1.0  0.0  1.0  0.0\n",
       "sole     2.0  1.0  2.0  2.0  0.0  0.0  0.0  0.0  1.0  1.0  1.0  1.0\n",
       "vento    2.0  2.0  1.0  1.0  0.0  0.0  0.0  0.0  1.0  1.0  1.0  1.0\n",
       "collina  0.0  1.0  0.0  0.0  0.0  0.0  0.0  0.0  2.0  2.0  2.0  2.0\n",
       "pioggia  0.0  0.0  0.0  1.0  3.0  4.0  2.0  3.0  1.0  1.0  0.0  1.0\n",
       "foresta  0.0  0.0  0.0  0.0  2.0  1.0  3.0  2.0  0.0  1.0  1.0  0.0\n",
       "fiume    0.0  0.0  0.0  0.0  2.0  2.0  1.0  3.0  0.0  0.0  0.0  1.0\n",
       "albero   0.0  0.0  0.0  0.0  1.0  1.0  0.0  0.0  2.0  1.0  2.0  1.0\n",
       "nuvola   0.0  0.0  0.0  0.0  0.0  0.0  0.0  0.0  1.0  1.0  1.0  1.0"
      ]
     },
     "execution_count": 9,
     "metadata": {},
     "output_type": "execute_result"
    }
   ],
   "source": [
    "C"
   ]
  },
  {
   "cell_type": "code",
   "execution_count": 10,
   "id": "6ba05570",
   "metadata": {},
   "outputs": [
    {
     "data": {
      "text/html": [
       "<div>\n",
       "<style scoped>\n",
       "    .dataframe tbody tr th:only-of-type {\n",
       "        vertical-align: middle;\n",
       "    }\n",
       "\n",
       "    .dataframe tbody tr th {\n",
       "        vertical-align: top;\n",
       "    }\n",
       "\n",
       "    .dataframe thead th {\n",
       "        text-align: right;\n",
       "    }\n",
       "</style>\n",
       "<table border=\"1\" class=\"dataframe\">\n",
       "  <thead>\n",
       "    <tr style=\"text-align: right;\">\n",
       "      <th></th>\n",
       "      <th>0</th>\n",
       "      <th>1</th>\n",
       "      <th>2</th>\n",
       "      <th>3</th>\n",
       "      <th>4</th>\n",
       "      <th>5</th>\n",
       "      <th>6</th>\n",
       "      <th>7</th>\n",
       "      <th>8</th>\n",
       "      <th>9</th>\n",
       "      <th>10</th>\n",
       "      <th>11</th>\n",
       "    </tr>\n",
       "  </thead>\n",
       "  <tbody>\n",
       "    <tr>\n",
       "      <th>arido</th>\n",
       "      <td>1.0</td>\n",
       "      <td>1.0</td>\n",
       "      <td>1.0</td>\n",
       "      <td>1.0</td>\n",
       "      <td>0.0</td>\n",
       "      <td>0.0</td>\n",
       "      <td>0.0</td>\n",
       "      <td>0.0</td>\n",
       "      <td>0.0</td>\n",
       "      <td>0.0</td>\n",
       "      <td>0.0</td>\n",
       "      <td>0.0</td>\n",
       "    </tr>\n",
       "    <tr>\n",
       "      <th>umido</th>\n",
       "      <td>0.0</td>\n",
       "      <td>0.0</td>\n",
       "      <td>0.0</td>\n",
       "      <td>0.0</td>\n",
       "      <td>1.0</td>\n",
       "      <td>1.0</td>\n",
       "      <td>1.0</td>\n",
       "      <td>1.0</td>\n",
       "      <td>0.0</td>\n",
       "      <td>0.0</td>\n",
       "      <td>0.0</td>\n",
       "      <td>0.0</td>\n",
       "    </tr>\n",
       "    <tr>\n",
       "      <th>temperato</th>\n",
       "      <td>0.0</td>\n",
       "      <td>0.0</td>\n",
       "      <td>0.0</td>\n",
       "      <td>0.0</td>\n",
       "      <td>0.0</td>\n",
       "      <td>0.0</td>\n",
       "      <td>0.0</td>\n",
       "      <td>0.0</td>\n",
       "      <td>1.0</td>\n",
       "      <td>1.0</td>\n",
       "      <td>1.0</td>\n",
       "      <td>1.0</td>\n",
       "    </tr>\n",
       "  </tbody>\n",
       "</table>\n",
       "</div>"
      ],
      "text/plain": [
       "            0    1    2    3    4    5    6    7    8    9    10   11\n",
       "arido      1.0  1.0  1.0  1.0  0.0  0.0  0.0  0.0  0.0  0.0  0.0  0.0\n",
       "umido      0.0  0.0  0.0  0.0  1.0  1.0  1.0  1.0  0.0  0.0  0.0  0.0\n",
       "temperato  0.0  0.0  0.0  0.0  0.0  0.0  0.0  0.0  1.0  1.0  1.0  1.0"
      ]
     },
     "execution_count": 10,
     "metadata": {},
     "output_type": "execute_result"
    }
   ],
   "source": [
    "target"
   ]
  },
  {
   "cell_type": "markdown",
   "id": "f7e40b2d",
   "metadata": {},
   "source": [
    "Prendiamo il vettore che rappresenta il primo documento e il vettore che rappresenta l'etichetta corrispondente"
   ]
  },
  {
   "cell_type": "code",
   "execution_count": 15,
   "id": "3e9f60e6",
   "metadata": {},
   "outputs": [
    {
     "name": "stdout",
     "output_type": "stream",
     "text": [
      "[3. 2. 2. 0. 0. 0. 0. 0. 0.]\n",
      "[1. 0. 0.]\n"
     ]
    }
   ],
   "source": [
    "x = C[0].values\n",
    "y = target[0].values\n",
    "\n",
    "print(x)\n",
    "print(y)"
   ]
  },
  {
   "cell_type": "markdown",
   "id": "4b2c8790",
   "metadata": {},
   "source": [
    "Se avessimo un meccanismo per trasformare il primo vettore nel secondo avremmo di fatto a disposizione una macchina capace di classificare il testo.\n",
    "\n",
    "Nello specifico, nel nostro caso ci troviamo a dover trasformare un vettore con **9** dimensioni in uno con **3** dimensioni.\n",
    "\n",
    "Per farlo basta moltiplicare il primo vettore per una matrice dotata di **9** colonne e **tre** righe.\n",
    "\n",
    "La matrice (detta anche matrice dei **parametri** o dei **pesi**) deve avere\n",
    "\n",
    "- 3 righe: una per ogni output desiderato (una per ciascuna classe)\n",
    "\n",
    "- 9 colonne: una per ogni dimensione dell’input (una per ciascuna parola nel vocabolario)\n",
    "\n",
    "Questo perchè, in altri termini, stiamo facendo il prodotto scalare di ogni riga dei parametri per il vettore di input e sistemando il risultato nel vettore di output."
   ]
  },
  {
   "cell_type": "code",
   "execution_count": 20,
   "id": "cfdb4bf0",
   "metadata": {},
   "outputs": [
    {
     "name": "stdout",
     "output_type": "stream",
     "text": [
      "[[-0.25  0.9   0.46  0.2  -0.69 -0.69 -0.88  0.73  0.2 ]\n",
      " [ 0.42 -0.96  0.94  0.66 -0.58 -0.64 -0.63 -0.39  0.05]\n",
      " [-0.14 -0.42  0.22 -0.72 -0.42 -0.27 -0.09  0.57 -0.6 ]]\n"
     ]
    }
   ],
   "source": [
    "np.random.seed(42) \n",
    "\n",
    "W = np.round(np.random.uniform(-1, 1, size=(3, 9)), 2)\n",
    "\n",
    "print(W)"
   ]
  },
  {
   "cell_type": "code",
   "execution_count": 23,
   "id": "7b597626",
   "metadata": {},
   "outputs": [
    {
     "name": "stdout",
     "output_type": "stream",
     "text": [
      "[ 1.97  1.22 -0.82]\n"
     ]
    }
   ],
   "source": [
    "y_hat = W.dot(x)\n",
    "\n",
    "print(y_hat)"
   ]
  },
  {
   "cell_type": "markdown",
   "id": "bcbdf0b9",
   "metadata": {},
   "source": [
    "Trasformiamo infine il vettore risultante in una probabilità per ogni classe"
   ]
  },
  {
   "cell_type": "code",
   "execution_count": 24,
   "id": "54cf324f",
   "metadata": {},
   "outputs": [],
   "source": [
    "def softmax(logits):\n",
    "    exps = np.exp(logits - np.max(logits))  # stabilizzazione numerica\n",
    "    return exps / np.sum(exps)"
   ]
  },
  {
   "cell_type": "code",
   "execution_count": 25,
   "id": "2d6a9d28",
   "metadata": {},
   "outputs": [
    {
     "data": {
      "text/plain": [
       "array([0.65198069, 0.30797387, 0.04004545])"
      ]
     },
     "execution_count": 25,
     "metadata": {},
     "output_type": "execute_result"
    }
   ],
   "source": [
    "softmax(y_hat)"
   ]
  },
  {
   "cell_type": "markdown",
   "id": "21eb63be",
   "metadata": {},
   "source": [
    "## Questioni aperte\n",
    "1. Qual è il ruolo dei parametri?\n",
    "2. Come possiamo allenare la macchina e farle apprendere i parametri giusti? "
   ]
  },
  {
   "cell_type": "code",
   "execution_count": null,
   "id": "5142a273",
   "metadata": {},
   "outputs": [],
   "source": []
  }
 ],
 "metadata": {
  "kernelspec": {
   "display_name": "nlp",
   "language": "python",
   "name": "python3"
  },
  "language_info": {
   "codemirror_mode": {
    "name": "ipython",
    "version": 3
   },
   "file_extension": ".py",
   "mimetype": "text/x-python",
   "name": "python",
   "nbconvert_exporter": "python",
   "pygments_lexer": "ipython3",
   "version": "3.10.4"
  }
 },
 "nbformat": 4,
 "nbformat_minor": 5
}
