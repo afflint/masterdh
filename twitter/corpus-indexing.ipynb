{
 "cells": [
  {
   "cell_type": "markdown",
   "metadata": {},
   "source": [
    "# Classroom example on indexing"
   ]
  },
  {
   "cell_type": "code",
   "execution_count": 1,
   "metadata": {},
   "outputs": [],
   "source": [
    "import numpy as np\n",
    "import pandas as pd\n",
    "from tqdm import tqdm_notebook"
   ]
  },
  {
   "cell_type": "code",
   "execution_count": 2,
   "metadata": {},
   "outputs": [],
   "source": [
    "import json\n",
    "from datetime import datetime"
   ]
  },
  {
   "cell_type": "code",
   "execution_count": 3,
   "metadata": {},
   "outputs": [],
   "source": [
    "import spacy"
   ]
  },
  {
   "cell_type": "code",
   "execution_count": 4,
   "metadata": {},
   "outputs": [],
   "source": [
    "nlp = spacy.load(\"it_core_news_sm\")"
   ]
  },
  {
   "cell_type": "code",
   "execution_count": 5,
   "metadata": {},
   "outputs": [],
   "source": [
    "with open('data/twitter-news.json', 'r') as infile:\n",
    "    dataset = json.load(infile)"
   ]
  },
  {
   "cell_type": "code",
   "execution_count": 6,
   "metadata": {},
   "outputs": [],
   "source": [
    "documents = [(k, v['text']) for k, v in dataset.items()]\n",
    "texts = [y for x, y in documents]"
   ]
  },
  {
   "cell_type": "code",
   "execution_count": 7,
   "metadata": {},
   "outputs": [
    {
     "data": {
      "text/plain": [
       "['🇺🇸🇨🇳 Il supercomputer giapponese Fugaku ha toccato un picco di velocità pari a 415,5 petaflops, milioni di miliardi… https://t.co/mgqmtteL8K',\n",
       " '🇺🇸🇨🇳 Nel Mar cinese meridionale e intorno a Taiwan i pattugliamenti delle marine americana e cinese e delle due aer… https://t.co/rxRjqmfTaH',\n",
       " '🇺🇸🇨🇳 I turisti americani potranno venire in Italia? Perché Trump non vuole finanziare i tamponi contro il Covid? Ci… https://t.co/2prunf5TTp',\n",
       " 'Antonucci, il giocatore della Roma cacciato dal Vitoria Setubal  per un video su TikTok https://t.co/T50jbUKf4p https://t.co/L7SOjGLFPW',\n",
       " '«Giocava come Giggs, suonava come Bob Dylan»: l’incredibile (e triste) storia di Adrian... https://t.co/133HEMDkqL https://t.co/KYGNG3GDrV',\n",
       " 'Porto Empedocle,  sono 28 i migranti positivi al Covid sul traghetto in quarantena   https://t.co/VGrvsdc9ER https://t.co/MXOWI6r1Nr',\n",
       " 'Maria Elena Boschi e Giulio Berruti: ecco il bacio. La serata romana della coppia https://t.co/KOljzhUJ51 https://t.co/9FU3Jk9Tjf',\n",
       " 'Il Trentino vuole abbattere l’orso aggressore. Ma una delle vittime si oppone  https://t.co/24kgTNorVS https://t.co/QCuJnlPH9x',\n",
       " \"Le notizie di oggi su Zanardi, dopo l'incidente (e l'ultimo bollettino) https://t.co/VpbafnYdJ7\",\n",
       " \"Le notizie di oggi su Zanardi, dopo l'incidente (e l'ultimo bollettino) https://t.co/pyCuP67I8S https://t.co/632UNrToSi\"]"
      ]
     },
     "execution_count": 7,
     "metadata": {},
     "output_type": "execute_result"
    }
   ],
   "source": [
    "texts[:10]"
   ]
  },
  {
   "cell_type": "markdown",
   "metadata": {},
   "source": [
    "## Tokenizing with SpaCy"
   ]
  },
  {
   "cell_type": "code",
   "execution_count": 8,
   "metadata": {},
   "outputs": [],
   "source": [
    "doc = nlp(texts[0])"
   ]
  },
  {
   "cell_type": "code",
   "execution_count": 9,
   "metadata": {},
   "outputs": [
    {
     "name": "stdout",
     "output_type": "stream",
     "text": [
      "🇺 🇺 PROPN obl\n",
      "🇸 🇸 VERB amod\n",
      "🇨 🇨 PROPN amod\n",
      "🇳 🇳 PROPN nmod\n",
      "Il Il DET det\n",
      "supercomputer supercomputer NOUN nsubj\n",
      "giapponese giapponese ADJ amod\n",
      "Fugaku Fugaku PROPN nmod\n",
      "ha avere AUX aux\n",
      "toccato toccare VERB ROOT\n",
      "un un DET det\n",
      "picco piccare NOUN obj\n",
      "di di ADP case\n",
      "velocità velocità NOUN nmod\n",
      "pari pario ADJ amod\n",
      "a a ADP case\n",
      "415,5 415,5 NUM punct\n",
      "petaflops petaflops NOUN appos\n",
      ", , PUNCT punct\n",
      "milioni milione NOUN conj\n",
      "di di ADP case\n",
      "miliardi miliardo NOUN nmod\n",
      "… … PUNCT punct\n",
      "https://t.co/mgqmtteL8K https://t.co/mgqmtteL8K PROPN amod\n"
     ]
    }
   ],
   "source": [
    "for token in doc:\n",
    "    print(token.text, token.lemma_, token.pos_, token.dep_)"
   ]
  },
  {
   "cell_type": "code",
   "execution_count": 14,
   "metadata": {},
   "outputs": [
    {
     "name": "stdout",
     "output_type": "stream",
     "text": [
      "🇺\n",
      "🇸\n",
      "🇨\n",
      "🇳\n",
      "supercomputer\n",
      "giapponese\n",
      "Fugaku\n",
      "ha\n",
      "toccato\n",
      "picco\n",
      "velocità\n",
      "pari\n",
      "415,5\n",
      "petaflops\n",
      "milioni\n",
      "miliardi\n"
     ]
    }
   ],
   "source": [
    "for token in doc:\n",
    "    if token.pos_ not in ['PUNCT', 'DET', 'ADP'] and not token.text.startswith('http'):\n",
    "        print(token.text)"
   ]
  },
  {
   "cell_type": "markdown",
   "metadata": {},
   "source": [
    "### Exercize: transform text by keeping NOUN and ADJ only"
   ]
  },
  {
   "cell_type": "code",
   "execution_count": 15,
   "metadata": {},
   "outputs": [],
   "source": [
    "def nounadj(text):\n",
    "    tokens = [x.text.lower() for x in nlp(text) if x.pos_ in ['NOUN', 'ADJ', 'PROPN'] and \n",
    "              not x.text.startswith('http')]\n",
    "    return tokens"
   ]
  },
  {
   "cell_type": "code",
   "execution_count": 16,
   "metadata": {},
   "outputs": [
    {
     "data": {
      "text/plain": [
       "['🇺',\n",
       " '🇨',\n",
       " '🇳',\n",
       " 'supercomputer',\n",
       " 'giapponese',\n",
       " 'fugaku',\n",
       " 'picco',\n",
       " 'velocità',\n",
       " 'pari',\n",
       " 'petaflops',\n",
       " 'milioni',\n",
       " 'miliardi']"
      ]
     },
     "execution_count": 16,
     "metadata": {},
     "output_type": "execute_result"
    }
   ],
   "source": [
    "nounadj(texts[0])"
   ]
  },
  {
   "cell_type": "code",
   "execution_count": 17,
   "metadata": {},
   "outputs": [],
   "source": [
    "corpus = [nounadj(x) for x in texts]"
   ]
  },
  {
   "cell_type": "code",
   "execution_count": 18,
   "metadata": {},
   "outputs": [
    {
     "data": {
      "text/plain": [
       "1344"
      ]
     },
     "execution_count": 18,
     "metadata": {},
     "output_type": "execute_result"
    }
   ],
   "source": [
    "len(corpus)"
   ]
  },
  {
   "cell_type": "code",
   "execution_count": 21,
   "metadata": {},
   "outputs": [
    {
     "name": "stdout",
     "output_type": "stream",
     "text": [
      "Correre, gli errori da evitare per non mettere a rischio i piedi https://t.co/rJalQBe1LG https://t.co/0DER3ehcaL\n",
      "['errori', 'rischio', 'piedi']\n"
     ]
    }
   ],
   "source": [
    "print(texts[10])\n",
    "print(corpus[10])"
   ]
  },
  {
   "cell_type": "markdown",
   "metadata": {},
   "source": [
    "## Indexing"
   ]
  },
  {
   "cell_type": "code",
   "execution_count": 22,
   "metadata": {},
   "outputs": [],
   "source": [
    "from collections import defaultdict"
   ]
  },
  {
   "cell_type": "code",
   "execution_count": 23,
   "metadata": {},
   "outputs": [],
   "source": [
    "doc_freq = defaultdict(lambda: 0)\n",
    "term_freq = defaultdict(lambda: defaultdict(lambda: 0))"
   ]
  },
  {
   "cell_type": "code",
   "execution_count": 25,
   "metadata": {},
   "outputs": [],
   "source": [
    "for i, text in enumerate(corpus):\n",
    "    for word in set(text):\n",
    "        doc_freq[word] += 1\n",
    "    for word in text:\n",
    "        term_freq[i][word] += 1"
   ]
  },
  {
   "cell_type": "code",
   "execution_count": 28,
   "metadata": {},
   "outputs": [
    {
     "name": "stdout",
     "output_type": "stream",
     "text": [
      "79 3\n"
     ]
    }
   ],
   "source": [
    "print(doc_freq['della'], doc_freq['computer'])"
   ]
  },
  {
   "cell_type": "code",
   "execution_count": 30,
   "metadata": {},
   "outputs": [
    {
     "data": {
      "text/plain": [
       "6.104793232414985"
      ]
     },
     "execution_count": 30,
     "metadata": {},
     "output_type": "execute_result"
    }
   ],
   "source": [
    "np.log(len(corpus) / doc_freq['computer'])"
   ]
  },
  {
   "cell_type": "code",
   "execution_count": null,
   "metadata": {},
   "outputs": [],
   "source": []
  }
 ],
 "metadata": {
  "kernelspec": {
   "display_name": "Python 3 (ipykernel)",
   "language": "python",
   "name": "python3"
  },
  "language_info": {
   "codemirror_mode": {
    "name": "ipython",
    "version": 3
   },
   "file_extension": ".py",
   "mimetype": "text/x-python",
   "name": "python",
   "nbconvert_exporter": "python",
   "pygments_lexer": "ipython3",
   "version": "3.8.8"
  },
  "toc": {
   "base_numbering": 1,
   "nav_menu": {},
   "number_sections": true,
   "sideBar": true,
   "skip_h1_title": true,
   "title_cell": "Table of Contents",
   "title_sidebar": "Contents",
   "toc_cell": false,
   "toc_position": {},
   "toc_section_display": true,
   "toc_window_display": false
  }
 },
 "nbformat": 4,
 "nbformat_minor": 2
}
