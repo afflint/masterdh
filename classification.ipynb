{
 "cells": [
  {
   "cell_type": "markdown",
   "metadata": {},
   "source": [
    "# Example on document classification\n",
    "This example shows different options for classification base on movies having as features the actor list"
   ]
  },
  {
   "cell_type": "code",
   "execution_count": 1,
   "metadata": {},
   "outputs": [],
   "source": [
    "import numpy as np\n",
    "import pandas as pd\n",
    "from tqdm import tqdm_notebook"
   ]
  },
  {
   "cell_type": "code",
   "execution_count": 2,
   "metadata": {},
   "outputs": [],
   "source": [
    "import json"
   ]
  },
  {
   "cell_type": "code",
   "execution_count": 3,
   "metadata": {},
   "outputs": [],
   "source": [
    "with open('data/imdb.json', 'r') as infile:\n",
    "    dataset = json.load(infile)"
   ]
  },
  {
   "cell_type": "code",
   "execution_count": 4,
   "metadata": {},
   "outputs": [],
   "source": [
    "movies, people = dataset['movies'], dataset['people']"
   ]
  },
  {
   "cell_type": "code",
   "execution_count": 8,
   "metadata": {},
   "outputs": [
    {
     "name": "stdout",
     "output_type": "stream",
     "text": [
      "tconst tt0042251\n",
      "titleType movie\n",
      "primaryTitle Big Timber\n",
      "originalTitle Big Timber\n",
      "isAdult 0\n",
      "startYear 1950\n",
      "genres ['Action', 'Adventure', 'Drama']\n",
      "decade 1950-1960\n",
      "cast ['nm0001522', 'nm0339281', 'nm0232655', 'nm0859183', 'nm0428160', 'nm0946391', 'nm0934281', 'nm0663858', 'nm0005873', 'nm0379090']\n",
      "rating 5.6\n",
      "votes 36\n"
     ]
    }
   ],
   "source": [
    "example = movies[list(movies.keys())[6]]\n",
    "for k, v in example.items():\n",
    "    print(k, v)"
   ]
  },
  {
   "cell_type": "code",
   "execution_count": 9,
   "metadata": {},
   "outputs": [
    {
     "name": "stdout",
     "output_type": "stream",
     "text": [
      "{'nconst': 'nm0001522', 'primaryName': 'Roddy McDowall', 'birthYear': 1928, 'deathYear': 1998, 'primaryProfession': ['actor', 'producer', 'soundtrack'], 'knownForTitles': ['tt0093693', 'tt0068408', 'tt0089175', 'tt0063442']}\n",
      "{'nconst': 'nm0339281', 'primaryName': 'Tom Greenway', 'birthYear': 1909, 'deathYear': 1985, 'primaryProfession': ['actor'], 'knownForTitles': ['tt0050025', 'tt0044259', 'tt0052504', 'tt0042251']}\n",
      "{'nconst': 'nm0232655', 'primaryName': 'Jeff Donnell', 'birthYear': 1921, 'deathYear': 1988, 'primaryProfession': ['actress', 'soundtrack'], 'knownForTitles': ['tt0066473', 'tt0042593', 'tt0051036', 'tt0042251']}\n",
      "{'nconst': 'nm0859183', 'primaryName': 'Lyn Thomas', 'birthYear': 1929, 'deathYear': 2004, 'primaryProfession': ['actress'], 'knownForTitles': ['tt0052228', 'tt0043071', 'tt0052544', 'tt0042251']}\n",
      "{'nconst': 'nm0428160', 'primaryName': 'Gordon Jones', 'birthYear': 1911, 'deathYear': 1963, 'primaryProfession': ['actor', 'soundtrack', 'stunts'], 'knownForTitles': ['tt0031394', 'tt0035105', 'tt0057298', 'tt0034742']}\n",
      "{'nconst': 'nm0946391', 'primaryName': 'Jean Yarbrough', 'birthYear': 1900, 'deathYear': 1975, 'primaryProfession': ['director', 'producer', 'assistant_director'], 'knownForTitles': ['tt0034302', 'tt0045398', 'tt0038934', 'tt0038643']}\n",
      "{'nconst': 'nm0934281', 'primaryName': 'Warren Wilson', 'birthYear': 1909, 'deathYear': 1963, 'primaryProfession': ['writer', 'producer'], 'knownForTitles': ['tt0038082', 'tt0038933', 'tt0042251', 'tt0036592']}\n",
      "{'nconst': 'nm0663858', 'primaryName': 'Lindsley Parsons', 'birthYear': 1905, 'deathYear': 1992, 'primaryProfession': ['producer', 'writer', 'miscellaneous'], 'knownForTitles': ['tt0044221', 'tt0030689', 'tt0026273', 'tt0031748']}\n",
      "{'nconst': 'nm0005873', 'primaryName': 'William A. Sickner', 'birthYear': 1890, 'deathYear': 1967, 'primaryProfession': ['cinematographer', 'camera_department'], 'knownForTitles': ['tt0031394', 'tt0042251', 'tt0031903', 'tt0046623']}\n",
      "{'nconst': 'nm0379090', 'primaryName': 'Ace Herman', 'birthYear': 1913, 'deathYear': 1971, 'primaryProfession': ['editor', 'editorial_department', 'producer'], 'knownForTitles': ['tt0042251', 'tt0046401', 'tt0044221', 'tt0045129']}\n"
     ]
    }
   ],
   "source": [
    "for cast in example['cast']:\n",
    "    print(people[cast])"
   ]
  },
  {
   "cell_type": "code",
   "execution_count": null,
   "metadata": {},
   "outputs": [],
   "source": []
  }
 ],
 "metadata": {
  "kernelspec": {
   "display_name": "Python 3",
   "language": "python",
   "name": "python3"
  },
  "language_info": {
   "codemirror_mode": {
    "name": "ipython",
    "version": 3
   },
   "file_extension": ".py",
   "mimetype": "text/x-python",
   "name": "python",
   "nbconvert_exporter": "python",
   "pygments_lexer": "ipython3",
   "version": "3.7.4"
  },
  "toc": {
   "base_numbering": 1,
   "nav_menu": {},
   "number_sections": true,
   "sideBar": true,
   "skip_h1_title": true,
   "title_cell": "Table of Contents",
   "title_sidebar": "Contents",
   "toc_cell": false,
   "toc_position": {},
   "toc_section_display": true,
   "toc_window_display": false
  }
 },
 "nbformat": 4,
 "nbformat_minor": 2
}
