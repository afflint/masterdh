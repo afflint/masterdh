{
 "cells": [
  {
   "cell_type": "markdown",
   "metadata": {},
   "source": [
    "# Introduction to the notion of digital text corpus: get data\n",
    "Examples are base on Twitter API. A valid Twitter developer API Key is needed to run the examples (see [Twitter Developers Website](https://developer.twitter.com/en) for details).\n",
    "\n",
    "The following examples use `pip install python-twitter`"
   ]
  },
  {
   "cell_type": "code",
   "execution_count": 1,
   "metadata": {},
   "outputs": [],
   "source": [
    "import twitter\n",
    "import json"
   ]
  },
  {
   "cell_type": "code",
   "execution_count": 2,
   "metadata": {},
   "outputs": [],
   "source": [
    "with open('secret/twitter.json', 'r') as keysfile:\n",
    "    keys = json.load(keysfile)"
   ]
  },
  {
   "cell_type": "code",
   "execution_count": 3,
   "metadata": {},
   "outputs": [],
   "source": [
    "api = twitter.Api(\n",
    "    consumer_key=keys['consumer_key'], \n",
    "    consumer_secret=keys['consumer_secret'], \n",
    "    access_token_key=keys['access_token_key'], \n",
    "    access_token_secret=keys['access_token_secret'])"
   ]
  },
  {
   "cell_type": "code",
   "execution_count": 4,
   "metadata": {},
   "outputs": [],
   "source": [
    "def get_timeline(screen, count=200, iterations=3):\n",
    "    statuses = api.GetUserTimeline(screen_name=screen, count=count)\n",
    "    s = dict([(s.id, s.AsDict()) for s in statuses])\n",
    "    ids = sorted(s.keys())\n",
    "    for i in range(iterations-1):\n",
    "        statuses = api.GetUserTimeline(screen_name=screen, count=count, max_id=ids[0])\n",
    "        for status in statuses:\n",
    "            s[status.id] = status.AsDict()\n",
    "        ids = sorted(s.keys())\n",
    "    return s"
   ]
  },
  {
   "cell_type": "code",
   "execution_count": 5,
   "metadata": {},
   "outputs": [],
   "source": [
    "corriere = get_timeline(screen='Corriere', count=150, iterations=3)"
   ]
  },
  {
   "cell_type": "code",
   "execution_count": 6,
   "metadata": {},
   "outputs": [],
   "source": [
    "repubblica = get_timeline(screen='repubblica', count=150, iterations=3)"
   ]
  },
  {
   "cell_type": "code",
   "execution_count": 7,
   "metadata": {},
   "outputs": [],
   "source": [
    "sole = get_timeline(screen='sole24ore', count=150, iterations=3)"
   ]
  },
  {
   "cell_type": "code",
   "execution_count": 8,
   "metadata": {},
   "outputs": [],
   "source": [
    "data = {}\n",
    "for dataset in [corriere, repubblica, sole]:\n",
    "    for k, v in dataset.items():\n",
    "        data[k] = v"
   ]
  },
  {
   "cell_type": "code",
   "execution_count": 9,
   "metadata": {},
   "outputs": [
    {
     "data": {
      "text/plain": [
       "1344"
      ]
     },
     "execution_count": 9,
     "metadata": {},
     "output_type": "execute_result"
    }
   ],
   "source": [
    "len(data)"
   ]
  },
  {
   "cell_type": "code",
   "execution_count": 10,
   "metadata": {},
   "outputs": [],
   "source": [
    "with open('data/twitter-news.json', 'w') as out:\n",
    "    json.dump(data, out)"
   ]
  },
  {
   "cell_type": "code",
   "execution_count": null,
   "metadata": {},
   "outputs": [],
   "source": []
  }
 ],
 "metadata": {
  "kernelspec": {
   "display_name": "Python 3",
   "language": "python",
   "name": "python3"
  },
  "language_info": {
   "codemirror_mode": {
    "name": "ipython",
    "version": 3
   },
   "file_extension": ".py",
   "mimetype": "text/x-python",
   "name": "python",
   "nbconvert_exporter": "python",
   "pygments_lexer": "ipython3",
   "version": "3.7.4"
  },
  "toc": {
   "base_numbering": 1,
   "nav_menu": {},
   "number_sections": true,
   "sideBar": true,
   "skip_h1_title": true,
   "title_cell": "Table of Contents",
   "title_sidebar": "Contents",
   "toc_cell": false,
   "toc_position": {},
   "toc_section_display": true,
   "toc_window_display": false
  }
 },
 "nbformat": 4,
 "nbformat_minor": 2
}
