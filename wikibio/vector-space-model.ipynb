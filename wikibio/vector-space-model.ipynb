{
 "cells": [
  {
   "cell_type": "markdown",
   "id": "b390fbc9",
   "metadata": {},
   "source": [
    "# Model documents in the Vector Space"
   ]
  },
  {
   "cell_type": "code",
   "execution_count": 1,
   "id": "7a7689a8",
   "metadata": {},
   "outputs": [],
   "source": [
    "import pandas as pd\n",
    "import numpy as np\n",
    "from tqdm.notebook import tqdm"
   ]
  },
  {
   "cell_type": "code",
   "execution_count": 2,
   "id": "5a0bf230",
   "metadata": {},
   "outputs": [],
   "source": [
    "import pymongo"
   ]
  },
  {
   "cell_type": "code",
   "execution_count": 3,
   "id": "4f3a59c4",
   "metadata": {},
   "outputs": [],
   "source": [
    "from collections import Counter, defaultdict"
   ]
  },
  {
   "cell_type": "markdown",
   "id": "5e1cf8f0",
   "metadata": {},
   "source": [
    "## Get data"
   ]
  },
  {
   "cell_type": "code",
   "execution_count": 4,
   "id": "b8c49495",
   "metadata": {},
   "outputs": [],
   "source": [
    "db = pymongo.MongoClient()['wikibio']['rawdata']\n",
    "data = list(db.find({\n",
    "    'subdata': 'train', 'box.occupation': {'$exists': True}\n",
    "}))"
   ]
  },
  {
   "cell_type": "code",
   "execution_count": 5,
   "id": "3f930974",
   "metadata": {},
   "outputs": [
    {
     "data": {
      "text/plain": [
       "151709"
      ]
     },
     "execution_count": 5,
     "metadata": {},
     "output_type": "execute_result"
    }
   ],
   "source": [
    "len(data)"
   ]
  },
  {
   "cell_type": "code",
   "execution_count": 6,
   "id": "fd8922d7",
   "metadata": {},
   "outputs": [
    {
     "data": {
      "text/plain": [
       "'louis-guillaume perreaux -lrb- 19 february 1816 -- 5 april 1889 -rrb- was a french inventor and engineer who submitted one of the first patents for a working motorcycle in 1869 .'"
      ]
     },
     "execution_count": 6,
     "metadata": {},
     "output_type": "execute_result"
    }
   ],
   "source": [
    "\" \".join(data[100]['sentences'])"
   ]
  },
  {
   "cell_type": "code",
   "execution_count": 7,
   "id": "67d0029a",
   "metadata": {},
   "outputs": [],
   "source": [
    "data = data[:10000]"
   ]
  },
  {
   "cell_type": "markdown",
   "id": "f921abae",
   "metadata": {},
   "source": [
    "### Indexing occupations and selection of documents"
   ]
  },
  {
   "cell_type": "code",
   "execution_count": 8,
   "id": "0e34b844",
   "metadata": {},
   "outputs": [],
   "source": [
    "occupations = defaultdict(set)\n",
    "for i, record in enumerate(data):\n",
    "    occupation = record['box']['occupation']\n",
    "    o = \" \".join(occupation)\n",
    "    for p in o.split(' , '):\n",
    "        occupations[p].add(record['id'])"
   ]
  },
  {
   "cell_type": "code",
   "execution_count": 9,
   "id": "dd8920a0",
   "metadata": {},
   "outputs": [],
   "source": [
    "occupation_stats = pd.Series(dict([(k, len(v)) for k, v in occupations.items()]))\n",
    "selected_occupations = occupation_stats.sort_values(ascending=False).head(50)"
   ]
  },
  {
   "cell_type": "code",
   "execution_count": 10,
   "id": "b336ddfa",
   "metadata": {},
   "outputs": [],
   "source": [
    "selected_documents = set()\n",
    "for k in selected_occupations.keys():\n",
    "    selected_documents = selected_documents.union(occupations[k])"
   ]
  },
  {
   "cell_type": "code",
   "execution_count": 11,
   "id": "0fa43def",
   "metadata": {},
   "outputs": [],
   "source": [
    "docs = [\" \".join(x['sentences']) for x in data if x['id'] in selected_documents]\n",
    "docids = [x['id'] for x in data if x['id'] in selected_documents]"
   ]
  },
  {
   "cell_type": "code",
   "execution_count": 12,
   "id": "ceb2b212",
   "metadata": {},
   "outputs": [
    {
     "data": {
      "text/plain": [
       "'linda hayden -lrb- born 19 january 1953 -rrb- is an english film and television actress and the sister of actress jane hayden . she is best known for her roles in 1970s british horror films and sex comedies .'"
      ]
     },
     "execution_count": 12,
     "metadata": {},
     "output_type": "execute_result"
    }
   ],
   "source": [
    "docs[0]"
   ]
  },
  {
   "cell_type": "markdown",
   "id": "e808ada5",
   "metadata": {},
   "source": [
    "## Term Frequency"
   ]
  },
  {
   "cell_type": "code",
   "execution_count": 13,
   "id": "d825f770",
   "metadata": {},
   "outputs": [],
   "source": [
    "from sklearn.feature_extraction.text import CountVectorizer"
   ]
  },
  {
   "cell_type": "code",
   "execution_count": 14,
   "id": "23948fb2",
   "metadata": {},
   "outputs": [],
   "source": [
    "tf_vectorizer = CountVectorizer(analyzer='word', ngram_range=(1, 1), min_df=20)\n",
    "X = tf_vectorizer.fit_transform(docs)"
   ]
  },
  {
   "cell_type": "code",
   "execution_count": 15,
   "id": "5084d6c5",
   "metadata": {},
   "outputs": [],
   "source": [
    "words = tf_vectorizer.get_feature_names_out()"
   ]
  },
  {
   "cell_type": "code",
   "execution_count": 16,
   "id": "c4a89fd8",
   "metadata": {},
   "outputs": [],
   "source": [
    "TF_count = pd.DataFrame(X.toarray(), columns=words)"
   ]
  },
  {
   "cell_type": "code",
   "execution_count": 17,
   "id": "c6d8be59",
   "metadata": {},
   "outputs": [
    {
     "data": {
      "text/html": [
       "<div>\n",
       "<style scoped>\n",
       "    .dataframe tbody tr th:only-of-type {\n",
       "        vertical-align: middle;\n",
       "    }\n",
       "\n",
       "    .dataframe tbody tr th {\n",
       "        vertical-align: top;\n",
       "    }\n",
       "\n",
       "    .dataframe thead th {\n",
       "        text-align: right;\n",
       "    }\n",
       "</style>\n",
       "<table border=\"1\" class=\"dataframe\">\n",
       "  <thead>\n",
       "    <tr style=\"text-align: right;\">\n",
       "      <th></th>\n",
       "      <th>000</th>\n",
       "      <th>10</th>\n",
       "      <th>100</th>\n",
       "      <th>11</th>\n",
       "      <th>12</th>\n",
       "      <th>13</th>\n",
       "      <th>14</th>\n",
       "      <th>15</th>\n",
       "      <th>16</th>\n",
       "      <th>17</th>\n",
       "      <th>...</th>\n",
       "      <th>yet</th>\n",
       "      <th>york</th>\n",
       "      <th>you</th>\n",
       "      <th>young</th>\n",
       "      <th>younger</th>\n",
       "      <th>youngest</th>\n",
       "      <th>your</th>\n",
       "      <th>youth</th>\n",
       "      <th>youtube</th>\n",
       "      <th>zealand</th>\n",
       "    </tr>\n",
       "  </thead>\n",
       "  <tbody>\n",
       "    <tr>\n",
       "      <th>0</th>\n",
       "      <td>0</td>\n",
       "      <td>0</td>\n",
       "      <td>0</td>\n",
       "      <td>0</td>\n",
       "      <td>0</td>\n",
       "      <td>0</td>\n",
       "      <td>0</td>\n",
       "      <td>0</td>\n",
       "      <td>0</td>\n",
       "      <td>0</td>\n",
       "      <td>...</td>\n",
       "      <td>0</td>\n",
       "      <td>0</td>\n",
       "      <td>0</td>\n",
       "      <td>0</td>\n",
       "      <td>0</td>\n",
       "      <td>0</td>\n",
       "      <td>0</td>\n",
       "      <td>0</td>\n",
       "      <td>0</td>\n",
       "      <td>0</td>\n",
       "    </tr>\n",
       "    <tr>\n",
       "      <th>1</th>\n",
       "      <td>0</td>\n",
       "      <td>0</td>\n",
       "      <td>0</td>\n",
       "      <td>0</td>\n",
       "      <td>0</td>\n",
       "      <td>0</td>\n",
       "      <td>0</td>\n",
       "      <td>0</td>\n",
       "      <td>0</td>\n",
       "      <td>0</td>\n",
       "      <td>...</td>\n",
       "      <td>0</td>\n",
       "      <td>0</td>\n",
       "      <td>0</td>\n",
       "      <td>0</td>\n",
       "      <td>0</td>\n",
       "      <td>0</td>\n",
       "      <td>0</td>\n",
       "      <td>0</td>\n",
       "      <td>0</td>\n",
       "      <td>0</td>\n",
       "    </tr>\n",
       "    <tr>\n",
       "      <th>2</th>\n",
       "      <td>0</td>\n",
       "      <td>0</td>\n",
       "      <td>0</td>\n",
       "      <td>0</td>\n",
       "      <td>0</td>\n",
       "      <td>0</td>\n",
       "      <td>0</td>\n",
       "      <td>0</td>\n",
       "      <td>0</td>\n",
       "      <td>0</td>\n",
       "      <td>...</td>\n",
       "      <td>0</td>\n",
       "      <td>0</td>\n",
       "      <td>0</td>\n",
       "      <td>0</td>\n",
       "      <td>0</td>\n",
       "      <td>0</td>\n",
       "      <td>0</td>\n",
       "      <td>0</td>\n",
       "      <td>0</td>\n",
       "      <td>0</td>\n",
       "    </tr>\n",
       "    <tr>\n",
       "      <th>3</th>\n",
       "      <td>0</td>\n",
       "      <td>1</td>\n",
       "      <td>0</td>\n",
       "      <td>0</td>\n",
       "      <td>1</td>\n",
       "      <td>1</td>\n",
       "      <td>0</td>\n",
       "      <td>0</td>\n",
       "      <td>0</td>\n",
       "      <td>0</td>\n",
       "      <td>...</td>\n",
       "      <td>0</td>\n",
       "      <td>0</td>\n",
       "      <td>0</td>\n",
       "      <td>0</td>\n",
       "      <td>0</td>\n",
       "      <td>0</td>\n",
       "      <td>0</td>\n",
       "      <td>0</td>\n",
       "      <td>0</td>\n",
       "      <td>0</td>\n",
       "    </tr>\n",
       "    <tr>\n",
       "      <th>4</th>\n",
       "      <td>0</td>\n",
       "      <td>0</td>\n",
       "      <td>0</td>\n",
       "      <td>0</td>\n",
       "      <td>0</td>\n",
       "      <td>0</td>\n",
       "      <td>0</td>\n",
       "      <td>0</td>\n",
       "      <td>0</td>\n",
       "      <td>0</td>\n",
       "      <td>...</td>\n",
       "      <td>0</td>\n",
       "      <td>0</td>\n",
       "      <td>0</td>\n",
       "      <td>0</td>\n",
       "      <td>0</td>\n",
       "      <td>0</td>\n",
       "      <td>0</td>\n",
       "      <td>0</td>\n",
       "      <td>0</td>\n",
       "      <td>0</td>\n",
       "    </tr>\n",
       "  </tbody>\n",
       "</table>\n",
       "<p>5 rows × 2208 columns</p>\n",
       "</div>"
      ],
      "text/plain": [
       "   000  10  100  11  12  13  14  15  16  17  ...  yet  york  you  young  \\\n",
       "0    0   0    0   0   0   0   0   0   0   0  ...    0     0    0      0   \n",
       "1    0   0    0   0   0   0   0   0   0   0  ...    0     0    0      0   \n",
       "2    0   0    0   0   0   0   0   0   0   0  ...    0     0    0      0   \n",
       "3    0   1    0   0   1   1   0   0   0   0  ...    0     0    0      0   \n",
       "4    0   0    0   0   0   0   0   0   0   0  ...    0     0    0      0   \n",
       "\n",
       "   younger  youngest  your  youth  youtube  zealand  \n",
       "0        0         0     0      0        0        0  \n",
       "1        0         0     0      0        0        0  \n",
       "2        0         0     0      0        0        0  \n",
       "3        0         0     0      0        0        0  \n",
       "4        0         0     0      0        0        0  \n",
       "\n",
       "[5 rows x 2208 columns]"
      ]
     },
     "execution_count": 17,
     "metadata": {},
     "output_type": "execute_result"
    }
   ],
   "source": [
    "TF_count.head()"
   ]
  },
  {
   "cell_type": "code",
   "execution_count": 18,
   "id": "fa5423e2",
   "metadata": {},
   "outputs": [
    {
     "data": {
      "text/plain": [
       "(6316, 2208)"
      ]
     },
     "execution_count": 18,
     "metadata": {},
     "output_type": "execute_result"
    }
   ],
   "source": [
    "TF_count.shape"
   ]
  },
  {
   "cell_type": "code",
   "execution_count": 25,
   "id": "9306b648",
   "metadata": {},
   "outputs": [],
   "source": [
    "vocabulary = TF_count.columns"
   ]
  },
  {
   "cell_type": "code",
   "execution_count": 26,
   "id": "57078f42",
   "metadata": {},
   "outputs": [
    {
     "data": {
      "text/plain": [
       "Index(['000', '10', '100', '11', '12', '13', '14', '15', '16', '17',\n",
       "       ...\n",
       "       'yet', 'york', 'you', 'young', 'younger', 'youngest', 'your', 'youth',\n",
       "       'youtube', 'zealand'],\n",
       "      dtype='object', length=2208)"
      ]
     },
     "execution_count": 26,
     "metadata": {},
     "output_type": "execute_result"
    }
   ],
   "source": [
    "vocabulary"
   ]
  },
  {
   "cell_type": "code",
   "execution_count": 27,
   "id": "eb6c6f8c",
   "metadata": {},
   "outputs": [
    {
     "data": {
      "text/plain": [
       "5916    5\n",
       "2837    4\n",
       "2722    4\n",
       "5727    4\n",
       "3299    3\n",
       "       ..\n",
       "2141    0\n",
       "2140    0\n",
       "2139    0\n",
       "2138    0\n",
       "6315    0\n",
       "Name: young, Length: 6316, dtype: int64"
      ]
     },
     "execution_count": 27,
     "metadata": {},
     "output_type": "execute_result"
    }
   ],
   "source": [
    "TF_count['young'].sort_values(ascending=False)"
   ]
  },
  {
   "cell_type": "code",
   "execution_count": 28,
   "id": "3772218d",
   "metadata": {},
   "outputs": [
    {
     "data": {
      "text/plain": [
       "\"faron young -lrb- february 25 , 1932 -- december 10 , 1996 -rrb- was an american country music singer and songwriter from the early 1950s into the mid-1980s and one of its most successful and colorful stars . hits including `` if you ai n't lovin ' -lrb- you ai n't livin ' -rrb- '' and `` live fast , love hard , die young '' marked him as a honky-tonk singer in sound and personal style ; and his chart-topping singles `` hello walls '' and `` it 's four in the morning '' showed his versatility as a vocalist . known as the hillbilly heartthrob , and following a movie role , the young sheriff , young 's singles reliably charted for more than 30 years . he committed suicide in 1996 . young is a member of the country music hall of fame .\""
      ]
     },
     "execution_count": 28,
     "metadata": {},
     "output_type": "execute_result"
    }
   ],
   "source": [
    "docs[5916]"
   ]
  },
  {
   "cell_type": "code",
   "execution_count": 29,
   "id": "3c3b9b2b",
   "metadata": {},
   "outputs": [
    {
     "data": {
      "text/plain": [
       "\"paris smith is an american actress and singer commonly known for playing maddie van pelt in the nickelodeon show `` every witch way '' . other appearances include `` r.a.d.i.c.a.l.s '' , `` totally '' , `` the bedtime story '' , and others . she has also appeared on many episodes of the fine brothers ' youtube show `` kids react '' -lrb- e.g. , `` kids react to going to the store ! '' -rrb- . smith won the best performance in a short film - young actress 11-12 award at young artist award 2013 , and was nominated in 2014 for the best performance in a tv series - guest starring young actress 11-13 award for `` modern family '' , and was nominated in 2015 for the best performance in a tv series - young actress 11-15 award for `` every witch way '' .\""
      ]
     },
     "execution_count": 29,
     "metadata": {},
     "output_type": "execute_result"
    }
   ],
   "source": [
    "docs[2837]"
   ]
  },
  {
   "cell_type": "code",
   "execution_count": 30,
   "id": "40d38efb",
   "metadata": {},
   "outputs": [],
   "source": [
    "d1 = TF_count.loc[5916]\n",
    "d2 = TF_count.loc[2837]"
   ]
  },
  {
   "cell_type": "code",
   "execution_count": 38,
   "id": "f17b7d80",
   "metadata": {},
   "outputs": [
    {
     "data": {
      "text/plain": [
       "16.0"
      ]
     },
     "execution_count": 38,
     "metadata": {},
     "output_type": "execute_result"
    }
   ],
   "source": [
    "np.sqrt(np.power(d1 - d2, 2).sum())"
   ]
  },
  {
   "cell_type": "markdown",
   "id": "1298edd7",
   "metadata": {},
   "source": [
    "### Search engine"
   ]
  },
  {
   "cell_type": "code",
   "execution_count": 39,
   "id": "40472856",
   "metadata": {},
   "outputs": [
    {
     "data": {
      "text/plain": [
       "16.0"
      ]
     },
     "execution_count": 39,
     "metadata": {},
     "output_type": "execute_result"
    }
   ],
   "source": [
    "np.sqrt(np.power(d1 - d2, 2).sum())"
   ]
  },
  {
   "cell_type": "code",
   "execution_count": 40,
   "id": "7df52e4c",
   "metadata": {},
   "outputs": [],
   "source": [
    "q = np.zeros(len(vocabulary))\n",
    "query = 'american country music singer and country songwriter'\n",
    "for word in query.split():\n",
    "    q[list(vocabulary).index(word)] += 1"
   ]
  },
  {
   "cell_type": "code",
   "execution_count": 41,
   "id": "e5d7a4b5",
   "metadata": {},
   "outputs": [
    {
     "data": {
      "text/plain": [
       "array([0., 0., 0., ..., 0., 0., 0.])"
      ]
     },
     "execution_count": 41,
     "metadata": {},
     "output_type": "execute_result"
    }
   ],
   "source": [
    "q"
   ]
  },
  {
   "cell_type": "code",
   "execution_count": 43,
   "id": "5fabde68",
   "metadata": {},
   "outputs": [],
   "source": [
    "def euclidean(x, y):\n",
    "    return np.sqrt(np.power(x - y, 2).sum())"
   ]
  },
  {
   "cell_type": "code",
   "execution_count": 44,
   "id": "e85c4a01",
   "metadata": {},
   "outputs": [],
   "source": [
    "distances = {}\n",
    "for i, row in TF_count.iterrows():\n",
    "    e = euclidean(q, row)\n",
    "    distances[i] = e"
   ]
  },
  {
   "cell_type": "code",
   "execution_count": 45,
   "id": "9ea8f198",
   "metadata": {},
   "outputs": [],
   "source": [
    "E = pd.Series(distances)"
   ]
  },
  {
   "cell_type": "code",
   "execution_count": 46,
   "id": "f203d535",
   "metadata": {},
   "outputs": [
    {
     "data": {
      "text/plain": [
       "1496     2.236068\n",
       "2479     2.645751\n",
       "5319     3.000000\n",
       "2375     3.162278\n",
       "5487     3.162278\n",
       "          ...    \n",
       "5109    81.221918\n",
       "1951    81.264999\n",
       "917     85.017645\n",
       "4839    90.553851\n",
       "646     96.020831\n",
       "Length: 6316, dtype: float64"
      ]
     },
     "execution_count": 46,
     "metadata": {},
     "output_type": "execute_result"
    }
   ],
   "source": [
    "E.sort_values(ascending=True)"
   ]
  },
  {
   "cell_type": "code",
   "execution_count": 52,
   "id": "4d7c0672",
   "metadata": {},
   "outputs": [
    {
     "data": {
      "text/plain": [
       "14.594519519326424"
      ]
     },
     "execution_count": 52,
     "metadata": {},
     "output_type": "execute_result"
    }
   ],
   "source": [
    "E.loc[5916]"
   ]
  },
  {
   "cell_type": "code",
   "execution_count": 51,
   "id": "99991980",
   "metadata": {},
   "outputs": [
    {
     "name": "stdout",
     "output_type": "stream",
     "text": [
      "american country music singer and country songwriter \n",
      "\n",
      "candice parise is a french actress and singer .\n"
     ]
    }
   ],
   "source": [
    "print(query, '\\n')\n",
    "print(docs[5487])"
   ]
  },
  {
   "cell_type": "markdown",
   "id": "9db8edcf",
   "metadata": {},
   "source": [
    "### Most relevant words"
   ]
  },
  {
   "cell_type": "code",
   "execution_count": 53,
   "id": "b8e37590",
   "metadata": {},
   "outputs": [
    {
     "data": {
      "text/plain": [
       "the    26213\n",
       "and    18704\n",
       "in     17526\n",
       "of     14770\n",
       "lrb     9372\n",
       "rrb     9369\n",
       "he      8150\n",
       "is      7896\n",
       "was     7368\n",
       "for     6017\n",
       "dtype: int64"
      ]
     },
     "execution_count": 53,
     "metadata": {},
     "output_type": "execute_result"
    }
   ],
   "source": [
    "TF_count.sum(axis=0).sort_values(ascending=False).head(10)"
   ]
  },
  {
   "cell_type": "markdown",
   "id": "271ed7e0",
   "metadata": {},
   "source": [
    "### Biggest documents"
   ]
  },
  {
   "cell_type": "code",
   "execution_count": 54,
   "id": "8878d76a",
   "metadata": {},
   "outputs": [
    {
     "data": {
      "text/plain": [
       "4839    719\n",
       "646     609\n",
       "917     599\n",
       "4246    567\n",
       "5109    560\n",
       "       ... \n",
       "187       3\n",
       "1972      3\n",
       "2623      3\n",
       "4969      3\n",
       "796       2\n",
       "Length: 6316, dtype: int64"
      ]
     },
     "execution_count": 54,
     "metadata": {},
     "output_type": "execute_result"
    }
   ],
   "source": [
    "doc_size = TF_count.sum(axis=1).sort_values(ascending=False)\n",
    "doc_size"
   ]
  },
  {
   "cell_type": "code",
   "execution_count": 55,
   "id": "3c95c253",
   "metadata": {},
   "outputs": [
    {
     "data": {
      "text/plain": [
       "\"benjamin `` ben '' greaves-neal is an english child actor . his career dates back to 2010 when he made a guest appearance in the award winning bbc sitcom my family . since then ben has appeared in 2011 's horror the awakening and donald rice 's period drama cheerful weather for the wedding . he is also known for his recurring role as cousin max in grandpa in my pocket . in 2013 , ben greaves-neal made a guest appearance in the bbc hospital soap casualty as a child suffering from a vitamin overdose . the episode was titled `` hidden '' . ben is best known for portraying oliver in the bbc black comedy being human -lrb- uk series 5 -rrb- . the role has earned him praise from critics alike in the uk and usa .\""
      ]
     },
     "execution_count": 55,
     "metadata": {},
     "output_type": "execute_result"
    }
   ],
   "source": [
    "docs[719]"
   ]
  },
  {
   "cell_type": "code",
   "execution_count": 56,
   "id": "87f9a137",
   "metadata": {},
   "outputs": [
    {
     "name": "stdout",
     "output_type": "stream",
     "text": [
      "98 104 236\n"
     ]
    }
   ],
   "source": [
    "print(doc_size.loc[5916], doc_size.loc[2837], doc_size.loc[2722])"
   ]
  },
  {
   "cell_type": "markdown",
   "id": "b0a64c28",
   "metadata": {},
   "source": [
    "### Most relevant words in the longest doc"
   ]
  },
  {
   "cell_type": "code",
   "execution_count": 57,
   "id": "07e60168",
   "metadata": {},
   "outputs": [
    {
     "data": {
      "text/plain": [
       "in       8\n",
       "the      8\n",
       "ben      4\n",
       "for      3\n",
       "is       3\n",
       "bbc      3\n",
       "and      2\n",
       "child    2\n",
       "role     2\n",
       "known    2\n",
       "Name: 719, dtype: int64"
      ]
     },
     "execution_count": 57,
     "metadata": {},
     "output_type": "execute_result"
    }
   ],
   "source": [
    "TF_count.loc[719].sort_values(ascending=False).head(10)"
   ]
  },
  {
   "cell_type": "code",
   "execution_count": 58,
   "id": "fc31b9e9",
   "metadata": {},
   "outputs": [
    {
     "data": {
      "text/plain": [
       "the       19\n",
       "of        19\n",
       "in        11\n",
       "he        11\n",
       "and        9\n",
       "member     6\n",
       "party      4\n",
       "became     4\n",
       "was        4\n",
       "to         3\n",
       "Name: 19, dtype: int64"
      ]
     },
     "execution_count": 58,
     "metadata": {},
     "output_type": "execute_result"
    }
   ],
   "source": [
    "TF_count.loc[19].sort_values(ascending=False).head(10)"
   ]
  },
  {
   "cell_type": "markdown",
   "id": "bbce6b73",
   "metadata": {},
   "source": [
    "### Normalize TF"
   ]
  },
  {
   "cell_type": "code",
   "execution_count": 59,
   "id": "34177b69",
   "metadata": {},
   "outputs": [],
   "source": [
    "TF_norm = (TF_count.T / TF_count.max(axis=1)).T"
   ]
  },
  {
   "cell_type": "code",
   "execution_count": 60,
   "id": "48dc139a",
   "metadata": {},
   "outputs": [
    {
     "data": {
      "text/plain": [
       "the        3819.030734\n",
       "and        3561.419775\n",
       "in         2790.438618\n",
       "lrb        2558.040118\n",
       "rrb        2556.848659\n",
       "              ...     \n",
       "broke         1.763347\n",
       "join          1.718982\n",
       "dvd           1.676859\n",
       "article       1.620634\n",
       "invited       1.554078\n",
       "Length: 2208, dtype: float64"
      ]
     },
     "execution_count": 60,
     "metadata": {},
     "output_type": "execute_result"
    }
   ],
   "source": [
    "TF_norm.sum(axis=0).sort_values(ascending=False)"
   ]
  },
  {
   "cell_type": "code",
   "execution_count": 61,
   "id": "f4f3a0d3",
   "metadata": {},
   "outputs": [
    {
     "data": {
      "text/plain": [
       "in       1.000\n",
       "the      1.000\n",
       "ben      0.500\n",
       "for      0.375\n",
       "is       0.375\n",
       "bbc      0.375\n",
       "and      0.250\n",
       "child    0.250\n",
       "role     0.250\n",
       "known    0.250\n",
       "Name: 719, dtype: float64"
      ]
     },
     "execution_count": 61,
     "metadata": {},
     "output_type": "execute_result"
    }
   ],
   "source": [
    "TF_norm.loc[719].sort_values(ascending=False).head(10)"
   ]
  },
  {
   "cell_type": "code",
   "execution_count": 62,
   "id": "e41cd082",
   "metadata": {},
   "outputs": [
    {
     "data": {
      "text/plain": [
       "the       1.000000\n",
       "of        1.000000\n",
       "in        0.578947\n",
       "he        0.578947\n",
       "and       0.473684\n",
       "member    0.315789\n",
       "party     0.210526\n",
       "became    0.210526\n",
       "was       0.210526\n",
       "to        0.157895\n",
       "Name: 19, dtype: float64"
      ]
     },
     "execution_count": 62,
     "metadata": {},
     "output_type": "execute_result"
    }
   ],
   "source": [
    "TF_norm.loc[19].sort_values(ascending=False).head(10)"
   ]
  },
  {
   "cell_type": "markdown",
   "id": "d2ac18c6",
   "metadata": {},
   "source": [
    "$$\n",
    "IDF = \\log(\\frac{N}{df})\n",
    "$$"
   ]
  },
  {
   "cell_type": "markdown",
   "id": "7d5e2ab4",
   "metadata": {},
   "source": [
    "## Idf"
   ]
  },
  {
   "cell_type": "code",
   "execution_count": 63,
   "id": "f2642559",
   "metadata": {},
   "outputs": [],
   "source": [
    "IDF = np.log(len(docs) / TF_count[TF_count > 0].count(axis=0))"
   ]
  },
  {
   "cell_type": "code",
   "execution_count": 64,
   "id": "7165a23e",
   "metadata": {},
   "outputs": [
    {
     "data": {
      "text/plain": [
       "car          5.755109\n",
       "violence     5.755109\n",
       "already      5.755109\n",
       "occasions    5.755109\n",
       "ralph        5.755109\n",
       "creation     5.755109\n",
       "cousin       5.755109\n",
       "versions     5.755109\n",
       "nigerian     5.755109\n",
       "something    5.755109\n",
       "dtype: float64"
      ]
     },
     "execution_count": 64,
     "metadata": {},
     "output_type": "execute_result"
    }
   ],
   "source": [
    "IDF.sort_values(ascending=False).head(10)"
   ]
  },
  {
   "cell_type": "markdown",
   "id": "139176df",
   "metadata": {},
   "source": [
    "## TfIdf"
   ]
  },
  {
   "cell_type": "code",
   "execution_count": 65,
   "id": "201bc75f",
   "metadata": {},
   "outputs": [],
   "source": [
    "TFIDF = (TF_count * IDF)"
   ]
  },
  {
   "cell_type": "code",
   "execution_count": 66,
   "id": "db079d54",
   "metadata": {},
   "outputs": [
    {
     "data": {
      "text/plain": [
       "ben           20.349119\n",
       "bbc           12.097028\n",
       "appearance     8.640049\n",
       "uk             8.156025\n",
       "guest          8.118987\n",
       "child          7.926699\n",
       "my             7.440807\n",
       "cousin         5.755109\n",
       "made           5.729475\n",
       "praise         5.572788\n",
       "Name: 719, dtype: float64"
      ]
     },
     "execution_count": 66,
     "metadata": {},
     "output_type": "execute_result"
    }
   ],
   "source": [
    "TFIDF.loc[719].sort_values(ascending=False).head(10)"
   ]
  },
  {
   "cell_type": "code",
   "execution_count": 68,
   "id": "bc65b14e",
   "metadata": {},
   "outputs": [
    {
     "data": {
      "text/plain": [
       "and          8\n",
       "the          6\n",
       "young        5\n",
       "as           3\n",
       "of           3\n",
       "            ..\n",
       "ed           0\n",
       "economics    0\n",
       "economic     0\n",
       "eastern      0\n",
       "zealand      0\n",
       "Name: 5916, Length: 2208, dtype: int64"
      ]
     },
     "execution_count": 68,
     "metadata": {},
     "output_type": "execute_result"
    }
   ],
   "source": [
    "TF_count.loc[5916].sort_values(ascending=False)"
   ]
  },
  {
   "cell_type": "code",
   "execution_count": 69,
   "id": "343e1cf5",
   "metadata": {},
   "outputs": [
    {
     "data": {
      "text/plain": [
       "young        16.994916\n",
       "singles       7.782058\n",
       "you           7.562056\n",
       "1996          7.253755\n",
       "country       7.039466\n",
       "               ...    \n",
       "ed            0.000000\n",
       "economics     0.000000\n",
       "economic      0.000000\n",
       "eastern       0.000000\n",
       "zealand       0.000000\n",
       "Name: 5916, Length: 2208, dtype: float64"
      ]
     },
     "execution_count": 69,
     "metadata": {},
     "output_type": "execute_result"
    }
   ],
   "source": [
    "TFIDF.loc[5916].sort_values(ascending=False)"
   ]
  },
  {
   "cell_type": "code",
   "execution_count": 70,
   "id": "f6247c74",
   "metadata": {},
   "outputs": [],
   "source": [
    "distances_tfidf = {}\n",
    "for i, row in TFIDF.iterrows():\n",
    "    e = euclidean(q, row)\n",
    "    distances_tfidf[i] = e"
   ]
  },
  {
   "cell_type": "code",
   "execution_count": 71,
   "id": "9b9a11d0",
   "metadata": {},
   "outputs": [],
   "source": [
    "Etfidf = pd.Series(distances_tfidf)"
   ]
  },
  {
   "cell_type": "code",
   "execution_count": 72,
   "id": "f5c9a8b4",
   "metadata": {},
   "outputs": [
    {
     "data": {
      "text/plain": [
       "2154      3.437160\n",
       "2767      3.437160\n",
       "1396      3.443755\n",
       "3804      3.822365\n",
       "2623      4.000653\n",
       "           ...    \n",
       "550     124.195935\n",
       "1951    124.717325\n",
       "5109    131.324340\n",
       "646     137.637174\n",
       "4839    142.854295\n",
       "Length: 6316, dtype: float64"
      ]
     },
     "execution_count": 72,
     "metadata": {},
     "output_type": "execute_result"
    }
   ],
   "source": [
    "Etfidf.sort_values(ascending=True)"
   ]
  },
  {
   "cell_type": "code",
   "execution_count": 77,
   "id": "4853c88b",
   "metadata": {},
   "outputs": [
    {
     "name": "stdout",
     "output_type": "stream",
     "text": [
      "american country music singer and country songwriter \n",
      "\n",
      "christine evangelista in an american actress .\n"
     ]
    }
   ],
   "source": [
    "print(query, '\\n')\n",
    "print(docs[1396])"
   ]
  },
  {
   "cell_type": "code",
   "execution_count": 78,
   "id": "b85044fb",
   "metadata": {},
   "outputs": [
    {
     "data": {
      "text/plain": [
       "33.93826816469266"
      ]
     },
     "execution_count": 78,
     "metadata": {},
     "output_type": "execute_result"
    }
   ],
   "source": [
    "Etfidf.loc[5916]"
   ]
  },
  {
   "cell_type": "code",
   "execution_count": null,
   "id": "866bc54c",
   "metadata": {},
   "outputs": [],
   "source": []
  }
 ],
 "metadata": {
  "kernelspec": {
   "display_name": "Python 3 (ipykernel)",
   "language": "python",
   "name": "python3"
  },
  "language_info": {
   "codemirror_mode": {
    "name": "ipython",
    "version": 3
   },
   "file_extension": ".py",
   "mimetype": "text/x-python",
   "name": "python",
   "nbconvert_exporter": "python",
   "pygments_lexer": "ipython3",
   "version": "3.8.8"
  },
  "toc": {
   "base_numbering": 1,
   "nav_menu": {},
   "number_sections": true,
   "sideBar": true,
   "skip_h1_title": false,
   "title_cell": "Table of Contents",
   "title_sidebar": "Contents",
   "toc_cell": false,
   "toc_position": {},
   "toc_section_display": true,
   "toc_window_display": false
  }
 },
 "nbformat": 4,
 "nbformat_minor": 5
}
