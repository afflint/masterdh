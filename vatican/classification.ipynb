{
 "cells": [
  {
   "cell_type": "markdown",
   "id": "90068ac2",
   "metadata": {},
   "source": [
    "# Text classification"
   ]
  },
  {
   "cell_type": "code",
   "execution_count": 1,
   "id": "c230123d",
   "metadata": {},
   "outputs": [],
   "source": [
    "import pandas as pd\n",
    "import numpy as np\n",
    "from tqdm.notebook import tqdm"
   ]
  },
  {
   "cell_type": "code",
   "execution_count": 2,
   "id": "4ea33d44",
   "metadata": {},
   "outputs": [],
   "source": [
    "from vatican.vatican.database import VaticanMongoDb"
   ]
  },
  {
   "cell_type": "code",
   "execution_count": 3,
   "id": "f7209ab2",
   "metadata": {},
   "outputs": [],
   "source": [
    "db = VaticanMongoDb(db_name='vatican', collection='tokens')"
   ]
  },
  {
   "cell_type": "markdown",
   "id": "04c2d3c0",
   "metadata": {},
   "source": [
    "## Naive Bayes\n",
    "\n",
    "$$\n",
    "P(A \\mid B)\n",
    "$$\n",
    "\n",
    "**Objective**\n",
    "$$\n",
    "P(\\textrm{pope} \\mid w_0, w_1, \\dots, w_n)\n",
    "$$\n",
    "\n",
    "**Start with a single feature**\n",
    "$$\n",
    "P(\\textrm{pope} \\mid w)\n",
    "$$\n",
    "\n",
    "**Bayes rule**\n",
    "$$\n",
    "P(A \\mid B) = \\frac{P(B \\mid A)P(A)}{P(B)}\n",
    "$$\n",
    "\n",
    "**Application**\n",
    "$$\n",
    "P(\\textrm{pope} \\mid w) = \\frac{P(w \\mid \\textrm{pope})P(\\textrm{pope})}{P(w)}\n",
    "$$\n",
    "\n",
    "Now we need to estimate:\n",
    "- $P(w)$\n",
    "- $P(\\textrm{pope})$\n",
    "- $P(w \\mid \\textrm{pope})$"
   ]
  },
  {
   "cell_type": "markdown",
   "id": "daf7eccd",
   "metadata": {},
   "source": [
    "## Utility functions\n",
    "Exercize: use these functions to estimate the quantities above"
   ]
  },
  {
   "cell_type": "code",
   "execution_count": 4,
   "id": "545955d0",
   "metadata": {},
   "outputs": [
    {
     "name": "stdout",
     "output_type": "stream",
     "text": [
      "['Benedict XV', 'Benedict XVI', 'Francis I', 'John Paul II', 'John XXIII', 'Leo XIII', 'Paul VI', 'Pius X', 'Pius XI', 'Pius XII']\n"
     ]
    }
   ],
   "source": [
    "popes = db.popes\n",
    "print(popes)"
   ]
  },
  {
   "cell_type": "code",
   "execution_count": 5,
   "id": "13bcf0e7",
   "metadata": {},
   "outputs": [
    {
     "data": {
      "text/plain": [
       ",        0.070920\n",
       "il       0.059319\n",
       "e        0.033512\n",
       "di il    0.033105\n",
       "dtype: float64"
      ]
     },
     "execution_count": 5,
     "metadata": {},
     "output_type": "execute_result"
    }
   ],
   "source": [
    "words_frequencies = db.term_count(normalized=True)\n",
    "words_frequencies.sort_values(ascending=False).head(4)"
   ]
  },
  {
   "cell_type": "code",
   "execution_count": 6,
   "id": "4bb9ce8f",
   "metadata": {},
   "outputs": [
    {
     "data": {
      "text/plain": [
       ",        4611\n",
       "il       3883\n",
       "e        2331\n",
       "di il    2261\n",
       "dtype: int64"
      ]
     },
     "execution_count": 6,
     "metadata": {},
     "output_type": "execute_result"
    }
   ],
   "source": [
    "pope_frequencies = db.pope_term_count('Paul VI')\n",
    "pope_frequencies.sort_values(ascending=False).head(4)"
   ]
  },
  {
   "cell_type": "markdown",
   "id": "3d2cb6a5",
   "metadata": {},
   "source": [
    "### Task 1: estimate $P(w)$"
   ]
  },
  {
   "cell_type": "code",
   "execution_count": 7,
   "id": "afe08002",
   "metadata": {},
   "outputs": [
    {
     "data": {
      "text/plain": [
       "1.1861995175726561e-06"
      ]
     },
     "execution_count": 7,
     "metadata": {},
     "output_type": "execute_result"
    }
   ],
   "source": [
    "word = 'vaticano'\n",
    "words_frequencies[word]"
   ]
  },
  {
   "cell_type": "markdown",
   "id": "401ac9a9",
   "metadata": {},
   "source": [
    "### Task 2: estimate $P(\\textrm{pope})$"
   ]
  },
  {
   "cell_type": "code",
   "execution_count": 8,
   "id": "43fddaa0",
   "metadata": {},
   "outputs": [],
   "source": [
    "pope_stats = {}\n",
    "for pope in popes:\n",
    "    pope_freq = db.pope_term_count(pope)\n",
    "    pope_stats[pope] = pope_freq.sum()\n",
    "pope_stats = pd.Series(pope_stats)"
   ]
  },
  {
   "cell_type": "code",
   "execution_count": 9,
   "id": "5d81732c",
   "metadata": {},
   "outputs": [],
   "source": [
    "pope_stats.sort_values(ascending=False)\n",
    "pope_prior = pope_stats / pope_stats.sum()"
   ]
  },
  {
   "cell_type": "code",
   "execution_count": 10,
   "id": "0dee814b",
   "metadata": {},
   "outputs": [
    {
     "data": {
      "text/plain": [
       "John Paul II    0.261073\n",
       "Leo XIII        0.164247\n",
       "Pius XII        0.157152\n",
       "Pius XI         0.151040\n",
       "Pius X          0.054626\n",
       "John XXIII      0.051991\n",
       "Benedict XVI    0.045383\n",
       "Francis I       0.041334\n",
       "Paul VI         0.039317\n",
       "Benedict XV     0.033839\n",
       "dtype: float64"
      ]
     },
     "execution_count": 10,
     "metadata": {},
     "output_type": "execute_result"
    }
   ],
   "source": [
    "pope_prior.sort_values(ascending=False)"
   ]
  },
  {
   "cell_type": "markdown",
   "id": "e2ffbf65",
   "metadata": {},
   "source": [
    "### Task 3: estimate $P(w \\mid \\textrm{pope})$"
   ]
  },
  {
   "cell_type": "code",
   "execution_count": 11,
   "id": "76222006",
   "metadata": {},
   "outputs": [],
   "source": [
    "pope_box = {}\n",
    "for pope in popes:\n",
    "    pope_freq = db.pope_term_count(pope, normalized=True)\n",
    "    pope_box[pope] = pope_freq"
   ]
  },
  {
   "cell_type": "code",
   "execution_count": 12,
   "id": "50f0178e",
   "metadata": {},
   "outputs": [
    {
     "name": "stdout",
     "output_type": "stream",
     "text": [
      "0.0027036584948493592\n",
      "0.004707122476055468\n"
     ]
    }
   ],
   "source": [
    "word = 'chiesa'\n",
    "print(pope_box['John XXIII'][word])\n",
    "print(pope_box['John Paul II'][word])"
   ]
  },
  {
   "cell_type": "code",
   "execution_count": 13,
   "id": "ae0b09d7",
   "metadata": {},
   "outputs": [],
   "source": [
    "def bayes(word, pope):\n",
    "    try:\n",
    "        b = (pope_box[pope][word] * \n",
    "             pope_prior[pope]) / words_frequencies[word]\n",
    "    except KeyError:\n",
    "        b = 0\n",
    "    return b"
   ]
  },
  {
   "cell_type": "code",
   "execution_count": 14,
   "id": "0a8a98c4",
   "metadata": {},
   "outputs": [
    {
     "data": {
      "text/plain": [
       "Pius XI         0.511111\n",
       "Leo XIII        0.213889\n",
       "Pius XII        0.122222\n",
       "Paul VI         0.075000\n",
       "John Paul II    0.030556\n",
       "Benedict XVI    0.027778\n",
       "John XXIII      0.011111\n",
       "Pius X          0.005556\n",
       "Francis I       0.002778\n",
       "Benedict XV     0.000000\n",
       "dtype: float64"
      ]
     },
     "execution_count": 14,
     "metadata": {},
     "output_type": "execute_result"
    }
   ],
   "source": [
    "word = 'matrimonio'\n",
    "word_prob = {}\n",
    "for pope in popes:\n",
    "    word_prob[pope] = bayes(word, pope)\n",
    "pd.Series(word_prob).sort_values(ascending=False)"
   ]
  },
  {
   "cell_type": "markdown",
   "id": "d20dad6d",
   "metadata": {},
   "source": [
    "## Put things together"
   ]
  },
  {
   "cell_type": "code",
   "execution_count": 15,
   "id": "779d89c4",
   "metadata": {},
   "outputs": [],
   "source": [
    "from vatican.vatican.showcases.classification import PopeBayesianClassifier"
   ]
  },
  {
   "cell_type": "code",
   "execution_count": 19,
   "id": "bdce54fc",
   "metadata": {},
   "outputs": [],
   "source": [
    "pbn = PopeBayesianClassifier('Paul VI', db=db)\n",
    "pbg = PopeBayesianClassifier('John XXIII', db=db)"
   ]
  },
  {
   "cell_type": "code",
   "execution_count": 20,
   "id": "c3925573",
   "metadata": {},
   "outputs": [
    {
     "name": "stdout",
     "output_type": "stream",
     "text": [
      "P(Paul VI) 0.03931658300994569\n",
      "P(matrimonio) 0.00021351591316307812\n",
      "P(matrimonio | Paul VI) 0.00040730125207421935\n"
     ]
    }
   ],
   "source": [
    "word = 'matrimonio'\n",
    "print(\"P({})\".format(pbn.pope), pbn.prior)\n",
    "print(\"P({})\".format(word), pbn.p_word(word))\n",
    "print(\"P({} | {})\".format(word, pbn.pope), pbn.p_word_pope(word))"
   ]
  },
  {
   "cell_type": "code",
   "execution_count": 21,
   "id": "b43f6d88",
   "metadata": {},
   "outputs": [
    {
     "name": "stdout",
     "output_type": "stream",
     "text": [
      "0.07500000000000001\n"
     ]
    }
   ],
   "source": [
    "p_pope_word = pbn.prior * pbn.p_word_pope(word) / pbn.p_word(word)\n",
    "print(p_pope_word)"
   ]
  },
  {
   "cell_type": "code",
   "execution_count": 22,
   "id": "12fc9b61",
   "metadata": {},
   "outputs": [
    {
     "name": "stdout",
     "output_type": "stream",
     "text": [
      "P(John XXIII) 0.051990531755450736\n",
      "P(matrimonio) 0.00021351591316307812\n",
      "P(matrimonio | John XXIII) 4.563136700167695e-05\n"
     ]
    }
   ],
   "source": [
    "word = 'matrimonio'\n",
    "print(\"P({})\".format(pbg.pope), pbg.prior)\n",
    "print(\"P({})\".format(word), pbg.p_word(word))\n",
    "print(\"P({} | {})\".format(word, pbg.pope), pbg.p_word_pope(word))"
   ]
  },
  {
   "cell_type": "code",
   "execution_count": 23,
   "id": "7e2bd67a",
   "metadata": {},
   "outputs": [
    {
     "name": "stdout",
     "output_type": "stream",
     "text": [
      "0.01111111111111111\n"
     ]
    }
   ],
   "source": [
    "p_pope_word_g = pbg.prior * pbg.p_word_pope(word) / pbg.p_word(word)\n",
    "print(p_pope_word_g)"
   ]
  },
  {
   "cell_type": "markdown",
   "id": "881dfd3f",
   "metadata": {},
   "source": [
    "### Compute probabilities for the whole text\n",
    "\n",
    "$$\n",
    "P(\\textrm{pope} \\mid w_0, \\dots, w_n) = \\frac{P(w_0, \\dots, w_n \\mid \\textrm{pope})P(\\textrm{pope})}{P(w_0, \\dots, w_n)}\n",
    "$$\n",
    "\n",
    "Now, how to estimate $P(w_0, \\dots, w_n)$? If we **assume** that word probabilities are independent, we can just take the product of $P(w_i)$\n",
    "\n",
    "$$\n",
    "P(\\textrm{pope} \\mid w_0, \\dots, w_n) = P(\\textrm{pope})\\frac{ \\prod\\limits_{i=0}^{n}P(w_i \\mid \\textrm{pope})}{\\prod\\limits_{i=0}^{n}P(w_i)}\n",
    "$$\n",
    "\n",
    "**Note**: it is important then not to have 0 probabilities."
   ]
  },
  {
   "cell_type": "code",
   "execution_count": 24,
   "id": "78217cf2",
   "metadata": {},
   "outputs": [],
   "source": [
    "texts = db.get_sentences('Paul VI', 'Humanae Vitae')"
   ]
  },
  {
   "cell_type": "code",
   "execution_count": 30,
   "id": "dc95c7aa",
   "metadata": {},
   "outputs": [
    {
     "name": "stdout",
     "output_type": "stream",
     "text": [
      "['perciò', ',', 'mediante', 'il', 'predicazione', 'di il', 'Apostoli', 'e', 'soprattutto', 'di']\n"
     ]
    }
   ],
   "source": [
    "text = [r['token'] for r in texts[11]][:10]\n",
    "print(text)"
   ]
  },
  {
   "cell_type": "code",
   "execution_count": 39,
   "id": "5937d8a1",
   "metadata": {},
   "outputs": [],
   "source": [
    "text = ['questa', \"é\", 'una', 'gatto', 'frase', 'sul', 'chiesa']"
   ]
  },
  {
   "cell_type": "code",
   "execution_count": 40,
   "id": "9e56498c",
   "metadata": {},
   "outputs": [],
   "source": [
    "pp_p1, pp_p2 = 1, 1\n",
    "for word in text:\n",
    "    pp_p1_w = pbn.p_word_pope(word) / pbn.p_word(word)\n",
    "    pp_p1 *= pp_p1_w\n",
    "    pp_p2_w = pbg.p_word_pope(word) / pbg.p_word(word)\n",
    "    pp_p2 *= pp_p2_w"
   ]
  },
  {
   "cell_type": "code",
   "execution_count": 41,
   "id": "b11c39a9",
   "metadata": {},
   "outputs": [
    {
     "data": {
      "text/plain": [
       "(13148.515497673508, 29.97946184550357)"
      ]
     },
     "execution_count": 41,
     "metadata": {},
     "output_type": "execute_result"
    }
   ],
   "source": [
    "pp_p1, pp_p2"
   ]
  },
  {
   "cell_type": "markdown",
   "id": "40ce4240",
   "metadata": {},
   "source": [
    "## Language generation"
   ]
  },
  {
   "cell_type": "code",
   "execution_count": 54,
   "id": "4c4d4499",
   "metadata": {},
   "outputs": [],
   "source": [
    "p_words = pbg.words_frequencies.index.values\n",
    "p_words_probs = pbg.words_frequencies.values"
   ]
  },
  {
   "cell_type": "code",
   "execution_count": 57,
   "id": "77502c13",
   "metadata": {},
   "outputs": [
    {
     "name": "stdout",
     "output_type": "stream",
     "text": [
      "di\n",
      "volere\n",
      "cessare\n",
      ",\n",
      ",\n",
      "Redentore\n",
      "questo\n",
      "dunque\n",
      "salvifico\n",
      "snervare\n"
     ]
    }
   ],
   "source": [
    "for i in range(10):\n",
    "    print(np.random.choice(p_words, p=p_words_probs))"
   ]
  },
  {
   "cell_type": "code",
   "execution_count": null,
   "id": "45e10731",
   "metadata": {},
   "outputs": [],
   "source": []
  }
 ],
 "metadata": {
  "kernelspec": {
   "display_name": "crike",
   "language": "python",
   "name": "crike"
  },
  "language_info": {
   "codemirror_mode": {
    "name": "ipython",
    "version": 3
   },
   "file_extension": ".py",
   "mimetype": "text/x-python",
   "name": "python",
   "nbconvert_exporter": "python",
   "pygments_lexer": "ipython3",
   "version": "3.8.8"
  },
  "toc": {
   "base_numbering": 1,
   "nav_menu": {},
   "number_sections": true,
   "sideBar": true,
   "skip_h1_title": false,
   "title_cell": "Table of Contents",
   "title_sidebar": "Contents",
   "toc_cell": false,
   "toc_position": {},
   "toc_section_display": true,
   "toc_window_display": false
  }
 },
 "nbformat": 4,
 "nbformat_minor": 5
}
