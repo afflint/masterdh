{
 "cells": [
  {
   "cell_type": "code",
   "execution_count": 1,
   "id": "223dfc69",
   "metadata": {},
   "outputs": [],
   "source": [
    "import pandas as pd\n",
    "import numpy as np\n",
    "from tqdm.notebook import tqdm\n",
    "import os\n",
    "from collections import defaultdict"
   ]
  },
  {
   "cell_type": "markdown",
   "id": "5c0dcce1",
   "metadata": {},
   "source": [
    "## Load data"
   ]
  },
  {
   "cell_type": "code",
   "execution_count": 2,
   "id": "a3d428af",
   "metadata": {},
   "outputs": [],
   "source": [
    "folder = '/Users/flint/Data/vatican/data'\n",
    "data_collection = {}\n",
    "for subdir in os.listdir(folder):\n",
    "    pope = subdir\n",
    "    data_collection[pope] = {}\n",
    "    path = os.path.join(folder, pope, 'encyclicals')\n",
    "    for doc in os.listdir(path):\n",
    "        subpath = os.path.join(path, doc, 'it', '{}.txt'.format(doc))\n",
    "        with open(subpath, 'r') as infile:\n",
    "            content = infile.read()\n",
    "        data_collection[pope][doc] = content"
   ]
  },
  {
   "cell_type": "code",
   "execution_count": null,
   "id": "1a78cfba",
   "metadata": {},
   "outputs": [],
   "source": []
  }
 ],
 "metadata": {
  "kernelspec": {
   "display_name": "nlp",
   "language": "python",
   "name": "python3"
  },
  "language_info": {
   "codemirror_mode": {
    "name": "ipython",
    "version": 3
   },
   "file_extension": ".py",
   "mimetype": "text/x-python",
   "name": "python",
   "nbconvert_exporter": "python",
   "pygments_lexer": "ipython3",
   "version": "3.9.17"
  },
  "toc": {
   "base_numbering": 1,
   "nav_menu": {},
   "number_sections": true,
   "sideBar": true,
   "skip_h1_title": false,
   "title_cell": "Table of Contents",
   "title_sidebar": "Contents",
   "toc_cell": false,
   "toc_position": {},
   "toc_section_display": true,
   "toc_window_display": false
  }
 },
 "nbformat": 4,
 "nbformat_minor": 5
}
