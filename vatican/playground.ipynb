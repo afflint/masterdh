{
 "cells": [
  {
   "cell_type": "code",
   "execution_count": 4,
   "id": "0bbb3b28",
   "metadata": {},
   "outputs": [],
   "source": [
    "import numpy as np"
   ]
  },
  {
   "cell_type": "code",
   "execution_count": 32,
   "id": "558fdd92",
   "metadata": {},
   "outputs": [],
   "source": [
    "a = np.array([0, 0, 0, 1, 0])\n",
    "w = np.random.randint(0, 10, size=(len(a), 4))"
   ]
  },
  {
   "cell_type": "code",
   "execution_count": 33,
   "id": "87c44a0f",
   "metadata": {},
   "outputs": [
    {
     "data": {
      "text/plain": [
       "array([0, 0, 0, 1, 0])"
      ]
     },
     "execution_count": 33,
     "metadata": {},
     "output_type": "execute_result"
    }
   ],
   "source": [
    "a"
   ]
  },
  {
   "cell_type": "code",
   "execution_count": 34,
   "id": "59edba92",
   "metadata": {},
   "outputs": [
    {
     "data": {
      "text/plain": [
       "array([[2, 3, 3, 5],\n",
       "       [1, 4, 0, 0],\n",
       "       [4, 2, 5, 1],\n",
       "       [3, 2, 5, 2],\n",
       "       [9, 3, 4, 7]])"
      ]
     },
     "execution_count": 34,
     "metadata": {},
     "output_type": "execute_result"
    }
   ],
   "source": [
    "w"
   ]
  },
  {
   "cell_type": "code",
   "execution_count": 35,
   "id": "367a9217",
   "metadata": {},
   "outputs": [],
   "source": [
    "o = a.dot(w)"
   ]
  },
  {
   "cell_type": "code",
   "execution_count": 36,
   "id": "8d61f7ae",
   "metadata": {},
   "outputs": [
    {
     "data": {
      "text/plain": [
       "array([3, 2, 5, 2])"
      ]
     },
     "execution_count": 36,
     "metadata": {},
     "output_type": "execute_result"
    }
   ],
   "source": [
    "o"
   ]
  },
  {
   "cell_type": "code",
   "execution_count": 37,
   "id": "df88ac25",
   "metadata": {},
   "outputs": [
    {
     "data": {
      "text/plain": [
       "array([0.25      , 0.16666667, 0.41666667, 0.16666667])"
      ]
     },
     "execution_count": 37,
     "metadata": {},
     "output_type": "execute_result"
    }
   ],
   "source": [
    "o / o.sum()"
   ]
  },
  {
   "cell_type": "code",
   "execution_count": 38,
   "id": "d704e657",
   "metadata": {},
   "outputs": [
    {
     "data": {
      "text/plain": [
       "array([0, 0, 0, 1, 0])"
      ]
     },
     "execution_count": 38,
     "metadata": {},
     "output_type": "execute_result"
    }
   ],
   "source": [
    "a"
   ]
  },
  {
   "cell_type": "code",
   "execution_count": 39,
   "id": "ca512ad2",
   "metadata": {},
   "outputs": [
    {
     "data": {
      "text/plain": [
       "array([0.25      , 0.16666667, 0.41666667, 0.16666667])"
      ]
     },
     "execution_count": 39,
     "metadata": {},
     "output_type": "execute_result"
    }
   ],
   "source": [
    "o / o.sum()"
   ]
  },
  {
   "cell_type": "code",
   "execution_count": 45,
   "id": "91e0e5f6",
   "metadata": {},
   "outputs": [],
   "source": [
    "input_data = [1, 2, 3, 4, 5, 6]\n",
    "output_data = ['due', 'uno', 'tre', 'quattro', 'cinque', 'sei']"
   ]
  },
  {
   "cell_type": "code",
   "execution_count": 54,
   "id": "a15862ca",
   "metadata": {},
   "outputs": [],
   "source": [
    "def encoding(number):\n",
    "    x = np.zeros(6)\n",
    "    x[input_data.index(number)] = 1\n",
    "    return x\n",
    "\n",
    "def generate_params():\n",
    "    return np.random.randint(0, 10, size=(len(input_data), len(output_data)))\n",
    "\n",
    "def activation(data):\n",
    "    return data / data.sum()"
   ]
  },
  {
   "cell_type": "code",
   "execution_count": 68,
   "id": "2cea3167",
   "metadata": {},
   "outputs": [
    {
     "data": {
      "text/plain": [
       "array([0.23529412, 0.29411765, 0.        , 0.41176471, 0.05882353,\n",
       "       0.        ])"
      ]
     },
     "execution_count": 68,
     "metadata": {},
     "output_type": "execute_result"
    }
   ],
   "source": [
    "activation(encoding(1).dot(generate_params()))"
   ]
  },
  {
   "cell_type": "code",
   "execution_count": null,
   "id": "8874af4a",
   "metadata": {},
   "outputs": [],
   "source": []
  },
  {
   "cell_type": "code",
   "execution_count": 62,
   "id": "57c4f806",
   "metadata": {},
   "outputs": [
    {
     "name": "stdout",
     "output_type": "stream",
     "text": [
      "1 uno\n",
      "5 quattro\n",
      "5 quattro\n",
      "5 sei\n",
      "5 uno\n",
      "4 cinque\n",
      "3 quattro\n",
      "4 quattro\n",
      "3 due\n",
      "6 tre\n",
      "6 sei\n",
      "3 quattro\n",
      "5 uno\n",
      "3 uno\n",
      "4 tre\n",
      "4 tre\n",
      "4 quattro\n",
      "2 tre\n",
      "6 tre\n",
      "5 due\n",
      "6 due\n",
      "4 quattro\n",
      "3 uno\n",
      "3 quattro\n",
      "1 sei\n",
      "6 cinque\n",
      "6 quattro\n",
      "2 uno\n",
      "6 sei\n",
      "4 tre\n",
      "6 quattro\n",
      "3 cinque\n",
      "4 cinque\n",
      "6 sei\n",
      "6 uno\n",
      "3 uno\n",
      "5 sei\n",
      "4 due\n",
      "1 uno\n",
      "2 cinque\n",
      "3 due\n",
      "4 quattro\n",
      "5 due\n",
      "2 uno\n",
      "5 uno\n",
      "2 tre\n",
      "3 tre\n",
      "6 quattro\n",
      "5 quattro\n",
      "6 quattro\n",
      "4 sei\n",
      "4 quattro\n",
      "2 uno\n",
      "1 quattro\n",
      "2 quattro\n",
      "6 quattro\n",
      "1 sei\n",
      "2 quattro\n",
      "1 cinque\n",
      "2 uno\n",
      "1 tre\n",
      "6 quattro\n",
      "3 due\n",
      "2 uno\n",
      "3 due\n",
      "1 quattro\n",
      "5 cinque\n",
      "1 uno\n",
      "2 tre\n",
      "5 tre\n",
      "2 tre\n",
      "2 uno\n",
      "1 tre\n",
      "4 tre\n",
      "4 uno\n",
      "3 quattro\n",
      "3 sei\n",
      "3 uno\n",
      "2 tre\n",
      "5 quattro\n",
      "6 uno\n",
      "4 due\n",
      "4 sei\n",
      "5 uno\n",
      "5 due\n",
      "6 sei\n",
      "1 quattro\n",
      "3 uno\n",
      "2 uno\n",
      "2 uno\n",
      "2 tre\n",
      "4 uno\n",
      "2 quattro\n",
      "2 sei\n",
      "6 cinque\n",
      "2 due\n",
      "3 due\n",
      "5 tre\n",
      "2 tre\n",
      "4 due\n"
     ]
    }
   ],
   "source": [
    "for i in range(100):\n",
    "    input_number = np.random.randint(1, 7)\n",
    "    o = output_data[np.argmax(activation(encoding(input_number).dot(generate_params())))]\n",
    "    print(input_number, o)\n",
    "    # calcolare l'errore\n",
    "    # correggere i parametri\n",
    "    # usare i nuovi parametri"
   ]
  },
  {
   "cell_type": "code",
   "execution_count": null,
   "id": "c330220e",
   "metadata": {},
   "outputs": [],
   "source": []
  }
 ],
 "metadata": {
  "kernelspec": {
   "display_name": "crike",
   "language": "python",
   "name": "crike"
  },
  "language_info": {
   "codemirror_mode": {
    "name": "ipython",
    "version": 3
   },
   "file_extension": ".py",
   "mimetype": "text/x-python",
   "name": "python",
   "nbconvert_exporter": "python",
   "pygments_lexer": "ipython3",
   "version": "3.8.8"
  },
  "toc": {
   "base_numbering": 1,
   "nav_menu": {},
   "number_sections": true,
   "sideBar": true,
   "skip_h1_title": false,
   "title_cell": "Table of Contents",
   "title_sidebar": "Contents",
   "toc_cell": false,
   "toc_position": {},
   "toc_section_display": true,
   "toc_window_display": false
  }
 },
 "nbformat": 4,
 "nbformat_minor": 5
}
