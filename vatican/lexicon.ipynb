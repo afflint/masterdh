{
 "cells": [
  {
   "cell_type": "markdown",
   "id": "55eb5cea",
   "metadata": {},
   "source": [
    "# Explore lexicon in Vatican publications"
   ]
  },
  {
   "cell_type": "code",
   "execution_count": 1,
   "id": "1ddf28ce",
   "metadata": {},
   "outputs": [],
   "source": [
    "import pandas as pd\n",
    "import numpy as np\n",
    "from tqdm.notebook import tqdm"
   ]
  },
  {
   "cell_type": "code",
   "execution_count": 2,
   "id": "283457e0",
   "metadata": {},
   "outputs": [],
   "source": [
    "import pymongo"
   ]
  },
  {
   "cell_type": "code",
   "execution_count": 3,
   "id": "d6ad7d35",
   "metadata": {},
   "outputs": [],
   "source": [
    "db = pymongo.MongoClient()['vatican']['tokens']"
   ]
  },
  {
   "cell_type": "code",
   "execution_count": 7,
   "id": "a33cbcc9",
   "metadata": {},
   "outputs": [],
   "source": [
    "def documents():\n",
    "    q = {'$group': {'_id': {'pope': '$pope', 'document': '$document'}}}\n",
    "    docs = []\n",
    "    for record in db.aggregate([q]):\n",
    "        docs.append((record['_id']['pope'], record['_id']['document']))\n",
    "    return docs"
   ]
  },
  {
   "cell_type": "code",
   "execution_count": 8,
   "id": "73fd5b8a",
   "metadata": {},
   "outputs": [],
   "source": [
    "docs = documents()"
   ]
  },
  {
   "cell_type": "code",
   "execution_count": 9,
   "id": "2f4932da",
   "metadata": {},
   "outputs": [
    {
     "data": {
      "text/plain": [
       "196"
      ]
     },
     "execution_count": 9,
     "metadata": {},
     "output_type": "execute_result"
    }
   ],
   "source": [
    "len(docs)"
   ]
  },
  {
   "cell_type": "code",
   "execution_count": 10,
   "id": "011fa72f",
   "metadata": {},
   "outputs": [
    {
     "data": {
      "text/plain": [
       "[('Pius XII', 'Luctuosissimi Eventus'),\n",
       " ('Pius XI', 'Rerum Omnium Perturbationem'),\n",
       " ('Leo XIII', 'Insignes'),\n",
       " ('Pius XII', 'Deiparae Virginis Mariae')]"
      ]
     },
     "execution_count": 10,
     "metadata": {},
     "output_type": "execute_result"
    }
   ],
   "source": [
    "docs[:4]"
   ]
  },
  {
   "cell_type": "markdown",
   "id": "fd9986ef",
   "metadata": {},
   "source": [
    "## Term Frequency (TF)\n",
    "\n",
    "$$\n",
    "tf(d, t) = \\frac{count(d, t)}{\\max\\limits_{i}^{n} count(d, t_i)}\n",
    "$$"
   ]
  },
  {
   "cell_type": "code",
   "execution_count": 49,
   "id": "2964318c",
   "metadata": {},
   "outputs": [],
   "source": [
    "def document_term_count(pope, document, field='lemma'):\n",
    "    m = {'$match': {'pope': pope, 'document': document}}\n",
    "    g = {'$group': {'_id': \"${}\".format(field), 'count': {'$sum': 1}}}\n",
    "    data = {}\n",
    "    for record in db.aggregate([m, g]):\n",
    "        data[record['_id']] = record['count']\n",
    "    return pd.Series(data)"
   ]
  },
  {
   "cell_type": "code",
   "execution_count": 52,
   "id": "6e7bd4e1",
   "metadata": {},
   "outputs": [],
   "source": [
    "pope, document = 'Paul VI', 'Humanae Vitae'\n",
    "tf_count = document_term_count(pope, document)\n",
    "tf = tf_count / tf_count.max()"
   ]
  },
  {
   "cell_type": "code",
   "execution_count": 53,
   "id": "97d80b85",
   "metadata": {},
   "outputs": [
    {
     "data": {
      "text/plain": [
       ",         1.000000\n",
       "il        0.914414\n",
       "di il     0.653153\n",
       "e         0.495495\n",
       "di        0.448198\n",
       ".         0.434685\n",
       "a il      0.304054\n",
       "essere    0.286036\n",
       "che       0.261261\n",
       "uno       0.180180\n",
       "dtype: float64"
      ]
     },
     "execution_count": 53,
     "metadata": {},
     "output_type": "execute_result"
    }
   ],
   "source": [
    "tf.sort_values(ascending=False).head(10)"
   ]
  },
  {
   "cell_type": "markdown",
   "id": "5e7dfc75",
   "metadata": {},
   "source": [
    "## Document Frequency and Inverse Document Frequency (IDF)\n",
    "\n",
    "$$\n",
    "df(t) = \\mid\\{ d_i : t \\in d_i \\}\\mid\n",
    "$$\n",
    "\n",
    "$$\n",
    "idf(t) = \\log \\frac{N}{df(t)}\n",
    "$$"
   ]
  },
  {
   "cell_type": "code",
   "execution_count": 76,
   "id": "402e4ebb",
   "metadata": {},
   "outputs": [],
   "source": [
    "def sentence_df(field='lemma'):\n",
    "    g = {'$group': {'_id': {'token': \"${}\".format(field), 'document': \"$document\", 'sentence': \"$sentence\"}}}\n",
    "    g2 = {'$group': {'_id': '$_id.token', 'count': {'$sum': 1}}}\n",
    "    data = {}\n",
    "    for record in db.aggregate([g, g2], allowDiskUse=True):\n",
    "        data[record['_id']] = record['count']\n",
    "    return pd.Series(data)\n",
    "\n",
    "def sentence_count():\n",
    "    g = {'$group': {'_id': {'document': \"$document\", 'sentence': \"$sentence\"}}}\n",
    "    return len([x for x in db.aggregate([g])])"
   ]
  },
  {
   "cell_type": "code",
   "execution_count": 77,
   "id": "3f14192d",
   "metadata": {},
   "outputs": [],
   "source": [
    "df = sentence_df()\n",
    "s_count = sentence_count()"
   ]
  },
  {
   "cell_type": "code",
   "execution_count": 85,
   "id": "47c905d3",
   "metadata": {},
   "outputs": [],
   "source": [
    "df.sort_values(ascending=False)\n",
    "valid_terms = df[df > 10].keys()"
   ]
  },
  {
   "cell_type": "code",
   "execution_count": 79,
   "id": "e5b2a109",
   "metadata": {},
   "outputs": [],
   "source": [
    "idf = np.log(s_count / df)"
   ]
  },
  {
   "cell_type": "code",
   "execution_count": 81,
   "id": "a7c94882",
   "metadata": {},
   "outputs": [
    {
     "data": {
      "text/plain": [
       "quell'«apparizione    11.149255\n",
       "flessibilità          11.149255\n",
       "anelino               11.149255\n",
       "moltiplicassero       11.149255\n",
       "indeterminare         11.149255\n",
       "                        ...    \n",
       "di il                  0.872206\n",
       "e                      0.792369\n",
       "il                     0.525199\n",
       ",                      0.423150\n",
       ".                      0.325385\n",
       "Length: 43723, dtype: float64"
      ]
     },
     "execution_count": 81,
     "metadata": {},
     "output_type": "execute_result"
    }
   ],
   "source": [
    "idf.sort_values(ascending=False)"
   ]
  },
  {
   "cell_type": "markdown",
   "id": "72c3e23b",
   "metadata": {},
   "source": [
    "## TfIdf\n",
    "\n",
    "$$\n",
    "tfidf(d, t) = tf(d, t) \\cdot idf(t)\n",
    "$$"
   ]
  },
  {
   "cell_type": "code",
   "execution_count": 99,
   "id": "fe1dc43e",
   "metadata": {},
   "outputs": [],
   "source": [
    "def tfidf(tf, idf, min_idf=0):\n",
    "    tfidf_data = {}\n",
    "    for t, tf_x in tf.items():\n",
    "        idf_w = idf[t]\n",
    "        if idf_w >= min_idf:\n",
    "            tfidf_data[t] = tf_x * idf_w \n",
    "    return pd.Series(tfidf_data)"
   ]
  },
  {
   "cell_type": "code",
   "execution_count": 111,
   "id": "1e87401a",
   "metadata": {},
   "outputs": [],
   "source": [
    "tfidf_hv = tfidf(tf, idf, min_idf=4)"
   ]
  },
  {
   "cell_type": "code",
   "execution_count": 113,
   "id": "7da9a09b",
   "metadata": {},
   "outputs": [
    {
     "data": {
      "text/plain": [
       "coniugale      0.473365\n",
       "sposo          0.361592\n",
       "coniuge        0.242326\n",
       "matrimonio     0.229734\n",
       "atto           0.219487\n",
       "regolazione    0.207530\n",
       "morale         0.198530\n",
       "naturale       0.173230\n",
       "natalità       0.168568\n",
       "paternità      0.165374\n",
       "dtype: float64"
      ]
     },
     "execution_count": 113,
     "metadata": {},
     "output_type": "execute_result"
    }
   ],
   "source": [
    "tfidf_hv.sort_values(ascending=False).head(10)"
   ]
  },
  {
   "cell_type": "markdown",
   "id": "f34c498b",
   "metadata": {},
   "source": [
    "## Kullback–Leibler divergence\n",
    "\n",
    "$$\n",
    "KL(x) = P(x) \\log\\left(\\frac{P(x)}{Q(x)}\\right)\n",
    "$$"
   ]
  },
  {
   "cell_type": "code",
   "execution_count": null,
   "id": "22c3562c",
   "metadata": {},
   "outputs": [],
   "source": []
  }
 ],
 "metadata": {
  "kernelspec": {
   "display_name": "crike",
   "language": "python",
   "name": "crike"
  },
  "language_info": {
   "codemirror_mode": {
    "name": "ipython",
    "version": 3
   },
   "file_extension": ".py",
   "mimetype": "text/x-python",
   "name": "python",
   "nbconvert_exporter": "python",
   "pygments_lexer": "ipython3",
   "version": "3.8.8"
  },
  "toc": {
   "base_numbering": 1,
   "nav_menu": {},
   "number_sections": true,
   "sideBar": true,
   "skip_h1_title": false,
   "title_cell": "Table of Contents",
   "title_sidebar": "Contents",
   "toc_cell": false,
   "toc_position": {},
   "toc_section_display": true,
   "toc_window_display": false
  }
 },
 "nbformat": 4,
 "nbformat_minor": 5
}
