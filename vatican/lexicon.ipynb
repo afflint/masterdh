{
 "cells": [
  {
   "cell_type": "markdown",
   "id": "2ae9533c",
   "metadata": {},
   "source": [
    "# Explore lexicon in Vatican publications"
   ]
  },
  {
   "cell_type": "code",
   "execution_count": 1,
   "id": "35c81a64",
   "metadata": {},
   "outputs": [],
   "source": [
    "import pandas as pd\n",
    "import numpy as np\n",
    "from tqdm.notebook import tqdm"
   ]
  },
  {
   "cell_type": "code",
   "execution_count": 2,
   "id": "4914f3fc",
   "metadata": {},
   "outputs": [],
   "source": [
    "import pymongo"
   ]
  },
  {
   "cell_type": "code",
   "execution_count": 3,
   "id": "b6e13abe",
   "metadata": {},
   "outputs": [],
   "source": [
    "db = pymongo.MongoClient()['vatican']['tokens']"
   ]
  },
  {
   "cell_type": "code",
   "execution_count": 4,
   "id": "c7200fef",
   "metadata": {},
   "outputs": [],
   "source": [
    "def documents():\n",
    "    q = {'$group': {'_id': {'pope': '$pope', 'document': '$document'}}}\n",
    "    docs = []\n",
    "    for record in db.aggregate([q]):\n",
    "        docs.append((record['_id']['pope'], record['_id']['document']))\n",
    "    return docs"
   ]
  },
  {
   "cell_type": "code",
   "execution_count": 5,
   "id": "7feb508e",
   "metadata": {},
   "outputs": [],
   "source": [
    "docs = documents()"
   ]
  },
  {
   "cell_type": "code",
   "execution_count": 6,
   "id": "8e18da04",
   "metadata": {},
   "outputs": [
    {
     "data": {
      "text/plain": [
       "196"
      ]
     },
     "execution_count": 6,
     "metadata": {},
     "output_type": "execute_result"
    }
   ],
   "source": [
    "len(docs)"
   ]
  },
  {
   "cell_type": "code",
   "execution_count": 7,
   "id": "e5b5eeb8",
   "metadata": {},
   "outputs": [
    {
     "data": {
      "text/plain": [
       "[('Leo XIII', 'Rerum Novarum'),\n",
       " ('Leo XIII', 'Quod Anniversarius'),\n",
       " ('Leo XIII', 'Inter Graves'),\n",
       " ('Leo XIII', 'Immortale Dei'),\n",
       " ('Leo XIII', 'Diuturnum'),\n",
       " ('Leo XIII', 'Christi Nomen'),\n",
       " ('Leo XIII', 'Providentissimus Deus'),\n",
       " ('Leo XIII', 'Auspicato Concessum'),\n",
       " ('Leo XIII', 'Aeterni Patris'),\n",
       " ('Leo XIII', 'Nobilissima Gallorum Gens'),\n",
       " ('Leo XIII', 'Laetitiae Sanctae'),\n",
       " ('Leo XIII', 'Spesse Volte'),\n",
       " ('Leo XIII', 'Longinqua'),\n",
       " ('Leo XIII', 'Magnae Dei Matris'),\n",
       " ('Leo XIII', 'Sapientiae Christianae'),\n",
       " ('Leo XIII', 'Saepe Nos'),\n",
       " ('Leo XIII', 'Quamquam Pluries'),\n",
       " ('Leo XIII', 'Grande Munus'),\n",
       " ('Leo XIII', 'Au Milieu Des Sollicitudes'),\n",
       " ('Leo XIII', 'Inimica Vis'),\n",
       " ('Leo XIII', 'Insignes'),\n",
       " ('Leo XIII', 'Libertas'),\n",
       " ('Leo XIII', 'Quarto Abeunte Saeculo'),\n",
       " ('Leo XIII', 'Vi E Ben Noto'),\n",
       " ('Leo XIII', 'Etsi Cunctas'),\n",
       " ('Leo XIII', 'Non Mediocri'),\n",
       " ('Leo XIII', 'Humanum Genus'),\n",
       " ('Leo XIII', 'Quam Aerumnosa'),\n",
       " ('Leo XIII', 'Quod Apostolici Muneris'),\n",
       " ('Leo XIII', 'Cum Multa'),\n",
       " ('Leo XIII', 'Paterna Caritas'),\n",
       " ('Leo XIII', 'Affari Vos'),\n",
       " ('Leo XIII', 'Licet Multa'),\n",
       " ('Leo XIII', 'Octobri Mense'),\n",
       " ('Leo XIII', 'Officio Sanctissimo'),\n",
       " ('Leo XIII', 'Adiutricem'),\n",
       " ('Leo XIII', 'Pastoralis'),\n",
       " ('Leo XIII', 'Supremi Apostolatus Officio'),\n",
       " ('Leo XIII', 'Etsi Nos'),\n",
       " ('Leo XIII', 'Catholicae Ecclesiae'),\n",
       " ('Leo XIII', 'Litteras A Vobis'),\n",
       " ('Leo XIII', 'Iucunda Semper Expectatione'),\n",
       " ('Leo XIII', 'In Plurimis'),\n",
       " ('Leo XIII', 'Fin Dal Principio'),\n",
       " ('Leo XIII', 'Pergrata'),\n",
       " ('Leo XIII', 'Iampridem'),\n",
       " ('Leo XIII', 'Constanti Hungarorum'),\n",
       " ('Leo XIII', 'Fidentem Piumque Animum'),\n",
       " ('Leo XIII', 'Mirae Caritatis'),\n",
       " ('Leo XIII', 'Quod Multum'),\n",
       " ('Leo XIII', 'Spectata Fides'),\n",
       " ('Leo XIII', 'Arcanum'),\n",
       " ('Leo XIII', 'Caritatis'),\n",
       " ('Leo XIII', 'In Ipso'),\n",
       " ('Leo XIII', 'Magni Nobis'),\n",
       " ('Leo XIII', 'Inscrutabili Dei Consilio'),\n",
       " ('Leo XIII', 'Sancta Dei Civitas'),\n",
       " ('Leo XIII', 'Superiore Anno'),\n",
       " ('Leo XIII', 'Exeunte Iam Anno'),\n",
       " ('Leo XIII', 'Satis Cognitum'),\n",
       " ('Leo XIII', 'Pastoralis Officii'),\n",
       " ('Leo XIII', 'Quod Auctoritate'),\n",
       " ('Leo XIII', 'Custodi Di Quella Fede'),\n",
       " ('Leo XIII', 'Apostolico Seggio'),\n",
       " ('Leo XIII', 'Ad Extremas')]"
      ]
     },
     "execution_count": 7,
     "metadata": {},
     "output_type": "execute_result"
    }
   ],
   "source": [
    "[(x, y) for x, y in docs if x == 'Leo XIII']"
   ]
  },
  {
   "cell_type": "markdown",
   "id": "6506e44b",
   "metadata": {},
   "source": [
    "## Term Frequency (TF)\n",
    "\n",
    "$$\n",
    "tf(d, t) = \\frac{count(d, t)}{\\max\\limits_{i}^{n} count(d, t_i)}\n",
    "$$"
   ]
  },
  {
   "cell_type": "code",
   "execution_count": 8,
   "id": "b80d59e3",
   "metadata": {},
   "outputs": [],
   "source": [
    "def document_term_count(pope, document, field='lemma'):\n",
    "    m = {'$match': {'pope': pope, 'document': document}}\n",
    "    g = {'$group': {'_id': \"${}\".format(field), 'count': {'$sum': 1}}}\n",
    "    data = {}\n",
    "    for record in db.aggregate([m, g]):\n",
    "        data[record['_id']] = record['count']\n",
    "    return pd.Series(data)"
   ]
  },
  {
   "cell_type": "code",
   "execution_count": 9,
   "id": "3d8d67c1",
   "metadata": {},
   "outputs": [],
   "source": [
    "pope, document = 'Paul VI', 'Humanae Vitae'\n",
    "tf_count = document_term_count(pope, document)\n",
    "tf = tf_count / tf_count.max()"
   ]
  },
  {
   "cell_type": "code",
   "execution_count": 10,
   "id": "3f830f5e",
   "metadata": {},
   "outputs": [
    {
     "data": {
      "text/plain": [
       ",         444\n",
       "il        406\n",
       "di il     290\n",
       "e         220\n",
       "di        199\n",
       ".         193\n",
       "a il      135\n",
       "essere    127\n",
       "che       116\n",
       "uno        80\n",
       "dtype: int64"
      ]
     },
     "execution_count": 10,
     "metadata": {},
     "output_type": "execute_result"
    }
   ],
   "source": [
    "tf_count.sort_values(ascending=False).head(10)"
   ]
  },
  {
   "cell_type": "code",
   "execution_count": 11,
   "id": "b589481b",
   "metadata": {},
   "outputs": [
    {
     "data": {
      "text/plain": [
       ",         1.000000\n",
       "il        0.914414\n",
       "di il     0.653153\n",
       "e         0.495495\n",
       "di        0.448198\n",
       ".         0.434685\n",
       "a il      0.304054\n",
       "essere    0.286036\n",
       "che       0.261261\n",
       "uno       0.180180\n",
       "dtype: float64"
      ]
     },
     "execution_count": 11,
     "metadata": {},
     "output_type": "execute_result"
    }
   ],
   "source": [
    "tf.sort_values(ascending=False).head(10)"
   ]
  },
  {
   "cell_type": "markdown",
   "id": "525216ef",
   "metadata": {},
   "source": [
    "## Document Frequency and Inverse Document Frequency (IDF)\n",
    "\n",
    "$$\n",
    "df(t) = \\mid\\{ d_i : t \\in d_i \\}\\mid\n",
    "$$\n",
    "\n",
    "$$\n",
    "idf(t) = \\log \\frac{N}{df(t)}\n",
    "$$"
   ]
  },
  {
   "cell_type": "code",
   "execution_count": 12,
   "id": "3cd557cb",
   "metadata": {},
   "outputs": [],
   "source": [
    "def sentence_df(field='lemma'):\n",
    "    g = {'$group': {'_id': {'token': \"${}\".format(field), 'document': \"$document\", 'sentence': \"$sentence\"}}}\n",
    "    g2 = {'$group': {'_id': '$_id.token', 'count': {'$sum': 1}}}\n",
    "    data = {}\n",
    "    for record in db.aggregate([g, g2], allowDiskUse=True):\n",
    "        data[record['_id']] = record['count']\n",
    "    return pd.Series(data)\n",
    "\n",
    "def sentence_count():\n",
    "    g = {'$group': {'_id': {'document': \"$document\", 'sentence': \"$sentence\"}}}\n",
    "    return len([x for x in db.aggregate([g])])"
   ]
  },
  {
   "cell_type": "code",
   "execution_count": 13,
   "id": "9ab58ec0",
   "metadata": {},
   "outputs": [],
   "source": [
    "df = sentence_df()\n",
    "s_count = sentence_count()"
   ]
  },
  {
   "cell_type": "code",
   "execution_count": 14,
   "id": "303fdfc8",
   "metadata": {},
   "outputs": [
    {
     "data": {
      "text/plain": [
       "69512"
      ]
     },
     "execution_count": 14,
     "metadata": {},
     "output_type": "execute_result"
    }
   ],
   "source": [
    "s_count"
   ]
  },
  {
   "cell_type": "code",
   "execution_count": 15,
   "id": "a6d68f6c",
   "metadata": {},
   "outputs": [
    {
     "data": {
      "text/plain": [
       ".         50205\n",
       ",         45529\n",
       "il        41112\n",
       "e         31473\n",
       "di il     29058\n",
       "di        27873\n",
       "essere    23354\n",
       "che       22799\n",
       "a il      16575\n",
       "a         15565\n",
       "dtype: int64"
      ]
     },
     "execution_count": 15,
     "metadata": {},
     "output_type": "execute_result"
    }
   ],
   "source": [
    "df.sort_values(ascending=False).head(10)"
   ]
  },
  {
   "cell_type": "code",
   "execution_count": 16,
   "id": "31d6aba4",
   "metadata": {},
   "outputs": [],
   "source": [
    "idf = np.log(s_count / df)"
   ]
  },
  {
   "cell_type": "code",
   "execution_count": 17,
   "id": "ef49fe7b",
   "metadata": {},
   "outputs": [
    {
     "data": {
      "text/plain": [
       "stabiliscere      11.149255\n",
       "32/2              11.149255\n",
       "Appropinquante    11.149255\n",
       "Additare          11.149255\n",
       "1173              11.149255\n",
       "averlee           11.149255\n",
       "sterilizzante     11.149255\n",
       "memorialis        11.149255\n",
       "131,9             11.149255\n",
       "giustizia.48      11.149255\n",
       "dtype: float64"
      ]
     },
     "execution_count": 17,
     "metadata": {},
     "output_type": "execute_result"
    }
   ],
   "source": [
    "idf.sort_values(ascending=False).head(10)"
   ]
  },
  {
   "cell_type": "markdown",
   "id": "23221dab",
   "metadata": {},
   "source": [
    "## TfIdf\n",
    "\n",
    "$$\n",
    "tfidf(d, t) = tf(d, t) \\cdot idf(t)\n",
    "$$"
   ]
  },
  {
   "cell_type": "code",
   "execution_count": 18,
   "id": "83220912",
   "metadata": {},
   "outputs": [],
   "source": [
    "def tfidf(tf, idf, min_idf=0):\n",
    "    tfidf_data = {}\n",
    "    for t, tf_x in tf.items():\n",
    "        idf_w = idf[t]\n",
    "        if idf_w >= min_idf:\n",
    "            tfidf_data[t] = tf_x * idf_w \n",
    "    return pd.Series(tfidf_data)"
   ]
  },
  {
   "cell_type": "code",
   "execution_count": 19,
   "id": "131252eb",
   "metadata": {},
   "outputs": [],
   "source": [
    "tfidf_hv = tfidf(tf, idf, min_idf=4)"
   ]
  },
  {
   "cell_type": "code",
   "execution_count": 20,
   "id": "cf5cf877",
   "metadata": {},
   "outputs": [
    {
     "data": {
      "text/plain": [
       "coniugale      0.473365\n",
       "sposo          0.361592\n",
       "coniuge        0.242326\n",
       "matrimonio     0.229734\n",
       "atto           0.219487\n",
       "regolazione    0.207530\n",
       "morale         0.198530\n",
       "naturale       0.173230\n",
       "natalità       0.168568\n",
       "paternità      0.165374\n",
       "dtype: float64"
      ]
     },
     "execution_count": 20,
     "metadata": {},
     "output_type": "execute_result"
    }
   ],
   "source": [
    "tfidf_hv.sort_values(ascending=False).head(10)"
   ]
  },
  {
   "cell_type": "code",
   "execution_count": 21,
   "id": "17dc5d1f",
   "metadata": {},
   "outputs": [
    {
     "data": {
      "text/plain": [
       "(0.22973358579235933, 0.019501073485787893)"
      ]
     },
     "execution_count": 21,
     "metadata": {},
     "output_type": "execute_result"
    }
   ],
   "source": [
    "tfidf_hv['matrimonio'], tfidf_hv['lavoro']"
   ]
  },
  {
   "cell_type": "code",
   "execution_count": 22,
   "id": "ee3109ea",
   "metadata": {},
   "outputs": [],
   "source": [
    "import matplotlib.pyplot as plt"
   ]
  },
  {
   "cell_type": "code",
   "execution_count": 23,
   "id": "53a91826",
   "metadata": {},
   "outputs": [
    {
     "data": {
      "image/png": "[encoded data removed]",
      "text/plain": [
       "<Figure size 432x288 with 1 Axes>"
      ]
     },
     "metadata": {
      "needs_background": "light"
     },
     "output_type": "display_data"
    }
   ],
   "source": [
    "fig, ax = plt.subplots()\n",
    "ax.scatter([tfidf_hv['matrimonio']], [tfidf_hv['lavoro']])\n",
    "plt.tight_layout()\n",
    "plt.show()"
   ]
  },
  {
   "cell_type": "code",
   "execution_count": 24,
   "id": "7dbf2406",
   "metadata": {},
   "outputs": [],
   "source": [
    "def doc_tfidf(pope, document):\n",
    "    tf_count = document_term_count(pope, document)\n",
    "    tf = tf_count / tf_count.max()\n",
    "    tfidf_x = tfidf(tf, idf, min_idf=4)\n",
    "    return tfidf_x"
   ]
  },
  {
   "cell_type": "code",
   "execution_count": 25,
   "id": "97b7b284",
   "metadata": {},
   "outputs": [],
   "source": [
    "from collections import defaultdict"
   ]
  },
  {
   "cell_type": "code",
   "execution_count": 26,
   "id": "789ba3cf",
   "metadata": {},
   "outputs": [],
   "source": [
    "d1 = ('Paul VI', 'Humanae Vitae')\n",
    "d2 = ('Leo XIII', 'Rerum Novarum')\n",
    "d3 = ('Leo XIII', 'Caritatis')\n",
    "cases = [d1, d2, d3]\n",
    "index_docs = defaultdict(lambda: defaultdict(lambda: 0))\n",
    "for pope, doc in cases:\n",
    "    data_case = doc_tfidf(pope, doc)\n",
    "    for word, tfidf_w in data_case.items():\n",
    "        index_docs[\"{} {}\".format(pope, doc)][word] = tfidf_w"
   ]
  },
  {
   "cell_type": "code",
   "execution_count": 27,
   "id": "91b2b4f5",
   "metadata": {},
   "outputs": [],
   "source": [
    "dfr = pd.DataFrame(index_docs).fillna(0)"
   ]
  },
  {
   "cell_type": "code",
   "execution_count": 28,
   "id": "e6fb8e5a",
   "metadata": {},
   "outputs": [
    {
     "data": {
      "text/html": [
       "<div>\n",
       "<style scoped>\n",
       "    .dataframe tbody tr th:only-of-type {\n",
       "        vertical-align: middle;\n",
       "    }\n",
       "\n",
       "    .dataframe tbody tr th {\n",
       "        vertical-align: top;\n",
       "    }\n",
       "\n",
       "    .dataframe thead th {\n",
       "        text-align: right;\n",
       "    }\n",
       "</style>\n",
       "<table border=\"1\" class=\"dataframe\">\n",
       "  <thead>\n",
       "    <tr style=\"text-align: right;\">\n",
       "      <th></th>\n",
       "      <th>Paul VI Humanae Vitae</th>\n",
       "      <th>Leo XIII Rerum Novarum</th>\n",
       "      <th>Leo XIII Caritatis</th>\n",
       "    </tr>\n",
       "  </thead>\n",
       "  <tbody>\n",
       "    <tr>\n",
       "      <th>operaio</th>\n",
       "      <td>0.000000</td>\n",
       "      <td>0.344368</td>\n",
       "      <td>0.027143</td>\n",
       "    </tr>\n",
       "    <tr>\n",
       "      <th>stato</th>\n",
       "      <td>0.019365</td>\n",
       "      <td>0.236363</td>\n",
       "      <td>0.139373</td>\n",
       "    </tr>\n",
       "    <tr>\n",
       "      <th>lavoro</th>\n",
       "      <td>0.019501</td>\n",
       "      <td>0.184127</td>\n",
       "      <td>0.043184</td>\n",
       "    </tr>\n",
       "    <tr>\n",
       "      <th>società</th>\n",
       "      <td>0.036108</td>\n",
       "      <td>0.166307</td>\n",
       "      <td>0.059970</td>\n",
       "    </tr>\n",
       "    <tr>\n",
       "      <th>proprietà</th>\n",
       "      <td>0.000000</td>\n",
       "      <td>0.156526</td>\n",
       "      <td>0.000000</td>\n",
       "    </tr>\n",
       "    <tr>\n",
       "      <th>...</th>\n",
       "      <td>...</td>\n",
       "      <td>...</td>\n",
       "      <td>...</td>\n",
       "    </tr>\n",
       "    <tr>\n",
       "      <th>concilio</th>\n",
       "      <td>0.020680</td>\n",
       "      <td>0.000000</td>\n",
       "      <td>0.000000</td>\n",
       "    </tr>\n",
       "    <tr>\n",
       "      <th>porta</th>\n",
       "      <td>0.015214</td>\n",
       "      <td>0.000000</td>\n",
       "      <td>0.000000</td>\n",
       "    </tr>\n",
       "    <tr>\n",
       "      <th>segno</th>\n",
       "      <td>0.023621</td>\n",
       "      <td>0.000000</td>\n",
       "      <td>0.000000</td>\n",
       "    </tr>\n",
       "    <tr>\n",
       "      <th>rivelare</th>\n",
       "      <td>0.011594</td>\n",
       "      <td>0.000000</td>\n",
       "      <td>0.000000</td>\n",
       "    </tr>\n",
       "    <tr>\n",
       "      <th>pervadere</th>\n",
       "      <td>0.000000</td>\n",
       "      <td>0.000000</td>\n",
       "      <td>0.019679</td>\n",
       "    </tr>\n",
       "  </tbody>\n",
       "</table>\n",
       "<p>3403 rows × 3 columns</p>\n",
       "</div>"
      ],
      "text/plain": [
       "           Paul VI Humanae Vitae  Leo XIII Rerum Novarum  Leo XIII Caritatis\n",
       "operaio                 0.000000                0.344368            0.027143\n",
       "stato                   0.019365                0.236363            0.139373\n",
       "lavoro                  0.019501                0.184127            0.043184\n",
       "società                 0.036108                0.166307            0.059970\n",
       "proprietà               0.000000                0.156526            0.000000\n",
       "...                          ...                     ...                 ...\n",
       "concilio                0.020680                0.000000            0.000000\n",
       "porta                   0.015214                0.000000            0.000000\n",
       "segno                   0.023621                0.000000            0.000000\n",
       "rivelare                0.011594                0.000000            0.000000\n",
       "pervadere               0.000000                0.000000            0.019679\n",
       "\n",
       "[3403 rows x 3 columns]"
      ]
     },
     "execution_count": 28,
     "metadata": {},
     "output_type": "execute_result"
    }
   ],
   "source": [
    "dfr.sort_values('Leo XIII Rerum Novarum', ascending=False)"
   ]
  },
  {
   "cell_type": "code",
   "execution_count": 29,
   "id": "47800169",
   "metadata": {},
   "outputs": [
    {
     "data": {
      "text/html": [
       "<div>\n",
       "<style scoped>\n",
       "    .dataframe tbody tr th:only-of-type {\n",
       "        vertical-align: middle;\n",
       "    }\n",
       "\n",
       "    .dataframe tbody tr th {\n",
       "        vertical-align: top;\n",
       "    }\n",
       "\n",
       "    .dataframe thead th {\n",
       "        text-align: right;\n",
       "    }\n",
       "</style>\n",
       "<table border=\"1\" class=\"dataframe\">\n",
       "  <thead>\n",
       "    <tr style=\"text-align: right;\">\n",
       "      <th></th>\n",
       "      <th>imprescrittibile</th>\n",
       "      <th>indurre</th>\n",
       "      <th>cooperazione</th>\n",
       "      <th>mantenere si</th>\n",
       "      <th>soluzione</th>\n",
       "      <th>relazione</th>\n",
       "      <th>oggettivo</th>\n",
       "      <th>posseggano</th>\n",
       "      <th>unico</th>\n",
       "      <th>definitivo</th>\n",
       "      <th>...</th>\n",
       "      <th>specifica</th>\n",
       "      <th>scivolare</th>\n",
       "      <th>profitto</th>\n",
       "      <th>implorare</th>\n",
       "      <th>razza</th>\n",
       "      <th>comportamento</th>\n",
       "      <th>augusto</th>\n",
       "      <th>fautore</th>\n",
       "      <th>difensore</th>\n",
       "      <th>pervadere</th>\n",
       "    </tr>\n",
       "  </thead>\n",
       "  <tbody>\n",
       "    <tr>\n",
       "      <th>Paul VI Humanae Vitae</th>\n",
       "      <td>0.020728</td>\n",
       "      <td>0.014784</td>\n",
       "      <td>0.014236</td>\n",
       "      <td>0.018866</td>\n",
       "      <td>0.095961</td>\n",
       "      <td>0.023992</td>\n",
       "      <td>0.014629</td>\n",
       "      <td>0.022637</td>\n",
       "      <td>0.010904</td>\n",
       "      <td>0.014784</td>\n",
       "      <td>...</td>\n",
       "      <td>0.00000</td>\n",
       "      <td>0.00000</td>\n",
       "      <td>0.000000</td>\n",
       "      <td>0.000000</td>\n",
       "      <td>0.000000</td>\n",
       "      <td>0.000000</td>\n",
       "      <td>0.000000</td>\n",
       "      <td>0.000000</td>\n",
       "      <td>0.000000</td>\n",
       "      <td>0.000000</td>\n",
       "    </tr>\n",
       "    <tr>\n",
       "      <th>Leo XIII Rerum Novarum</th>\n",
       "      <td>0.000000</td>\n",
       "      <td>0.000000</td>\n",
       "      <td>0.019671</td>\n",
       "      <td>0.000000</td>\n",
       "      <td>0.037884</td>\n",
       "      <td>0.033151</td>\n",
       "      <td>0.000000</td>\n",
       "      <td>0.000000</td>\n",
       "      <td>0.015066</td>\n",
       "      <td>0.000000</td>\n",
       "      <td>...</td>\n",
       "      <td>0.00000</td>\n",
       "      <td>0.00000</td>\n",
       "      <td>0.000000</td>\n",
       "      <td>0.000000</td>\n",
       "      <td>0.000000</td>\n",
       "      <td>0.000000</td>\n",
       "      <td>0.000000</td>\n",
       "      <td>0.000000</td>\n",
       "      <td>0.000000</td>\n",
       "      <td>0.000000</td>\n",
       "    </tr>\n",
       "    <tr>\n",
       "      <th>Leo XIII Caritatis</th>\n",
       "      <td>0.000000</td>\n",
       "      <td>0.000000</td>\n",
       "      <td>0.000000</td>\n",
       "      <td>0.020889</td>\n",
       "      <td>0.000000</td>\n",
       "      <td>0.000000</td>\n",
       "      <td>0.000000</td>\n",
       "      <td>0.000000</td>\n",
       "      <td>0.024145</td>\n",
       "      <td>0.000000</td>\n",
       "      <td>...</td>\n",
       "      <td>0.02379</td>\n",
       "      <td>0.02379</td>\n",
       "      <td>0.016319</td>\n",
       "      <td>0.016174</td>\n",
       "      <td>0.019084</td>\n",
       "      <td>0.045489</td>\n",
       "      <td>0.016845</td>\n",
       "      <td>0.017999</td>\n",
       "      <td>0.018367</td>\n",
       "      <td>0.019679</td>\n",
       "    </tr>\n",
       "  </tbody>\n",
       "</table>\n",
       "<p>3 rows × 3403 columns</p>\n",
       "</div>"
      ],
      "text/plain": [
       "                        imprescrittibile   indurre  cooperazione  \\\n",
       "Paul VI Humanae Vitae           0.020728  0.014784      0.014236   \n",
       "Leo XIII Rerum Novarum          0.000000  0.000000      0.019671   \n",
       "Leo XIII Caritatis              0.000000  0.000000      0.000000   \n",
       "\n",
       "                        mantenere si  soluzione  relazione  oggettivo  \\\n",
       "Paul VI Humanae Vitae       0.018866   0.095961   0.023992   0.014629   \n",
       "Leo XIII Rerum Novarum      0.000000   0.037884   0.033151   0.000000   \n",
       "Leo XIII Caritatis          0.020889   0.000000   0.000000   0.000000   \n",
       "\n",
       "                        posseggano     unico  definitivo  ...  specifica  \\\n",
       "Paul VI Humanae Vitae     0.022637  0.010904    0.014784  ...    0.00000   \n",
       "Leo XIII Rerum Novarum    0.000000  0.015066    0.000000  ...    0.00000   \n",
       "Leo XIII Caritatis        0.000000  0.024145    0.000000  ...    0.02379   \n",
       "\n",
       "                        scivolare  profitto  implorare     razza  \\\n",
       "Paul VI Humanae Vitae     0.00000  0.000000   0.000000  0.000000   \n",
       "Leo XIII Rerum Novarum    0.00000  0.000000   0.000000  0.000000   \n",
       "Leo XIII Caritatis        0.02379  0.016319   0.016174  0.019084   \n",
       "\n",
       "                        comportamento   augusto   fautore  difensore  \\\n",
       "Paul VI Humanae Vitae        0.000000  0.000000  0.000000   0.000000   \n",
       "Leo XIII Rerum Novarum       0.000000  0.000000  0.000000   0.000000   \n",
       "Leo XIII Caritatis           0.045489  0.016845  0.017999   0.018367   \n",
       "\n",
       "                        pervadere  \n",
       "Paul VI Humanae Vitae    0.000000  \n",
       "Leo XIII Rerum Novarum   0.000000  \n",
       "Leo XIII Caritatis       0.019679  \n",
       "\n",
       "[3 rows x 3403 columns]"
      ]
     },
     "execution_count": 29,
     "metadata": {},
     "output_type": "execute_result"
    }
   ],
   "source": [
    "dfr.T"
   ]
  },
  {
   "cell_type": "code",
   "execution_count": 30,
   "id": "7566fe0e",
   "metadata": {},
   "outputs": [
    {
     "data": {
      "text/html": [
       "<div>\n",
       "<style scoped>\n",
       "    .dataframe tbody tr th:only-of-type {\n",
       "        vertical-align: middle;\n",
       "    }\n",
       "\n",
       "    .dataframe tbody tr th {\n",
       "        vertical-align: top;\n",
       "    }\n",
       "\n",
       "    .dataframe thead th {\n",
       "        text-align: right;\n",
       "    }\n",
       "</style>\n",
       "<table border=\"1\" class=\"dataframe\">\n",
       "  <thead>\n",
       "    <tr style=\"text-align: right;\">\n",
       "      <th></th>\n",
       "      <th>matrimonio</th>\n",
       "      <th>lavoro</th>\n",
       "    </tr>\n",
       "  </thead>\n",
       "  <tbody>\n",
       "    <tr>\n",
       "      <th>Paul VI Humanae Vitae</th>\n",
       "      <td>0.229734</td>\n",
       "      <td>0.019501</td>\n",
       "    </tr>\n",
       "    <tr>\n",
       "      <th>Leo XIII Rerum Novarum</th>\n",
       "      <td>0.005569</td>\n",
       "      <td>0.184127</td>\n",
       "    </tr>\n",
       "    <tr>\n",
       "      <th>Leo XIII Caritatis</th>\n",
       "      <td>0.013388</td>\n",
       "      <td>0.043184</td>\n",
       "    </tr>\n",
       "  </tbody>\n",
       "</table>\n",
       "</div>"
      ],
      "text/plain": [
       "                        matrimonio    lavoro\n",
       "Paul VI Humanae Vitae     0.229734  0.019501\n",
       "Leo XIII Rerum Novarum    0.005569  0.184127\n",
       "Leo XIII Caritatis        0.013388  0.043184"
      ]
     },
     "execution_count": 30,
     "metadata": {},
     "output_type": "execute_result"
    }
   ],
   "source": [
    "dfr.loc[['matrimonio', 'lavoro']].T"
   ]
  },
  {
   "cell_type": "code",
   "execution_count": 31,
   "id": "8dbea452",
   "metadata": {},
   "outputs": [
    {
     "data": {
      "image/png": "[encoded data removed]",
      "text/plain": [
       "<Figure size 432x288 with 1 Axes>"
      ]
     },
     "metadata": {
      "needs_background": "light"
     },
     "output_type": "display_data"
    }
   ],
   "source": [
    "fig, ax = plt.subplots()\n",
    "ax.scatter(dfr.T['matrimonio'], dfr.T['lavoro'])\n",
    "ax.set_ylim(-.1, .4)\n",
    "ax.set_xlim(-.1, .4)\n",
    "plt.tight_layout()\n",
    "plt.show()"
   ]
  },
  {
   "cell_type": "markdown",
   "id": "5a1a09f0",
   "metadata": {},
   "source": [
    "## Vectors of words"
   ]
  },
  {
   "cell_type": "code",
   "execution_count": 32,
   "id": "2f9f03cd",
   "metadata": {},
   "outputs": [],
   "source": [
    "words = dfr[['Leo XIII Rerum Novarum', 'Leo XIII Caritatis']]"
   ]
  },
  {
   "cell_type": "code",
   "execution_count": 33,
   "id": "47c33c50",
   "metadata": {},
   "outputs": [
    {
     "data": {
      "text/html": [
       "<div>\n",
       "<style scoped>\n",
       "    .dataframe tbody tr th:only-of-type {\n",
       "        vertical-align: middle;\n",
       "    }\n",
       "\n",
       "    .dataframe tbody tr th {\n",
       "        vertical-align: top;\n",
       "    }\n",
       "\n",
       "    .dataframe thead th {\n",
       "        text-align: right;\n",
       "    }\n",
       "</style>\n",
       "<table border=\"1\" class=\"dataframe\">\n",
       "  <thead>\n",
       "    <tr style=\"text-align: right;\">\n",
       "      <th></th>\n",
       "      <th>Leo XIII Rerum Novarum</th>\n",
       "      <th>Leo XIII Caritatis</th>\n",
       "    </tr>\n",
       "  </thead>\n",
       "  <tbody>\n",
       "    <tr>\n",
       "      <th>imprescrittibile</th>\n",
       "      <td>0.000000</td>\n",
       "      <td>0.000000</td>\n",
       "    </tr>\n",
       "    <tr>\n",
       "      <th>indurre</th>\n",
       "      <td>0.000000</td>\n",
       "      <td>0.000000</td>\n",
       "    </tr>\n",
       "    <tr>\n",
       "      <th>cooperazione</th>\n",
       "      <td>0.019671</td>\n",
       "      <td>0.000000</td>\n",
       "    </tr>\n",
       "    <tr>\n",
       "      <th>mantenere si</th>\n",
       "      <td>0.000000</td>\n",
       "      <td>0.020889</td>\n",
       "    </tr>\n",
       "    <tr>\n",
       "      <th>soluzione</th>\n",
       "      <td>0.037884</td>\n",
       "      <td>0.000000</td>\n",
       "    </tr>\n",
       "    <tr>\n",
       "      <th>...</th>\n",
       "      <td>...</td>\n",
       "      <td>...</td>\n",
       "    </tr>\n",
       "    <tr>\n",
       "      <th>comportamento</th>\n",
       "      <td>0.000000</td>\n",
       "      <td>0.045489</td>\n",
       "    </tr>\n",
       "    <tr>\n",
       "      <th>augusto</th>\n",
       "      <td>0.000000</td>\n",
       "      <td>0.016845</td>\n",
       "    </tr>\n",
       "    <tr>\n",
       "      <th>fautore</th>\n",
       "      <td>0.000000</td>\n",
       "      <td>0.017999</td>\n",
       "    </tr>\n",
       "    <tr>\n",
       "      <th>difensore</th>\n",
       "      <td>0.000000</td>\n",
       "      <td>0.018367</td>\n",
       "    </tr>\n",
       "    <tr>\n",
       "      <th>pervadere</th>\n",
       "      <td>0.000000</td>\n",
       "      <td>0.019679</td>\n",
       "    </tr>\n",
       "  </tbody>\n",
       "</table>\n",
       "<p>3403 rows × 2 columns</p>\n",
       "</div>"
      ],
      "text/plain": [
       "                  Leo XIII Rerum Novarum  Leo XIII Caritatis\n",
       "imprescrittibile                0.000000            0.000000\n",
       "indurre                         0.000000            0.000000\n",
       "cooperazione                    0.019671            0.000000\n",
       "mantenere si                    0.000000            0.020889\n",
       "soluzione                       0.037884            0.000000\n",
       "...                                  ...                 ...\n",
       "comportamento                   0.000000            0.045489\n",
       "augusto                         0.000000            0.016845\n",
       "fautore                         0.000000            0.017999\n",
       "difensore                       0.000000            0.018367\n",
       "pervadere                       0.000000            0.019679\n",
       "\n",
       "[3403 rows x 2 columns]"
      ]
     },
     "execution_count": 33,
     "metadata": {},
     "output_type": "execute_result"
    }
   ],
   "source": [
    "words"
   ]
  },
  {
   "cell_type": "code",
   "execution_count": 34,
   "id": "2d6230d2",
   "metadata": {},
   "outputs": [
    {
     "data": {
      "image/png": "[encoded data removed]",
      "text/plain": [
       "<Figure size 432x432 with 1 Axes>"
      ]
     },
     "metadata": {
      "needs_background": "light"
     },
     "output_type": "display_data"
    }
   ],
   "source": [
    "fig, ax = plt.subplots(figsize=(6, 6))\n",
    "ax.scatter(words.T.loc['Leo XIII Rerum Novarum'], \n",
    "           words.T.loc['Leo XIII Caritatis'], alpha=.3, s=15)\n",
    "ax.plot([0, .4], [0, .4], c='#cc0000', linewidth=.5)\n",
    "ax.set_ylim(-.01, .4)\n",
    "ax.set_xlim(-.01, .4)\n",
    "ax.set_xlabel('Leo XIII Rerum Novarum')\n",
    "ax.set_ylabel('Leo XIII Caritatis')\n",
    "plt.tight_layout()\n",
    "plt.show()"
   ]
  },
  {
   "cell_type": "markdown",
   "id": "0b24e960",
   "metadata": {},
   "source": [
    "$$\n",
    "y = a x + b\n",
    "$$"
   ]
  },
  {
   "cell_type": "markdown",
   "id": "9f1d2b7f",
   "metadata": {},
   "source": [
    "## Euclidean similarity"
   ]
  },
  {
   "cell_type": "code",
   "execution_count": 35,
   "id": "cd49f710",
   "metadata": {},
   "outputs": [],
   "source": [
    "v1 = dfr['Paul VI Humanae Vitae'].values\n",
    "v2 = dfr['Leo XIII Rerum Novarum'].values\n",
    "v3 = dfr['Leo XIII Caritatis'].values"
   ]
  },
  {
   "cell_type": "code",
   "execution_count": 36,
   "id": "13facfd2",
   "metadata": {},
   "outputs": [
    {
     "data": {
      "text/plain": [
       "1.3030388519631346"
      ]
     },
     "execution_count": 36,
     "metadata": {},
     "output_type": "execute_result"
    }
   ],
   "source": [
    "np.linalg.norm(v2 - v3)"
   ]
  },
  {
   "cell_type": "code",
   "execution_count": null,
   "id": "c5388c1e",
   "metadata": {},
   "outputs": [],
   "source": []
  },
  {
   "cell_type": "markdown",
   "id": "e80f2972",
   "metadata": {},
   "source": [
    "## Kullback–Leibler divergence\n",
    "\n",
    "$$\n",
    "KL(x) = P(x) \\log\\left(\\frac{P(x)}{Q(x)}\\right)\n",
    "$$"
   ]
  },
  {
   "cell_type": "code",
   "execution_count": 37,
   "id": "cecf3b11",
   "metadata": {},
   "outputs": [],
   "source": [
    "def generate_filter(pope, document):\n",
    "    return {'$match': {'pope': pope, 'document': document}}\n",
    "\n",
    "def term_count(field='lemma', m=None):\n",
    "    g = {'$group': {'_id': \"${}\".format(field), 'count': {'$sum': 1}}}\n",
    "    data = {}\n",
    "    if m is None:\n",
    "        pipeline = [g]\n",
    "    else:\n",
    "        pipeline = [m, g]\n",
    "    for record in db.aggregate(pipeline):\n",
    "        data[record['_id']] = record['count']\n",
    "    return pd.Series(data)"
   ]
  },
  {
   "cell_type": "code",
   "execution_count": 38,
   "id": "3add759e",
   "metadata": {},
   "outputs": [],
   "source": [
    "freq_star = term_count()\n",
    "freq_star_n = freq_star / freq_star.sum()"
   ]
  },
  {
   "cell_type": "code",
   "execution_count": 39,
   "id": "009ee65a",
   "metadata": {
    "scrolled": true
   },
   "outputs": [
    {
     "data": {
      "text/plain": [
       ",                       7.092050e-02\n",
       "il                      5.931947e-02\n",
       "e                       3.351192e-02\n",
       "di il                   3.310505e-02\n",
       ".                       3.016209e-02\n",
       "                            ...     \n",
       "populorum_progressio    5.930998e-07\n",
       "Nichilisti              5.930998e-07\n",
       "Aggiungendosi           5.930998e-07\n",
       "sofferre ti             5.930998e-07\n",
       "NONCHÈ                  5.930998e-07\n",
       "Length: 43723, dtype: float64"
      ]
     },
     "execution_count": 39,
     "metadata": {},
     "output_type": "execute_result"
    }
   ],
   "source": [
    "freq_star_n.sort_values(ascending=False)"
   ]
  },
  {
   "cell_type": "code",
   "execution_count": 40,
   "id": "49efa7ca",
   "metadata": {},
   "outputs": [
    {
     "data": {
      "image/png": "[encoded data removed]",
      "text/plain": [
       "<Figure size 432x216 with 1 Axes>"
      ]
     },
     "metadata": {
      "needs_background": "light"
     },
     "output_type": "display_data"
    }
   ],
   "source": [
    "fig, ax = plt.subplots(figsize=(6, 3))\n",
    "ax.plot(freq_star.sort_values(ascending=False).values, c='#cc0000', linewidth=.5, marker='.')\n",
    "plt.tight_layout()\n",
    "plt.show()"
   ]
  },
  {
   "cell_type": "code",
   "execution_count": 41,
   "id": "eaa833e7",
   "metadata": {},
   "outputs": [
    {
     "data": {
      "image/png": "[encoded data removed]",
      "text/plain": [
       "<Figure size 432x216 with 1 Axes>"
      ]
     },
     "metadata": {
      "needs_background": "light"
     },
     "output_type": "display_data"
    }
   ],
   "source": [
    "fig, ax = plt.subplots(figsize=(6, 3))\n",
    "ax.plot(np.arange(0.01, 4, .1), np.log(np.arange(0.01, 4, .1)), c='#cc0000', linewidth=.5, marker='.')\n",
    "plt.tight_layout()\n",
    "plt.show()"
   ]
  },
  {
   "cell_type": "code",
   "execution_count": 42,
   "id": "0f426735",
   "metadata": {},
   "outputs": [],
   "source": [
    "freq_hv = term_count(m=generate_filter('Paul VI', 'Humanae Vitae'))\n",
    "freq_hv_n = freq_hv / freq_hv.sum()"
   ]
  },
  {
   "cell_type": "code",
   "execution_count": 43,
   "id": "65035e9b",
   "metadata": {},
   "outputs": [
    {
     "data": {
      "text/plain": [
       ",            0.067611\n",
       "il           0.061824\n",
       "di il        0.044160\n",
       "e            0.033501\n",
       "di           0.030303\n",
       "               ...   \n",
       "indebito     0.000152\n",
       "docile       0.000152\n",
       "obiettare    0.000152\n",
       "dotare       0.000152\n",
       "fornire      0.000152\n",
       "Length: 1381, dtype: float64"
      ]
     },
     "execution_count": 43,
     "metadata": {},
     "output_type": "execute_result"
    }
   ],
   "source": [
    "freq_hv_n.sort_values(ascending=False)"
   ]
  },
  {
   "cell_type": "code",
   "execution_count": 44,
   "id": "0d957dfe",
   "metadata": {},
   "outputs": [
    {
     "name": "stdout",
     "output_type": "stream",
     "text": [
      "0.00015227653418608191 0.00011802685199847929 1.2901855095486567\n",
      "0.2547860138861823\n"
     ]
    }
   ],
   "source": [
    "word = 'laico'\n",
    "print(freq_hv_n[word], freq_star_n[word], freq_hv_n[word] / freq_star_n[word])\n",
    "print(np.log(freq_hv_n[word] / freq_star_n[word]))"
   ]
  },
  {
   "cell_type": "code",
   "execution_count": 45,
   "id": "9323fb44",
   "metadata": {},
   "outputs": [],
   "source": [
    "vocabulary = freq_hv_n.index.values\n",
    "kl_hv = freq_hv_n * np.log(freq_hv_n / freq_star_n[vocabulary])"
   ]
  },
  {
   "cell_type": "code",
   "execution_count": 46,
   "id": "d89ee7a0",
   "metadata": {},
   "outputs": [
    {
     "data": {
      "text/plain": [
       "coniugale      0.021541\n",
       "sposo          0.015181\n",
       "di il          0.012724\n",
       "coniuge        0.009076\n",
       "regolazione    0.008666\n",
       "a il           0.007861\n",
       "matrimonio     0.007541\n",
       "atto           0.006759\n",
       "natalità       0.006732\n",
       "legge          0.006436\n",
       "dtype: float64"
      ]
     },
     "execution_count": 46,
     "metadata": {},
     "output_type": "execute_result"
    }
   ],
   "source": [
    "kl_hv.sort_values(ascending=False).head(10)"
   ]
  },
  {
   "cell_type": "markdown",
   "id": "fecbd423",
   "metadata": {},
   "source": [
    "## Co-occurrences"
   ]
  },
  {
   "cell_type": "code",
   "execution_count": 54,
   "id": "9a507f40",
   "metadata": {},
   "outputs": [],
   "source": [
    "import nltk"
   ]
  },
  {
   "cell_type": "code",
   "execution_count": 60,
   "id": "9fbcced6",
   "metadata": {},
   "outputs": [],
   "source": [
    "def get_sentences(pope, document, field='lemma'):\n",
    "    q = {'$group': {'_id': {'pope': '$pope', 'document': '$document', 'sentence': '$sentence'}, \n",
    "                    'tokens': {'$push': {'sentence': '$sentence', \n",
    "                                         'token': '${}'.format(field),\n",
    "                                         'idx': '$idx',\n",
    "                                         'pos': '$pos'\n",
    "                                        }}}}\n",
    "    docs = []\n",
    "    sentence, previous = [], -1\n",
    "    for record in db.aggregate([q], allowDiskUse=True):\n",
    "        docs.append(record['tokens'])\n",
    "    return docs\n",
    "\n",
    "def to_words(sentence):\n",
    "    return [x['token'] for x in sorted(sentence, key=lambda w: w['idx'])]"
   ]
  },
  {
   "cell_type": "code",
   "execution_count": 84,
   "id": "ec239ded",
   "metadata": {},
   "outputs": [],
   "source": [
    "sentences = get_sentences('Paul VI', 'Humanae Vitae', field='lemma')"
   ]
  },
  {
   "cell_type": "markdown",
   "id": "938afb2a",
   "metadata": {},
   "source": [
    "### n-gram"
   ]
  },
  {
   "cell_type": "code",
   "execution_count": 80,
   "id": "b14ec06e",
   "metadata": {},
   "outputs": [],
   "source": [
    "from collections import defaultdict"
   ]
  },
  {
   "cell_type": "code",
   "execution_count": 71,
   "id": "c00d93ae",
   "metadata": {},
   "outputs": [],
   "source": [
    "s1 = to_words(sentence=sentences[12][:11])\n",
    "example = \" \".join(s1).lower()"
   ]
  },
  {
   "cell_type": "code",
   "execution_count": 102,
   "id": "b1c6ab97",
   "metadata": {},
   "outputs": [
    {
     "name": "stdout",
     "output_type": "stream",
     "text": [
      "e come sarebbe potuto accadere che divenuti noi padre di tutti\n",
      "('e', 'come')\n",
      "('come', 'sarebbe')\n",
      "('sarebbe', 'potuto')\n",
      "('potuto', 'accadere')\n",
      "('accadere', 'che')\n",
      "('che', 'divenuti')\n",
      "('divenuti', 'noi')\n",
      "('noi', 'padre')\n",
      "('padre', 'di')\n",
      "('di', 'tutti')\n"
     ]
    }
   ],
   "source": [
    "print(example)\n",
    "for bigram in nltk.ngrams(example.split(), n=2):\n",
    "    print(bigram)"
   ]
  },
  {
   "cell_type": "code",
   "execution_count": 86,
   "id": "a4f40b98",
   "metadata": {},
   "outputs": [],
   "source": [
    "bigram_freq = defaultdict(lambda: 0)\n",
    "for sentence in sentences:\n",
    "    for bigram in nltk.ngrams([w['token'] for w in sentence], n=2):\n",
    "        bigram_freq[bigram] += 1"
   ]
  },
  {
   "cell_type": "code",
   "execution_count": 92,
   "id": "3f04acf7",
   "metadata": {},
   "outputs": [],
   "source": [
    "unigram_freq = defaultdict(lambda: 0)\n",
    "for sentence in sentences:\n",
    "    for unigram in [w['token'] for w in sentence]:\n",
    "        unigram_freq[unigram] += 1"
   ]
  },
  {
   "cell_type": "code",
   "execution_count": 93,
   "id": "7a79f8fd",
   "metadata": {},
   "outputs": [],
   "source": [
    "bigrams = pd.Series(bigram_freq).sort_values(ascending=False)\n",
    "bgrams_n = bigrams / bigrams.sum()\n",
    "unigrams = pd.Series(unigram_freq).sort_values(ascending=False)\n",
    "unigrams_n = unigrams / unigrams.sum()"
   ]
  },
  {
   "cell_type": "markdown",
   "id": "0492cb76",
   "metadata": {},
   "source": [
    "$$\n",
    "P(w_i, w_j), \\ P(w)\n",
    "$$\n",
    "\n",
    "## Pointwise mutual information\n",
    "\n",
    "$$\n",
    "PMI(w_i, w_j) = P(w_i, w_j) \\log\\left(\\frac{P(w_i, w_j)}{P(w_i)P(w_j)}\\right)\n",
    "$$"
   ]
  },
  {
   "cell_type": "code",
   "execution_count": 104,
   "id": "362527df",
   "metadata": {},
   "outputs": [
    {
     "data": {
      "text/plain": [
       "6.598689506112792e-05"
      ]
     },
     "execution_count": 104,
     "metadata": {},
     "output_type": "execute_result"
    }
   ],
   "source": [
    "w1, w2 = 'il', 'matrimonio'\n",
    "num = bgrams_n[(w1, w2)]\n",
    "den = unigrams_n[w1]*unigrams_n[w2]\n",
    "num * np.log(num / den)"
   ]
  },
  {
   "cell_type": "code",
   "execution_count": 105,
   "id": "2b61ca3c",
   "metadata": {},
   "outputs": [
    {
     "data": {
      "text/plain": [
       "3.858440571267503"
      ]
     },
     "execution_count": 105,
     "metadata": {},
     "output_type": "execute_result"
    }
   ],
   "source": [
    "num / den"
   ]
  },
  {
   "cell_type": "code",
   "execution_count": null,
   "id": "92043329",
   "metadata": {},
   "outputs": [],
   "source": []
  }
 ],
 "metadata": {
  "kernelspec": {
   "display_name": "crike",
   "language": "python",
   "name": "crike"
  },
  "language_info": {
   "codemirror_mode": {
    "name": "ipython",
    "version": 3
   },
   "file_extension": ".py",
   "mimetype": "text/x-python",
   "name": "python",
   "nbconvert_exporter": "python",
   "pygments_lexer": "ipython3",
   "version": "3.8.8"
  },
  "toc": {
   "base_numbering": 1,
   "nav_menu": {},
   "number_sections": true,
   "sideBar": true,
   "skip_h1_title": false,
   "title_cell": "Table of Contents",
   "title_sidebar": "Contents",
   "toc_cell": false,
   "toc_position": {},
   "toc_section_display": true,
   "toc_window_display": false
  }
 },
 "nbformat": 4,
 "nbformat_minor": 5
}
