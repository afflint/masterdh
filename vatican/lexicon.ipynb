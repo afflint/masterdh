{
 "cells": [
  {
   "cell_type": "markdown",
   "id": "2ae9533c",
   "metadata": {},
   "source": [
    "# Explore lexicon in Vatican publications"
   ]
  },
  {
   "cell_type": "code",
   "execution_count": 1,
   "id": "35c81a64",
   "metadata": {},
   "outputs": [],
   "source": [
    "import pandas as pd\n",
    "import numpy as np\n",
    "from tqdm.notebook import tqdm"
   ]
  },
  {
   "cell_type": "code",
   "execution_count": 2,
   "id": "4914f3fc",
   "metadata": {},
   "outputs": [],
   "source": [
    "import pymongo"
   ]
  },
  {
   "cell_type": "code",
   "execution_count": 3,
   "id": "b6e13abe",
   "metadata": {},
   "outputs": [],
   "source": [
    "db = pymongo.MongoClient()['vatican']['tokens']"
   ]
  },
  {
   "cell_type": "code",
   "execution_count": 4,
   "id": "c7200fef",
   "metadata": {},
   "outputs": [],
   "source": [
    "def documents():\n",
    "    q = {'$group': {'_id': {'pope': '$pope', 'document': '$document'}}}\n",
    "    docs = []\n",
    "    for record in db.aggregate([q]):\n",
    "        docs.append((record['_id']['pope'], record['_id']['document']))\n",
    "    return docs"
   ]
  },
  {
   "cell_type": "code",
   "execution_count": 5,
   "id": "7feb508e",
   "metadata": {},
   "outputs": [],
   "source": [
    "docs = documents()"
   ]
  },
  {
   "cell_type": "code",
   "execution_count": 6,
   "id": "8e18da04",
   "metadata": {},
   "outputs": [
    {
     "data": {
      "text/plain": [
       "196"
      ]
     },
     "execution_count": 6,
     "metadata": {},
     "output_type": "execute_result"
    }
   ],
   "source": [
    "len(docs)"
   ]
  },
  {
   "cell_type": "code",
   "execution_count": 95,
   "id": "e5b5eeb8",
   "metadata": {},
   "outputs": [
    {
     "data": {
      "text/plain": [
       "[('Leo XIII', 'Litteras A Vobis'),\n",
       " ('Leo XIII', 'Iucunda Semper Expectatione'),\n",
       " ('Leo XIII', 'Pastoralis Officii'),\n",
       " ('Leo XIII', 'Supremi Apostolatus Officio'),\n",
       " ('Leo XIII', 'Etsi Nos'),\n",
       " ('Leo XIII', 'Quod Apostolici Muneris'),\n",
       " ('Leo XIII', 'In Plurimis'),\n",
       " ('Leo XIII', 'Licet Multa'),\n",
       " ('Leo XIII', 'Paterna Caritas'),\n",
       " ('Leo XIII', 'Spectata Fides'),\n",
       " ('Leo XIII', 'Affari Vos'),\n",
       " ('Leo XIII', 'Cum Multa'),\n",
       " ('Leo XIII', 'Inimica Vis'),\n",
       " ('Leo XIII', 'Libertas'),\n",
       " ('Leo XIII', 'In Ipso'),\n",
       " ('Leo XIII', 'Grande Munus'),\n",
       " ('Leo XIII', 'Pastoralis'),\n",
       " ('Leo XIII', 'Sancta Dei Civitas'),\n",
       " ('Leo XIII', 'Longinqua'),\n",
       " ('Leo XIII', 'Magni Nobis'),\n",
       " ('Leo XIII', 'Pergrata'),\n",
       " ('Leo XIII', 'Quamquam Pluries'),\n",
       " ('Leo XIII', 'Iampridem'),\n",
       " ('Leo XIII', 'Custodi Di Quella Fede'),\n",
       " ('Leo XIII', 'Quod Auctoritate'),\n",
       " ('Leo XIII', 'Exeunte Iam Anno'),\n",
       " ('Leo XIII', 'Caritatis'),\n",
       " ('Leo XIII', 'Arcanum'),\n",
       " ('Leo XIII', 'Constanti Hungarorum'),\n",
       " ('Leo XIII', 'Inter Graves'),\n",
       " ('Leo XIII', 'Mirae Caritatis'),\n",
       " ('Leo XIII', 'Fidentem Piumque Animum'),\n",
       " ('Leo XIII', 'Aeterni Patris'),\n",
       " ('Leo XIII', 'Officio Sanctissimo'),\n",
       " ('Leo XIII', 'Superiore Anno'),\n",
       " ('Leo XIII', 'Inscrutabili Dei Consilio'),\n",
       " ('Leo XIII', 'Quarto Abeunte Saeculo'),\n",
       " ('Leo XIII', 'Laetitiae Sanctae'),\n",
       " ('Leo XIII', 'Etsi Cunctas'),\n",
       " ('Leo XIII', 'Insignes'),\n",
       " ('Leo XIII', 'Apostolico Seggio'),\n",
       " ('Leo XIII', 'Ad Extremas'),\n",
       " ('Leo XIII', 'Spesse Volte'),\n",
       " ('Leo XIII', 'Saepe Nos'),\n",
       " ('Leo XIII', 'Satis Cognitum'),\n",
       " ('Leo XIII', 'Immortale Dei'),\n",
       " ('Leo XIII', 'Humanum Genus'),\n",
       " ('Leo XIII', 'Quod Multum'),\n",
       " ('Leo XIII', 'Rerum Novarum'),\n",
       " ('Leo XIII', 'Nobilissima Gallorum Gens'),\n",
       " ('Leo XIII', 'Providentissimus Deus'),\n",
       " ('Leo XIII', 'Christi Nomen'),\n",
       " ('Leo XIII', 'Catholicae Ecclesiae'),\n",
       " ('Leo XIII', 'Vi E Ben Noto'),\n",
       " ('Leo XIII', 'Non Mediocri'),\n",
       " ('Leo XIII', 'Magnae Dei Matris'),\n",
       " ('Leo XIII', 'Sapientiae Christianae'),\n",
       " ('Leo XIII', 'Fin Dal Principio'),\n",
       " ('Leo XIII', 'Quam Aerumnosa'),\n",
       " ('Leo XIII', 'Diuturnum'),\n",
       " ('Leo XIII', 'Au Milieu Des Sollicitudes'),\n",
       " ('Leo XIII', 'Quod Anniversarius'),\n",
       " ('Leo XIII', 'Adiutricem'),\n",
       " ('Leo XIII', 'Auspicato Concessum'),\n",
       " ('Leo XIII', 'Octobri Mense')]"
      ]
     },
     "execution_count": 95,
     "metadata": {},
     "output_type": "execute_result"
    }
   ],
   "source": [
    "[(x, y) for x, y in docs if x == 'Leo XIII']"
   ]
  },
  {
   "cell_type": "markdown",
   "id": "6506e44b",
   "metadata": {},
   "source": [
    "## Term Frequency (TF)\n",
    "\n",
    "$$\n",
    "tf(d, t) = \\frac{count(d, t)}{\\max\\limits_{i}^{n} count(d, t_i)}\n",
    "$$"
   ]
  },
  {
   "cell_type": "code",
   "execution_count": 9,
   "id": "b80d59e3",
   "metadata": {},
   "outputs": [],
   "source": [
    "def document_term_count(pope, document, field='lemma'):\n",
    "    m = {'$match': {'pope': pope, 'document': document}}\n",
    "    g = {'$group': {'_id': \"${}\".format(field), 'count': {'$sum': 1}}}\n",
    "    data = {}\n",
    "    for record in db.aggregate([m, g]):\n",
    "        data[record['_id']] = record['count']\n",
    "    return pd.Series(data)"
   ]
  },
  {
   "cell_type": "code",
   "execution_count": 71,
   "id": "3d8d67c1",
   "metadata": {},
   "outputs": [],
   "source": [
    "pope, document = 'Paul VI', 'Humanae Vitae'\n",
    "tf_count = document_term_count(pope, document)\n",
    "tf = tf_count / tf_count.max()"
   ]
  },
  {
   "cell_type": "code",
   "execution_count": 72,
   "id": "3f830f5e",
   "metadata": {},
   "outputs": [
    {
     "data": {
      "text/plain": [
       ",         444\n",
       "il        406\n",
       "di il     290\n",
       "e         220\n",
       "di        199\n",
       ".         193\n",
       "a il      135\n",
       "essere    127\n",
       "che       116\n",
       "uno        80\n",
       "dtype: int64"
      ]
     },
     "execution_count": 72,
     "metadata": {},
     "output_type": "execute_result"
    }
   ],
   "source": [
    "tf_count.sort_values(ascending=False).head(10)"
   ]
  },
  {
   "cell_type": "code",
   "execution_count": 73,
   "id": "b589481b",
   "metadata": {},
   "outputs": [
    {
     "data": {
      "text/plain": [
       ",         1.000000\n",
       "il        0.914414\n",
       "di il     0.653153\n",
       "e         0.495495\n",
       "di        0.448198\n",
       ".         0.434685\n",
       "a il      0.304054\n",
       "essere    0.286036\n",
       "che       0.261261\n",
       "uno       0.180180\n",
       "dtype: float64"
      ]
     },
     "execution_count": 73,
     "metadata": {},
     "output_type": "execute_result"
    }
   ],
   "source": [
    "tf.sort_values(ascending=False).head(10)"
   ]
  },
  {
   "cell_type": "markdown",
   "id": "525216ef",
   "metadata": {},
   "source": [
    "## Document Frequency and Inverse Document Frequency (IDF)\n",
    "\n",
    "$$\n",
    "df(t) = \\mid\\{ d_i : t \\in d_i \\}\\mid\n",
    "$$\n",
    "\n",
    "$$\n",
    "idf(t) = \\log \\frac{N}{df(t)}\n",
    "$$"
   ]
  },
  {
   "cell_type": "code",
   "execution_count": 74,
   "id": "3cd557cb",
   "metadata": {},
   "outputs": [],
   "source": [
    "def sentence_df(field='lemma'):\n",
    "    g = {'$group': {'_id': {'token': \"${}\".format(field), 'document': \"$document\", 'sentence': \"$sentence\"}}}\n",
    "    g2 = {'$group': {'_id': '$_id.token', 'count': {'$sum': 1}}}\n",
    "    data = {}\n",
    "    for record in db.aggregate([g, g2], allowDiskUse=True):\n",
    "        data[record['_id']] = record['count']\n",
    "    return pd.Series(data)\n",
    "\n",
    "def sentence_count():\n",
    "    g = {'$group': {'_id': {'document': \"$document\", 'sentence': \"$sentence\"}}}\n",
    "    return len([x for x in db.aggregate([g])])"
   ]
  },
  {
   "cell_type": "code",
   "execution_count": 75,
   "id": "9ab58ec0",
   "metadata": {},
   "outputs": [],
   "source": [
    "df = sentence_df()\n",
    "s_count = sentence_count()"
   ]
  },
  {
   "cell_type": "code",
   "execution_count": 76,
   "id": "303fdfc8",
   "metadata": {},
   "outputs": [
    {
     "data": {
      "text/plain": [
       "69512"
      ]
     },
     "execution_count": 76,
     "metadata": {},
     "output_type": "execute_result"
    }
   ],
   "source": [
    "s_count"
   ]
  },
  {
   "cell_type": "code",
   "execution_count": 77,
   "id": "a6d68f6c",
   "metadata": {},
   "outputs": [
    {
     "data": {
      "text/plain": [
       ".         50205\n",
       ",         45529\n",
       "il        41112\n",
       "e         31473\n",
       "di il     29058\n",
       "di        27873\n",
       "essere    23354\n",
       "che       22799\n",
       "a il      16575\n",
       "a         15565\n",
       "dtype: int64"
      ]
     },
     "execution_count": 77,
     "metadata": {},
     "output_type": "execute_result"
    }
   ],
   "source": [
    "df.sort_values(ascending=False).head(10)"
   ]
  },
  {
   "cell_type": "code",
   "execution_count": 85,
   "id": "31d6aba4",
   "metadata": {},
   "outputs": [],
   "source": [
    "idf = np.log(s_count / df)"
   ]
  },
  {
   "cell_type": "code",
   "execution_count": 86,
   "id": "ef49fe7b",
   "metadata": {},
   "outputs": [
    {
     "data": {
      "text/plain": [
       "quell'«apparizione    11.149255\n",
       "flessibilità          11.149255\n",
       "anelino               11.149255\n",
       "moltiplicassero       11.149255\n",
       "indeterminare         11.149255\n",
       "mangrovie             11.149255\n",
       "liberati»187          11.149255\n",
       "mediterraneo          11.149255\n",
       "universale.(Is        11.149255\n",
       "inasprimento          11.149255\n",
       "dtype: float64"
      ]
     },
     "execution_count": 86,
     "metadata": {},
     "output_type": "execute_result"
    }
   ],
   "source": [
    "idf.sort_values(ascending=False).head(10)"
   ]
  },
  {
   "cell_type": "markdown",
   "id": "23221dab",
   "metadata": {},
   "source": [
    "## TfIdf\n",
    "\n",
    "$$\n",
    "tfidf(d, t) = tf(d, t) \\cdot idf(t)\n",
    "$$"
   ]
  },
  {
   "cell_type": "code",
   "execution_count": 87,
   "id": "83220912",
   "metadata": {},
   "outputs": [],
   "source": [
    "def tfidf(tf, idf, min_idf=0):\n",
    "    tfidf_data = {}\n",
    "    for t, tf_x in tf.items():\n",
    "        idf_w = idf[t]\n",
    "        if idf_w >= min_idf:\n",
    "            tfidf_data[t] = tf_x * idf_w \n",
    "    return pd.Series(tfidf_data)"
   ]
  },
  {
   "cell_type": "code",
   "execution_count": 88,
   "id": "131252eb",
   "metadata": {},
   "outputs": [],
   "source": [
    "tfidf_hv = tfidf(tf, idf, min_idf=4)"
   ]
  },
  {
   "cell_type": "code",
   "execution_count": 89,
   "id": "cf5cf877",
   "metadata": {},
   "outputs": [
    {
     "data": {
      "text/plain": [
       "coniugale      0.473365\n",
       "sposo          0.361592\n",
       "coniuge        0.242326\n",
       "matrimonio     0.229734\n",
       "atto           0.219487\n",
       "regolazione    0.207530\n",
       "morale         0.198530\n",
       "naturale       0.173230\n",
       "natalità       0.168568\n",
       "paternità      0.165374\n",
       "dtype: float64"
      ]
     },
     "execution_count": 89,
     "metadata": {},
     "output_type": "execute_result"
    }
   ],
   "source": [
    "tfidf_hv.sort_values(ascending=False).head(10)"
   ]
  },
  {
   "cell_type": "code",
   "execution_count": 91,
   "id": "17dc5d1f",
   "metadata": {},
   "outputs": [
    {
     "data": {
      "text/plain": [
       "(0.22973358579235933, 0.019501073485787893)"
      ]
     },
     "execution_count": 91,
     "metadata": {},
     "output_type": "execute_result"
    }
   ],
   "source": [
    "tfidf_hv['matrimonio'], tfidf_hv['lavoro']"
   ]
  },
  {
   "cell_type": "code",
   "execution_count": 92,
   "id": "ee3109ea",
   "metadata": {},
   "outputs": [],
   "source": [
    "import matplotlib.pyplot as plt"
   ]
  },
  {
   "cell_type": "code",
   "execution_count": 93,
   "id": "53a91826",
   "metadata": {},
   "outputs": [
    {
     "data": {
      "image/png": "[encoded data removed]",
      "text/plain": [
       "<Figure size 432x288 with 1 Axes>"
      ]
     },
     "metadata": {
      "needs_background": "light"
     },
     "output_type": "display_data"
    }
   ],
   "source": [
    "fig, ax = plt.subplots()\n",
    "ax.scatter([tfidf_hv['matrimonio']], [tfidf_hv['lavoro']])\n",
    "plt.tight_layout()\n",
    "plt.show()"
   ]
  },
  {
   "cell_type": "code",
   "execution_count": 97,
   "id": "7dbf2406",
   "metadata": {},
   "outputs": [],
   "source": [
    "def doc_tfidf(pope, document):\n",
    "    tf_count = document_term_count(pope, document)\n",
    "    tf = tf_count / tf_count.max()\n",
    "    tfidf_x = tfidf(tf, idf, min_idf=4)\n",
    "    return tfidf_x"
   ]
  },
  {
   "cell_type": "code",
   "execution_count": 99,
   "id": "97b7b284",
   "metadata": {},
   "outputs": [],
   "source": [
    "from collections import defaultdict"
   ]
  },
  {
   "cell_type": "code",
   "execution_count": 112,
   "id": "789ba3cf",
   "metadata": {},
   "outputs": [],
   "source": [
    "d1 = ('Paul VI', 'Humanae Vitae')\n",
    "d2 = ('Leo XIII', 'Rerum Novarum')\n",
    "d3 = ('Leo XIII', 'Caritatis')\n",
    "cases = [d1, d2, d3]\n",
    "index_docs = defaultdict(lambda: defaultdict(lambda: 0))\n",
    "for pope, doc in cases:\n",
    "    data_case = doc_tfidf(pope, doc)\n",
    "    for word, tfidf_w in data_case.items():\n",
    "        index_docs[\"{} {}\".format(pope, doc)][word] = tfidf_w"
   ]
  },
  {
   "cell_type": "code",
   "execution_count": 113,
   "id": "91b2b4f5",
   "metadata": {},
   "outputs": [],
   "source": [
    "dfr = pd.DataFrame(index_docs).fillna(0)"
   ]
  },
  {
   "cell_type": "code",
   "execution_count": 114,
   "id": "e6fb8e5a",
   "metadata": {},
   "outputs": [
    {
     "data": {
      "text/html": [
       "<div>\n",
       "<style scoped>\n",
       "    .dataframe tbody tr th:only-of-type {\n",
       "        vertical-align: middle;\n",
       "    }\n",
       "\n",
       "    .dataframe tbody tr th {\n",
       "        vertical-align: top;\n",
       "    }\n",
       "\n",
       "    .dataframe thead th {\n",
       "        text-align: right;\n",
       "    }\n",
       "</style>\n",
       "<table border=\"1\" class=\"dataframe\">\n",
       "  <thead>\n",
       "    <tr style=\"text-align: right;\">\n",
       "      <th></th>\n",
       "      <th>Paul VI Humanae Vitae</th>\n",
       "      <th>Leo XIII Rerum Novarum</th>\n",
       "      <th>Leo XIII Caritatis</th>\n",
       "    </tr>\n",
       "  </thead>\n",
       "  <tbody>\n",
       "    <tr>\n",
       "      <th>operaio</th>\n",
       "      <td>0.000000</td>\n",
       "      <td>0.344368</td>\n",
       "      <td>0.027143</td>\n",
       "    </tr>\n",
       "    <tr>\n",
       "      <th>stato</th>\n",
       "      <td>0.019365</td>\n",
       "      <td>0.236363</td>\n",
       "      <td>0.139373</td>\n",
       "    </tr>\n",
       "    <tr>\n",
       "      <th>lavoro</th>\n",
       "      <td>0.019501</td>\n",
       "      <td>0.184127</td>\n",
       "      <td>0.043184</td>\n",
       "    </tr>\n",
       "    <tr>\n",
       "      <th>società</th>\n",
       "      <td>0.036108</td>\n",
       "      <td>0.166307</td>\n",
       "      <td>0.059970</td>\n",
       "    </tr>\n",
       "    <tr>\n",
       "      <th>proprietà</th>\n",
       "      <td>0.000000</td>\n",
       "      <td>0.156526</td>\n",
       "      <td>0.000000</td>\n",
       "    </tr>\n",
       "    <tr>\n",
       "      <th>...</th>\n",
       "      <td>...</td>\n",
       "      <td>...</td>\n",
       "      <td>...</td>\n",
       "    </tr>\n",
       "    <tr>\n",
       "      <th>recente</th>\n",
       "      <td>0.040631</td>\n",
       "      <td>0.000000</td>\n",
       "      <td>0.000000</td>\n",
       "    </tr>\n",
       "    <tr>\n",
       "      <th>promulgare</th>\n",
       "      <td>0.016392</td>\n",
       "      <td>0.000000</td>\n",
       "      <td>0.000000</td>\n",
       "    </tr>\n",
       "    <tr>\n",
       "      <th>addirittura</th>\n",
       "      <td>0.014808</td>\n",
       "      <td>0.000000</td>\n",
       "      <td>0.000000</td>\n",
       "    </tr>\n",
       "    <tr>\n",
       "      <th>direttiva</th>\n",
       "      <td>0.015542</td>\n",
       "      <td>0.000000</td>\n",
       "      <td>0.017209</td>\n",
       "    </tr>\n",
       "    <tr>\n",
       "      <th>opposero</th>\n",
       "      <td>0.000000</td>\n",
       "      <td>0.000000</td>\n",
       "      <td>0.023790</td>\n",
       "    </tr>\n",
       "  </tbody>\n",
       "</table>\n",
       "<p>3403 rows × 3 columns</p>\n",
       "</div>"
      ],
      "text/plain": [
       "             Paul VI Humanae Vitae  Leo XIII Rerum Novarum  Leo XIII Caritatis\n",
       "operaio                   0.000000                0.344368            0.027143\n",
       "stato                     0.019365                0.236363            0.139373\n",
       "lavoro                    0.019501                0.184127            0.043184\n",
       "società                   0.036108                0.166307            0.059970\n",
       "proprietà                 0.000000                0.156526            0.000000\n",
       "...                            ...                     ...                 ...\n",
       "recente                   0.040631                0.000000            0.000000\n",
       "promulgare                0.016392                0.000000            0.000000\n",
       "addirittura               0.014808                0.000000            0.000000\n",
       "direttiva                 0.015542                0.000000            0.017209\n",
       "opposero                  0.000000                0.000000            0.023790\n",
       "\n",
       "[3403 rows x 3 columns]"
      ]
     },
     "execution_count": 114,
     "metadata": {},
     "output_type": "execute_result"
    }
   ],
   "source": [
    "dfr.sort_values('Leo XIII Rerum Novarum', ascending=False)"
   ]
  },
  {
   "cell_type": "code",
   "execution_count": 115,
   "id": "7566fe0e",
   "metadata": {},
   "outputs": [
    {
     "data": {
      "text/html": [
       "<div>\n",
       "<style scoped>\n",
       "    .dataframe tbody tr th:only-of-type {\n",
       "        vertical-align: middle;\n",
       "    }\n",
       "\n",
       "    .dataframe tbody tr th {\n",
       "        vertical-align: top;\n",
       "    }\n",
       "\n",
       "    .dataframe thead th {\n",
       "        text-align: right;\n",
       "    }\n",
       "</style>\n",
       "<table border=\"1\" class=\"dataframe\">\n",
       "  <thead>\n",
       "    <tr style=\"text-align: right;\">\n",
       "      <th></th>\n",
       "      <th>matrimonio</th>\n",
       "      <th>lavoro</th>\n",
       "    </tr>\n",
       "  </thead>\n",
       "  <tbody>\n",
       "    <tr>\n",
       "      <th>Paul VI Humanae Vitae</th>\n",
       "      <td>0.229734</td>\n",
       "      <td>0.019501</td>\n",
       "    </tr>\n",
       "    <tr>\n",
       "      <th>Leo XIII Rerum Novarum</th>\n",
       "      <td>0.005569</td>\n",
       "      <td>0.184127</td>\n",
       "    </tr>\n",
       "    <tr>\n",
       "      <th>Leo XIII Caritatis</th>\n",
       "      <td>0.013388</td>\n",
       "      <td>0.043184</td>\n",
       "    </tr>\n",
       "  </tbody>\n",
       "</table>\n",
       "</div>"
      ],
      "text/plain": [
       "                        matrimonio    lavoro\n",
       "Paul VI Humanae Vitae     0.229734  0.019501\n",
       "Leo XIII Rerum Novarum    0.005569  0.184127\n",
       "Leo XIII Caritatis        0.013388  0.043184"
      ]
     },
     "execution_count": 115,
     "metadata": {},
     "output_type": "execute_result"
    }
   ],
   "source": [
    "dfr.loc[['matrimonio', 'lavoro']].T"
   ]
  },
  {
   "cell_type": "code",
   "execution_count": 118,
   "id": "8dbea452",
   "metadata": {},
   "outputs": [
    {
     "data": {
      "image/png": "[encoded data removed]",
      "text/plain": [
       "<Figure size 432x288 with 1 Axes>"
      ]
     },
     "metadata": {
      "needs_background": "light"
     },
     "output_type": "display_data"
    }
   ],
   "source": [
    "fig, ax = plt.subplots()\n",
    "ax.scatter(dfr.T['matrimonio'], dfr.T['lavoro'])\n",
    "ax.set_ylim(-.1, .4)\n",
    "ax.set_xlim(-.1, .4)\n",
    "plt.tight_layout()\n",
    "plt.show()"
   ]
  },
  {
   "cell_type": "markdown",
   "id": "9f1d2b7f",
   "metadata": {},
   "source": [
    "## Euclidean similarity"
   ]
  },
  {
   "cell_type": "code",
   "execution_count": 124,
   "id": "cd49f710",
   "metadata": {},
   "outputs": [],
   "source": [
    "v1 = dfr['Paul VI Humanae Vitae'].values\n",
    "v2 = dfr['Leo XIII Rerum Novarum'].values\n",
    "v3 = dfr['Leo XIII Caritatis'].values"
   ]
  },
  {
   "cell_type": "code",
   "execution_count": 132,
   "id": "13facfd2",
   "metadata": {},
   "outputs": [
    {
     "data": {
      "text/plain": [
       "1.3030388519631342"
      ]
     },
     "execution_count": 132,
     "metadata": {},
     "output_type": "execute_result"
    }
   ],
   "source": [
    "np.linalg.norm(v2 - v3)"
   ]
  },
  {
   "cell_type": "code",
   "execution_count": null,
   "id": "c5388c1e",
   "metadata": {},
   "outputs": [],
   "source": []
  },
  {
   "cell_type": "markdown",
   "id": "e80f2972",
   "metadata": {},
   "source": [
    "## Kullback–Leibler divergence\n",
    "\n",
    "$$\n",
    "KL(x) = P(x) \\log\\left(\\frac{P(x)}{Q(x)}\\right)\n",
    "$$"
   ]
  },
  {
   "cell_type": "code",
   "execution_count": null,
   "id": "9fbcced6",
   "metadata": {},
   "outputs": [],
   "source": []
  }
 ],
 "metadata": {
  "kernelspec": {
   "display_name": "crike",
   "language": "python",
   "name": "crike"
  },
  "language_info": {
   "codemirror_mode": {
    "name": "ipython",
    "version": 3
   },
   "file_extension": ".py",
   "mimetype": "text/x-python",
   "name": "python",
   "nbconvert_exporter": "python",
   "pygments_lexer": "ipython3",
   "version": "3.8.8"
  },
  "toc": {
   "base_numbering": 1,
   "nav_menu": {},
   "number_sections": true,
   "sideBar": true,
   "skip_h1_title": false,
   "title_cell": "Table of Contents",
   "title_sidebar": "Contents",
   "toc_cell": false,
   "toc_position": {},
   "toc_section_display": true,
   "toc_window_display": false
  }
 },
 "nbformat": 4,
 "nbformat_minor": 5
}
