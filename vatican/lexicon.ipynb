{
 "cells": [
  {
   "cell_type": "markdown",
   "id": "2ae9533c",
   "metadata": {},
   "source": [
    "# Explore lexicon in Vatican publications"
   ]
  },
  {
   "cell_type": "code",
   "execution_count": 1,
   "id": "35c81a64",
   "metadata": {},
   "outputs": [],
   "source": [
    "import pandas as pd\n",
    "import numpy as np\n",
    "from tqdm.notebook import tqdm"
   ]
  },
  {
   "cell_type": "code",
   "execution_count": 2,
   "id": "4914f3fc",
   "metadata": {},
   "outputs": [],
   "source": [
    "import pymongo"
   ]
  },
  {
   "cell_type": "code",
   "execution_count": 3,
   "id": "b6e13abe",
   "metadata": {},
   "outputs": [],
   "source": [
    "db = pymongo.MongoClient()['vatican']['tokens']"
   ]
  },
  {
   "cell_type": "code",
   "execution_count": 18,
   "id": "c7200fef",
   "metadata": {},
   "outputs": [],
   "source": [
    "def documents():\n",
    "    q = {'$group': {'_id': {'pope': '$pope', 'document': '$document'}}}\n",
    "    docs = []\n",
    "    for record in db.aggregate([q]):\n",
    "        docs.append((record['_id']['pope'], record['_id']['document']))\n",
    "    return docs"
   ]
  },
  {
   "cell_type": "code",
   "execution_count": 19,
   "id": "7feb508e",
   "metadata": {},
   "outputs": [],
   "source": [
    "docs = documents()"
   ]
  },
  {
   "cell_type": "code",
   "execution_count": 20,
   "id": "8e18da04",
   "metadata": {},
   "outputs": [
    {
     "data": {
      "text/plain": [
       "196"
      ]
     },
     "execution_count": 20,
     "metadata": {},
     "output_type": "execute_result"
    }
   ],
   "source": [
    "len(docs)"
   ]
  },
  {
   "cell_type": "code",
   "execution_count": 21,
   "id": "e5b5eeb8",
   "metadata": {},
   "outputs": [
    {
     "data": {
      "text/plain": [
       "[('Leo XIII', 'Nobilissima Gallorum Gens'),\n",
       " ('Leo XIII', 'Inimica Vis'),\n",
       " ('Leo XIII', 'In Ipso'),\n",
       " ('Leo XIII', 'Providentissimus Deus'),\n",
       " ('Leo XIII', 'Quamquam Pluries'),\n",
       " ('Leo XIII', 'Grande Munus'),\n",
       " ('Leo XIII', 'Christi Nomen'),\n",
       " ('Leo XIII', 'Spectata Fides'),\n",
       " ('Leo XIII', 'Longinqua'),\n",
       " ('Leo XIII', 'Supremi Apostolatus Officio'),\n",
       " ('Leo XIII', 'Immortale Dei'),\n",
       " ('Leo XIII', 'Magnae Dei Matris'),\n",
       " ('Leo XIII', 'Sapientiae Christianae'),\n",
       " ('Leo XIII', 'Quam Aerumnosa'),\n",
       " ('Leo XIII', 'Custodi Di Quella Fede'),\n",
       " ('Leo XIII', 'Arcanum'),\n",
       " ('Leo XIII', 'Fidentem Piumque Animum'),\n",
       " ('Leo XIII', 'Non Mediocri'),\n",
       " ('Leo XIII', 'Aeterni Patris'),\n",
       " ('Leo XIII', 'Quod Auctoritate'),\n",
       " ('Leo XIII', 'Satis Cognitum'),\n",
       " ('Leo XIII', 'Sancta Dei Civitas'),\n",
       " ('Leo XIII', 'Mirae Caritatis'),\n",
       " ('Leo XIII', 'Inter Graves'),\n",
       " ('Leo XIII', 'Apostolico Seggio'),\n",
       " ('Leo XIII', 'Officio Sanctissimo'),\n",
       " ('Leo XIII', 'Pastoralis'),\n",
       " ('Leo XIII', 'Inscrutabili Dei Consilio'),\n",
       " ('Leo XIII', 'Pastoralis Officii'),\n",
       " ('Leo XIII', 'Laetitiae Sanctae'),\n",
       " ('Leo XIII', 'Ad Extremas'),\n",
       " ('Leo XIII', 'Superiore Anno'),\n",
       " ('Leo XIII', 'Saepe Nos'),\n",
       " ('Leo XIII', 'Iampridem'),\n",
       " ('Leo XIII', 'Paterna Caritas'),\n",
       " ('Leo XIII', 'Affari Vos'),\n",
       " ('Leo XIII', 'Cum Multa'),\n",
       " ('Leo XIII', 'Quod Multum'),\n",
       " ('Leo XIII', 'Catholicae Ecclesiae'),\n",
       " ('Leo XIII', 'Pergrata'),\n",
       " ('Leo XIII', 'Exeunte Iam Anno'),\n",
       " ('Leo XIII', 'Au Milieu Des Sollicitudes'),\n",
       " ('Leo XIII', 'Caritatis'),\n",
       " ('Leo XIII', 'Constanti Hungarorum'),\n",
       " ('Leo XIII', 'Fin Dal Principio'),\n",
       " ('Leo XIII', 'Magni Nobis'),\n",
       " ('Leo XIII', 'Humanum Genus'),\n",
       " ('Leo XIII', 'Adiutricem'),\n",
       " ('Leo XIII', 'Diuturnum'),\n",
       " ('Leo XIII', 'Quarto Abeunte Saeculo'),\n",
       " ('Leo XIII', 'Etsi Cunctas'),\n",
       " ('Leo XIII', 'Vi E Ben Noto'),\n",
       " ('Leo XIII', 'Quod Anniversarius'),\n",
       " ('Leo XIII', 'Insignes'),\n",
       " ('Leo XIII', 'Libertas'),\n",
       " ('Leo XIII', 'Quod Apostolici Muneris'),\n",
       " ('Leo XIII', 'Spesse Volte'),\n",
       " ('Leo XIII', 'Auspicato Concessum'),\n",
       " ('Leo XIII', 'In Plurimis'),\n",
       " ('Leo XIII', 'Octobri Mense'),\n",
       " ('Leo XIII', 'Litteras A Vobis'),\n",
       " ('Leo XIII', 'Licet Multa'),\n",
       " ('Leo XIII', 'Etsi Nos'),\n",
       " ('Leo XIII', 'Iucunda Semper Expectatione'),\n",
       " ('Leo XIII', 'Rerum Novarum')]"
      ]
     },
     "execution_count": 21,
     "metadata": {},
     "output_type": "execute_result"
    }
   ],
   "source": [
    "[(x, y) for x, y in docs if x == 'Leo XIII']"
   ]
  },
  {
   "cell_type": "markdown",
   "id": "6506e44b",
   "metadata": {},
   "source": [
    "## Term Frequency (TF)\n",
    "\n",
    "$$\n",
    "tf(d, t) = \\frac{count(d, t)}{\\max\\limits_{i}^{n} count(d, t_i)}\n",
    "$$"
   ]
  },
  {
   "cell_type": "code",
   "execution_count": 22,
   "id": "b80d59e3",
   "metadata": {},
   "outputs": [],
   "source": [
    "def document_term_count(pope, document, field='lemma'):\n",
    "    m = {'$match': {'pope': pope, 'document': document}}\n",
    "    g = {'$group': {'_id': \"${}\".format(field), 'count': {'$sum': 1}}}\n",
    "    data = {}\n",
    "    for record in db.aggregate([m, g]):\n",
    "        data[record['_id']] = record['count']\n",
    "    return pd.Series(data)"
   ]
  },
  {
   "cell_type": "code",
   "execution_count": 23,
   "id": "3d8d67c1",
   "metadata": {},
   "outputs": [],
   "source": [
    "pope, document = 'Paul VI', 'Humanae Vitae'\n",
    "tf_count = document_term_count(pope, document)\n",
    "tf = tf_count / tf_count.max()"
   ]
  },
  {
   "cell_type": "code",
   "execution_count": 24,
   "id": "3f830f5e",
   "metadata": {},
   "outputs": [
    {
     "data": {
      "text/plain": [
       ",         444\n",
       "il        406\n",
       "di il     290\n",
       "e         220\n",
       "di        199\n",
       ".         193\n",
       "a il      135\n",
       "essere    127\n",
       "che       116\n",
       "uno        80\n",
       "dtype: int64"
      ]
     },
     "execution_count": 24,
     "metadata": {},
     "output_type": "execute_result"
    }
   ],
   "source": [
    "tf_count.sort_values(ascending=False).head(10)"
   ]
  },
  {
   "cell_type": "code",
   "execution_count": 25,
   "id": "b589481b",
   "metadata": {},
   "outputs": [
    {
     "data": {
      "text/plain": [
       ",         1.000000\n",
       "il        0.914414\n",
       "di il     0.653153\n",
       "e         0.495495\n",
       "di        0.448198\n",
       ".         0.434685\n",
       "a il      0.304054\n",
       "essere    0.286036\n",
       "che       0.261261\n",
       "uno       0.180180\n",
       "dtype: float64"
      ]
     },
     "execution_count": 25,
     "metadata": {},
     "output_type": "execute_result"
    }
   ],
   "source": [
    "tf.sort_values(ascending=False).head(10)"
   ]
  },
  {
   "cell_type": "markdown",
   "id": "525216ef",
   "metadata": {},
   "source": [
    "## Document Frequency and Inverse Document Frequency (IDF)\n",
    "\n",
    "$$\n",
    "df(t) = \\mid\\{ d_i : t \\in d_i \\}\\mid\n",
    "$$\n",
    "\n",
    "$$\n",
    "idf(t) = \\log \\frac{N}{df(t)}\n",
    "$$"
   ]
  },
  {
   "cell_type": "code",
   "execution_count": 26,
   "id": "3cd557cb",
   "metadata": {},
   "outputs": [],
   "source": [
    "def sentence_df(field='lemma'):\n",
    "    g = {'$group': {'_id': {'token': \"${}\".format(field), 'document': \"$document\", 'sentence': \"$sentence\"}}}\n",
    "    g2 = {'$group': {'_id': '$_id.token', 'count': {'$sum': 1}}}\n",
    "    data = {}\n",
    "    for record in db.aggregate([g, g2], allowDiskUse=True):\n",
    "        data[record['_id']] = record['count']\n",
    "    return pd.Series(data)\n",
    "\n",
    "def sentence_count():\n",
    "    g = {'$group': {'_id': {'document': \"$document\", 'sentence': \"$sentence\"}}}\n",
    "    return len([x for x in db.aggregate([g])])"
   ]
  },
  {
   "cell_type": "code",
   "execution_count": 27,
   "id": "9ab58ec0",
   "metadata": {},
   "outputs": [],
   "source": [
    "df = sentence_df()\n",
    "s_count = sentence_count()"
   ]
  },
  {
   "cell_type": "code",
   "execution_count": 28,
   "id": "303fdfc8",
   "metadata": {},
   "outputs": [
    {
     "data": {
      "text/plain": [
       "69512"
      ]
     },
     "execution_count": 28,
     "metadata": {},
     "output_type": "execute_result"
    }
   ],
   "source": [
    "s_count"
   ]
  },
  {
   "cell_type": "code",
   "execution_count": 29,
   "id": "a6d68f6c",
   "metadata": {},
   "outputs": [
    {
     "data": {
      "text/plain": [
       ".         50205\n",
       ",         45529\n",
       "il        41112\n",
       "e         31473\n",
       "di il     29058\n",
       "di        27873\n",
       "essere    23354\n",
       "che       22799\n",
       "a il      16575\n",
       "a         15565\n",
       "dtype: int64"
      ]
     },
     "execution_count": 29,
     "metadata": {},
     "output_type": "execute_result"
    }
   ],
   "source": [
    "df.sort_values(ascending=False).head(10)"
   ]
  },
  {
   "cell_type": "code",
   "execution_count": 30,
   "id": "31d6aba4",
   "metadata": {},
   "outputs": [],
   "source": [
    "idf = np.log(s_count / df)"
   ]
  },
  {
   "cell_type": "code",
   "execution_count": 31,
   "id": "ef49fe7b",
   "metadata": {},
   "outputs": [
    {
     "data": {
      "text/plain": [
       "Christophe        11.149255\n",
       "replicare         11.149255\n",
       "rispettino        11.149255\n",
       "TERTULLIANO       11.149255\n",
       "sant              11.149255\n",
       "raddrizzamento    11.149255\n",
       "passero           11.149255\n",
       "strare            11.149255\n",
       "totalizzare       11.149255\n",
       "28).22            11.149255\n",
       "dtype: float64"
      ]
     },
     "execution_count": 31,
     "metadata": {},
     "output_type": "execute_result"
    }
   ],
   "source": [
    "idf.sort_values(ascending=False).head(10)"
   ]
  },
  {
   "cell_type": "markdown",
   "id": "23221dab",
   "metadata": {},
   "source": [
    "## TfIdf\n",
    "\n",
    "$$\n",
    "tfidf(d, t) = tf(d, t) \\cdot idf(t)\n",
    "$$"
   ]
  },
  {
   "cell_type": "code",
   "execution_count": 32,
   "id": "83220912",
   "metadata": {},
   "outputs": [],
   "source": [
    "def tfidf(tf, idf, min_idf=0):\n",
    "    tfidf_data = {}\n",
    "    for t, tf_x in tf.items():\n",
    "        idf_w = idf[t]\n",
    "        if idf_w >= min_idf:\n",
    "            tfidf_data[t] = tf_x * idf_w \n",
    "    return pd.Series(tfidf_data)"
   ]
  },
  {
   "cell_type": "code",
   "execution_count": 33,
   "id": "131252eb",
   "metadata": {},
   "outputs": [],
   "source": [
    "tfidf_hv = tfidf(tf, idf, min_idf=4)"
   ]
  },
  {
   "cell_type": "code",
   "execution_count": 34,
   "id": "cf5cf877",
   "metadata": {},
   "outputs": [
    {
     "data": {
      "text/plain": [
       "coniugale      0.473365\n",
       "sposo          0.361592\n",
       "coniuge        0.242326\n",
       "matrimonio     0.229734\n",
       "atto           0.219487\n",
       "regolazione    0.207530\n",
       "morale         0.198530\n",
       "naturale       0.173230\n",
       "natalità       0.168568\n",
       "paternità      0.165374\n",
       "dtype: float64"
      ]
     },
     "execution_count": 34,
     "metadata": {},
     "output_type": "execute_result"
    }
   ],
   "source": [
    "tfidf_hv.sort_values(ascending=False).head(10)"
   ]
  },
  {
   "cell_type": "code",
   "execution_count": 35,
   "id": "17dc5d1f",
   "metadata": {},
   "outputs": [
    {
     "data": {
      "text/plain": [
       "(0.22973358579235933, 0.019501073485787893)"
      ]
     },
     "execution_count": 35,
     "metadata": {},
     "output_type": "execute_result"
    }
   ],
   "source": [
    "tfidf_hv['matrimonio'], tfidf_hv['lavoro']"
   ]
  },
  {
   "cell_type": "code",
   "execution_count": 36,
   "id": "ee3109ea",
   "metadata": {},
   "outputs": [],
   "source": [
    "import matplotlib.pyplot as plt"
   ]
  },
  {
   "cell_type": "code",
   "execution_count": 37,
   "id": "53a91826",
   "metadata": {},
   "outputs": [
    {
     "data": {
      "image/png": "[encoded data removed]",
      "text/plain": [
       "<Figure size 432x288 with 1 Axes>"
      ]
     },
     "metadata": {
      "needs_background": "light"
     },
     "output_type": "display_data"
    }
   ],
   "source": [
    "fig, ax = plt.subplots()\n",
    "ax.scatter([tfidf_hv['matrimonio']], [tfidf_hv['lavoro']])\n",
    "plt.tight_layout()\n",
    "plt.show()"
   ]
  },
  {
   "cell_type": "code",
   "execution_count": 38,
   "id": "7dbf2406",
   "metadata": {},
   "outputs": [],
   "source": [
    "def doc_tfidf(pope, document):\n",
    "    tf_count = document_term_count(pope, document)\n",
    "    tf = tf_count / tf_count.max()\n",
    "    tfidf_x = tfidf(tf, idf, min_idf=4)\n",
    "    return tfidf_x"
   ]
  },
  {
   "cell_type": "code",
   "execution_count": 39,
   "id": "97b7b284",
   "metadata": {},
   "outputs": [],
   "source": [
    "from collections import defaultdict"
   ]
  },
  {
   "cell_type": "code",
   "execution_count": 40,
   "id": "789ba3cf",
   "metadata": {},
   "outputs": [],
   "source": [
    "d1 = ('Paul VI', 'Humanae Vitae')\n",
    "d2 = ('Leo XIII', 'Rerum Novarum')\n",
    "d3 = ('Leo XIII', 'Caritatis')\n",
    "cases = [d1, d2, d3]\n",
    "index_docs = defaultdict(lambda: defaultdict(lambda: 0))\n",
    "for pope, doc in cases:\n",
    "    data_case = doc_tfidf(pope, doc)\n",
    "    for word, tfidf_w in data_case.items():\n",
    "        index_docs[\"{} {}\".format(pope, doc)][word] = tfidf_w"
   ]
  },
  {
   "cell_type": "code",
   "execution_count": 41,
   "id": "91b2b4f5",
   "metadata": {},
   "outputs": [],
   "source": [
    "dfr = pd.DataFrame(index_docs).fillna(0)"
   ]
  },
  {
   "cell_type": "code",
   "execution_count": 42,
   "id": "e6fb8e5a",
   "metadata": {},
   "outputs": [
    {
     "data": {
      "text/html": [
       "<div>\n",
       "<style scoped>\n",
       "    .dataframe tbody tr th:only-of-type {\n",
       "        vertical-align: middle;\n",
       "    }\n",
       "\n",
       "    .dataframe tbody tr th {\n",
       "        vertical-align: top;\n",
       "    }\n",
       "\n",
       "    .dataframe thead th {\n",
       "        text-align: right;\n",
       "    }\n",
       "</style>\n",
       "<table border=\"1\" class=\"dataframe\">\n",
       "  <thead>\n",
       "    <tr style=\"text-align: right;\">\n",
       "      <th></th>\n",
       "      <th>Paul VI Humanae Vitae</th>\n",
       "      <th>Leo XIII Rerum Novarum</th>\n",
       "      <th>Leo XIII Caritatis</th>\n",
       "    </tr>\n",
       "  </thead>\n",
       "  <tbody>\n",
       "    <tr>\n",
       "      <th>operaio</th>\n",
       "      <td>0.000000</td>\n",
       "      <td>0.344368</td>\n",
       "      <td>0.027143</td>\n",
       "    </tr>\n",
       "    <tr>\n",
       "      <th>stato</th>\n",
       "      <td>0.019365</td>\n",
       "      <td>0.236363</td>\n",
       "      <td>0.139373</td>\n",
       "    </tr>\n",
       "    <tr>\n",
       "      <th>lavoro</th>\n",
       "      <td>0.019501</td>\n",
       "      <td>0.184127</td>\n",
       "      <td>0.043184</td>\n",
       "    </tr>\n",
       "    <tr>\n",
       "      <th>società</th>\n",
       "      <td>0.036108</td>\n",
       "      <td>0.166307</td>\n",
       "      <td>0.059970</td>\n",
       "    </tr>\n",
       "    <tr>\n",
       "      <th>proprietà</th>\n",
       "      <td>0.000000</td>\n",
       "      <td>0.156526</td>\n",
       "      <td>0.000000</td>\n",
       "    </tr>\n",
       "    <tr>\n",
       "      <th>...</th>\n",
       "      <td>...</td>\n",
       "      <td>...</td>\n",
       "      <td>...</td>\n",
       "    </tr>\n",
       "    <tr>\n",
       "      <th>verre</th>\n",
       "      <td>0.020162</td>\n",
       "      <td>0.000000</td>\n",
       "      <td>0.000000</td>\n",
       "    </tr>\n",
       "    <tr>\n",
       "      <th>rapidamente</th>\n",
       "      <td>0.017527</td>\n",
       "      <td>0.000000</td>\n",
       "      <td>0.000000</td>\n",
       "    </tr>\n",
       "    <tr>\n",
       "      <th>accresciuto</th>\n",
       "      <td>0.038668</td>\n",
       "      <td>0.000000</td>\n",
       "      <td>0.000000</td>\n",
       "    </tr>\n",
       "    <tr>\n",
       "      <th>prospettiva</th>\n",
       "      <td>0.013766</td>\n",
       "      <td>0.000000</td>\n",
       "      <td>0.000000</td>\n",
       "    </tr>\n",
       "    <tr>\n",
       "      <th>io</th>\n",
       "      <td>0.000000</td>\n",
       "      <td>0.000000</td>\n",
       "      <td>0.012291</td>\n",
       "    </tr>\n",
       "  </tbody>\n",
       "</table>\n",
       "<p>3403 rows × 3 columns</p>\n",
       "</div>"
      ],
      "text/plain": [
       "             Paul VI Humanae Vitae  Leo XIII Rerum Novarum  Leo XIII Caritatis\n",
       "operaio                   0.000000                0.344368            0.027143\n",
       "stato                     0.019365                0.236363            0.139373\n",
       "lavoro                    0.019501                0.184127            0.043184\n",
       "società                   0.036108                0.166307            0.059970\n",
       "proprietà                 0.000000                0.156526            0.000000\n",
       "...                            ...                     ...                 ...\n",
       "verre                     0.020162                0.000000            0.000000\n",
       "rapidamente               0.017527                0.000000            0.000000\n",
       "accresciuto               0.038668                0.000000            0.000000\n",
       "prospettiva               0.013766                0.000000            0.000000\n",
       "io                        0.000000                0.000000            0.012291\n",
       "\n",
       "[3403 rows x 3 columns]"
      ]
     },
     "execution_count": 42,
     "metadata": {},
     "output_type": "execute_result"
    }
   ],
   "source": [
    "dfr.sort_values('Leo XIII Rerum Novarum', ascending=False)"
   ]
  },
  {
   "cell_type": "code",
   "execution_count": 45,
   "id": "bb4f2d3e",
   "metadata": {},
   "outputs": [
    {
     "data": {
      "text/html": [
       "<div>\n",
       "<style scoped>\n",
       "    .dataframe tbody tr th:only-of-type {\n",
       "        vertical-align: middle;\n",
       "    }\n",
       "\n",
       "    .dataframe tbody tr th {\n",
       "        vertical-align: top;\n",
       "    }\n",
       "\n",
       "    .dataframe thead th {\n",
       "        text-align: right;\n",
       "    }\n",
       "</style>\n",
       "<table border=\"1\" class=\"dataframe\">\n",
       "  <thead>\n",
       "    <tr style=\"text-align: right;\">\n",
       "      <th></th>\n",
       "      <th>forza</th>\n",
       "      <th>distruggere</th>\n",
       "      <th>punto</th>\n",
       "      <th>pornografia</th>\n",
       "      <th>impedimento</th>\n",
       "      <th>giusto</th>\n",
       "      <th>prettamente</th>\n",
       "      <th>infecondo</th>\n",
       "      <th>eminente</th>\n",
       "      <th>ritrovino</th>\n",
       "      <th>...</th>\n",
       "      <th>ambito</th>\n",
       "      <th>edificare</th>\n",
       "      <th>risplendono</th>\n",
       "      <th>esordio</th>\n",
       "      <th>sette</th>\n",
       "      <th>Sede</th>\n",
       "      <th>ammaestramento</th>\n",
       "      <th>accampare</th>\n",
       "      <th>Basiliano</th>\n",
       "      <th>io</th>\n",
       "    </tr>\n",
       "  </thead>\n",
       "  <tbody>\n",
       "    <tr>\n",
       "      <th>Paul VI Humanae Vitae</th>\n",
       "      <td>0.018414</td>\n",
       "      <td>0.014046</td>\n",
       "      <td>0.011004</td>\n",
       "      <td>0.02355</td>\n",
       "      <td>0.032976</td>\n",
       "      <td>0.043073</td>\n",
       "      <td>0.020728</td>\n",
       "      <td>0.021989</td>\n",
       "      <td>0.017236</td>\n",
       "      <td>0.022637</td>\n",
       "      <td>...</td>\n",
       "      <td>0.00000</td>\n",
       "      <td>0.000000</td>\n",
       "      <td>0.000000</td>\n",
       "      <td>0.000000</td>\n",
       "      <td>0.000000</td>\n",
       "      <td>0.000000</td>\n",
       "      <td>0.000000</td>\n",
       "      <td>0.000000</td>\n",
       "      <td>0.000000</td>\n",
       "      <td>0.000000</td>\n",
       "    </tr>\n",
       "    <tr>\n",
       "      <th>Leo XIII Rerum Novarum</th>\n",
       "      <td>0.097533</td>\n",
       "      <td>0.000000</td>\n",
       "      <td>0.005068</td>\n",
       "      <td>0.00000</td>\n",
       "      <td>0.000000</td>\n",
       "      <td>0.054556</td>\n",
       "      <td>0.000000</td>\n",
       "      <td>0.000000</td>\n",
       "      <td>0.000000</td>\n",
       "      <td>0.000000</td>\n",
       "      <td>...</td>\n",
       "      <td>0.00000</td>\n",
       "      <td>0.000000</td>\n",
       "      <td>0.000000</td>\n",
       "      <td>0.000000</td>\n",
       "      <td>0.000000</td>\n",
       "      <td>0.000000</td>\n",
       "      <td>0.000000</td>\n",
       "      <td>0.000000</td>\n",
       "      <td>0.000000</td>\n",
       "      <td>0.000000</td>\n",
       "    </tr>\n",
       "    <tr>\n",
       "      <th>Leo XIII Caritatis</th>\n",
       "      <td>0.142720</td>\n",
       "      <td>0.015553</td>\n",
       "      <td>0.036553</td>\n",
       "      <td>0.00000</td>\n",
       "      <td>0.000000</td>\n",
       "      <td>0.011923</td>\n",
       "      <td>0.000000</td>\n",
       "      <td>0.000000</td>\n",
       "      <td>0.000000</td>\n",
       "      <td>0.000000</td>\n",
       "      <td>...</td>\n",
       "      <td>0.01484</td>\n",
       "      <td>0.017104</td>\n",
       "      <td>0.021824</td>\n",
       "      <td>0.023335</td>\n",
       "      <td>0.017721</td>\n",
       "      <td>0.025505</td>\n",
       "      <td>0.020095</td>\n",
       "      <td>0.026075</td>\n",
       "      <td>0.025064</td>\n",
       "      <td>0.012291</td>\n",
       "    </tr>\n",
       "  </tbody>\n",
       "</table>\n",
       "<p>3 rows × 3403 columns</p>\n",
       "</div>"
      ],
      "text/plain": [
       "                           forza  distruggere     punto  pornografia  \\\n",
       "Paul VI Humanae Vitae   0.018414     0.014046  0.011004      0.02355   \n",
       "Leo XIII Rerum Novarum  0.097533     0.000000  0.005068      0.00000   \n",
       "Leo XIII Caritatis      0.142720     0.015553  0.036553      0.00000   \n",
       "\n",
       "                        impedimento    giusto  prettamente  infecondo  \\\n",
       "Paul VI Humanae Vitae      0.032976  0.043073     0.020728   0.021989   \n",
       "Leo XIII Rerum Novarum     0.000000  0.054556     0.000000   0.000000   \n",
       "Leo XIII Caritatis         0.000000  0.011923     0.000000   0.000000   \n",
       "\n",
       "                        eminente  ritrovino  ...   ambito  edificare  \\\n",
       "Paul VI Humanae Vitae   0.017236   0.022637  ...  0.00000   0.000000   \n",
       "Leo XIII Rerum Novarum  0.000000   0.000000  ...  0.00000   0.000000   \n",
       "Leo XIII Caritatis      0.000000   0.000000  ...  0.01484   0.017104   \n",
       "\n",
       "                        risplendono   esordio     sette      Sede  \\\n",
       "Paul VI Humanae Vitae      0.000000  0.000000  0.000000  0.000000   \n",
       "Leo XIII Rerum Novarum     0.000000  0.000000  0.000000  0.000000   \n",
       "Leo XIII Caritatis         0.021824  0.023335  0.017721  0.025505   \n",
       "\n",
       "                        ammaestramento  accampare  Basiliano        io  \n",
       "Paul VI Humanae Vitae         0.000000   0.000000   0.000000  0.000000  \n",
       "Leo XIII Rerum Novarum        0.000000   0.000000   0.000000  0.000000  \n",
       "Leo XIII Caritatis            0.020095   0.026075   0.025064  0.012291  \n",
       "\n",
       "[3 rows x 3403 columns]"
      ]
     },
     "execution_count": 45,
     "metadata": {},
     "output_type": "execute_result"
    }
   ],
   "source": [
    "dfr.T"
   ]
  },
  {
   "cell_type": "code",
   "execution_count": 43,
   "id": "7566fe0e",
   "metadata": {},
   "outputs": [
    {
     "data": {
      "text/html": [
       "<div>\n",
       "<style scoped>\n",
       "    .dataframe tbody tr th:only-of-type {\n",
       "        vertical-align: middle;\n",
       "    }\n",
       "\n",
       "    .dataframe tbody tr th {\n",
       "        vertical-align: top;\n",
       "    }\n",
       "\n",
       "    .dataframe thead th {\n",
       "        text-align: right;\n",
       "    }\n",
       "</style>\n",
       "<table border=\"1\" class=\"dataframe\">\n",
       "  <thead>\n",
       "    <tr style=\"text-align: right;\">\n",
       "      <th></th>\n",
       "      <th>matrimonio</th>\n",
       "      <th>lavoro</th>\n",
       "    </tr>\n",
       "  </thead>\n",
       "  <tbody>\n",
       "    <tr>\n",
       "      <th>Paul VI Humanae Vitae</th>\n",
       "      <td>0.229734</td>\n",
       "      <td>0.019501</td>\n",
       "    </tr>\n",
       "    <tr>\n",
       "      <th>Leo XIII Rerum Novarum</th>\n",
       "      <td>0.005569</td>\n",
       "      <td>0.184127</td>\n",
       "    </tr>\n",
       "    <tr>\n",
       "      <th>Leo XIII Caritatis</th>\n",
       "      <td>0.013388</td>\n",
       "      <td>0.043184</td>\n",
       "    </tr>\n",
       "  </tbody>\n",
       "</table>\n",
       "</div>"
      ],
      "text/plain": [
       "                        matrimonio    lavoro\n",
       "Paul VI Humanae Vitae     0.229734  0.019501\n",
       "Leo XIII Rerum Novarum    0.005569  0.184127\n",
       "Leo XIII Caritatis        0.013388  0.043184"
      ]
     },
     "execution_count": 43,
     "metadata": {},
     "output_type": "execute_result"
    }
   ],
   "source": [
    "dfr.loc[['matrimonio', 'lavoro']].T"
   ]
  },
  {
   "cell_type": "code",
   "execution_count": 44,
   "id": "8dbea452",
   "metadata": {},
   "outputs": [
    {
     "data": {
      "image/png": "[encoded data removed]",
      "text/plain": [
       "<Figure size 432x288 with 1 Axes>"
      ]
     },
     "metadata": {
      "needs_background": "light"
     },
     "output_type": "display_data"
    }
   ],
   "source": [
    "fig, ax = plt.subplots()\n",
    "ax.scatter(dfr.T['matrimonio'], dfr.T['lavoro'])\n",
    "ax.set_ylim(-.1, .4)\n",
    "ax.set_xlim(-.1, .4)\n",
    "plt.tight_layout()\n",
    "plt.show()"
   ]
  },
  {
   "cell_type": "markdown",
   "id": "4955615a",
   "metadata": {},
   "source": [
    "## Vectors of words"
   ]
  },
  {
   "cell_type": "code",
   "execution_count": 57,
   "id": "35338386",
   "metadata": {},
   "outputs": [],
   "source": [
    "words = dfr[['Leo XIII Rerum Novarum', 'Leo XIII Caritatis']]"
   ]
  },
  {
   "cell_type": "code",
   "execution_count": 58,
   "id": "799cc2a0",
   "metadata": {},
   "outputs": [
    {
     "data": {
      "text/html": [
       "<div>\n",
       "<style scoped>\n",
       "    .dataframe tbody tr th:only-of-type {\n",
       "        vertical-align: middle;\n",
       "    }\n",
       "\n",
       "    .dataframe tbody tr th {\n",
       "        vertical-align: top;\n",
       "    }\n",
       "\n",
       "    .dataframe thead th {\n",
       "        text-align: right;\n",
       "    }\n",
       "</style>\n",
       "<table border=\"1\" class=\"dataframe\">\n",
       "  <thead>\n",
       "    <tr style=\"text-align: right;\">\n",
       "      <th></th>\n",
       "      <th>Leo XIII Rerum Novarum</th>\n",
       "      <th>Leo XIII Caritatis</th>\n",
       "    </tr>\n",
       "  </thead>\n",
       "  <tbody>\n",
       "    <tr>\n",
       "      <th>forza</th>\n",
       "      <td>0.097533</td>\n",
       "      <td>0.142720</td>\n",
       "    </tr>\n",
       "    <tr>\n",
       "      <th>distruggere</th>\n",
       "      <td>0.000000</td>\n",
       "      <td>0.015553</td>\n",
       "    </tr>\n",
       "    <tr>\n",
       "      <th>punto</th>\n",
       "      <td>0.005068</td>\n",
       "      <td>0.036553</td>\n",
       "    </tr>\n",
       "    <tr>\n",
       "      <th>pornografia</th>\n",
       "      <td>0.000000</td>\n",
       "      <td>0.000000</td>\n",
       "    </tr>\n",
       "    <tr>\n",
       "      <th>impedimento</th>\n",
       "      <td>0.000000</td>\n",
       "      <td>0.000000</td>\n",
       "    </tr>\n",
       "    <tr>\n",
       "      <th>...</th>\n",
       "      <td>...</td>\n",
       "      <td>...</td>\n",
       "    </tr>\n",
       "    <tr>\n",
       "      <th>Sede</th>\n",
       "      <td>0.000000</td>\n",
       "      <td>0.025505</td>\n",
       "    </tr>\n",
       "    <tr>\n",
       "      <th>ammaestramento</th>\n",
       "      <td>0.000000</td>\n",
       "      <td>0.020095</td>\n",
       "    </tr>\n",
       "    <tr>\n",
       "      <th>accampare</th>\n",
       "      <td>0.000000</td>\n",
       "      <td>0.026075</td>\n",
       "    </tr>\n",
       "    <tr>\n",
       "      <th>Basiliano</th>\n",
       "      <td>0.000000</td>\n",
       "      <td>0.025064</td>\n",
       "    </tr>\n",
       "    <tr>\n",
       "      <th>io</th>\n",
       "      <td>0.000000</td>\n",
       "      <td>0.012291</td>\n",
       "    </tr>\n",
       "  </tbody>\n",
       "</table>\n",
       "<p>3403 rows × 2 columns</p>\n",
       "</div>"
      ],
      "text/plain": [
       "                Leo XIII Rerum Novarum  Leo XIII Caritatis\n",
       "forza                         0.097533            0.142720\n",
       "distruggere                   0.000000            0.015553\n",
       "punto                         0.005068            0.036553\n",
       "pornografia                   0.000000            0.000000\n",
       "impedimento                   0.000000            0.000000\n",
       "...                                ...                 ...\n",
       "Sede                          0.000000            0.025505\n",
       "ammaestramento                0.000000            0.020095\n",
       "accampare                     0.000000            0.026075\n",
       "Basiliano                     0.000000            0.025064\n",
       "io                            0.000000            0.012291\n",
       "\n",
       "[3403 rows x 2 columns]"
      ]
     },
     "execution_count": 58,
     "metadata": {},
     "output_type": "execute_result"
    }
   ],
   "source": [
    "words"
   ]
  },
  {
   "cell_type": "code",
   "execution_count": 66,
   "id": "adf4bd2c",
   "metadata": {},
   "outputs": [
    {
     "data": {
      "image/png": "[encoded data removed]",
      "text/plain": [
       "<Figure size 432x432 with 1 Axes>"
      ]
     },
     "metadata": {
      "needs_background": "light"
     },
     "output_type": "display_data"
    }
   ],
   "source": [
    "fig, ax = plt.subplots(figsize=(6, 6))\n",
    "ax.scatter(words.T.loc['Leo XIII Rerum Novarum'], \n",
    "           words.T.loc['Leo XIII Caritatis'], alpha=.3, s=15)\n",
    "ax.plot([0, .4], [0, .4], c='#cc0000', linewidth=.5)\n",
    "ax.set_ylim(-.01, .4)\n",
    "ax.set_xlim(-.01, .4)\n",
    "ax.set_xlabel('Leo XIII Rerum Novarum')\n",
    "ax.set_ylabel('Leo XIII Caritatis')\n",
    "plt.tight_layout()\n",
    "plt.show()"
   ]
  },
  {
   "cell_type": "markdown",
   "id": "db30a111",
   "metadata": {},
   "source": [
    "$$\n",
    "y = a x + b\n",
    "$$"
   ]
  },
  {
   "cell_type": "markdown",
   "id": "9f1d2b7f",
   "metadata": {},
   "source": [
    "## Euclidean similarity"
   ]
  },
  {
   "cell_type": "code",
   "execution_count": null,
   "id": "cd49f710",
   "metadata": {},
   "outputs": [],
   "source": [
    "v1 = dfr['Paul VI Humanae Vitae'].values\n",
    "v2 = dfr['Leo XIII Rerum Novarum'].values\n",
    "v3 = dfr['Leo XIII Caritatis'].values"
   ]
  },
  {
   "cell_type": "code",
   "execution_count": null,
   "id": "13facfd2",
   "metadata": {},
   "outputs": [],
   "source": [
    "np.linalg.norm(v2 - v3)"
   ]
  },
  {
   "cell_type": "code",
   "execution_count": null,
   "id": "c5388c1e",
   "metadata": {},
   "outputs": [],
   "source": []
  },
  {
   "cell_type": "markdown",
   "id": "e80f2972",
   "metadata": {},
   "source": [
    "## Kullback–Leibler divergence\n",
    "\n",
    "$$\n",
    "KL(x) = P(x) \\log\\left(\\frac{P(x)}{Q(x)}\\right)\n",
    "$$"
   ]
  },
  {
   "cell_type": "code",
   "execution_count": 68,
   "id": "c9b3b66c",
   "metadata": {},
   "outputs": [],
   "source": [
    "def generate_filter(pope, document):\n",
    "    return {'$match': {'pope': pope, 'document': document}}\n",
    "\n",
    "def term_count(field='lemma', m=None):\n",
    "    g = {'$group': {'_id': \"${}\".format(field), 'count': {'$sum': 1}}}\n",
    "    data = {}\n",
    "    if m is None:\n",
    "        pipeline = [g]\n",
    "    else:\n",
    "        pipeline = [m, g]\n",
    "    for record in db.aggregate(pipeline):\n",
    "        data[record['_id']] = record['count']\n",
    "    return pd.Series(data)"
   ]
  },
  {
   "cell_type": "code",
   "execution_count": 72,
   "id": "9ec4f2aa",
   "metadata": {},
   "outputs": [],
   "source": [
    "freq_star = term_count()\n",
    "freq_star_n = freq_star / freq_star.sum()"
   ]
  },
  {
   "cell_type": "code",
   "execution_count": 73,
   "id": "7574f500",
   "metadata": {
    "scrolled": true
   },
   "outputs": [
    {
     "data": {
      "text/plain": [
       ",                7.092050e-02\n",
       "il               5.931947e-02\n",
       "e                3.351192e-02\n",
       "di il            3.310505e-02\n",
       ".                3.016209e-02\n",
       "                     ...     \n",
       "corpo.86         5.930998e-07\n",
       "eguagliare       5.930998e-07\n",
       "provvedere li    5.930998e-07\n",
       "convinre         5.930998e-07\n",
       "patema           5.930998e-07\n",
       "Length: 43723, dtype: float64"
      ]
     },
     "execution_count": 73,
     "metadata": {},
     "output_type": "execute_result"
    }
   ],
   "source": [
    "freq_star_n.sort_values(ascending=False)"
   ]
  },
  {
   "cell_type": "code",
   "execution_count": 80,
   "id": "863c56c3",
   "metadata": {},
   "outputs": [
    {
     "data": {
      "image/png": "[encoded data removed]",
      "text/plain": [
       "<Figure size 432x216 with 1 Axes>"
      ]
     },
     "metadata": {
      "needs_background": "light"
     },
     "output_type": "display_data"
    }
   ],
   "source": [
    "fig, ax = plt.subplots(figsize=(6, 3))\n",
    "ax.plot(freq_star.sort_values(ascending=False).values, c='#cc0000', linewidth=.5, marker='.')\n",
    "plt.tight_layout()\n",
    "plt.show()"
   ]
  },
  {
   "cell_type": "code",
   "execution_count": 108,
   "id": "a730c0c7",
   "metadata": {},
   "outputs": [
    {
     "data": {
      "image/png": "[encoded data removed]",
      "text/plain": [
       "<Figure size 432x216 with 1 Axes>"
      ]
     },
     "metadata": {
      "needs_background": "light"
     },
     "output_type": "display_data"
    }
   ],
   "source": [
    "fig, ax = plt.subplots(figsize=(6, 3))\n",
    "ax.plot(np.arange(0.01, 4, .1), np.log(np.arange(0.01, 4, .1)), c='#cc0000', linewidth=.5, marker='.')\n",
    "plt.tight_layout()\n",
    "plt.show()"
   ]
  },
  {
   "cell_type": "code",
   "execution_count": 94,
   "id": "52d86681",
   "metadata": {},
   "outputs": [],
   "source": [
    "freq_hv = term_count(m=generate_filter('Paul VI', 'Humanae Vitae'))\n",
    "freq_hv_n = freq_hv / freq_hv.sum()"
   ]
  },
  {
   "cell_type": "code",
   "execution_count": 95,
   "id": "4986a2bf",
   "metadata": {},
   "outputs": [
    {
     "data": {
      "text/plain": [
       ",              0.067611\n",
       "il             0.061824\n",
       "di il          0.044160\n",
       "e              0.033501\n",
       "di             0.030303\n",
       "                 ...   \n",
       "integralità    0.000152\n",
       "luglio         0.000152\n",
       "linguaggio     0.000152\n",
       "degno          0.000152\n",
       "accettare      0.000152\n",
       "Length: 1381, dtype: float64"
      ]
     },
     "execution_count": 95,
     "metadata": {},
     "output_type": "execute_result"
    }
   ],
   "source": [
    "freq_hv_n.sort_values(ascending=False)"
   ]
  },
  {
   "cell_type": "code",
   "execution_count": 100,
   "id": "dc2ca765",
   "metadata": {},
   "outputs": [
    {
     "name": "stdout",
     "output_type": "stream",
     "text": [
      "0.00015227653418608191 0.00011802685199847929 1.2901855095486567\n",
      "0.2547860138861823\n"
     ]
    }
   ],
   "source": [
    "word = 'laico'\n",
    "print(freq_hv_n[word], freq_star_n[word], freq_hv_n[word] / freq_star_n[word])\n",
    "print(np.log(freq_hv_n[word] / freq_star_n[word]))"
   ]
  },
  {
   "cell_type": "code",
   "execution_count": 118,
   "id": "8a857eb9",
   "metadata": {},
   "outputs": [],
   "source": [
    "vocabulary = freq_hv_n.index.values\n",
    "kl_hv = freq_hv_n * np.log(freq_hv_n / freq_star_n[vocabulary])"
   ]
  },
  {
   "cell_type": "code",
   "execution_count": 120,
   "id": "26dc6437",
   "metadata": {},
   "outputs": [
    {
     "data": {
      "text/plain": [
       "coniugale      0.021541\n",
       "sposo          0.015181\n",
       "di il          0.012724\n",
       "coniuge        0.009076\n",
       "regolazione    0.008666\n",
       "a il           0.007861\n",
       "matrimonio     0.007541\n",
       "atto           0.006759\n",
       "natalità       0.006732\n",
       "legge          0.006436\n",
       "dtype: float64"
      ]
     },
     "execution_count": 120,
     "metadata": {},
     "output_type": "execute_result"
    }
   ],
   "source": [
    "kl_hv.sort_values(ascending=False).head(10)"
   ]
  },
  {
   "cell_type": "code",
   "execution_count": 15,
   "id": "9fbcced6",
   "metadata": {},
   "outputs": [],
   "source": [
    "def get_sentences(pope, document, field='lemma'):\n",
    "    q = {'$group': {'_id': {'pope': '$pope', 'document': '$document', 'sentence': '$sentence'}, \n",
    "                    'tokens': {'$push': {'sentence': '$sentence', \n",
    "                                         'token': '${}'.format(field),\n",
    "                                         'idx': '$idx',\n",
    "                                         'pos': '$pos'\n",
    "                                        }}}}\n",
    "    docs = []\n",
    "    sentence, previous = [], -1\n",
    "    for record in db.aggregate([q], allowDiskUse=True):\n",
    "        docs.append(record['tokens'])\n",
    "    return docs"
   ]
  },
  {
   "cell_type": "code",
   "execution_count": 16,
   "id": "37722fdd",
   "metadata": {},
   "outputs": [],
   "source": [
    "sentences = get_sentences('Paul VI', 'Humanae Vitae')"
   ]
  },
  {
   "cell_type": "code",
   "execution_count": null,
   "id": "ed7f74d6",
   "metadata": {},
   "outputs": [],
   "source": []
  }
 ],
 "metadata": {
  "kernelspec": {
   "display_name": "crike",
   "language": "python",
   "name": "crike"
  },
  "language_info": {
   "codemirror_mode": {
    "name": "ipython",
    "version": 3
   },
   "file_extension": ".py",
   "mimetype": "text/x-python",
   "name": "python",
   "nbconvert_exporter": "python",
   "pygments_lexer": "ipython3",
   "version": "3.8.8"
  },
  "toc": {
   "base_numbering": 1,
   "nav_menu": {},
   "number_sections": true,
   "sideBar": true,
   "skip_h1_title": false,
   "title_cell": "Table of Contents",
   "title_sidebar": "Contents",
   "toc_cell": false,
   "toc_position": {},
   "toc_section_display": true,
   "toc_window_display": false
  }
 },
 "nbformat": 4,
 "nbformat_minor": 5
}
