{
 "cells": [
  {
   "cell_type": "markdown",
   "id": "9fb7d977",
   "metadata": {},
   "source": [
    "# Work with textual data: encyclicals example"
   ]
  },
  {
   "cell_type": "code",
   "execution_count": 1,
   "id": "dd574d90",
   "metadata": {},
   "outputs": [],
   "source": [
    "import pandas as pd\n",
    "import numpy as np\n",
    "from tqdm.notebook import tqdm"
   ]
  },
  {
   "cell_type": "code",
   "execution_count": 2,
   "id": "bed0c07b",
   "metadata": {},
   "outputs": [],
   "source": [
    "import os\n",
    "from collections import defaultdict"
   ]
  },
  {
   "cell_type": "code",
   "execution_count": 3,
   "id": "c0e36fac",
   "metadata": {},
   "outputs": [],
   "source": [
    "folder = '/Users/flint/Data/vatican/data'\n",
    "data_collection = {}\n",
    "for subdir in os.listdir(folder):\n",
    "    pope = subdir\n",
    "    data_collection[pope] = {}\n",
    "    path = os.path.join(folder, pope, 'encyclicals')\n",
    "    for doc in os.listdir(path):\n",
    "        subpath = os.path.join(path, doc, 'it', '{}.txt'.format(doc))\n",
    "        with open(subpath, 'r') as infile:\n",
    "            content = infile.read()\n",
    "        data_collection[pope][doc] = content"
   ]
  },
  {
   "cell_type": "code",
   "execution_count": null,
   "id": "a04526d1",
   "metadata": {},
   "outputs": [],
   "source": [
    "print(list(data_collection.keys()))"
   ]
  },
  {
   "cell_type": "code",
   "execution_count": null,
   "id": "39ad1a33",
   "metadata": {},
   "outputs": [],
   "source": [
    "print(list(data_collection['Paul VI'].keys()))"
   ]
  },
  {
   "cell_type": "code",
   "execution_count": null,
   "id": "29dd42b1",
   "metadata": {},
   "outputs": [],
   "source": [
    "print(data_collection['Paul VI']['Humanae Vitae'][:1000])"
   ]
  },
  {
   "cell_type": "markdown",
   "id": "f55259e2",
   "metadata": {},
   "source": [
    "## Tokenization and frequency"
   ]
  },
  {
   "cell_type": "code",
   "execution_count": null,
   "id": "a1fd7bcc",
   "metadata": {},
   "outputs": [],
   "source": [
    "from nltk.tokenize import sent_tokenize, word_tokenize"
   ]
  },
  {
   "cell_type": "code",
   "execution_count": null,
   "id": "16e9c71c",
   "metadata": {},
   "outputs": [],
   "source": [
    "import spacy\n",
    "nlp = spacy.load('it_core_news_lg')"
   ]
  },
  {
   "cell_type": "code",
   "execution_count": null,
   "id": "3305ab05",
   "metadata": {},
   "outputs": [],
   "source": [
    "document = data_collection['Paul VI']['Humanae Vitae']"
   ]
  },
  {
   "cell_type": "markdown",
   "id": "f699ff80",
   "metadata": {},
   "source": [
    "### Space tokenizer"
   ]
  },
  {
   "cell_type": "code",
   "execution_count": null,
   "id": "6772b494",
   "metadata": {},
   "outputs": [],
   "source": [
    "\"questa è un'albicocca\".split(), \"questa è albicocca\".split()"
   ]
  },
  {
   "cell_type": "markdown",
   "id": "82e9e46a",
   "metadata": {},
   "source": [
    "### Regex tokenizer"
   ]
  },
  {
   "cell_type": "code",
   "execution_count": null,
   "id": "220d00af",
   "metadata": {},
   "outputs": [],
   "source": [
    "word_tokenize(\"testo in cui si parla di albicocca.\", language='italian')"
   ]
  },
  {
   "cell_type": "code",
   "execution_count": null,
   "id": "876864b5",
   "metadata": {},
   "outputs": [],
   "source": [
    "word_tokenize(\"testo in cui si parla di albicocche.\", language='italian')"
   ]
  },
  {
   "cell_type": "markdown",
   "id": "a7241a31",
   "metadata": {},
   "source": [
    "### Syntactic tokenizer"
   ]
  },
  {
   "cell_type": "code",
   "execution_count": null,
   "id": "a8a08602",
   "metadata": {},
   "outputs": [],
   "source": [
    "from spacy.displacy import render"
   ]
  },
  {
   "cell_type": "code",
   "execution_count": null,
   "id": "8249a21e",
   "metadata": {},
   "outputs": [],
   "source": [
    "doc = nlp(document)"
   ]
  },
  {
   "cell_type": "code",
   "execution_count": null,
   "id": "c3ebf426",
   "metadata": {},
   "outputs": [],
   "source": [
    "sentences = [sentence for sentence in doc.sents]"
   ]
  },
  {
   "cell_type": "code",
   "execution_count": null,
   "id": "a3c1bd40",
   "metadata": {},
   "outputs": [],
   "source": [
    "print(sentences[21])"
   ]
  },
  {
   "cell_type": "code",
   "execution_count": null,
   "id": "c46d9b53",
   "metadata": {},
   "outputs": [],
   "source": [
    "for token in sentences[21]:\n",
    "    print(token, token.lemma_, token.pos_)"
   ]
  },
  {
   "cell_type": "code",
   "execution_count": null,
   "id": "dfa417dd",
   "metadata": {},
   "outputs": [],
   "source": [
    "print(sentences[21])\n",
    "render(sentences[21])"
   ]
  },
  {
   "cell_type": "markdown",
   "id": "e0e5dc04",
   "metadata": {},
   "source": [
    "## Processo di tokenizzazione\n",
    "- Filtro: togliamo punteggiatura PUNCT, articoli DET, ADP\n",
    "- Con lemmatizzazione"
   ]
  },
  {
   "cell_type": "code",
   "execution_count": null,
   "id": "b074a6e6",
   "metadata": {},
   "outputs": [],
   "source": [
    "def tokenize(text, lemmatize=True, filter_pos=None):\n",
    "    bow = defaultdict(lambda: 0)\n",
    "    doc = nlp(text)\n",
    "    for sentence in doc.sents:\n",
    "        for token in sentence:\n",
    "            if lemmatize:\n",
    "                word = token.lemma_\n",
    "            else:\n",
    "                word = token.text\n",
    "            if filter_pos is None:\n",
    "                bow[word] += 1\n",
    "            else:\n",
    "                if token.pos_ not in filter_pos:\n",
    "                    bow[word] += 1\n",
    "    return pd.Series(bow)"
   ]
  },
  {
   "cell_type": "code",
   "execution_count": null,
   "id": "3245c452",
   "metadata": {},
   "outputs": [],
   "source": [
    "bow = tokenize(data_collection['Paul VI']['Humanae Vitae'], \n",
    "               filter_pos=['PUNCT', 'DET', 'ADP'])"
   ]
  },
  {
   "cell_type": "code",
   "execution_count": null,
   "id": "903ff240",
   "metadata": {},
   "outputs": [],
   "source": [
    "bow.sort_values(ascending=False).head(20)"
   ]
  },
  {
   "cell_type": "code",
   "execution_count": null,
   "id": "5ed42fbf",
   "metadata": {},
   "outputs": [],
   "source": [
    "corpus_index = {}\n",
    "popes = ['John XXIII', 'Paul VI']\n",
    "for pope, corpus in data_collection.items():\n",
    "    if pope in popes:\n",
    "        corpus_index[pope] = {}\n",
    "        for document, content in corpus.items():\n",
    "            freq = tokenize(content)\n",
    "            corpus_index[pope][document] = freq"
   ]
  },
  {
   "cell_type": "code",
   "execution_count": null,
   "id": "ec12ccb0",
   "metadata": {},
   "outputs": [],
   "source": [
    "hum_vit = corpus_index['Paul VI']['Humanae Vitae']\n",
    "pax = corpus_index['John XXIII']['Pacem']"
   ]
  },
  {
   "cell_type": "code",
   "execution_count": null,
   "id": "49f74696",
   "metadata": {},
   "outputs": [],
   "source": [
    "hum_vit.sort_values(ascending=False)['uomo'] / hum_vit.sum()"
   ]
  },
  {
   "cell_type": "code",
   "execution_count": null,
   "id": "dd840e49",
   "metadata": {},
   "outputs": [],
   "source": [
    "hum_vit.sort_values(ascending=False)['che'] / hum_vit.sum()"
   ]
  },
  {
   "cell_type": "code",
   "execution_count": null,
   "id": "a7b0b630",
   "metadata": {},
   "outputs": [],
   "source": [
    "pax.sort_values(ascending=False)['uomo'] / pax.sum()"
   ]
  },
  {
   "cell_type": "code",
   "execution_count": null,
   "id": "aeff9526",
   "metadata": {},
   "outputs": [],
   "source": [
    "pax.sort_values(ascending=False)['che'] / pax.sum()"
   ]
  },
  {
   "cell_type": "code",
   "execution_count": null,
   "id": "f61200ad",
   "metadata": {},
   "outputs": [],
   "source": [
    "hum_vit_norm = hum_vit / hum_vit.sum()"
   ]
  },
  {
   "cell_type": "code",
   "execution_count": null,
   "id": "015883f3",
   "metadata": {},
   "outputs": [],
   "source": [
    "hum_vit_norm.sort_values(ascending=False)"
   ]
  },
  {
   "cell_type": "markdown",
   "id": "1ce38857",
   "metadata": {},
   "source": [
    "## Document frequency"
   ]
  },
  {
   "cell_type": "code",
   "execution_count": null,
   "id": "a85b8c8f",
   "metadata": {},
   "outputs": [],
   "source": [
    "docu_freq = defaultdict(lambda: 0)\n",
    "for pope, corpus in corpus_index.items():\n",
    "    for document, idx in corpus.items():\n",
    "        for word in idx.keys():\n",
    "            docu_freq[word] += 1\n",
    "DF = pd.Series(docu_freq)"
   ]
  },
  {
   "cell_type": "code",
   "execution_count": null,
   "id": "88d16f8d",
   "metadata": {},
   "outputs": [],
   "source": [
    "DF.sort_values(ascending=False).head(20)"
   ]
  },
  {
   "cell_type": "code",
   "execution_count": null,
   "id": "d498c597",
   "metadata": {},
   "outputs": [],
   "source": [
    "(15 / DF).sort_values(ascending=False)"
   ]
  },
  {
   "cell_type": "code",
   "execution_count": null,
   "id": "86328319",
   "metadata": {},
   "outputs": [],
   "source": []
  }
 ],
 "metadata": {
  "kernelspec": {
   "display_name": "crike",
   "language": "python",
   "name": "crike"
  },
  "language_info": {
   "codemirror_mode": {
    "name": "ipython",
    "version": 3
   },
   "file_extension": ".py",
   "mimetype": "text/x-python",
   "name": "python",
   "nbconvert_exporter": "python",
   "pygments_lexer": "ipython3",
   "version": "3.8.8"
  },
  "toc": {
   "base_numbering": 1,
   "nav_menu": {},
   "number_sections": true,
   "sideBar": true,
   "skip_h1_title": false,
   "title_cell": "Table of Contents",
   "title_sidebar": "Contents",
   "toc_cell": false,
   "toc_position": {},
   "toc_section_display": true,
   "toc_window_display": false
  }
 },
 "nbformat": 4,
 "nbformat_minor": 5
}
